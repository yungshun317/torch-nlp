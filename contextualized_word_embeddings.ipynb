{
 "cells": [
  {
   "cell_type": "markdown",
   "id": "25cb4473-f7b4-4572-a284-1e33c914d8f6",
   "metadata": {},
   "source": [
    "# 1. CoVe"
   ]
  },
  {
   "cell_type": "markdown",
   "id": "4adbc5ac-60ba-48e2-895a-62072d50f404",
   "metadata": {},
   "source": [
    "# 2. ELMo"
   ]
  },
  {
   "cell_type": "markdown",
   "id": "9d4ca808-e1ad-4f53-bb72-06debb11c9be",
   "metadata": {},
   "source": [
    "# 3. ULMFit"
   ]
  },
  {
   "cell_type": "markdown",
   "id": "46793a00-d095-4ad1-9bfd-605defd93bb0",
   "metadata": {},
   "source": [
    "# 4. GPT"
   ]
  },
  {
   "cell_type": "markdown",
   "id": "9791109d-0201-4adf-8bbf-37c66eb2c266",
   "metadata": {},
   "source": [
    "# 5. BERT"
   ]
  },
  {
   "cell_type": "code",
   "execution_count": null,
   "id": "22de7713-8e27-42d9-bd7c-4e69a694cf33",
   "metadata": {},
   "outputs": [],
   "source": []
  }
 ],
 "metadata": {
  "kernelspec": {
   "display_name": "Python 3 (ipykernel)",
   "language": "python",
   "name": "python3"
  },
  "language_info": {
   "codemirror_mode": {
    "name": "ipython",
    "version": 3
   },
   "file_extension": ".py",
   "mimetype": "text/x-python",
   "name": "python",
   "nbconvert_exporter": "python",
   "pygments_lexer": "ipython3",
   "version": "3.12.3"
  }
 },
 "nbformat": 4,
 "nbformat_minor": 5
}
