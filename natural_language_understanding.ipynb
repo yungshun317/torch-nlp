{
 "cells": [
  {
   "cell_type": "markdown",
   "id": "97425852-84d3-45dc-a789-9f727d15d792",
   "metadata": {},
   "source": [
    "# 1. Hidden Markov Models (HMMs)\n",
    "## 1-1. Text Classifier"
   ]
  },
  {
   "cell_type": "code",
   "execution_count": null,
   "id": "223a5526-4d29-46ab-93f9-b73cf381086f",
   "metadata": {},
   "outputs": [],
   "source": [
    "import numpy as np\n",
    "import matplotlib.pyplot as plt\n",
    "import string\n",
    "from sklearn.model_selection import train_test_split"
   ]
  },
  {
   "cell_type": "code",
   "execution_count": null,
   "id": "59fefa3b-c585-4a8a-bf68-b1d9cec25bba",
   "metadata": {},
   "outputs": [],
   "source": [
    "input_files = [\n",
    "  'edgar_allan_poe.txt',\n",
    "  'robert_frost.txt',\n",
    "]"
   ]
  },
  {
   "cell_type": "code",
   "execution_count": 1,
   "id": "e201025b-3e3e-4ee1-b99f-01773ec2da6d",
   "metadata": {},
   "outputs": [
    {
     "name": "stdout",
     "output_type": "stream",
     "text": [
      "LO! Death hath rear'd himself a throne\n",
      "In a strange city, all alone,\n",
      "Far down within the dim west\n",
      "Where the good, and the bad, and the worst, and the best,\n",
      "Have gone to their eternal rest.\n",
      " \n",
      "There shrines, and palaces, and towers\n",
      "Are not like any thing of ours\n",
      "Oh no! O no! ours never loom\n",
      "To heaven with that ungodly gloom!\n"
     ]
    }
   ],
   "source": [
    "!head datasets/edgar_allan_poe.txt"
   ]
  },
  {
   "cell_type": "code",
   "execution_count": 2,
   "id": "b1c03049-b8e1-40b0-bd6a-3800dee7dd06",
   "metadata": {},
   "outputs": [
    {
     "name": "stdout",
     "output_type": "stream",
     "text": [
      "Two roads diverged in a yellow wood,\n",
      "And sorry I could not travel both\n",
      "And be one traveler, long I stood\n",
      "And looked down one as far as I could\n",
      "To where it bent in the undergrowth; \n",
      "\n",
      "Then took the other, as just as fair,\n",
      "And having perhaps the better claim\n",
      "Because it was grassy and wanted wear,\n",
      "Though as for that the passing there\n"
     ]
    }
   ],
   "source": [
    "!head datasets/robert_frost.txt"
   ]
  },
  {
   "cell_type": "code",
   "execution_count": null,
   "id": "411a118c-a791-4f05-9665-92f1626e5574",
   "metadata": {},
   "outputs": [],
   "source": [
    "# collect data into lists\n",
    "input_texts = []\n",
    "labels = []\n",
    "\n",
    "for label, f in enumerate(input_files):\n",
    "  print(f\"{f} corresponds to label {label}\")\n",
    "\n",
    "  for line in open(f):\n",
    "    line = line.rstrip().lower()\n",
    "    if line:\n",
    "      # remove punctuation\n",
    "      line = line.translate(str.maketrans('', '', string.punctuation))\n",
    "\n",
    "      input_texts.append(line)\n",
    "      labels.append(label)"
   ]
  },
  {
   "cell_type": "code",
   "execution_count": null,
   "id": "174db1cc-91b5-4e5c-937b-177a25eb79e3",
   "metadata": {},
   "outputs": [],
   "source": [
    "train_text, test_text, Ytrain, Ytest = train_test_split(input_texts, labels)"
   ]
  },
  {
   "cell_type": "code",
   "execution_count": null,
   "id": "6cc9e552-8754-42a3-bdac-7abc47c38bd9",
   "metadata": {},
   "outputs": [],
   "source": [
    "len(Ytrain), len(Ytest)"
   ]
  },
  {
   "cell_type": "code",
   "execution_count": null,
   "id": "c19e989d-2acc-4835-9f42-a2115bbe3d11",
   "metadata": {},
   "outputs": [],
   "source": [
    "train_text[:5]"
   ]
  },
  {
   "cell_type": "code",
   "execution_count": null,
   "id": "1661e55d-4f8a-4503-bd53-dbca4d70ebc2",
   "metadata": {},
   "outputs": [],
   "source": [
    "Ytrain[:5]"
   ]
  },
  {
   "cell_type": "code",
   "execution_count": null,
   "id": "14bec53b-0173-412c-b202-62c532e875c8",
   "metadata": {},
   "outputs": [],
   "source": [
    "idx = 1\n",
    "word2idx = {'<unk>': 0}"
   ]
  },
  {
   "cell_type": "code",
   "execution_count": null,
   "id": "c3b04ee1-c2ad-4527-a8ed-275acdf0f1bd",
   "metadata": {},
   "outputs": [],
   "source": [
    "# populate word2idx\n",
    "for text in train_text:\n",
    "    tokens = text.split()\n",
    "    for token in tokens:\n",
    "      if token not in word2idx:\n",
    "        word2idx[token] = idx\n",
    "        idx += 1"
   ]
  },
  {
   "cell_type": "code",
   "execution_count": null,
   "id": "bd2fd36d-cac2-43b6-88ac-39efcba25c3e",
   "metadata": {},
   "outputs": [],
   "source": [
    "word2idx"
   ]
  },
  {
   "cell_type": "code",
   "execution_count": null,
   "id": "938261a8-d567-4df9-9aee-0a3085846ded",
   "metadata": {},
   "outputs": [],
   "source": [
    "len(word2idx)"
   ]
  },
  {
   "cell_type": "code",
   "execution_count": null,
   "id": "dfafdd3e-4554-4577-82be-98b8288591f1",
   "metadata": {},
   "outputs": [],
   "source": [
    "# convert data into integer format\n",
    "train_text_int = []\n",
    "test_text_int = []\n",
    "\n",
    "for text in train_text:\n",
    "  tokens = text.split()\n",
    "  line_as_int = [word2idx[token] for token in tokens]\n",
    "  train_text_int.append(line_as_int)\n",
    "\n",
    "for text in test_text:\n",
    "  tokens = text.split()\n",
    "  line_as_int = [word2idx.get(token, 0) for token in tokens]\n",
    "  test_text_int.append(line_as_int)"
   ]
  },
  {
   "cell_type": "code",
   "execution_count": null,
   "id": "c36aa5b7-f218-45e8-a5d6-eacedccbde88",
   "metadata": {},
   "outputs": [],
   "source": [
    "train_text_int[100:105]"
   ]
  },
  {
   "cell_type": "code",
   "execution_count": null,
   "id": "1d91c76d-8a47-4556-84a4-38d51f0bb7b9",
   "metadata": {},
   "outputs": [],
   "source": [
    "# initialize A and pi matrices - for both classes\n",
    "V = len(word2idx)\n",
    "\n",
    "A0 = np.ones((V, V))\n",
    "pi0 = np.ones(V)\n",
    "\n",
    "A1 = np.ones((V, V))\n",
    "pi1 = np.ones(V)"
   ]
  },
  {
   "cell_type": "code",
   "execution_count": null,
   "id": "bec03039-8057-4b8e-8cec-b1e2d0445672",
   "metadata": {},
   "outputs": [],
   "source": [
    "# compute counts for A and pi\n",
    "def compute_counts(text_as_int, A, pi):\n",
    "  for tokens in text_as_int:\n",
    "    last_idx = None\n",
    "    for idx in tokens:\n",
    "      if last_idx is None:\n",
    "        # it's the first word in a sentence\n",
    "        pi[idx] += 1\n",
    "      else:\n",
    "        # the last word exists, so count a transition\n",
    "        A[last_idx, idx] += 1\n",
    "\n",
    "      # update last idx\n",
    "      last_idx = idx\n",
    "\n",
    "\n",
    "compute_counts([t for t, y in zip(train_text_int, Ytrain) if y == 0], A0, pi0)\n",
    "compute_counts([t for t, y in zip(train_text_int, Ytrain) if y == 1], A1, pi1)"
   ]
  },
  {
   "cell_type": "code",
   "execution_count": null,
   "id": "b161f5ca-d0f9-4495-a46b-f51c0296ff8d",
   "metadata": {},
   "outputs": [],
   "source": [
    "# normalize A and pi so they are valid probability matrices\n",
    "# convince yourself that this is equivalent to the formulas shown before\n",
    "A0 /= A0.sum(axis=1, keepdims=True)\n",
    "pi0 /= pi0.sum()\n",
    "\n",
    "A1 /= A1.sum(axis=1, keepdims=True)\n",
    "pi1 /= pi1.sum()"
   ]
  },
  {
   "cell_type": "code",
   "execution_count": null,
   "id": "5a796db3-7c39-4e3d-be4e-9ca01d72d54d",
   "metadata": {},
   "outputs": [],
   "source": [
    "# log A and pi since we don't need the actual probs\n",
    "logA0 = np.log(A0)\n",
    "logpi0 = np.log(pi0)\n",
    "\n",
    "logA1 = np.log(A1)\n",
    "logpi1 = np.log(pi1)"
   ]
  },
  {
   "cell_type": "code",
   "execution_count": null,
   "id": "78c81d25-0d27-42b0-b6a2-17f4e9dd8dd6",
   "metadata": {},
   "outputs": [],
   "source": [
    "# compute priors\n",
    "count0 = sum(y == 0 for y in Ytrain)\n",
    "count1 = sum(y == 1 for y in Ytrain)\n",
    "total = len(Ytrain)\n",
    "p0 = count0 / total\n",
    "p1 = count1 / total\n",
    "logp0 = np.log(p0)\n",
    "logp1 = np.log(p1)\n",
    "p0, p1"
   ]
  },
  {
   "cell_type": "code",
   "execution_count": null,
   "id": "06ae8748-c3d4-47c6-948d-eb5c74347c68",
   "metadata": {},
   "outputs": [],
   "source": [
    "# build a classifier\n",
    "class Classifier:\n",
    "  def __init__(self, logAs, logpis, logpriors):\n",
    "    self.logAs = logAs\n",
    "    self.logpis = logpis\n",
    "    self.logpriors = logpriors\n",
    "    self.K = len(logpriors) # number of classes\n",
    "\n",
    "  def _compute_log_likelihood(self, input_, class_):\n",
    "    logA = self.logAs[class_]\n",
    "    logpi = self.logpis[class_]\n",
    "\n",
    "    last_idx = None\n",
    "    logprob = 0\n",
    "    for idx in input_:\n",
    "      if last_idx is None:\n",
    "        # it's the first token\n",
    "        logprob += logpi[idx]\n",
    "      else:\n",
    "        logprob += logA[last_idx, idx]\n",
    "      \n",
    "      # update last_idx\n",
    "      last_idx = idx\n",
    "    \n",
    "    return logprob\n",
    "  \n",
    "  def predict(self, inputs):\n",
    "    predictions = np.zeros(len(inputs))\n",
    "    for i, input_ in enumerate(inputs):\n",
    "      posteriors = [self._compute_log_likelihood(input_, c) + self.logpriors[c] \\\n",
    "             for c in range(self.K)]\n",
    "      pred = np.argmax(posteriors)\n",
    "      predictions[i] = pred\n",
    "    return predictions"
   ]
  },
  {
   "cell_type": "code",
   "execution_count": null,
   "id": "49dc0eb1-798c-4000-8cdd-3154047a7cfe",
   "metadata": {},
   "outputs": [],
   "source": [
    "# each array must be in order since classes are assumed to index these lists\n",
    "clf = Classifier([logA0, logA1], [logpi0, logpi1], [logp0, logp1])\n",
    "\n",
    "Ptrain = clf.predict(train_text_int)\n",
    "print(f\"Train acc: {np.mean(Ptrain == Ytrain)}\")"
   ]
  },
  {
   "cell_type": "code",
   "execution_count": null,
   "id": "d00c87fa-c64b-4ae4-884d-dae2a3b35d43",
   "metadata": {},
   "outputs": [],
   "source": [
    "Ptest = clf.predict(test_text_int)\n",
    "print(f\"Test acc: {np.mean(Ptest == Ytest)}\")"
   ]
  },
  {
   "cell_type": "code",
   "execution_count": null,
   "id": "5f407b85-7e72-4274-8eca-ff1cd2d7f29c",
   "metadata": {},
   "outputs": [],
   "source": [
    "from sklearn.metrics import confusion_matrix, f1_score\n",
    "\n",
    "cm = confusion_matrix(Ytrain, Ptrain)\n",
    "cm"
   ]
  },
  {
   "cell_type": "code",
   "execution_count": null,
   "id": "c2d715d2-9f7a-4d79-97dc-fbac5beb36df",
   "metadata": {},
   "outputs": [],
   "source": [
    "cm_test = confusion_matrix(Ytest, Ptest)\n",
    "cm_test"
   ]
  },
  {
   "cell_type": "code",
   "execution_count": null,
   "id": "e1df91a9-c3e7-4706-af62-9c1f8909596e",
   "metadata": {},
   "outputs": [],
   "source": [
    "f1_score(Ytrain, Ptrain)"
   ]
  },
  {
   "cell_type": "code",
   "execution_count": null,
   "id": "ad34bcec-3302-484e-a4e3-ee032a4aa829",
   "metadata": {},
   "outputs": [],
   "source": [
    "f1_score(Ytest, Ptest)"
   ]
  },
  {
   "cell_type": "markdown",
   "id": "bb084b05-74ae-4a40-b831-3799f9a3fc9d",
   "metadata": {},
   "source": [
    "## 1-2. Poetry Generator"
   ]
  },
  {
   "cell_type": "code",
   "execution_count": null,
   "id": "3ea87f67-82cb-4736-a1f5-cb13e5678724",
   "metadata": {},
   "outputs": [],
   "source": [
    "import numpy as np\n",
    "import string\n",
    "\n",
    "np.random.seed(1234)"
   ]
  },
  {
   "cell_type": "code",
   "execution_count": null,
   "id": "6e6c9f1c-c5b6-4970-be81-30d6aaa0a989",
   "metadata": {},
   "outputs": [],
   "source": [
    "initial = {} # start of a phrase\n",
    "first_order = {} # second word only\n",
    "second_order = {}"
   ]
  },
  {
   "cell_type": "code",
   "execution_count": null,
   "id": "8dcedcd8-b4f2-4ea0-a9ce-fd9bbc8570bc",
   "metadata": {},
   "outputs": [],
   "source": [
    "def remove_punctuation(s):\n",
    "    return s.translate(str.maketrans('','',string.punctuation))"
   ]
  },
  {
   "cell_type": "code",
   "execution_count": null,
   "id": "7f1a0f22-be46-4cd5-bbea-bc3222b9840b",
   "metadata": {},
   "outputs": [],
   "source": [
    "def add2dict(d, k, v):\n",
    "  if k not in d:\n",
    "    d[k] = []\n",
    "  d[k].append(v)\n",
    "\n",
    "# [cat, cat, dog, dog, dog, dog, dog, mouse, ...]"
   ]
  },
  {
   "cell_type": "code",
   "execution_count": null,
   "id": "15e403b3-4afe-419e-b00e-be40c661bf24",
   "metadata": {},
   "outputs": [],
   "source": [
    "for line in open('robert_frost.txt'):\n",
    "  tokens = remove_punctuation(line.rstrip().lower()).split()\n",
    "\n",
    "  T = len(tokens)\n",
    "  for i in range(T):\n",
    "    t = tokens[i]\n",
    "    if i == 0:\n",
    "      # measure the distribution of the first word\n",
    "      initial[t] = initial.get(t, 0.) + 1\n",
    "    else:\n",
    "      t_1 = tokens[i-1]\n",
    "      if i == T - 1:\n",
    "        # measure probability of ending the line\n",
    "        add2dict(second_order, (t_1, t), 'END')\n",
    "      if i == 1:\n",
    "        # measure distribution of second word\n",
    "        # given only first word\n",
    "        add2dict(first_order, t_1, t)\n",
    "      else:\n",
    "        t_2 = tokens[i-2]\n",
    "        add2dict(second_order, (t_2, t_1), t)"
   ]
  },
  {
   "cell_type": "code",
   "execution_count": null,
   "id": "e2944ffe-6156-4c9e-b6b6-36437034b37b",
   "metadata": {},
   "outputs": [],
   "source": [
    "# normalize the distributions\n",
    "initial_total = sum(initial.values())\n",
    "for t, c in initial.items():\n",
    "    initial[t] = c / initial_total"
   ]
  },
  {
   "cell_type": "code",
   "execution_count": null,
   "id": "94394cfa-3e65-4f20-9a9b-e5dcb1640150",
   "metadata": {},
   "outputs": [],
   "source": [
    "# convert [cat, cat, cat, dog, dog, dog, dog, mouse, ...]\n",
    "# into {cat: 0.5, dog: 0.4, mouse: 0.1}\n",
    "\n",
    "def list2pdict(ts):\n",
    "  # turn each list of possibilities into a dictionary of probabilities\n",
    "  d = {}\n",
    "  n = len(ts)\n",
    "  for t in ts:\n",
    "    d[t] = d.get(t, 0.) + 1\n",
    "  for t, c in d.items():\n",
    "    d[t] = c / n\n",
    "  return d"
   ]
  },
  {
   "cell_type": "code",
   "execution_count": null,
   "id": "d447dbe5-435b-46cf-91a9-bec01f2c0a16",
   "metadata": {},
   "outputs": [],
   "source": [
    "for t_1, ts in first_order.items():\n",
    "  # replace list with dictionary of probabilities\n",
    "  first_order[t_1] = list2pdict(ts)"
   ]
  },
  {
   "cell_type": "code",
   "execution_count": null,
   "id": "0e0891ce-39d2-48c7-a402-82eff0715a9a",
   "metadata": {},
   "outputs": [],
   "source": [
    "for k, ts in second_order.items():\n",
    "  second_order[k] = list2pdict(ts)"
   ]
  },
  {
   "cell_type": "code",
   "execution_count": null,
   "id": "4023298d-3bbc-42c1-bc93-a0df5e501d04",
   "metadata": {},
   "outputs": [],
   "source": [
    "def sample_word(d):\n",
    "  # print \"d:\", d\n",
    "  p0 = np.random.random()\n",
    "  # print \"p0:\", p0\n",
    "  cumulative = 0\n",
    "  for t, p in d.items():\n",
    "    cumulative += p\n",
    "    if p0 < cumulative:\n",
    "      return t\n",
    "  assert(False) # should never get here"
   ]
  },
  {
   "cell_type": "code",
   "execution_count": null,
   "id": "eb166941-3d74-4d3b-9e99-7cabc4e80330",
   "metadata": {},
   "outputs": [],
   "source": [
    "def generate():\n",
    "  for i in range(4): # generate 4 lines\n",
    "    sentence = []\n",
    "\n",
    "    # initial word\n",
    "    w0 = sample_word(initial)\n",
    "    sentence.append(w0)\n",
    "\n",
    "    # sample second word\n",
    "    w1 = sample_word(first_order[w0])\n",
    "    sentence.append(w1)\n",
    "\n",
    "    # second-order transitions until END\n",
    "    while True:\n",
    "      w2 = sample_word(second_order[(w0, w1)])\n",
    "      if w2 == 'END':\n",
    "        break\n",
    "      sentence.append(w2)\n",
    "      w0 = w1\n",
    "      w1 = w2\n",
    "    print(' '.join(sentence))"
   ]
  },
  {
   "cell_type": "code",
   "execution_count": null,
   "id": "78797395-1d09-4206-8f07-5c923993f0de",
   "metadata": {},
   "outputs": [],
   "source": [
    "generate()"
   ]
  },
  {
   "cell_type": "markdown",
   "id": "9da5dadf-ba16-4334-a011-be008cc4d30e",
   "metadata": {},
   "source": [
    "## 1-3. Article Spinner"
   ]
  },
  {
   "cell_type": "markdown",
   "id": "02120d95-4126-453d-95c4-74f609990961",
   "metadata": {},
   "source": [
    "## 1-4. Cipher Detection"
   ]
  },
  {
   "cell_type": "markdown",
   "id": "2e61c523-fe36-405f-b0d9-992fede500cf",
   "metadata": {},
   "source": [
    "# 2. Naive Bayes\n",
    "## 2-1. Spam Detection"
   ]
  },
  {
   "cell_type": "markdown",
   "id": "12d53fed-7698-4d01-8ef2-e352c6dba216",
   "metadata": {},
   "source": [
    "# 3. Logistic Regression\n",
    "## 3-1. Sentiment Analysis"
   ]
  },
  {
   "cell_type": "markdown",
   "id": "f91b6df3-ab5b-444f-bb18-a121080c1153",
   "metadata": {},
   "source": [
    "# 4. PCA & SVD\n",
    "## 4-1. Latent Semantic Indexing"
   ]
  },
  {
   "cell_type": "markdown",
   "id": "17353b33-512e-48ab-9764-1067c9ace7e4",
   "metadata": {},
   "source": [
    "# 5. Latent Dirichlet Allocation\n",
    "## 5-1. Topic Modeling"
   ]
  },
  {
   "cell_type": "markdown",
   "id": "d556bc7d-212f-4d03-b208-032ec310def9",
   "metadata": {},
   "source": []
  }
 ],
 "metadata": {
  "kernelspec": {
   "display_name": "Python 3 (ipykernel)",
   "language": "python",
   "name": "python3"
  },
  "language_info": {
   "codemirror_mode": {
    "name": "ipython",
    "version": 3
   },
   "file_extension": ".py",
   "mimetype": "text/x-python",
   "name": "python",
   "nbconvert_exporter": "python",
   "pygments_lexer": "ipython3",
   "version": "3.12.3"
  }
 },
 "nbformat": 4,
 "nbformat_minor": 5
}
