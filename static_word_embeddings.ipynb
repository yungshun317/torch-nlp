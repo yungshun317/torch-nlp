{
 "cells": [
  {
   "cell_type": "code",
   "execution_count": 80,
   "id": "f459f152-3b84-4384-af59-46c7559b53fa",
   "metadata": {},
   "outputs": [
    {
     "data": {
      "text/html": [
       "<div>\n",
       "<style scoped>\n",
       "    .dataframe tbody tr th:only-of-type {\n",
       "        vertical-align: middle;\n",
       "    }\n",
       "\n",
       "    .dataframe tbody tr th {\n",
       "        vertical-align: top;\n",
       "    }\n",
       "\n",
       "    .dataframe thead th {\n",
       "        text-align: right;\n",
       "    }\n",
       "</style>\n",
       "<table border=\"1\" class=\"dataframe\">\n",
       "  <thead>\n",
       "    <tr style=\"text-align: right;\">\n",
       "      <th></th>\n",
       "      <th>text</th>\n",
       "      <th>labels</th>\n",
       "    </tr>\n",
       "  </thead>\n",
       "  <tbody>\n",
       "    <tr>\n",
       "      <th>0</th>\n",
       "      <td>Ad sales boost Time Warner profit\\n\\nQuarterly...</td>\n",
       "      <td>business</td>\n",
       "    </tr>\n",
       "    <tr>\n",
       "      <th>1</th>\n",
       "      <td>Dollar gains on Greenspan speech\\n\\nThe dollar...</td>\n",
       "      <td>business</td>\n",
       "    </tr>\n",
       "    <tr>\n",
       "      <th>2</th>\n",
       "      <td>Yukos unit buyer faces loan claim\\n\\nThe owner...</td>\n",
       "      <td>business</td>\n",
       "    </tr>\n",
       "    <tr>\n",
       "      <th>3</th>\n",
       "      <td>High fuel prices hit BA's profits\\n\\nBritish A...</td>\n",
       "      <td>business</td>\n",
       "    </tr>\n",
       "    <tr>\n",
       "      <th>4</th>\n",
       "      <td>Pernod takeover talk lifts Domecq\\n\\nShares in...</td>\n",
       "      <td>business</td>\n",
       "    </tr>\n",
       "    <tr>\n",
       "      <th>...</th>\n",
       "      <td>...</td>\n",
       "      <td>...</td>\n",
       "    </tr>\n",
       "    <tr>\n",
       "      <th>2220</th>\n",
       "      <td>BT program to beat dialler scams\\n\\nBT is intr...</td>\n",
       "      <td>tech</td>\n",
       "    </tr>\n",
       "    <tr>\n",
       "      <th>2221</th>\n",
       "      <td>Spam e-mails tempt net shoppers\\n\\nComputer us...</td>\n",
       "      <td>tech</td>\n",
       "    </tr>\n",
       "    <tr>\n",
       "      <th>2222</th>\n",
       "      <td>Be careful how you code\\n\\nA new European dire...</td>\n",
       "      <td>tech</td>\n",
       "    </tr>\n",
       "    <tr>\n",
       "      <th>2223</th>\n",
       "      <td>US cyber security chief resigns\\n\\nThe man mak...</td>\n",
       "      <td>tech</td>\n",
       "    </tr>\n",
       "    <tr>\n",
       "      <th>2224</th>\n",
       "      <td>Losing yourself in online gaming\\n\\nOnline rol...</td>\n",
       "      <td>tech</td>\n",
       "    </tr>\n",
       "  </tbody>\n",
       "</table>\n",
       "<p>2225 rows × 2 columns</p>\n",
       "</div>"
      ],
      "text/plain": [
       "                                                   text    labels\n",
       "0     Ad sales boost Time Warner profit\\n\\nQuarterly...  business\n",
       "1     Dollar gains on Greenspan speech\\n\\nThe dollar...  business\n",
       "2     Yukos unit buyer faces loan claim\\n\\nThe owner...  business\n",
       "3     High fuel prices hit BA's profits\\n\\nBritish A...  business\n",
       "4     Pernod takeover talk lifts Domecq\\n\\nShares in...  business\n",
       "...                                                 ...       ...\n",
       "2220  BT program to beat dialler scams\\n\\nBT is intr...      tech\n",
       "2221  Spam e-mails tempt net shoppers\\n\\nComputer us...      tech\n",
       "2222  Be careful how you code\\n\\nA new European dire...      tech\n",
       "2223  US cyber security chief resigns\\n\\nThe man mak...      tech\n",
       "2224  Losing yourself in online gaming\\n\\nOnline rol...      tech\n",
       "\n",
       "[2225 rows x 2 columns]"
      ]
     },
     "execution_count": 80,
     "metadata": {},
     "output_type": "execute_result"
    }
   ],
   "source": [
    "# Construct a pandas DataFrame using `read()`\n",
    "import pandas as pd\n",
    "\n",
    "df = pd.read_csv(\"./datasets/bbc_text_cls.csv\")\n",
    "df"
   ]
  },
  {
   "cell_type": "markdown",
   "id": "ad3fcd51-318c-42f8-852c-375418a5e41f",
   "metadata": {},
   "source": [
    "# 1. Vocabulary\n",
    "Create **Vocabulary** dictionaries:\n",
    "- **word2idx:** All the unique words as keys with a corresponding unique ID as values.\n",
    "- **idx2word:** The reverse of word2idx. It has the unique IDs as keys and their corresponding words as values."
   ]
  },
  {
   "cell_type": "code",
   "execution_count": 88,
   "id": "fb40706d-f1ae-4442-beab-903398d98fe5",
   "metadata": {},
   "outputs": [
    {
     "name": "stdout",
     "output_type": "stream",
     "text": [
      "[\"elite's\", 'reidar', 'jr.', 'overdose', '1969', 'abating', 'giscard', 'calder.', 'brive', 'confident,\"', 'hope.', 'reception,', 'comic', 'gigs.', 'gratitude', 'cvs', 'busted.', 'manager,\"', 'mermaid.', \"benitez's\", 'privatised', 'blowing', '(egypt)', 'confirmed', '$37bn.', 'zooms.', 'nationalist.', 'dave', \"'tricks'\", 'familiarity', 'geijsen,', \"'set\", 'pay-day', 'gebremariam', 'compatriot', 'nhs.', 'michael', 'custody.', 'acquired', 'lille', 'together', 'pointsec,', 'eerie,', 'lcds', '($291m;', 'accumulate', 'borders', '(£4,745', 'record\".', 'doughnuts', 'harley,', 'swindon:', 'supporters)', 'behave', 'countryside.', 'bedroom', 'silvia', 'videoing', 'fourth,', 'expectancy', 'fine', 'conveniently', 'recalling', 'equip', 'kos', 'students,\"', 'tonne,', \"telewest's\", 'serena)', 'isabelle', 'unabated.', 'committee]', 'trafford', 'seven-page', 'santoro', 'faith-based', '\"wishful', 'kursk', 'suits', 'designing', \"twin'\", \"candidate's\", 'pyykkonen.', '\"sufficient', 'mccabe', '\"pre-masters\"', '20,479.5bn', 'p-3', 'get,', 'networks,\"', 'tnk-bp,', \"citigroup's\", \"office'.\", 'nicolas', 'dispel', 'casino-related', 'renting', '\"our', 'hemisphere', 'brosnan.']\n"
     ]
    }
   ],
   "source": [
    "# Create a set of unique words in the corpus\n",
    "import random\n",
    "\n",
    "unique_words = set()\n",
    "for doc in df[\"text\"]:\n",
    "    for word in doc.split():\n",
    "        unique_words.add(word.lower())\n",
    "\n",
    "# Sample 100 words\n",
    "print(random.sample(tuple(unique_words), 100))"
   ]
  },
  {
   "cell_type": "code",
   "execution_count": 89,
   "id": "a0c3aaa0-863a-4c34-8bbc-17d8d47999a3",
   "metadata": {},
   "outputs": [
    {
     "name": "stdout",
     "output_type": "stream",
     "text": [
      "['enemies.', 'integration', 'manon', 'hiv-positive', 'laughing', 'misfeasance', \"'head'\", 'from????', 'shaken.', 'ears.\"', 'dvd-like', 'worse-than-expected', 'criticises', 'faraj,', 'together,\"', 'tap', 'hounds,', 'mawrey', 'rooney.', 'warner,', 'battling.', 'state-of-the-art', 'anywhere.', 'sixth-form', '\"venerable\"', 'entitled', 'explosive', '43%.', 'gartner,downloaded', 'eads', 'tick', 'abbott,', \"mccarthy's\", 'adolf', '\"political', 'screen.', 'return,', 'redirected', 'grants-in-aid', 'property.', 'clockwork', 'on-demand,', 'heritage.', 'force\".', \"buerk's\", 'shape\".', 'better\"', 'soldier.', 'high-spec', 'artgarden,', 'opec,', 'tape', 'czink', 'perhaps', 'seville', 'cadbury,', 'this,', 'struggle\"', 'latch', 'exclusively', \"tigers'\", 'exist.\"', 'pull', 'receive,', 'bullock', 'householders', 'sport,\"', 'vieira.', 'australian-born', 'commands.', 'condemn', 'unit,', 'hear', 'humour', '(glasgow,', 'credits', 'terminals.', 'errera,', '105.6', 'fredericks', 'clubs.', '6ft', 'shake', 'contenders', 'paula,', 'clinched', 'presidency.', 'heathrow,', '0.03%,', 'nevermind.', 'strasbourg.', 'domains.', 'dressing-room.', 'tougher,\"', 'salient', 'unfolds.', 'dyer,', 'crying', \"presenter's\", '\"two-bit']\n"
     ]
    }
   ],
   "source": [
    "# Convert the set into a list\n",
    "vocabulary = list(unique_words)\n",
    "print(vocabulary[:100])"
   ]
  },
  {
   "cell_type": "markdown",
   "id": "62b7ec73-202c-498e-8701-2334b2c1c074",
   "metadata": {},
   "source": [
    "## 1-1. word2idx"
   ]
  },
  {
   "cell_type": "code",
   "execution_count": 90,
   "id": "62b83f32-4e12-46af-b479-9443f1bfde0a",
   "metadata": {},
   "outputs": [
    {
     "name": "stdout",
     "output_type": "stream",
     "text": [
      "[('enemies.', 1), ('integration', 2), ('manon', 3), ('hiv-positive', 4), ('laughing', 5), ('misfeasance', 6), (\"'head'\", 7), ('from????', 8), ('shaken.', 9), ('ears.\"', 10), ('dvd-like', 11), ('worse-than-expected', 12), ('criticises', 13), ('faraj,', 14), ('together,\"', 15), ('tap', 16), ('hounds,', 17), ('mawrey', 18), ('rooney.', 19), ('warner,', 20), ('battling.', 21), ('state-of-the-art', 22), ('anywhere.', 23), ('sixth-form', 24), ('\"venerable\"', 25), ('entitled', 26), ('explosive', 27), ('43%.', 28), ('gartner,downloaded', 29), ('eads', 30), ('tick', 31), ('abbott,', 32), (\"mccarthy's\", 33), ('adolf', 34), ('\"political', 35), ('screen.', 36), ('return,', 37), ('redirected', 38), ('grants-in-aid', 39), ('property.', 40), ('clockwork', 41), ('on-demand,', 42), ('heritage.', 43), ('force\".', 44), (\"buerk's\", 45), ('shape\".', 46), ('better\"', 47), ('soldier.', 48), ('high-spec', 49), ('artgarden,', 50), ('opec,', 51), ('tape', 52), ('czink', 53), ('perhaps', 54), ('seville', 55), ('cadbury,', 56), ('this,', 57), ('struggle\"', 58), ('latch', 59), ('exclusively', 60), (\"tigers'\", 61), ('exist.\"', 62), ('pull', 63), ('receive,', 64), ('bullock', 65), ('householders', 66), ('sport,\"', 67), ('vieira.', 68), ('australian-born', 69), ('commands.', 70), ('condemn', 71), ('unit,', 72), ('hear', 73), ('humour', 74), ('(glasgow,', 75), ('credits', 76), ('terminals.', 77), ('errera,', 78), ('105.6', 79), ('fredericks', 80), ('clubs.', 81), ('6ft', 82), ('shake', 83), ('contenders', 84), ('paula,', 85), ('clinched', 86), ('presidency.', 87), ('heathrow,', 88), ('0.03%,', 89), ('nevermind.', 90), ('strasbourg.', 91), ('domains.', 92), ('dressing-room.', 93), ('tougher,\"', 94), ('salient', 95), ('unfolds.', 96), ('dyer,', 97), ('crying', 98), (\"presenter's\", 99), ('\"two-bit', 100)]\n"
     ]
    }
   ],
   "source": [
    "# Create a dictionary to map each unique word to an index\n",
    "import itertools\n",
    "\n",
    "word2idx = {}\n",
    "for idx, word in enumerate(vocabulary):\n",
    "    word2idx[word] = idx + 1\n",
    "\n",
    "# Return first 100 items\n",
    "print(list(itertools.islice(word2idx.items(), 100)))"
   ]
  },
  {
   "cell_type": "markdown",
   "id": "ce9f1511-7074-4876-aef8-60c18f80e334",
   "metadata": {},
   "source": [
    "# 2. One-Hot Encoding\n",
    "The process of one-hot encoding involves **Vocabulary Creation** & **Vector Representation** two steps.\n",
    "\n",
    "1. Manual Implementation.\n",
    "2. `pandas.get_dummies(data, prefix=None, prefix_sep='_', dummy_na=False, columns=None, sparse=False, drop_first=False, dtype=None)`\n",
    "3. `sklearn.preprocessing.OneHotEncoder(*, categories='auto', drop=None, sparse_output=True, dtype=<class 'numpy.float64'>, handle_unknown='error', min_frequency=None, max_categories=None, feature_name_combiner='concat')`\n",
    "4. `tf.keras.utils.to_categorical(x, num_classes)`\n",
    "\n",
    "Disadvantages:\n",
    "- Sparcity.\n",
    "- Not fixed size. Need to handle padding manually.\n",
    "- Does not capture semantics."
   ]
  },
  {
   "cell_type": "markdown",
   "id": "1879224a-9ed6-4e74-9da4-0b809c7bbae1",
   "metadata": {},
   "source": [
    "## 2-1. Manual One-Hot Encoding\n",
    "Each word is represented as a vector of `0`s and `1`s. The length of the vector is equal to the size of the vocabulary. Position in the vector corresponds to a specific word in the vocabulary. If the word is present in a particular text sample, its corresponding position in the vector is marked as `1`, and all other positions are `0`. This implies that each word is uniquely represented by a binary vector, with only one element being `1`, indicating its presence, and all others being `0`."
   ]
  },
  {
   "cell_type": "code",
   "execution_count": 57,
   "id": "39c8fcce-4421-4065-a71a-7884fd814cec",
   "metadata": {},
   "outputs": [
    {
     "name": "stdout",
     "output_type": "stream",
     "text": [
      "Index of <pad>: 0\n",
      "Index of <unk>: 60617\n"
     ]
    }
   ],
   "source": [
    "# Add `<unk>` & `<pad>` to vocabulary and word2idx\n",
    "vocabulary.insert(0, '<pad>')\n",
    "vocabulary.append('<unk>')\n",
    "\n",
    "word2idx['<pad>'] = 0\n",
    "word2idx['<unk>'] = max(word2idx.values()) + 1\n",
    "\n",
    "print(\"Index of <pad>:\", word2idx['<pad>'])\n",
    "print(\"Index of <unk>:\", word2idx['<unk>'])"
   ]
  },
  {
   "cell_type": "code",
   "execution_count": 6,
   "id": "de998795-c3ae-4924-8185-2a2c9d17a477",
   "metadata": {},
   "outputs": [
    {
     "name": "stdout",
     "output_type": "stream",
     "text": [
      "[0. 0. 0. ... 0. 0. 0.]\n",
      "[0. 0. 0. ... 0. 0. 0.]\n",
      "[0. 0. 0. ... 0. 0. 0.]\n",
      "[0. 0. 0. ... 0. 0. 0.]\n",
      "[0. 0. 0. ... 0. 0. 0.]\n",
      "[0. 0. 0. ... 0. 0. 0.]\n",
      "[0. 0. 0. ... 0. 0. 0.]\n",
      "[0. 0. 0. ... 0. 0. 0.]\n",
      "[0. 0. 0. ... 0. 0. 0.]\n",
      "[0. 0. 0. ... 0. 0. 0.]\n"
     ]
    }
   ],
   "source": [
    "# Create one-hot encoded vectors for each word in the corpus\n",
    "import numpy as np\n",
    "\n",
    "one_hot_vector = []\n",
    "for doc in df['text']:\n",
    "    doc_vector = []\n",
    "    for word in doc.split():\n",
    "        vector = np.zeros(len(vocabulary))\n",
    "        vector[word2idx[word.lower()]] = 1\n",
    "        doc_vector.append(vector)\n",
    "    one_hot_vector.append(doc_vector)\n",
    "\n",
    "# One-hot encoded vectors of the first 10 words from the first document\n",
    "for i in range(10):\n",
    "    print(one_hot_vector[0][i])"
   ]
  },
  {
   "cell_type": "markdown",
   "id": "02f0cedd-e489-4e72-9164-ba0e36e0563f",
   "metadata": {},
   "source": [
    "## 2-2. One-Hot Encoding with pandas\n",
    "1. `pandas.get_dummies(data, prefix=None, prefix_sep='_', dummy_na=False, columns=None, sparse=False, drop_first=False, dtype=None)`: Converts categorical variable into dummy or indicator variables.\n",
    "   - Not require manual word2idx implementation.\n",
    "   - Add an all falsy `pandas.Series` for the `<pad>` column manually after creating the table."
   ]
  },
  {
   "cell_type": "code",
   "execution_count": 13,
   "id": "16216943-b3f1-4a0f-b782-64a0d512bef1",
   "metadata": {},
   "outputs": [
    {
     "data": {
      "text/plain": [
       "0             enemies.\n",
       "1          integration\n",
       "2                manon\n",
       "3         hiv-positive\n",
       "4             laughing\n",
       "             ...      \n",
       "60612    reintegration\n",
       "60613           that's\n",
       "60614           halo,\"\n",
       "60615             liam\n",
       "60616            <unk>\n",
       "Length: 60617, dtype: object"
      ]
     },
     "execution_count": 13,
     "metadata": {},
     "output_type": "execute_result"
    }
   ],
   "source": [
    "# Convert the list to `pandas.Series`\n",
    "import pandas as pd\n",
    "\n",
    "vocabulary.append('<unk>')\n",
    "\n",
    "vocabulary_series = pd.Series(vocabulary)\n",
    "vocabulary_series"
   ]
  },
  {
   "cell_type": "code",
   "execution_count": 14,
   "id": "351a9d98-7d40-4d81-9b9e-4bba0b3c72cf",
   "metadata": {},
   "outputs": [
    {
     "data": {
      "text/html": [
       "<div>\n",
       "<style scoped>\n",
       "    .dataframe tbody tr th:only-of-type {\n",
       "        vertical-align: middle;\n",
       "    }\n",
       "\n",
       "    .dataframe tbody tr th {\n",
       "        vertical-align: top;\n",
       "    }\n",
       "\n",
       "    .dataframe thead th {\n",
       "        text-align: right;\n",
       "    }\n",
       "</style>\n",
       "<table border=\"1\" class=\"dataframe\">\n",
       "  <thead>\n",
       "    <tr style=\"text-align: right;\">\n",
       "      <th></th>\n",
       "      <th>!</th>\n",
       "      <th>\"</th>\n",
       "      <th>\"\"unconscionable,</th>\n",
       "      <th>\"'i</th>\n",
       "      <th>\"'oh</th>\n",
       "      <th>\"'we</th>\n",
       "      <th>\"'you</th>\n",
       "      <th>\"(when</th>\n",
       "      <th>\"...it</th>\n",
       "      <th>\"100%</th>\n",
       "      <th>...</th>\n",
       "      <th>£900m</th>\n",
       "      <th>£910m).</th>\n",
       "      <th>£93.6bn)</th>\n",
       "      <th>£933m</th>\n",
       "      <th>£947m</th>\n",
       "      <th>£960m</th>\n",
       "      <th>£98)</th>\n",
       "      <th>£99</th>\n",
       "      <th>£9m</th>\n",
       "      <th>£9m,</th>\n",
       "    </tr>\n",
       "  </thead>\n",
       "  <tbody>\n",
       "    <tr>\n",
       "      <th>0</th>\n",
       "      <td>False</td>\n",
       "      <td>False</td>\n",
       "      <td>False</td>\n",
       "      <td>False</td>\n",
       "      <td>False</td>\n",
       "      <td>False</td>\n",
       "      <td>False</td>\n",
       "      <td>False</td>\n",
       "      <td>False</td>\n",
       "      <td>False</td>\n",
       "      <td>...</td>\n",
       "      <td>False</td>\n",
       "      <td>False</td>\n",
       "      <td>False</td>\n",
       "      <td>False</td>\n",
       "      <td>False</td>\n",
       "      <td>False</td>\n",
       "      <td>False</td>\n",
       "      <td>False</td>\n",
       "      <td>False</td>\n",
       "      <td>False</td>\n",
       "    </tr>\n",
       "    <tr>\n",
       "      <th>1</th>\n",
       "      <td>False</td>\n",
       "      <td>False</td>\n",
       "      <td>False</td>\n",
       "      <td>False</td>\n",
       "      <td>False</td>\n",
       "      <td>False</td>\n",
       "      <td>False</td>\n",
       "      <td>False</td>\n",
       "      <td>False</td>\n",
       "      <td>False</td>\n",
       "      <td>...</td>\n",
       "      <td>False</td>\n",
       "      <td>False</td>\n",
       "      <td>False</td>\n",
       "      <td>False</td>\n",
       "      <td>False</td>\n",
       "      <td>False</td>\n",
       "      <td>False</td>\n",
       "      <td>False</td>\n",
       "      <td>False</td>\n",
       "      <td>False</td>\n",
       "    </tr>\n",
       "    <tr>\n",
       "      <th>2</th>\n",
       "      <td>False</td>\n",
       "      <td>False</td>\n",
       "      <td>False</td>\n",
       "      <td>False</td>\n",
       "      <td>False</td>\n",
       "      <td>False</td>\n",
       "      <td>False</td>\n",
       "      <td>False</td>\n",
       "      <td>False</td>\n",
       "      <td>False</td>\n",
       "      <td>...</td>\n",
       "      <td>False</td>\n",
       "      <td>False</td>\n",
       "      <td>False</td>\n",
       "      <td>False</td>\n",
       "      <td>False</td>\n",
       "      <td>False</td>\n",
       "      <td>False</td>\n",
       "      <td>False</td>\n",
       "      <td>False</td>\n",
       "      <td>False</td>\n",
       "    </tr>\n",
       "    <tr>\n",
       "      <th>3</th>\n",
       "      <td>False</td>\n",
       "      <td>False</td>\n",
       "      <td>False</td>\n",
       "      <td>False</td>\n",
       "      <td>False</td>\n",
       "      <td>False</td>\n",
       "      <td>False</td>\n",
       "      <td>False</td>\n",
       "      <td>False</td>\n",
       "      <td>False</td>\n",
       "      <td>...</td>\n",
       "      <td>False</td>\n",
       "      <td>False</td>\n",
       "      <td>False</td>\n",
       "      <td>False</td>\n",
       "      <td>False</td>\n",
       "      <td>False</td>\n",
       "      <td>False</td>\n",
       "      <td>False</td>\n",
       "      <td>False</td>\n",
       "      <td>False</td>\n",
       "    </tr>\n",
       "    <tr>\n",
       "      <th>4</th>\n",
       "      <td>False</td>\n",
       "      <td>False</td>\n",
       "      <td>False</td>\n",
       "      <td>False</td>\n",
       "      <td>False</td>\n",
       "      <td>False</td>\n",
       "      <td>False</td>\n",
       "      <td>False</td>\n",
       "      <td>False</td>\n",
       "      <td>False</td>\n",
       "      <td>...</td>\n",
       "      <td>False</td>\n",
       "      <td>False</td>\n",
       "      <td>False</td>\n",
       "      <td>False</td>\n",
       "      <td>False</td>\n",
       "      <td>False</td>\n",
       "      <td>False</td>\n",
       "      <td>False</td>\n",
       "      <td>False</td>\n",
       "      <td>False</td>\n",
       "    </tr>\n",
       "    <tr>\n",
       "      <th>...</th>\n",
       "      <td>...</td>\n",
       "      <td>...</td>\n",
       "      <td>...</td>\n",
       "      <td>...</td>\n",
       "      <td>...</td>\n",
       "      <td>...</td>\n",
       "      <td>...</td>\n",
       "      <td>...</td>\n",
       "      <td>...</td>\n",
       "      <td>...</td>\n",
       "      <td>...</td>\n",
       "      <td>...</td>\n",
       "      <td>...</td>\n",
       "      <td>...</td>\n",
       "      <td>...</td>\n",
       "      <td>...</td>\n",
       "      <td>...</td>\n",
       "      <td>...</td>\n",
       "      <td>...</td>\n",
       "      <td>...</td>\n",
       "      <td>...</td>\n",
       "    </tr>\n",
       "    <tr>\n",
       "      <th>60612</th>\n",
       "      <td>False</td>\n",
       "      <td>False</td>\n",
       "      <td>False</td>\n",
       "      <td>False</td>\n",
       "      <td>False</td>\n",
       "      <td>False</td>\n",
       "      <td>False</td>\n",
       "      <td>False</td>\n",
       "      <td>False</td>\n",
       "      <td>False</td>\n",
       "      <td>...</td>\n",
       "      <td>False</td>\n",
       "      <td>False</td>\n",
       "      <td>False</td>\n",
       "      <td>False</td>\n",
       "      <td>False</td>\n",
       "      <td>False</td>\n",
       "      <td>False</td>\n",
       "      <td>False</td>\n",
       "      <td>False</td>\n",
       "      <td>False</td>\n",
       "    </tr>\n",
       "    <tr>\n",
       "      <th>60613</th>\n",
       "      <td>False</td>\n",
       "      <td>False</td>\n",
       "      <td>False</td>\n",
       "      <td>False</td>\n",
       "      <td>False</td>\n",
       "      <td>False</td>\n",
       "      <td>False</td>\n",
       "      <td>False</td>\n",
       "      <td>False</td>\n",
       "      <td>False</td>\n",
       "      <td>...</td>\n",
       "      <td>False</td>\n",
       "      <td>False</td>\n",
       "      <td>False</td>\n",
       "      <td>False</td>\n",
       "      <td>False</td>\n",
       "      <td>False</td>\n",
       "      <td>False</td>\n",
       "      <td>False</td>\n",
       "      <td>False</td>\n",
       "      <td>False</td>\n",
       "    </tr>\n",
       "    <tr>\n",
       "      <th>60614</th>\n",
       "      <td>False</td>\n",
       "      <td>False</td>\n",
       "      <td>False</td>\n",
       "      <td>False</td>\n",
       "      <td>False</td>\n",
       "      <td>False</td>\n",
       "      <td>False</td>\n",
       "      <td>False</td>\n",
       "      <td>False</td>\n",
       "      <td>False</td>\n",
       "      <td>...</td>\n",
       "      <td>False</td>\n",
       "      <td>False</td>\n",
       "      <td>False</td>\n",
       "      <td>False</td>\n",
       "      <td>False</td>\n",
       "      <td>False</td>\n",
       "      <td>False</td>\n",
       "      <td>False</td>\n",
       "      <td>False</td>\n",
       "      <td>False</td>\n",
       "    </tr>\n",
       "    <tr>\n",
       "      <th>60615</th>\n",
       "      <td>False</td>\n",
       "      <td>False</td>\n",
       "      <td>False</td>\n",
       "      <td>False</td>\n",
       "      <td>False</td>\n",
       "      <td>False</td>\n",
       "      <td>False</td>\n",
       "      <td>False</td>\n",
       "      <td>False</td>\n",
       "      <td>False</td>\n",
       "      <td>...</td>\n",
       "      <td>False</td>\n",
       "      <td>False</td>\n",
       "      <td>False</td>\n",
       "      <td>False</td>\n",
       "      <td>False</td>\n",
       "      <td>False</td>\n",
       "      <td>False</td>\n",
       "      <td>False</td>\n",
       "      <td>False</td>\n",
       "      <td>False</td>\n",
       "    </tr>\n",
       "    <tr>\n",
       "      <th>60616</th>\n",
       "      <td>False</td>\n",
       "      <td>False</td>\n",
       "      <td>False</td>\n",
       "      <td>False</td>\n",
       "      <td>False</td>\n",
       "      <td>False</td>\n",
       "      <td>False</td>\n",
       "      <td>False</td>\n",
       "      <td>False</td>\n",
       "      <td>False</td>\n",
       "      <td>...</td>\n",
       "      <td>False</td>\n",
       "      <td>False</td>\n",
       "      <td>False</td>\n",
       "      <td>False</td>\n",
       "      <td>False</td>\n",
       "      <td>False</td>\n",
       "      <td>False</td>\n",
       "      <td>False</td>\n",
       "      <td>False</td>\n",
       "      <td>False</td>\n",
       "    </tr>\n",
       "  </tbody>\n",
       "</table>\n",
       "<p>60617 rows × 60617 columns</p>\n",
       "</div>"
      ],
      "text/plain": [
       "           !      \"  \"\"unconscionable,    \"'i   \"'oh   \"'we  \"'you  \"(when  \\\n",
       "0      False  False              False  False  False  False  False   False   \n",
       "1      False  False              False  False  False  False  False   False   \n",
       "2      False  False              False  False  False  False  False   False   \n",
       "3      False  False              False  False  False  False  False   False   \n",
       "4      False  False              False  False  False  False  False   False   \n",
       "...      ...    ...                ...    ...    ...    ...    ...     ...   \n",
       "60612  False  False              False  False  False  False  False   False   \n",
       "60613  False  False              False  False  False  False  False   False   \n",
       "60614  False  False              False  False  False  False  False   False   \n",
       "60615  False  False              False  False  False  False  False   False   \n",
       "60616  False  False              False  False  False  False  False   False   \n",
       "\n",
       "       \"...it  \"100%  ...  £900m  £910m).  £93.6bn)  £933m  £947m  £960m  \\\n",
       "0       False  False  ...  False    False     False  False  False  False   \n",
       "1       False  False  ...  False    False     False  False  False  False   \n",
       "2       False  False  ...  False    False     False  False  False  False   \n",
       "3       False  False  ...  False    False     False  False  False  False   \n",
       "4       False  False  ...  False    False     False  False  False  False   \n",
       "...       ...    ...  ...    ...      ...       ...    ...    ...    ...   \n",
       "60612   False  False  ...  False    False     False  False  False  False   \n",
       "60613   False  False  ...  False    False     False  False  False  False   \n",
       "60614   False  False  ...  False    False     False  False  False  False   \n",
       "60615   False  False  ...  False    False     False  False  False  False   \n",
       "60616   False  False  ...  False    False     False  False  False  False   \n",
       "\n",
       "        £98)    £99    £9m   £9m,  \n",
       "0      False  False  False  False  \n",
       "1      False  False  False  False  \n",
       "2      False  False  False  False  \n",
       "3      False  False  False  False  \n",
       "4      False  False  False  False  \n",
       "...      ...    ...    ...    ...  \n",
       "60612  False  False  False  False  \n",
       "60613  False  False  False  False  \n",
       "60614  False  False  False  False  \n",
       "60615  False  False  False  False  \n",
       "60616  False  False  False  False  \n",
       "\n",
       "[60617 rows x 60617 columns]"
      ]
     },
     "execution_count": 14,
     "metadata": {},
     "output_type": "execute_result"
    }
   ],
   "source": [
    "# `pandas.get_dummies()`\n",
    "vocabulary_dummies = pd.get_dummies(vocabulary_series)\n",
    "vocabulary_dummies"
   ]
  },
  {
   "cell_type": "code",
   "execution_count": 22,
   "id": "7f47e065-1323-4711-907d-6a7efd303084",
   "metadata": {},
   "outputs": [
    {
     "data": {
      "text/html": [
       "<div>\n",
       "<style scoped>\n",
       "    .dataframe tbody tr th:only-of-type {\n",
       "        vertical-align: middle;\n",
       "    }\n",
       "\n",
       "    .dataframe tbody tr th {\n",
       "        vertical-align: top;\n",
       "    }\n",
       "\n",
       "    .dataframe thead th {\n",
       "        text-align: right;\n",
       "    }\n",
       "</style>\n",
       "<table border=\"1\" class=\"dataframe\">\n",
       "  <thead>\n",
       "    <tr style=\"text-align: right;\">\n",
       "      <th></th>\n",
       "      <th>!</th>\n",
       "      <th>\"</th>\n",
       "      <th>\"\"unconscionable,</th>\n",
       "      <th>\"'i</th>\n",
       "      <th>\"'oh</th>\n",
       "      <th>\"'we</th>\n",
       "      <th>\"'you</th>\n",
       "      <th>\"(when</th>\n",
       "      <th>\"...it</th>\n",
       "      <th>\"100%</th>\n",
       "      <th>...</th>\n",
       "      <th>£910m).</th>\n",
       "      <th>£93.6bn)</th>\n",
       "      <th>£933m</th>\n",
       "      <th>£947m</th>\n",
       "      <th>£960m</th>\n",
       "      <th>£98)</th>\n",
       "      <th>£99</th>\n",
       "      <th>£9m</th>\n",
       "      <th>£9m,</th>\n",
       "      <th>&lt;pad&gt;</th>\n",
       "    </tr>\n",
       "  </thead>\n",
       "  <tbody>\n",
       "    <tr>\n",
       "      <th>0</th>\n",
       "      <td>False</td>\n",
       "      <td>False</td>\n",
       "      <td>False</td>\n",
       "      <td>False</td>\n",
       "      <td>False</td>\n",
       "      <td>False</td>\n",
       "      <td>False</td>\n",
       "      <td>False</td>\n",
       "      <td>False</td>\n",
       "      <td>False</td>\n",
       "      <td>...</td>\n",
       "      <td>False</td>\n",
       "      <td>False</td>\n",
       "      <td>False</td>\n",
       "      <td>False</td>\n",
       "      <td>False</td>\n",
       "      <td>False</td>\n",
       "      <td>False</td>\n",
       "      <td>False</td>\n",
       "      <td>False</td>\n",
       "      <td>False</td>\n",
       "    </tr>\n",
       "    <tr>\n",
       "      <th>1</th>\n",
       "      <td>False</td>\n",
       "      <td>False</td>\n",
       "      <td>False</td>\n",
       "      <td>False</td>\n",
       "      <td>False</td>\n",
       "      <td>False</td>\n",
       "      <td>False</td>\n",
       "      <td>False</td>\n",
       "      <td>False</td>\n",
       "      <td>False</td>\n",
       "      <td>...</td>\n",
       "      <td>False</td>\n",
       "      <td>False</td>\n",
       "      <td>False</td>\n",
       "      <td>False</td>\n",
       "      <td>False</td>\n",
       "      <td>False</td>\n",
       "      <td>False</td>\n",
       "      <td>False</td>\n",
       "      <td>False</td>\n",
       "      <td>False</td>\n",
       "    </tr>\n",
       "    <tr>\n",
       "      <th>2</th>\n",
       "      <td>False</td>\n",
       "      <td>False</td>\n",
       "      <td>False</td>\n",
       "      <td>False</td>\n",
       "      <td>False</td>\n",
       "      <td>False</td>\n",
       "      <td>False</td>\n",
       "      <td>False</td>\n",
       "      <td>False</td>\n",
       "      <td>False</td>\n",
       "      <td>...</td>\n",
       "      <td>False</td>\n",
       "      <td>False</td>\n",
       "      <td>False</td>\n",
       "      <td>False</td>\n",
       "      <td>False</td>\n",
       "      <td>False</td>\n",
       "      <td>False</td>\n",
       "      <td>False</td>\n",
       "      <td>False</td>\n",
       "      <td>False</td>\n",
       "    </tr>\n",
       "    <tr>\n",
       "      <th>3</th>\n",
       "      <td>False</td>\n",
       "      <td>False</td>\n",
       "      <td>False</td>\n",
       "      <td>False</td>\n",
       "      <td>False</td>\n",
       "      <td>False</td>\n",
       "      <td>False</td>\n",
       "      <td>False</td>\n",
       "      <td>False</td>\n",
       "      <td>False</td>\n",
       "      <td>...</td>\n",
       "      <td>False</td>\n",
       "      <td>False</td>\n",
       "      <td>False</td>\n",
       "      <td>False</td>\n",
       "      <td>False</td>\n",
       "      <td>False</td>\n",
       "      <td>False</td>\n",
       "      <td>False</td>\n",
       "      <td>False</td>\n",
       "      <td>False</td>\n",
       "    </tr>\n",
       "    <tr>\n",
       "      <th>4</th>\n",
       "      <td>False</td>\n",
       "      <td>False</td>\n",
       "      <td>False</td>\n",
       "      <td>False</td>\n",
       "      <td>False</td>\n",
       "      <td>False</td>\n",
       "      <td>False</td>\n",
       "      <td>False</td>\n",
       "      <td>False</td>\n",
       "      <td>False</td>\n",
       "      <td>...</td>\n",
       "      <td>False</td>\n",
       "      <td>False</td>\n",
       "      <td>False</td>\n",
       "      <td>False</td>\n",
       "      <td>False</td>\n",
       "      <td>False</td>\n",
       "      <td>False</td>\n",
       "      <td>False</td>\n",
       "      <td>False</td>\n",
       "      <td>False</td>\n",
       "    </tr>\n",
       "    <tr>\n",
       "      <th>...</th>\n",
       "      <td>...</td>\n",
       "      <td>...</td>\n",
       "      <td>...</td>\n",
       "      <td>...</td>\n",
       "      <td>...</td>\n",
       "      <td>...</td>\n",
       "      <td>...</td>\n",
       "      <td>...</td>\n",
       "      <td>...</td>\n",
       "      <td>...</td>\n",
       "      <td>...</td>\n",
       "      <td>...</td>\n",
       "      <td>...</td>\n",
       "      <td>...</td>\n",
       "      <td>...</td>\n",
       "      <td>...</td>\n",
       "      <td>...</td>\n",
       "      <td>...</td>\n",
       "      <td>...</td>\n",
       "      <td>...</td>\n",
       "      <td>...</td>\n",
       "    </tr>\n",
       "    <tr>\n",
       "      <th>60612</th>\n",
       "      <td>False</td>\n",
       "      <td>False</td>\n",
       "      <td>False</td>\n",
       "      <td>False</td>\n",
       "      <td>False</td>\n",
       "      <td>False</td>\n",
       "      <td>False</td>\n",
       "      <td>False</td>\n",
       "      <td>False</td>\n",
       "      <td>False</td>\n",
       "      <td>...</td>\n",
       "      <td>False</td>\n",
       "      <td>False</td>\n",
       "      <td>False</td>\n",
       "      <td>False</td>\n",
       "      <td>False</td>\n",
       "      <td>False</td>\n",
       "      <td>False</td>\n",
       "      <td>False</td>\n",
       "      <td>False</td>\n",
       "      <td>False</td>\n",
       "    </tr>\n",
       "    <tr>\n",
       "      <th>60613</th>\n",
       "      <td>False</td>\n",
       "      <td>False</td>\n",
       "      <td>False</td>\n",
       "      <td>False</td>\n",
       "      <td>False</td>\n",
       "      <td>False</td>\n",
       "      <td>False</td>\n",
       "      <td>False</td>\n",
       "      <td>False</td>\n",
       "      <td>False</td>\n",
       "      <td>...</td>\n",
       "      <td>False</td>\n",
       "      <td>False</td>\n",
       "      <td>False</td>\n",
       "      <td>False</td>\n",
       "      <td>False</td>\n",
       "      <td>False</td>\n",
       "      <td>False</td>\n",
       "      <td>False</td>\n",
       "      <td>False</td>\n",
       "      <td>False</td>\n",
       "    </tr>\n",
       "    <tr>\n",
       "      <th>60614</th>\n",
       "      <td>False</td>\n",
       "      <td>False</td>\n",
       "      <td>False</td>\n",
       "      <td>False</td>\n",
       "      <td>False</td>\n",
       "      <td>False</td>\n",
       "      <td>False</td>\n",
       "      <td>False</td>\n",
       "      <td>False</td>\n",
       "      <td>False</td>\n",
       "      <td>...</td>\n",
       "      <td>False</td>\n",
       "      <td>False</td>\n",
       "      <td>False</td>\n",
       "      <td>False</td>\n",
       "      <td>False</td>\n",
       "      <td>False</td>\n",
       "      <td>False</td>\n",
       "      <td>False</td>\n",
       "      <td>False</td>\n",
       "      <td>False</td>\n",
       "    </tr>\n",
       "    <tr>\n",
       "      <th>60615</th>\n",
       "      <td>False</td>\n",
       "      <td>False</td>\n",
       "      <td>False</td>\n",
       "      <td>False</td>\n",
       "      <td>False</td>\n",
       "      <td>False</td>\n",
       "      <td>False</td>\n",
       "      <td>False</td>\n",
       "      <td>False</td>\n",
       "      <td>False</td>\n",
       "      <td>...</td>\n",
       "      <td>False</td>\n",
       "      <td>False</td>\n",
       "      <td>False</td>\n",
       "      <td>False</td>\n",
       "      <td>False</td>\n",
       "      <td>False</td>\n",
       "      <td>False</td>\n",
       "      <td>False</td>\n",
       "      <td>False</td>\n",
       "      <td>False</td>\n",
       "    </tr>\n",
       "    <tr>\n",
       "      <th>60616</th>\n",
       "      <td>False</td>\n",
       "      <td>False</td>\n",
       "      <td>False</td>\n",
       "      <td>False</td>\n",
       "      <td>False</td>\n",
       "      <td>False</td>\n",
       "      <td>False</td>\n",
       "      <td>False</td>\n",
       "      <td>False</td>\n",
       "      <td>False</td>\n",
       "      <td>...</td>\n",
       "      <td>False</td>\n",
       "      <td>False</td>\n",
       "      <td>False</td>\n",
       "      <td>False</td>\n",
       "      <td>False</td>\n",
       "      <td>False</td>\n",
       "      <td>False</td>\n",
       "      <td>False</td>\n",
       "      <td>False</td>\n",
       "      <td>False</td>\n",
       "    </tr>\n",
       "  </tbody>\n",
       "</table>\n",
       "<p>60617 rows × 60618 columns</p>\n",
       "</div>"
      ],
      "text/plain": [
       "           !      \"  \"\"unconscionable,    \"'i   \"'oh   \"'we  \"'you  \"(when  \\\n",
       "0      False  False              False  False  False  False  False   False   \n",
       "1      False  False              False  False  False  False  False   False   \n",
       "2      False  False              False  False  False  False  False   False   \n",
       "3      False  False              False  False  False  False  False   False   \n",
       "4      False  False              False  False  False  False  False   False   \n",
       "...      ...    ...                ...    ...    ...    ...    ...     ...   \n",
       "60612  False  False              False  False  False  False  False   False   \n",
       "60613  False  False              False  False  False  False  False   False   \n",
       "60614  False  False              False  False  False  False  False   False   \n",
       "60615  False  False              False  False  False  False  False   False   \n",
       "60616  False  False              False  False  False  False  False   False   \n",
       "\n",
       "       \"...it  \"100%  ...  £910m).  £93.6bn)  £933m  £947m  £960m   £98)  \\\n",
       "0       False  False  ...    False     False  False  False  False  False   \n",
       "1       False  False  ...    False     False  False  False  False  False   \n",
       "2       False  False  ...    False     False  False  False  False  False   \n",
       "3       False  False  ...    False     False  False  False  False  False   \n",
       "4       False  False  ...    False     False  False  False  False  False   \n",
       "...       ...    ...  ...      ...       ...    ...    ...    ...    ...   \n",
       "60612   False  False  ...    False     False  False  False  False  False   \n",
       "60613   False  False  ...    False     False  False  False  False  False   \n",
       "60614   False  False  ...    False     False  False  False  False  False   \n",
       "60615   False  False  ...    False     False  False  False  False  False   \n",
       "60616   False  False  ...    False     False  False  False  False  False   \n",
       "\n",
       "         £99    £9m   £9m,  <pad>  \n",
       "0      False  False  False  False  \n",
       "1      False  False  False  False  \n",
       "2      False  False  False  False  \n",
       "3      False  False  False  False  \n",
       "4      False  False  False  False  \n",
       "...      ...    ...    ...    ...  \n",
       "60612  False  False  False  False  \n",
       "60613  False  False  False  False  \n",
       "60614  False  False  False  False  \n",
       "60615  False  False  False  False  \n",
       "60616  False  False  False  False  \n",
       "\n",
       "[60617 rows x 60618 columns]"
      ]
     },
     "execution_count": 22,
     "metadata": {},
     "output_type": "execute_result"
    }
   ],
   "source": [
    "# Create an all `False` `pandas.Series` for `<pad>`\n",
    "false_array = np.array([False] * vocabulary_dummies.shape[0])\n",
    "false_series = pd.Series(false_array)\n",
    "\n",
    "vocabulary_dummies['<pad>'] = false_series\n",
    "vocabulary_dummies"
   ]
  },
  {
   "cell_type": "code",
   "execution_count": 29,
   "id": "1f741644-e126-4733-b4e9-1ba8e62d318a",
   "metadata": {},
   "outputs": [
    {
     "name": "stdout",
     "output_type": "stream",
     "text": [
      "<pad>\n"
     ]
    }
   ],
   "source": [
    "# Check if `<pad>` the only column contains all `False`\n",
    "for (column_name, column_data) in vocabulary_dummies.items():\n",
    "    if (vocabulary_dummies[column_name] == False).all():\n",
    "        print(column_name)"
   ]
  },
  {
   "cell_type": "code",
   "execution_count": 31,
   "id": "c8098ed9-7ed2-4f94-8ae7-e1eed98a35f8",
   "metadata": {},
   "outputs": [
    {
     "data": {
      "text/plain": [
       "0        False\n",
       "1        False\n",
       "2        False\n",
       "3        False\n",
       "4        False\n",
       "         ...  \n",
       "60612    False\n",
       "60613    False\n",
       "60614    False\n",
       "60615    False\n",
       "60616     True\n",
       "Name: <unk>, Length: 60617, dtype: bool"
      ]
     },
     "execution_count": 31,
     "metadata": {},
     "output_type": "execute_result"
    }
   ],
   "source": [
    "# Check the `<unk>` column\n",
    "vocabulary_dummies['<unk>']"
   ]
  },
  {
   "cell_type": "code",
   "execution_count": 30,
   "id": "e78d1c38-9d1d-4dfd-b574-fb08b80adf52",
   "metadata": {},
   "outputs": [
    {
     "name": "stdout",
     "output_type": "stream",
     "text": [
      "[False False False ... False False False]\n",
      "[False False False ... False False False]\n",
      "[False False False ... False False False]\n",
      "[False False False ... False False False]\n",
      "[False False False ... False False False]\n",
      "[False False False ... False False False]\n",
      "[False False False ... False False False]\n",
      "[False False False ... False False False]\n",
      "[False False False ... False False False]\n",
      "[False False False ... False False False]\n"
     ]
    }
   ],
   "source": [
    "# One-hot encoding\n",
    "one_hot_vector = []\n",
    "for doc in df['text']:\n",
    "    doc_vector = []\n",
    "    for word in doc.split():\n",
    "        doc_vector.append(vocabulary_dummies[word.lower()].values)\n",
    "    one_hot_vector.append(doc_vector)\n",
    "\n",
    "# One-hot encoded vectors of the first 10 words from the first document\n",
    "for i in range(10):\n",
    "    print(one_hot_vector[0][i])"
   ]
  },
  {
   "cell_type": "markdown",
   "id": "f10c0e82-64e8-49ca-8a16-66b391519ece",
   "metadata": {},
   "source": [
    "## 2-3. One-Hot Encoding with scikit-learn\n",
    "1. `sklearn.preprocessing.OneHotEncoder(*, categories='auto', drop=None, sparse_output=True, dtype=<class 'numpy.float64'>, handle_unknown='error', min_frequency=None, max_categories=None, feature_name_combiner='concat')`: Encode categorical features as a one-hot numeric array.\n",
    "   - Set the `handle_unknown` argument as `ignore` for dealing with `<pad>` or, optionally, `<unk>`. When an unknown category is encountered during transform, the resulting one-hot encoded columns for this feature will be all zeros. In the inverse transform, an unknown category will be denoted as `None`."
   ]
  },
  {
   "cell_type": "code",
   "execution_count": 61,
   "id": "06e582a4-5e71-4408-a9c1-c359d0acfc83",
   "metadata": {},
   "outputs": [
    {
     "data": {
      "text/html": [
       "<div>\n",
       "<style scoped>\n",
       "    .dataframe tbody tr th:only-of-type {\n",
       "        vertical-align: middle;\n",
       "    }\n",
       "\n",
       "    .dataframe tbody tr th {\n",
       "        vertical-align: top;\n",
       "    }\n",
       "\n",
       "    .dataframe thead th {\n",
       "        text-align: right;\n",
       "    }\n",
       "</style>\n",
       "<table border=\"1\" class=\"dataframe\">\n",
       "  <thead>\n",
       "    <tr style=\"text-align: right;\">\n",
       "      <th></th>\n",
       "      <th>0</th>\n",
       "    </tr>\n",
       "  </thead>\n",
       "  <tbody>\n",
       "    <tr>\n",
       "      <th>0</th>\n",
       "      <td>enemies.</td>\n",
       "    </tr>\n",
       "    <tr>\n",
       "      <th>1</th>\n",
       "      <td>integration</td>\n",
       "    </tr>\n",
       "    <tr>\n",
       "      <th>2</th>\n",
       "      <td>manon</td>\n",
       "    </tr>\n",
       "    <tr>\n",
       "      <th>3</th>\n",
       "      <td>hiv-positive</td>\n",
       "    </tr>\n",
       "    <tr>\n",
       "      <th>4</th>\n",
       "      <td>laughing</td>\n",
       "    </tr>\n",
       "    <tr>\n",
       "      <th>...</th>\n",
       "      <td>...</td>\n",
       "    </tr>\n",
       "    <tr>\n",
       "      <th>60612</th>\n",
       "      <td>reintegration</td>\n",
       "    </tr>\n",
       "    <tr>\n",
       "      <th>60613</th>\n",
       "      <td>that's</td>\n",
       "    </tr>\n",
       "    <tr>\n",
       "      <th>60614</th>\n",
       "      <td>halo,\"</td>\n",
       "    </tr>\n",
       "    <tr>\n",
       "      <th>60615</th>\n",
       "      <td>liam</td>\n",
       "    </tr>\n",
       "    <tr>\n",
       "      <th>60616</th>\n",
       "      <td>&lt;unk&gt;</td>\n",
       "    </tr>\n",
       "  </tbody>\n",
       "</table>\n",
       "<p>60617 rows × 1 columns</p>\n",
       "</div>"
      ],
      "text/plain": [
       "                   0\n",
       "0           enemies.\n",
       "1        integration\n",
       "2              manon\n",
       "3       hiv-positive\n",
       "4           laughing\n",
       "...              ...\n",
       "60612  reintegration\n",
       "60613         that's\n",
       "60614         halo,\"\n",
       "60615           liam\n",
       "60616          <unk>\n",
       "\n",
       "[60617 rows x 1 columns]"
      ]
     },
     "execution_count": 61,
     "metadata": {},
     "output_type": "execute_result"
    }
   ],
   "source": [
    "# Convert `pandas.Series` to `pandas.DataFrame`\n",
    "vocabulary_df = vocabulary_series.to_frame()\n",
    "vocabulary_df"
   ]
  },
  {
   "cell_type": "code",
   "execution_count": 62,
   "id": "26da4979-34a6-44ba-9f04-819de345d5db",
   "metadata": {},
   "outputs": [
    {
     "data": {
      "text/html": [
       "<style>#sk-container-id-2 {\n",
       "  /* Definition of color scheme common for light and dark mode */\n",
       "  --sklearn-color-text: black;\n",
       "  --sklearn-color-line: gray;\n",
       "  /* Definition of color scheme for unfitted estimators */\n",
       "  --sklearn-color-unfitted-level-0: #fff5e6;\n",
       "  --sklearn-color-unfitted-level-1: #f6e4d2;\n",
       "  --sklearn-color-unfitted-level-2: #ffe0b3;\n",
       "  --sklearn-color-unfitted-level-3: chocolate;\n",
       "  /* Definition of color scheme for fitted estimators */\n",
       "  --sklearn-color-fitted-level-0: #f0f8ff;\n",
       "  --sklearn-color-fitted-level-1: #d4ebff;\n",
       "  --sklearn-color-fitted-level-2: #b3dbfd;\n",
       "  --sklearn-color-fitted-level-3: cornflowerblue;\n",
       "\n",
       "  /* Specific color for light theme */\n",
       "  --sklearn-color-text-on-default-background: var(--sg-text-color, var(--theme-code-foreground, var(--jp-content-font-color1, black)));\n",
       "  --sklearn-color-background: var(--sg-background-color, var(--theme-background, var(--jp-layout-color0, white)));\n",
       "  --sklearn-color-border-box: var(--sg-text-color, var(--theme-code-foreground, var(--jp-content-font-color1, black)));\n",
       "  --sklearn-color-icon: #696969;\n",
       "\n",
       "  @media (prefers-color-scheme: dark) {\n",
       "    /* Redefinition of color scheme for dark theme */\n",
       "    --sklearn-color-text-on-default-background: var(--sg-text-color, var(--theme-code-foreground, var(--jp-content-font-color1, white)));\n",
       "    --sklearn-color-background: var(--sg-background-color, var(--theme-background, var(--jp-layout-color0, #111)));\n",
       "    --sklearn-color-border-box: var(--sg-text-color, var(--theme-code-foreground, var(--jp-content-font-color1, white)));\n",
       "    --sklearn-color-icon: #878787;\n",
       "  }\n",
       "}\n",
       "\n",
       "#sk-container-id-2 {\n",
       "  color: var(--sklearn-color-text);\n",
       "}\n",
       "\n",
       "#sk-container-id-2 pre {\n",
       "  padding: 0;\n",
       "}\n",
       "\n",
       "#sk-container-id-2 input.sk-hidden--visually {\n",
       "  border: 0;\n",
       "  clip: rect(1px 1px 1px 1px);\n",
       "  clip: rect(1px, 1px, 1px, 1px);\n",
       "  height: 1px;\n",
       "  margin: -1px;\n",
       "  overflow: hidden;\n",
       "  padding: 0;\n",
       "  position: absolute;\n",
       "  width: 1px;\n",
       "}\n",
       "\n",
       "#sk-container-id-2 div.sk-dashed-wrapped {\n",
       "  border: 1px dashed var(--sklearn-color-line);\n",
       "  margin: 0 0.4em 0.5em 0.4em;\n",
       "  box-sizing: border-box;\n",
       "  padding-bottom: 0.4em;\n",
       "  background-color: var(--sklearn-color-background);\n",
       "}\n",
       "\n",
       "#sk-container-id-2 div.sk-container {\n",
       "  /* jupyter's `normalize.less` sets `[hidden] { display: none; }`\n",
       "     but bootstrap.min.css set `[hidden] { display: none !important; }`\n",
       "     so we also need the `!important` here to be able to override the\n",
       "     default hidden behavior on the sphinx rendered scikit-learn.org.\n",
       "     See: https://github.com/scikit-learn/scikit-learn/issues/21755 */\n",
       "  display: inline-block !important;\n",
       "  position: relative;\n",
       "}\n",
       "\n",
       "#sk-container-id-2 div.sk-text-repr-fallback {\n",
       "  display: none;\n",
       "}\n",
       "\n",
       "div.sk-parallel-item,\n",
       "div.sk-serial,\n",
       "div.sk-item {\n",
       "  /* draw centered vertical line to link estimators */\n",
       "  background-image: linear-gradient(var(--sklearn-color-text-on-default-background), var(--sklearn-color-text-on-default-background));\n",
       "  background-size: 2px 100%;\n",
       "  background-repeat: no-repeat;\n",
       "  background-position: center center;\n",
       "}\n",
       "\n",
       "/* Parallel-specific style estimator block */\n",
       "\n",
       "#sk-container-id-2 div.sk-parallel-item::after {\n",
       "  content: \"\";\n",
       "  width: 100%;\n",
       "  border-bottom: 2px solid var(--sklearn-color-text-on-default-background);\n",
       "  flex-grow: 1;\n",
       "}\n",
       "\n",
       "#sk-container-id-2 div.sk-parallel {\n",
       "  display: flex;\n",
       "  align-items: stretch;\n",
       "  justify-content: center;\n",
       "  background-color: var(--sklearn-color-background);\n",
       "  position: relative;\n",
       "}\n",
       "\n",
       "#sk-container-id-2 div.sk-parallel-item {\n",
       "  display: flex;\n",
       "  flex-direction: column;\n",
       "}\n",
       "\n",
       "#sk-container-id-2 div.sk-parallel-item:first-child::after {\n",
       "  align-self: flex-end;\n",
       "  width: 50%;\n",
       "}\n",
       "\n",
       "#sk-container-id-2 div.sk-parallel-item:last-child::after {\n",
       "  align-self: flex-start;\n",
       "  width: 50%;\n",
       "}\n",
       "\n",
       "#sk-container-id-2 div.sk-parallel-item:only-child::after {\n",
       "  width: 0;\n",
       "}\n",
       "\n",
       "/* Serial-specific style estimator block */\n",
       "\n",
       "#sk-container-id-2 div.sk-serial {\n",
       "  display: flex;\n",
       "  flex-direction: column;\n",
       "  align-items: center;\n",
       "  background-color: var(--sklearn-color-background);\n",
       "  padding-right: 1em;\n",
       "  padding-left: 1em;\n",
       "}\n",
       "\n",
       "\n",
       "/* Toggleable style: style used for estimator/Pipeline/ColumnTransformer box that is\n",
       "clickable and can be expanded/collapsed.\n",
       "- Pipeline and ColumnTransformer use this feature and define the default style\n",
       "- Estimators will overwrite some part of the style using the `sk-estimator` class\n",
       "*/\n",
       "\n",
       "/* Pipeline and ColumnTransformer style (default) */\n",
       "\n",
       "#sk-container-id-2 div.sk-toggleable {\n",
       "  /* Default theme specific background. It is overwritten whether we have a\n",
       "  specific estimator or a Pipeline/ColumnTransformer */\n",
       "  background-color: var(--sklearn-color-background);\n",
       "}\n",
       "\n",
       "/* Toggleable label */\n",
       "#sk-container-id-2 label.sk-toggleable__label {\n",
       "  cursor: pointer;\n",
       "  display: block;\n",
       "  width: 100%;\n",
       "  margin-bottom: 0;\n",
       "  padding: 0.5em;\n",
       "  box-sizing: border-box;\n",
       "  text-align: center;\n",
       "}\n",
       "\n",
       "#sk-container-id-2 label.sk-toggleable__label-arrow:before {\n",
       "  /* Arrow on the left of the label */\n",
       "  content: \"▸\";\n",
       "  float: left;\n",
       "  margin-right: 0.25em;\n",
       "  color: var(--sklearn-color-icon);\n",
       "}\n",
       "\n",
       "#sk-container-id-2 label.sk-toggleable__label-arrow:hover:before {\n",
       "  color: var(--sklearn-color-text);\n",
       "}\n",
       "\n",
       "/* Toggleable content - dropdown */\n",
       "\n",
       "#sk-container-id-2 div.sk-toggleable__content {\n",
       "  max-height: 0;\n",
       "  max-width: 0;\n",
       "  overflow: hidden;\n",
       "  text-align: left;\n",
       "  /* unfitted */\n",
       "  background-color: var(--sklearn-color-unfitted-level-0);\n",
       "}\n",
       "\n",
       "#sk-container-id-2 div.sk-toggleable__content.fitted {\n",
       "  /* fitted */\n",
       "  background-color: var(--sklearn-color-fitted-level-0);\n",
       "}\n",
       "\n",
       "#sk-container-id-2 div.sk-toggleable__content pre {\n",
       "  margin: 0.2em;\n",
       "  border-radius: 0.25em;\n",
       "  color: var(--sklearn-color-text);\n",
       "  /* unfitted */\n",
       "  background-color: var(--sklearn-color-unfitted-level-0);\n",
       "}\n",
       "\n",
       "#sk-container-id-2 div.sk-toggleable__content.fitted pre {\n",
       "  /* unfitted */\n",
       "  background-color: var(--sklearn-color-fitted-level-0);\n",
       "}\n",
       "\n",
       "#sk-container-id-2 input.sk-toggleable__control:checked~div.sk-toggleable__content {\n",
       "  /* Expand drop-down */\n",
       "  max-height: 200px;\n",
       "  max-width: 100%;\n",
       "  overflow: auto;\n",
       "}\n",
       "\n",
       "#sk-container-id-2 input.sk-toggleable__control:checked~label.sk-toggleable__label-arrow:before {\n",
       "  content: \"▾\";\n",
       "}\n",
       "\n",
       "/* Pipeline/ColumnTransformer-specific style */\n",
       "\n",
       "#sk-container-id-2 div.sk-label input.sk-toggleable__control:checked~label.sk-toggleable__label {\n",
       "  color: var(--sklearn-color-text);\n",
       "  background-color: var(--sklearn-color-unfitted-level-2);\n",
       "}\n",
       "\n",
       "#sk-container-id-2 div.sk-label.fitted input.sk-toggleable__control:checked~label.sk-toggleable__label {\n",
       "  background-color: var(--sklearn-color-fitted-level-2);\n",
       "}\n",
       "\n",
       "/* Estimator-specific style */\n",
       "\n",
       "/* Colorize estimator box */\n",
       "#sk-container-id-2 div.sk-estimator input.sk-toggleable__control:checked~label.sk-toggleable__label {\n",
       "  /* unfitted */\n",
       "  background-color: var(--sklearn-color-unfitted-level-2);\n",
       "}\n",
       "\n",
       "#sk-container-id-2 div.sk-estimator.fitted input.sk-toggleable__control:checked~label.sk-toggleable__label {\n",
       "  /* fitted */\n",
       "  background-color: var(--sklearn-color-fitted-level-2);\n",
       "}\n",
       "\n",
       "#sk-container-id-2 div.sk-label label.sk-toggleable__label,\n",
       "#sk-container-id-2 div.sk-label label {\n",
       "  /* The background is the default theme color */\n",
       "  color: var(--sklearn-color-text-on-default-background);\n",
       "}\n",
       "\n",
       "/* On hover, darken the color of the background */\n",
       "#sk-container-id-2 div.sk-label:hover label.sk-toggleable__label {\n",
       "  color: var(--sklearn-color-text);\n",
       "  background-color: var(--sklearn-color-unfitted-level-2);\n",
       "}\n",
       "\n",
       "/* Label box, darken color on hover, fitted */\n",
       "#sk-container-id-2 div.sk-label.fitted:hover label.sk-toggleable__label.fitted {\n",
       "  color: var(--sklearn-color-text);\n",
       "  background-color: var(--sklearn-color-fitted-level-2);\n",
       "}\n",
       "\n",
       "/* Estimator label */\n",
       "\n",
       "#sk-container-id-2 div.sk-label label {\n",
       "  font-family: monospace;\n",
       "  font-weight: bold;\n",
       "  display: inline-block;\n",
       "  line-height: 1.2em;\n",
       "}\n",
       "\n",
       "#sk-container-id-2 div.sk-label-container {\n",
       "  text-align: center;\n",
       "}\n",
       "\n",
       "/* Estimator-specific */\n",
       "#sk-container-id-2 div.sk-estimator {\n",
       "  font-family: monospace;\n",
       "  border: 1px dotted var(--sklearn-color-border-box);\n",
       "  border-radius: 0.25em;\n",
       "  box-sizing: border-box;\n",
       "  margin-bottom: 0.5em;\n",
       "  /* unfitted */\n",
       "  background-color: var(--sklearn-color-unfitted-level-0);\n",
       "}\n",
       "\n",
       "#sk-container-id-2 div.sk-estimator.fitted {\n",
       "  /* fitted */\n",
       "  background-color: var(--sklearn-color-fitted-level-0);\n",
       "}\n",
       "\n",
       "/* on hover */\n",
       "#sk-container-id-2 div.sk-estimator:hover {\n",
       "  /* unfitted */\n",
       "  background-color: var(--sklearn-color-unfitted-level-2);\n",
       "}\n",
       "\n",
       "#sk-container-id-2 div.sk-estimator.fitted:hover {\n",
       "  /* fitted */\n",
       "  background-color: var(--sklearn-color-fitted-level-2);\n",
       "}\n",
       "\n",
       "/* Specification for estimator info (e.g. \"i\" and \"?\") */\n",
       "\n",
       "/* Common style for \"i\" and \"?\" */\n",
       "\n",
       ".sk-estimator-doc-link,\n",
       "a:link.sk-estimator-doc-link,\n",
       "a:visited.sk-estimator-doc-link {\n",
       "  float: right;\n",
       "  font-size: smaller;\n",
       "  line-height: 1em;\n",
       "  font-family: monospace;\n",
       "  background-color: var(--sklearn-color-background);\n",
       "  border-radius: 1em;\n",
       "  height: 1em;\n",
       "  width: 1em;\n",
       "  text-decoration: none !important;\n",
       "  margin-left: 1ex;\n",
       "  /* unfitted */\n",
       "  border: var(--sklearn-color-unfitted-level-1) 1pt solid;\n",
       "  color: var(--sklearn-color-unfitted-level-1);\n",
       "}\n",
       "\n",
       ".sk-estimator-doc-link.fitted,\n",
       "a:link.sk-estimator-doc-link.fitted,\n",
       "a:visited.sk-estimator-doc-link.fitted {\n",
       "  /* fitted */\n",
       "  border: var(--sklearn-color-fitted-level-1) 1pt solid;\n",
       "  color: var(--sklearn-color-fitted-level-1);\n",
       "}\n",
       "\n",
       "/* On hover */\n",
       "div.sk-estimator:hover .sk-estimator-doc-link:hover,\n",
       ".sk-estimator-doc-link:hover,\n",
       "div.sk-label-container:hover .sk-estimator-doc-link:hover,\n",
       ".sk-estimator-doc-link:hover {\n",
       "  /* unfitted */\n",
       "  background-color: var(--sklearn-color-unfitted-level-3);\n",
       "  color: var(--sklearn-color-background);\n",
       "  text-decoration: none;\n",
       "}\n",
       "\n",
       "div.sk-estimator.fitted:hover .sk-estimator-doc-link.fitted:hover,\n",
       ".sk-estimator-doc-link.fitted:hover,\n",
       "div.sk-label-container:hover .sk-estimator-doc-link.fitted:hover,\n",
       ".sk-estimator-doc-link.fitted:hover {\n",
       "  /* fitted */\n",
       "  background-color: var(--sklearn-color-fitted-level-3);\n",
       "  color: var(--sklearn-color-background);\n",
       "  text-decoration: none;\n",
       "}\n",
       "\n",
       "/* Span, style for the box shown on hovering the info icon */\n",
       ".sk-estimator-doc-link span {\n",
       "  display: none;\n",
       "  z-index: 9999;\n",
       "  position: relative;\n",
       "  font-weight: normal;\n",
       "  right: .2ex;\n",
       "  padding: .5ex;\n",
       "  margin: .5ex;\n",
       "  width: min-content;\n",
       "  min-width: 20ex;\n",
       "  max-width: 50ex;\n",
       "  color: var(--sklearn-color-text);\n",
       "  box-shadow: 2pt 2pt 4pt #999;\n",
       "  /* unfitted */\n",
       "  background: var(--sklearn-color-unfitted-level-0);\n",
       "  border: .5pt solid var(--sklearn-color-unfitted-level-3);\n",
       "}\n",
       "\n",
       ".sk-estimator-doc-link.fitted span {\n",
       "  /* fitted */\n",
       "  background: var(--sklearn-color-fitted-level-0);\n",
       "  border: var(--sklearn-color-fitted-level-3);\n",
       "}\n",
       "\n",
       ".sk-estimator-doc-link:hover span {\n",
       "  display: block;\n",
       "}\n",
       "\n",
       "/* \"?\"-specific style due to the `<a>` HTML tag */\n",
       "\n",
       "#sk-container-id-2 a.estimator_doc_link {\n",
       "  float: right;\n",
       "  font-size: 1rem;\n",
       "  line-height: 1em;\n",
       "  font-family: monospace;\n",
       "  background-color: var(--sklearn-color-background);\n",
       "  border-radius: 1rem;\n",
       "  height: 1rem;\n",
       "  width: 1rem;\n",
       "  text-decoration: none;\n",
       "  /* unfitted */\n",
       "  color: var(--sklearn-color-unfitted-level-1);\n",
       "  border: var(--sklearn-color-unfitted-level-1) 1pt solid;\n",
       "}\n",
       "\n",
       "#sk-container-id-2 a.estimator_doc_link.fitted {\n",
       "  /* fitted */\n",
       "  border: var(--sklearn-color-fitted-level-1) 1pt solid;\n",
       "  color: var(--sklearn-color-fitted-level-1);\n",
       "}\n",
       "\n",
       "/* On hover */\n",
       "#sk-container-id-2 a.estimator_doc_link:hover {\n",
       "  /* unfitted */\n",
       "  background-color: var(--sklearn-color-unfitted-level-3);\n",
       "  color: var(--sklearn-color-background);\n",
       "  text-decoration: none;\n",
       "}\n",
       "\n",
       "#sk-container-id-2 a.estimator_doc_link.fitted:hover {\n",
       "  /* fitted */\n",
       "  background-color: var(--sklearn-color-fitted-level-3);\n",
       "}\n",
       "</style><div id=\"sk-container-id-2\" class=\"sk-top-container\"><div class=\"sk-text-repr-fallback\"><pre>OneHotEncoder(handle_unknown=&#x27;ignore&#x27;, sparse_output=False)</pre><b>In a Jupyter environment, please rerun this cell to show the HTML representation or trust the notebook. <br />On GitHub, the HTML representation is unable to render, please try loading this page with nbviewer.org.</b></div><div class=\"sk-container\" hidden><div class=\"sk-item\"><div class=\"sk-estimator fitted sk-toggleable\"><input class=\"sk-toggleable__control sk-hidden--visually\" id=\"sk-estimator-id-2\" type=\"checkbox\" checked><label for=\"sk-estimator-id-2\" class=\"sk-toggleable__label fitted sk-toggleable__label-arrow fitted\">&nbsp;&nbsp;OneHotEncoder<a class=\"sk-estimator-doc-link fitted\" rel=\"noreferrer\" target=\"_blank\" href=\"https://scikit-learn.org/1.4/modules/generated/sklearn.preprocessing.OneHotEncoder.html\">?<span>Documentation for OneHotEncoder</span></a><span class=\"sk-estimator-doc-link fitted\">i<span>Fitted</span></span></label><div class=\"sk-toggleable__content fitted\"><pre>OneHotEncoder(handle_unknown=&#x27;ignore&#x27;, sparse_output=False)</pre></div> </div></div></div></div>"
      ],
      "text/plain": [
       "OneHotEncoder(handle_unknown='ignore', sparse_output=False)"
      ]
     },
     "execution_count": 62,
     "metadata": {},
     "output_type": "execute_result"
    }
   ],
   "source": [
    "# `OneHotEncoder()`\n",
    "from sklearn.preprocessing import OneHotEncoder\n",
    "\n",
    "ohe = OneHotEncoder(sparse_output=False, handle_unknown='ignore')\n",
    "# vocabulary_encoded = ohe.fit_transform(vocabulary_series.values.reshape(-1, 1))\n",
    "vocabulary_encoded = ohe.fit(vocabulary_df)\n",
    "vocabulary_encoded"
   ]
  },
  {
   "cell_type": "code",
   "execution_count": 63,
   "id": "231f7b6b-afe7-428f-9008-d02d0ba17fbe",
   "metadata": {},
   "outputs": [
    {
     "data": {
      "text/plain": [
       "[array(['!', '\"', '\"\"unconscionable,', ..., '£99', '£9m', '£9m,'],\n",
       "       dtype=object)]"
      ]
     },
     "execution_count": 63,
     "metadata": {},
     "output_type": "execute_result"
    }
   ],
   "source": [
    "# `OneHotEncoder.categories_`\n",
    "vocabulary_encoded.categories_"
   ]
  },
  {
   "cell_type": "code",
   "execution_count": 73,
   "id": "af56712a-cc00-48b7-bbd4-120cab4086b6",
   "metadata": {},
   "outputs": [
    {
     "name": "stdout",
     "output_type": "stream",
     "text": [
      "[[0. 0. 0. ... 0. 0. 0.]]\n",
      "[[0. 0. 0. ... 0. 0. 0.]]\n",
      "[[0. 0. 0. ... 0. 0. 0.]]\n",
      "[[0. 0. 0. ... 0. 0. 0.]]\n",
      "[[0. 0. 0. ... 0. 0. 0.]]\n",
      "[[0. 0. 0. ... 0. 0. 0.]]\n",
      "[[0. 0. 0. ... 0. 0. 0.]]\n",
      "[[0. 0. 0. ... 0. 0. 0.]]\n",
      "[[0. 0. 0. ... 0. 0. 0.]]\n",
      "[[0. 0. 0. ... 0. 0. 0.]]\n"
     ]
    }
   ],
   "source": [
    "# One-hot encoding\n",
    "one_hot_vector = []\n",
    "# Take the first row as example\n",
    "for doc in df['text'][0:1]:\n",
    "    doc_vector = []\n",
    "    for word in doc.lower().split():\n",
    "        doc_vector.append(ohe.transform(np.array(word).reshape(1, -1)))\n",
    "    one_hot_vector.append(doc_vector)\n",
    "\n",
    "# One-hot encoded vectors of the first 10 words from the first document\n",
    "for i in range(10):\n",
    "    print(one_hot_vector[0][i])"
   ]
  },
  {
   "cell_type": "markdown",
   "id": "fe4385e3-077b-4843-82f4-895ae6fe3a09",
   "metadata": {},
   "source": [
    "## 2-4. One-Hot Encoding with Keras\n",
    "1. `tensorflow.keras.utils.to_categorical(x, num_classes=None)`: Converts a class vector (integers) to binary class matrix."
   ]
  },
  {
   "cell_type": "code",
   "execution_count": 91,
   "id": "db1baf16-171c-46e1-90a6-b604ba096ead",
   "metadata": {},
   "outputs": [
    {
     "name": "stdout",
     "output_type": "stream",
     "text": [
      "Index of <pad>: 0\n",
      "Index of <unk>: 60617\n"
     ]
    }
   ],
   "source": [
    "# Add `<unk>` to vocabulary and word2idx; `<pad>` to word2idx\n",
    "vocabulary.append('<unk>')\n",
    "\n",
    "word2idx['<pad>'] = 0\n",
    "word2idx['<unk>'] = max(word2idx.values()) + 1\n",
    "\n",
    "print(\"Index of <pad>:\", word2idx['<pad>'])\n",
    "print(\"Index of <unk>:\", word2idx['<unk>'])"
   ]
  },
  {
   "cell_type": "code",
   "execution_count": 92,
   "id": "428625ba-7bc4-402b-901c-98de08ef8351",
   "metadata": {},
   "outputs": [
    {
     "name": "stdout",
     "output_type": "stream",
     "text": [
      "[39577, 33430, 52459, 54325, 9836, 20365, 39975, 59367, 33894, 56817, 16322, 46887, 14733, 39325, 8260, 22107, 57262, 41629, 10287, 37806, 46168, 55214, 22107, 20849, 32423, 37588, 40828, 37806, 23588, 47283, 27636, 5783, 28397, 33095, 37806, 55463, 25457, 42787, 38299, 24049, 32423, 33430, 33095, 40296, 23223, 37517, 57839, 46472, 15599, 3132, 14733, 52312, 59647, 32818, 33430, 5061, 36444, 22107, 29233, 32423, 35640, 47693, 59367, 21580, 22539, 57185, 23362, 14873, 47283, 49645, 42653, 20365, 59784, 33894, 9836, 35120, 57839, 49827, 15534, 10287, 57865, 54325, 9836, 52312, 55996, 15175, 23702, 34648, 5783, 29241, 21169, 33095, 1933, 42644, 58423, 47693, 9481, 23223, 3298, 29121, 14651, 32635, 45947, 54299, 34648, 24052, 28527, 55613, 42787, 37806, 59647, 32818, 59367, 21580, 9995, 36841, 42787, 37806, 47262, 46168, 1637, 38182, 37806, 24161, 52312, 51883, 11271, 20365, 43803, 59809, 20394, 5061, 21169, 55996, 37806, 41168, 33095, 7684, 23223, 12829, 37549, 34648, 49602, 22107, 20815, 55613, 57185, 29251, 37806, 27532, 13234, 23120, 22107, 14733, 23223, 32784, 57839, 22530, 20820, 22107, 16018, 40127, 51883, 13119, 32784, 10287, 40296, 8830, 14733, 46988, 32635, 22107, 43696, 42949, 57839, 34419, 14360, 1656, 42653, 2542, 57185, 37806, 56817, 1745, 51380, 14834, 55712, 47283, 27636, 49936, 22107, 33385, 54325, 12900, 59647, 32818, 59367, 21580, 29101, 33200, 36841, 54930, 8103, 58423, 47693, 30893, 49788, 19355, 59367, 29855, 1174, 22107, 45136, 21927, 57185, 26450, 55883, 40169, 57839, 20375, 42653, 45156, 15886, 22107, 13741, 32751, 37806, 3008, 57839, 41674, 30893, 42787, 37806, 54648, 33095, 37806, 19799, 1646, 10150, 59403, 10287, 37806, 4854, 14733, 10862, 42653, 20365, 33095, 58229, 40127, 1174, 32423, 47693, 34419, 6139, 41351, 7044, 46343, 17144, 22107, 29873, 11718, 6049, 16958, 51257, 17056, 37761, 37550, 23757, 658, 33095, 45651, 42077, 28508, 57839, 54327, 8981, 45651, 3497, 18834, 57839, 46769, 28853, 47485, 45461, 40124, 10287, 38805, 14733, 27636, 6230, 11029, 32631, 43672, 33095, 45544, 16487, 57839, 46988, 20433, 46472, 33106, 57839, 37210, 20365, 23118, 14733, 27636, 22107, 43696, 47693, 30426, 14031, 22177, 33095, 51122, 22107, 59091, 50739, 1185, 177, 48423, 57185, 56817, 57129, 44372, 34648, 32635, 46267, 14375, 22107, 3135, 58412, 22107, 36186, 24485, 42787, 42653, 1930, 23702, 27636, 11646, 39193, 57185, 37806, 42382, 37806, 24161, 52312, 34648, 51257, 28274, 22107, 21812, 37806, 3053, 34648, 50468, 22107, 50427, 18157, 10287, 51448, 12256, 47283, 34648, 3017, 50427, 33894, 37852, 34648, 49003, 22107, 27208, 37806, 29211, 34648, 30426, 10287, 42653, 1930, 22511, 40055, 13979, 36011, 44978, 53967, 33095, 42653, 37918, 42787, 48423, 9953, 47283, 34648, 14651, 48476, 14031, 12829, 14457, 34648, 22530, 5783, 30486, 37806, 46942, 33095, 47693, 37918, 42787, 48423, 45833, 14031, 42653, 59715, 55996, 37806, 47795, 33095, 23702, 41662]\n"
     ]
    }
   ],
   "source": [
    "# Split documents to tokens\n",
    "tokens_docs = [doc.lower().split() for doc in df['text']]\n",
    "\n",
    "# Convert token lists to token-id lists\n",
    "token_ids = [[word2idx[token] for token in tokens_doc] for tokens_doc in tokens_docs]\n",
    "print(token_ids[0])"
   ]
  },
  {
   "cell_type": "code",
   "execution_count": 93,
   "id": "8bb858c2-9e7b-42bb-a57e-c68ef609e13c",
   "metadata": {},
   "outputs": [
    {
     "data": {
      "text/plain": [
       "array([[1., 0., 0., ..., 0., 0., 0.],\n",
       "       [0., 1., 0., ..., 0., 0., 0.],\n",
       "       [0., 0., 1., ..., 0., 0., 0.],\n",
       "       ...,\n",
       "       [0., 0., 0., ..., 1., 0., 0.],\n",
       "       [0., 0., 0., ..., 0., 1., 0.],\n",
       "       [0., 0., 0., ..., 0., 0., 1.]])"
      ]
     },
     "execution_count": 93,
     "metadata": {},
     "output_type": "execute_result"
    }
   ],
   "source": [
    "# `to_categorical()`\n",
    "import keras\n",
    "\n",
    "vocabulary_to_categorical = keras.utils.to_categorical(list(range(len(vocabulary))), num_classes=len(vocabulary))\n",
    "vocabulary_to_categorical"
   ]
  },
  {
   "cell_type": "code",
   "execution_count": 97,
   "id": "5460fa46-ac13-49c7-9727-ac09c9dbc153",
   "metadata": {},
   "outputs": [
    {
     "data": {
      "text/plain": [
       "array([[0., 0., 0., ..., 0., 0., 0.],\n",
       "       [1., 0., 0., ..., 0., 0., 0.],\n",
       "       [0., 1., 0., ..., 0., 0., 0.],\n",
       "       ...,\n",
       "       [0., 0., 0., ..., 1., 0., 0.],\n",
       "       [0., 0., 0., ..., 0., 1., 0.],\n",
       "       [0., 0., 0., ..., 0., 0., 1.]])"
      ]
     },
     "execution_count": 97,
     "metadata": {},
     "output_type": "execute_result"
    }
   ],
   "source": [
    "# Add an all zero vector for `<pad>`\n",
    "vocabulary_to_categorical = np.insert(vocabulary_to_categorical, 0, np.zeros(len(vocabulary_to_categorical[0])), axis=0)\n",
    "vocabulary_to_categorical"
   ]
  },
  {
   "cell_type": "code",
   "execution_count": 100,
   "id": "c6271e8f-7f33-4ce5-b451-dc741c4a27c4",
   "metadata": {},
   "outputs": [
    {
     "name": "stdout",
     "output_type": "stream",
     "text": [
      "[0. 0. 0. ... 0. 0. 0.]\n",
      "[0. 0. 0. ... 0. 0. 0.]\n",
      "[0. 0. 0. ... 0. 0. 0.]\n",
      "[0. 0. 0. ... 0. 0. 0.]\n",
      "[0. 0. 0. ... 0. 0. 0.]\n",
      "[0. 0. 0. ... 0. 0. 0.]\n",
      "[0. 0. 0. ... 0. 0. 0.]\n",
      "[0. 0. 0. ... 0. 0. 0.]\n",
      "[0. 0. 0. ... 0. 0. 0.]\n",
      "[0. 0. 0. ... 0. 0. 0.]\n"
     ]
    }
   ],
   "source": [
    "# One-hot encoding\n",
    "one_hot_vector = []\n",
    "for doc in df['text']:\n",
    "    doc_vector = []\n",
    "    for word in doc.lower().split():\n",
    "        doc_vector.append(vocabulary_to_categorical[word2idx[word]])\n",
    "    one_hot_vector.append(doc_vector)\n",
    "\n",
    "# One-hot encoded vectors of the first 10 words from the first document\n",
    "for i in range(10):\n",
    "    print(one_hot_vector[0][i])"
   ]
  },
  {
   "cell_type": "markdown",
   "id": "d2f3c670-d4c5-48a7-9d72-19151436fb66",
   "metadata": {},
   "source": [
    "# 3. Bag-of-Words (BoW)\n",
    "A document is represented as the bag (multiset) of its words, disregarding grammar and even word order but keeping multiplicity. It involves creating a vocabulary of known words & a measure of the presence of them.\n",
    "\n",
    "Disadvantages:\n",
    "- Sparcity.\n",
    "- Out of vocabulary situation.\n",
    "- Not consider ordering.\n",
    "## 3-1. Manual Implementation"
   ]
  },
  {
   "cell_type": "markdown",
   "id": "c6ed943f-34fa-4246-b475-4ff9e3504058",
   "metadata": {},
   "source": [
    "## 3-2. CountVectorizer of scikit-learn\n",
    "1. `sklearn.feature_extraction.text.CountVectorizer(*, input='content', encoding='utf-8', decode_error='strict', strip_accents=None, lowercase=True, preprocessor=None, tokenizer=None, stop_words=None, token_pattern='(?u)\\\\b\\\\w\\\\w+\\\\b', ngram_range=(1, 1), analyzer='word', max_df=1.0, min_df=1, max_features=None, vocabulary=None, binary=False, dtype=<class 'numpy.int64'>)`: Converts a collection of text documents to a matrix of token counts.\n",
    "   - `analyzer`: Decides whether the feature should be made of word n-gram or character n-grams.\n",
    "   - `token_pattern`: You can customize it to preserve punctuation."
   ]
  },
  {
   "cell_type": "code",
   "execution_count": 109,
   "id": "8c4de3c2-4927-4a30-8bfe-aead84a9d764",
   "metadata": {},
   "outputs": [
    {
     "name": "stdout",
     "output_type": "stream",
     "text": [
      "[[0 1 0 ... 0 0 0]\n",
      " [0 0 0 ... 0 0 0]\n",
      " [0 0 0 ... 0 0 0]\n",
      " ...\n",
      " [0 0 0 ... 0 0 0]\n",
      " [0 0 0 ... 0 0 0]\n",
      " [0 1 0 ... 0 0 0]]\n"
     ]
    }
   ],
   "source": [
    "# `CountVectorizer()`\n",
    "from sklearn.feature_extraction.text import CountVectorizer\n",
    "\n",
    "count_vectorizer = CountVectorizer()\n",
    "bow = count_vectorizer.fit_transform(df[\"text\"])\n",
    "print(bow.toarray())"
   ]
  },
  {
   "cell_type": "code",
   "execution_count": 111,
   "id": "0706427e-30ff-4606-9bbd-2ab23034f1ec",
   "metadata": {},
   "outputs": [
    {
     "name": "stdout",
     "output_type": "stream",
     "text": [
      "['00' '000' '0001' ... 'zutons' 'zvonareva' 'zvyagintsev']\n"
     ]
    }
   ],
   "source": [
    "# `get_feature_names_out()`\n",
    "words = count_vectorizer.get_feature_names_out()\n",
    "print(words)"
   ]
  },
  {
   "cell_type": "code",
   "execution_count": 110,
   "id": "a9ec1c51-2795-48f5-a8bc-64dc93b6938e",
   "metadata": {},
   "outputs": [
    {
     "name": "stdout",
     "output_type": "stream",
     "text": [
      "[('ad', 1750), ('sales', 23062), ('boost', 4349), ('time', 26665), ('warner', 28502), ('profit', 20825), ('quarterly', 21204), ('profits', 20832), ('at', 2994), ('us', 27901)]\n"
     ]
    }
   ],
   "source": [
    "# `vocabulary_`\n",
    "print(list(itertools.islice(count_vectorizer.vocabulary_.items(), 10)))"
   ]
  },
  {
   "cell_type": "code",
   "execution_count": 114,
   "id": "135a3b8d-ce6a-4b20-8d42-1e51a3e7941c",
   "metadata": {},
   "outputs": [
    {
     "data": {
      "text/plain": [
       "(2225, 29421)"
      ]
     },
     "execution_count": 114,
     "metadata": {},
     "output_type": "execute_result"
    }
   ],
   "source": [
    "# (len(df['text']), len(count_vectorizer.vocabulary_))\n",
    "bow.shape"
   ]
  },
  {
   "cell_type": "markdown",
   "id": "20b601d5-8644-4e8a-9aba-f3d93717a5a5",
   "metadata": {},
   "source": [
    "# 4. N-Gram"
   ]
  },
  {
   "cell_type": "markdown",
   "id": "e9250ef9-8f5f-47f0-bd41-e4e25aba2477",
   "metadata": {},
   "source": [
    "# 5. TF-IDF\n",
    "## 5-1. Manual Implementation\n",
    "### 5-1-1. word2idx"
   ]
  },
  {
   "cell_type": "code",
   "execution_count": null,
   "id": "dc87d7a6-e139-4316-afab-9243e3ea98ac",
   "metadata": {},
   "outputs": [],
   "source": [
    "import nltk\n",
    "nltk.download('punkt')"
   ]
  },
  {
   "cell_type": "code",
   "execution_count": null,
   "id": "a3d9e24e-dbb8-4fa4-81c3-5536f23bc51b",
   "metadata": {},
   "outputs": [],
   "source": [
    "from nltk import word_tokenize\n",
    "\n",
    "words = word_tokenize(df[\"text\"][0])\n",
    "print(words)"
   ]
  },
  {
   "cell_type": "code",
   "execution_count": null,
   "id": "04404d24-600f-4253-a796-8f4702c50217",
   "metadata": {},
   "outputs": [],
   "source": [
    "# Populate word2idx\n",
    "# Convert documents into sequences of ints / ids / indices\n",
    "idx = 0\n",
    "word2idx = {}\n",
    "tokenized_docs = []\n",
    "\n",
    "for doc in df[\"text\"]:\n",
    "    words = word_tokenize(doc.lower())\n",
    "    doc_as_int = []\n",
    "    for word in words:\n",
    "        if word not in word2idx:\n",
    "            word2idx[word] = idx\n",
    "            idx += 1\n",
    "        # Save for later\n",
    "        doc_as_int.append(word2idx[word])\n",
    "    tokenized_docs.append(doc_as_int)\n",
    "\n",
    "tokenized_docs"
   ]
  },
  {
   "cell_type": "markdown",
   "id": "16232bb9-7f41-496a-bc5f-e5869744a8b6",
   "metadata": {},
   "source": [
    "### 5-1-2. idx2word"
   ]
  },
  {
   "cell_type": "code",
   "execution_count": null,
   "id": "4382cd8a-042d-47bb-965e-80b1361d11d9",
   "metadata": {},
   "outputs": [],
   "source": [
    "# Reverse mapping\n",
    "idx2word = {v:k for k, v in word2idx.items()}\n",
    "idx2word"
   ]
  },
  {
   "cell_type": "code",
   "execution_count": null,
   "id": "38aa798d-9c8d-4e2b-a094-3a04305db9d2",
   "metadata": {},
   "outputs": [],
   "source": [
    "# Number of documents\n",
    "N = len(df['text'])\n",
    "\n",
    "# Number of words\n",
    "V = len(word2idx)\n",
    "\n",
    "N, V"
   ]
  },
  {
   "cell_type": "markdown",
   "id": "9a923872-2faf-4055-907f-a33fa1d40c66",
   "metadata": {},
   "source": [
    "### 5-1-3. Term Frequency (TF)\n",
    "**Term frequency (TF)** means how often a term occurs in a document."
   ]
  },
  {
   "cell_type": "code",
   "execution_count": null,
   "id": "0260c138-d650-420b-80a6-334c89c60e4e",
   "metadata": {},
   "outputs": [],
   "source": [
    "import numpy as np\n",
    "\n",
    "# Instantiate term-frequency matrix\n",
    "tf = np.zeros((N, V))\n",
    "\n",
    "# Populate term-frequency counts\n",
    "for i, doc_as_int in enumerate(tokenized_docs):\n",
    "    for j in doc_as_int:\n",
    "        tf[i, j] += 1\n",
    "\n",
    "tf"
   ]
  },
  {
   "cell_type": "markdown",
   "id": "2e4a3b36-b9f5-4c11-a017-8c33b8b9302e",
   "metadata": {},
   "source": [
    "### 5-1-4. Inverse Document Frequency (IDF)\n",
    "- **Document frequency (DF)** is the number of documents containing a particular term.\n",
    "- **Inverse Document Frequency (IDF)** is a weight indicating how commonly a word is used."
   ]
  },
  {
   "cell_type": "code",
   "execution_count": null,
   "id": "cbe4dc56-5e6b-442c-a848-d79d4d41cc5e",
   "metadata": {},
   "outputs": [],
   "source": [
    "# Compute IDF\n",
    "# `axis=0` is the direction running downward the rows\n",
    "doc_freq = np.sum(tf > 0, axis=0)\n",
    "idf = np.log(N / doc_freq)\n",
    "idf"
   ]
  },
  {
   "cell_type": "code",
   "execution_count": null,
   "id": "ed263b90-46e6-4003-8a14-d682ca20524e",
   "metadata": {},
   "outputs": [],
   "source": [
    "### TF-IDF"
   ]
  },
  {
   "cell_type": "code",
   "execution_count": null,
   "id": "3a0f06d7-c1b5-4db2-a26c-2298429ae315",
   "metadata": {},
   "outputs": [],
   "source": [
    "# Compute TF-IDF\n",
    "tf_idf = tf * idf\n",
    "tf_idf"
   ]
  },
  {
   "cell_type": "code",
   "execution_count": null,
   "id": "8e0aceff-5437-495d-bebd-e821fdce8f58",
   "metadata": {},
   "outputs": [],
   "source": [
    "# Pick a random document, show the top 5 terms (in terms of `tf_idf` score)\n",
    "np.random.seed(36)\n",
    "i = np.random.choice(N)\n",
    "row = df.iloc[i]\n",
    "print(\"Label:\", row['label'])\n",
    "print(\"Text:\", row['text'].split(\"\\n\", 1)[0])\n",
    "print(\"Top 5 terms:\")\n",
    "\n",
    "scores = tf_idf[i]\n",
    "# Add minus for descending\n",
    "indices = (-scores).argsort()\n",
    "for j in indices[:5]:\n",
    "    print(idx2word[j])"
   ]
  },
  {
   "cell_type": "markdown",
   "id": "51f7e12b-c342-4d2a-8314-e8435b1eb019",
   "metadata": {},
   "source": [
    "## 3-2. CountVectorizer\n",
    "Derived term frequencies from `CountVectorizer`."
   ]
  },
  {
   "cell_type": "code",
   "execution_count": null,
   "id": "07938bbb-ad58-456a-bde1-dba001bbc91d",
   "metadata": {},
   "outputs": [],
   "source": [
    "inputs = df[\"text\"]\n",
    "labels = df[\"label\"]\n",
    "\n",
    "labels.hist(figsize=(10, 5));"
   ]
  },
  {
   "cell_type": "code",
   "execution_count": null,
   "id": "bed262a0-4dec-42cf-8eb3-53d39ccd8fb1",
   "metadata": {},
   "outputs": [],
   "source": [
    "from sklearn.feature_extraction.text import CountVectorizer\n",
    "\n",
    "vectorizer = CountVectorizer()\n",
    "tf = vectorizer.fit_transform(inputs)\n",
    "words = vectorizer.get_feature_names_out()\n",
    "print(words)"
   ]
  },
  {
   "cell_type": "code",
   "execution_count": null,
   "id": "9e4f22eb-171d-4160-a116-29360469dc6a",
   "metadata": {},
   "outputs": [],
   "source": [
    "tf"
   ]
  },
  {
   "cell_type": "code",
   "execution_count": null,
   "id": "659d31f3-27a5-4d7e-af72-902028f29f2e",
   "metadata": {},
   "outputs": [],
   "source": [
    "print(tf.toarray())"
   ]
  },
  {
   "cell_type": "code",
   "execution_count": null,
   "id": "0d0ca2a3-c137-43ab-81e4-1d5b73877370",
   "metadata": {},
   "outputs": [],
   "source": [
    "# Fewer words than `nltk.word_tokenize()`\n",
    "tf.shape"
   ]
  },
  {
   "cell_type": "code",
   "execution_count": null,
   "id": "a9b91acc-4cc8-4890-9bf5-687b12b5fcfa",
   "metadata": {},
   "outputs": [],
   "source": [
    "# By default `lowercase=True`\n",
    "# np.where(words == \"India\")\n",
    "# (array([], dtype=int64),)\n",
    "\n",
    "# By default `token_pattern=r”(?u)\\b\\w\\w+\\b`\n",
    "# RegExp selects tokens of 2 or more alphanumeric characters (punctuation is completely ignored and always treated as a token separator)\n",
    "# np.where(words == \"$\")\n",
    "# (array([], dtype=int64),)\n",
    "\n",
    "np.where(words == \"india\")"
   ]
  },
  {
   "cell_type": "code",
   "execution_count": null,
   "id": "f81e2ae6-971d-402b-b635-50fc21226024",
   "metadata": {},
   "outputs": [],
   "source": [
    "# Same as `tf[0][0]` in the above section\n",
    "tf.toarray()[0][13907]"
   ]
  },
  {
   "cell_type": "code",
   "execution_count": null,
   "id": "d80a4439-99b2-4bfb-b54d-d0df965546c8",
   "metadata": {},
   "outputs": [],
   "source": [
    "# Compute IDF\n",
    "doc_freq = np.sum(tf.toarray() > 0, axis=0)\n",
    "idf = np.log(N / doc_freq)\n",
    "idf"
   ]
  },
  {
   "cell_type": "code",
   "execution_count": null,
   "id": "2ef44e38-03d7-4be8-9dd6-5f78eed1f85c",
   "metadata": {},
   "outputs": [],
   "source": [
    "# Compute TF-IDF\n",
    "tf_idf = tf.toarray() * idf\n",
    "tf_idf"
   ]
  },
  {
   "cell_type": "code",
   "execution_count": null,
   "id": "86afeefb-b636-49c1-ad76-3c37264aec8f",
   "metadata": {},
   "outputs": [],
   "source": [
    "tf_idf.shape"
   ]
  },
  {
   "cell_type": "code",
   "execution_count": null,
   "id": "17bf7d2d-9355-4a78-82dc-0a82fc1c3512",
   "metadata": {},
   "outputs": [],
   "source": [
    "# Same as `tf_idf[0][0]` in the above section\n",
    "tf_idf[0][13907]"
   ]
  },
  {
   "cell_type": "markdown",
   "id": "62243fee-26e5-4e3c-9c72-6ec2dce2ae8d",
   "metadata": {},
   "source": [
    "## 3-3. TfidfTransformer"
   ]
  },
  {
   "cell_type": "code",
   "execution_count": null,
   "id": "2713c327-82d1-4f66-98bc-0cfc51e58826",
   "metadata": {},
   "outputs": [],
   "source": [
    "from sklearn.feature_extraction.text import TfidfTransformer\n",
    "\n",
    "transformer = TfidfTransformer()\n",
    "tf_idf = transformer.fit_transform(tf)\n",
    "words = vectorizer.get_feature_names_out()\n",
    "print(words)"
   ]
  },
  {
   "cell_type": "code",
   "execution_count": null,
   "id": "6b90fd91-64f9-490e-b628-7dfc211e43cf",
   "metadata": {},
   "outputs": [],
   "source": [
    "tf_idf"
   ]
  },
  {
   "cell_type": "code",
   "execution_count": null,
   "id": "c18576d3-a230-49af-8736-6df21fa993e3",
   "metadata": {},
   "outputs": [],
   "source": [
    "# The `sklearn` implementation of TF-IDF is different from our manual implementation \n",
    "print(tf_idf.toarray())"
   ]
  },
  {
   "cell_type": "markdown",
   "id": "46164149-3908-4c64-a94e-43f76019a69a",
   "metadata": {},
   "source": [
    "## 3-4. TfidfVectorizer"
   ]
  },
  {
   "cell_type": "code",
   "execution_count": null,
   "id": "83306771-b56c-46aa-9b54-d11e1ddf4971",
   "metadata": {},
   "outputs": [],
   "source": [
    "from sklearn.feature_extraction.text import TfidfVectorizer\n",
    "\n",
    "vectorizer = TfidfVectorizer()\n",
    "tf_idf = vectorizer.fit_transform(inputs)\n",
    "words = vectorizer.get_feature_names_out()\n",
    "print(words)"
   ]
  },
  {
   "cell_type": "code",
   "execution_count": null,
   "id": "dadc7a7a-5e89-41a7-ab70-73e57d2905aa",
   "metadata": {},
   "outputs": [],
   "source": [
    "tf_idf"
   ]
  },
  {
   "cell_type": "code",
   "execution_count": null,
   "id": "6129f297-ff06-4d94-976f-74605fc2a7de",
   "metadata": {},
   "outputs": [],
   "source": [
    "# Same as `CountVectorizer()` followed by `TfidfTransformer()`\n",
    "print(tf_idf.toarray())"
   ]
  },
  {
   "cell_type": "markdown",
   "id": "1bb1e186-481e-41fd-8853-01e5a32deb90",
   "metadata": {},
   "source": [
    "Perform classification."
   ]
  },
  {
   "cell_type": "code",
   "execution_count": null,
   "id": "79d20106-43a5-4377-ace3-c9d95896ddbc",
   "metadata": {},
   "outputs": [],
   "source": [
    "from sklearn.model_selection import train_test_split\n",
    "from sklearn.naive_bayes import MultinomialNB\n",
    "\n",
    "inputs_train, inputs_test, y_train, y_test = train_test_split(inputs, labels, random_state=36)\n",
    "\n",
    "vectorizer = CountVectorizer()\n",
    "\n",
    "x_train = vectorizer.fit_transform(inputs_train)\n",
    "x_test = vectorizer.transform(inputs_test)\n",
    "\n",
    "model = MultinomialNB()\n",
    "model.fit(x_train, y_train)\n",
    "\n",
    "print(\"Train Score:\", model.score(x_train, y_train))\n",
    "print(\"Test Score:\", model.score(x_test, y_test))"
   ]
  },
  {
   "cell_type": "markdown",
   "id": "1bd88420-26b9-45a6-bd17-10002dfc6530",
   "metadata": {},
   "source": [
    "# 4. word2vec\n",
    "## 4-1. CBOW (Continuous Bag of Words)\n",
    "## 4-2. Skip-Gram (SG)\n",
    "- [Gensim Migration Guide](https://github.com/piskvorky/gensim/wiki/Migrating-from-Gensim-3.x-to-4)"
   ]
  },
  {
   "cell_type": "code",
   "execution_count": 135,
   "id": "5c0bb1dd-560c-43ab-8846-6da417779f9b",
   "metadata": {},
   "outputs": [],
   "source": [
    "from gensim.models import KeyedVectors\n",
    "\n",
    "wv = KeyedVectors.load_word2vec_format(\"models/wiki.en.vec\")"
   ]
  },
  {
   "cell_type": "code",
   "execution_count": 136,
   "id": "d0f285c1-b0d3-4dd5-9b24-346927d86363",
   "metadata": {},
   "outputs": [
    {
     "data": {
      "text/plain": [
       "2519370"
      ]
     },
     "execution_count": 136,
     "metadata": {},
     "output_type": "execute_result"
    }
   ],
   "source": [
    "len(wv.key_to_index)"
   ]
  },
  {
   "cell_type": "code",
   "execution_count": 137,
   "id": "dc7dfea4-e4b5-4cef-b65d-0f4c38b5fe8f",
   "metadata": {},
   "outputs": [
    {
     "data": {
      "text/plain": [
       "[('king', 0.7955735325813293),\n",
       " ('queen', 0.6802901029586792),\n",
       " ('princess', 0.5975188612937927),\n",
       " ('regnant', 0.5888890027999878),\n",
       " ('princesses', 0.5710145831108093)]"
      ]
     },
     "execution_count": 137,
     "metadata": {},
     "output_type": "execute_result"
    }
   ],
   "source": [
    "vec_king = wv.get_vector(\"king\")\n",
    "vec_man = wv.get_vector(\"man\")\n",
    "vec_woman = wv.get_vector(\"woman\")\n",
    "wv.similar_by_vector(vec_king - vec_man + vec_woman, topn=5)"
   ]
  },
  {
   "cell_type": "code",
   "execution_count": 138,
   "id": "cf18d813-3004-4ab4-99f2-8ee228e4534f",
   "metadata": {},
   "outputs": [
    {
     "data": {
      "text/plain": [
       "[('queen', 0.6606324315071106),\n",
       " ('princess', 0.5824028253555298),\n",
       " ('regnant', 0.5788114666938782),\n",
       " ('princesses', 0.5610353350639343),\n",
       " ('consort', 0.5389299988746643),\n",
       " ('regnants', 0.5266367793083191),\n",
       " ('queenmother', 0.5214956402778625),\n",
       " ('monarch', 0.5059499740600586),\n",
       " ('‘princess', 0.504895031452179),\n",
       " ('parmaprincess', 0.5012947916984558)]"
      ]
     },
     "execution_count": 138,
     "metadata": {},
     "output_type": "execute_result"
    }
   ],
   "source": [
    "wv.most_similar(positive=[\"king\", \"woman\"], negative=[\"man\"])"
   ]
  },
  {
   "cell_type": "code",
   "execution_count": 139,
   "id": "5ab0cc4a-22bd-45ed-9906-cfee2d58cf35",
   "metadata": {},
   "outputs": [
    {
     "data": {
      "text/plain": [
       "[('king', 1.0),\n",
       " ('kings', 0.6761603951454163),\n",
       " ('queen', 0.6493093371391296),\n",
       " ('monarch', 0.6260097026824951),\n",
       " ('kingship', 0.5977714657783508),\n",
       " ('#king', 0.595557689666748),\n",
       " ('throne', 0.5953187942504883),\n",
       " ('king/king', 0.5743654370307922),\n",
       " ('kingly', 0.5734267234802246),\n",
       " ('reign', 0.569341242313385)]"
      ]
     },
     "execution_count": 139,
     "metadata": {},
     "output_type": "execute_result"
    }
   ],
   "source": [
    "wv.similar_by_vector(vec_king, topn=10)"
   ]
  },
  {
   "cell_type": "code",
   "execution_count": 141,
   "id": "f59aa154-a41b-4e74-ab83-8d872fffcc3c",
   "metadata": {},
   "outputs": [
    {
     "data": {
      "text/plain": [
       "[('paris', 0.7745824456214905),\n",
       " ('berlin', 0.6806361675262451),\n",
       " ('france', 0.623436450958252),\n",
       " ('grenoblois', 0.6198642253875732),\n",
       " ('marseille', 0.6068134307861328)]"
      ]
     },
     "execution_count": 141,
     "metadata": {},
     "output_type": "execute_result"
    }
   ],
   "source": [
    "vec_berlin = wv.get_vector(\"berlin\")\n",
    "vec_germany = wv.get_vector(\"germany\")\n",
    "vec_france = wv.get_vector(\"france\")\n",
    "wv.similar_by_vector(vec_berlin - vec_germany + vec_france, topn=5)"
   ]
  },
  {
   "cell_type": "code",
   "execution_count": 142,
   "id": "b2e7ab35-a64e-41f6-b075-5997f7896483",
   "metadata": {},
   "outputs": [],
   "source": [
    "countries = [\"china\",   \"russia\", \"japan\", \"turkey\", \"poland\", \"germany\", \"france\", \"italy\", \"greece\", \"spain\",  \"portugal\"]\n",
    "capitals  = [\"beijing\", \"moscow\", \"tokyo\", \"ankara\", \"warsaw\", \"berlin\",  \"paris\",  \"rome\",  \"athens\", \"madrid\", \"lisbon\"]"
   ]
  },
  {
   "cell_type": "code",
   "execution_count": 143,
   "id": "3f5ba32c-8480-4c4d-ba8e-5cc60f2ebcfd",
   "metadata": {},
   "outputs": [
    {
     "data": {
      "image/png": "[encoded data removed]",
      "text/plain": [
       "<Figure size 1000x1000 with 1 Axes>"
      ]
     },
     "metadata": {},
     "output_type": "display_data"
    }
   ],
   "source": [
    "import matplotlib.pyplot as plt\n",
    "from sklearn.decomposition import PCA\n",
    "\n",
    "def plot_pairs(wv, a, b):\n",
    "    ndx_a = [wv.key_to_index[a_i] for a_i in a]\n",
    "    ndx_b = [wv.key_to_index[b_i] for b_i in b]\n",
    "    \n",
    "    pca = PCA(2)\n",
    "    wv2 = pca.fit_transform(wv.vectors[ndx_a + ndx_b])\n",
    "    \n",
    "    wv_a = wv2[:len(ndx_a)]\n",
    "    wv_b = wv2[len(ndx_a):]\n",
    "    \n",
    "    plt.figure(figsize=(10,10))\n",
    "    plt.scatter(wv_a[:,0], wv_a[:,1])\n",
    "    plt.scatter(wv_b[:,0], wv_b[:,1])\n",
    "    \n",
    "    for i, (p_a, p_b) in enumerate(zip(a,b)):\n",
    "        plt.annotate(p_a, wv_a[i], xytext=(-20,-15), textcoords=\"offset pixels\")\n",
    "        plt.annotate(p_b, wv_b[i], xytext=(-20,-15), textcoords=\"offset pixels\")\n",
    "        \n",
    "    for i in range(len(wv_a)):\n",
    "        plt.arrow(wv_a[i,0], wv_a[i,1], wv_b[i,0]-wv_a[i,0], wv_b[i,1]-wv_a[i,1], shape=\"left\")\n",
    "\n",
    "plot_pairs(wv, countries, capitals)"
   ]
  },
  {
   "cell_type": "markdown",
   "id": "95e67bbd-72ee-4f25-a7a7-e726320cdbad",
   "metadata": {},
   "source": [
    "# 5. GloVe\n",
    "# 6. FastText\n",
    "- [English Word Vectors](https://fasttext.cc/docs/en/english-vectors.html)\n",
    "# 7. Gaussian Embedding\n",
    "# 8. Pointcare Embedding"
   ]
  },
  {
   "cell_type": "code",
   "execution_count": null,
   "id": "fd083341-8e9a-4936-b6c4-49881c30b7cc",
   "metadata": {},
   "outputs": [],
   "source": []
  }
 ],
 "metadata": {
  "kernelspec": {
   "display_name": "Python 3 (ipykernel)",
   "language": "python",
   "name": "python3"
  },
  "language_info": {
   "codemirror_mode": {
    "name": "ipython",
    "version": 3
   },
   "file_extension": ".py",
   "mimetype": "text/x-python",
   "name": "python",
   "nbconvert_exporter": "python",
   "pygments_lexer": "ipython3",
   "version": "3.12.3"
  }
 },
 "nbformat": 4,
 "nbformat_minor": 5
}
