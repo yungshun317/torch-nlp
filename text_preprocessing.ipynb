{
 "cells": [
  {
   "cell_type": "markdown",
   "id": "1cc2d281-cddd-41a4-b07e-4c6f3cc21bbb",
   "metadata": {},
   "source": [
    "# 1. Navigation\n",
    "\n",
    "[BBC Full Text Document Classification](https://www.kaggle.com/datasets/shivamkushwaha/bbc-full-text-document-classification)"
   ]
  },
  {
   "cell_type": "markdown",
   "id": "12e12ef8-80c1-45a4-98f0-eaed82fd60d1",
   "metadata": {},
   "source": [
    "## 1-1. pathlib Module\n",
    "The `pathlib` module offers classes representing filesystem paths with semantics appropriate for different operating systems. Path classes are divided between pure paths (`PurePosixPath` & `PureWindowsPath`), which provide purely computational operations without I/O, and concrete paths (`PosixPath` & `WindowsPath`), which inherit from pure paths but also provide I/O operations. Note that the special entries `.` and `..` are excluded from all returned pathnames in the `pathlib` module.\n",
    "1. `pathlib.Path`\n",
    "   - `stat(*, follow_symlinks=True)`\n",
    "   - `lstat()`: Returns the symbolic link's information rather than its target's if the path points to a symbolic link.\n",
    "   - `exists()`\n",
    "   - `is_file()`\n",
    "   - `is_dir()`\n",
    "   - `is_symlink()`\n",
    "3. `pathlib.Path.iterdir()`: Yields `Path` (`PosixPath` or `WindowsPath`) objects of the directory contents. \n",
    "4. `pathlib.Path.glob(pattern, *, case_sensitive=None)`: Globs the given relative `pattern` in the directory represented by this path, yielding all matching files.\n",
    "   - The addition of `**` means \"this directory and all subdirectoriesm recursively\". In other words, it enables recursive globbing.\n",
    "5. `pathlib.Path.rglob(pattern, *, case_sensitive=None)`: Globs the given relative pattern recursively like calling `pathlib.Path.glob()` with `**/` added in front of the pattern. \n",
    "6. `pathlib.Path.walk(top_down=True, on_error=None, follow_symlinks=False)`: Generates the filenames in a directory tree by walking the tree either top-down or bottom-up. Yields a 3-tuple of `(dirpath, dirnames, filenames)`.\n",
    "7. `pathlib.Path.resolve(strict=False)`: Makes the path absolute, resolving any symbolic links. Returns a new `Path` object.\n",
    "\n",
    "- [Correspondence to Tools in the os Module](https://docs.python.org/3/library/pathlib.html#correspondence-to-tools-in-the-os-module)"
   ]
  },
  {
   "cell_type": "code",
   "execution_count": 84,
   "id": "ab7a9203-a232-4e8b-9f8d-cefa2a3afb2d",
   "metadata": {},
   "outputs": [],
   "source": [
    "import pathlib\n",
    "\n",
    "dataset_path = \"./datasets/archive/bbc-fulltext (document classification)/bbc\""
   ]
  },
  {
   "cell_type": "code",
   "execution_count": 122,
   "id": "dcaa0ac3-a57e-45ba-8b61-e6c2ce5a5e9b",
   "metadata": {},
   "outputs": [
    {
     "name": "stdout",
     "output_type": "stream",
     "text": [
      "<class 'pathlib.PosixPath'>\n",
      "<class 'generator'>\n",
      "\n",
      "datasets/archive/bbc-fulltext (document classification)/bbc/business\n",
      "datasets/archive/bbc-fulltext (document classification)/bbc/README.TXT\n",
      "datasets/archive/bbc-fulltext (document classification)/bbc/politics\n",
      "datasets/archive/bbc-fulltext (document classification)/bbc/sport\n",
      "datasets/archive/bbc-fulltext (document classification)/bbc/tech\n",
      "datasets/archive/bbc-fulltext (document classification)/bbc/entertainment\n"
     ]
    }
   ],
   "source": [
    "# `iterdir()`\n",
    "p = pathlib.Path(dataset_path)\n",
    "print(type(p))\n",
    "print(type(p.iterdir()))\n",
    "print()\n",
    "\n",
    "for child in p.iterdir():\n",
    "    print(child)"
   ]
  },
  {
   "cell_type": "code",
   "execution_count": 114,
   "id": "f86816d3-f2eb-4de1-bfac-aa4fc942a57a",
   "metadata": {},
   "outputs": [
    {
     "name": "stdout",
     "output_type": "stream",
     "text": [
      "<class 'generator'>\n",
      "\n",
      "datasets/archive/bbc-fulltext (document classification)/bbc/business\n",
      "datasets/archive/bbc-fulltext (document classification)/bbc/README.TXT\n",
      "datasets/archive/bbc-fulltext (document classification)/bbc/politics\n",
      "datasets/archive/bbc-fulltext (document classification)/bbc/sport\n",
      "datasets/archive/bbc-fulltext (document classification)/bbc/tech\n",
      "datasets/archive/bbc-fulltext (document classification)/bbc/entertainment\n"
     ]
    }
   ],
   "source": [
    "# `glob()` uses pattern`\n",
    "print(type(p.glob('*')))\n",
    "print()\n",
    "\n",
    "for child in p.glob('*'):\n",
    "    print(child)"
   ]
  },
  {
   "cell_type": "code",
   "execution_count": 115,
   "id": "aae40244-b3c9-4d03-9a4d-da9991e6d573",
   "metadata": {},
   "outputs": [
    {
     "name": "stdout",
     "output_type": "stream",
     "text": [
      "datasets/archive/bbc-fulltext (document classification)/bbc/business\n",
      "datasets/archive/bbc-fulltext (document classification)/bbc/README.TXT\n",
      "datasets/archive/bbc-fulltext (document classification)/bbc/politics\n",
      "datasets/archive/bbc-fulltext (document classification)/bbc/sport\n",
      "datasets/archive/bbc-fulltext (document classification)/bbc/tech\n",
      "datasets/archive/bbc-fulltext (document classification)/bbc/entertainment\n",
      "datasets/archive/bbc-fulltext (document classification)/bbc/business/503.txt\n",
      "datasets/archive/bbc-fulltext (document classification)/bbc/business/412.txt\n",
      "datasets/archive/bbc-fulltext (document classification)/bbc/business/027.txt\n",
      "datasets/archive/bbc-fulltext (document classification)/bbc/business/324.txt\n"
     ]
    }
   ],
   "source": [
    "# Enable recursive globbing with the addition of `**`\n",
    "import itertools\n",
    "\n",
    "for child in list(itertools.islice(p.glob('**/*'), 10)):\n",
    "    print(child)"
   ]
  },
  {
   "cell_type": "code",
   "execution_count": 117,
   "id": "395abf11-d328-4f4d-8cce-fae34a269b2c",
   "metadata": {},
   "outputs": [
    {
     "name": "stdout",
     "output_type": "stream",
     "text": [
      "datasets/archive/bbc-fulltext (document classification)/bbc/business\n",
      "datasets/archive/bbc-fulltext (document classification)/bbc/README.TXT\n",
      "datasets/archive/bbc-fulltext (document classification)/bbc/politics\n",
      "datasets/archive/bbc-fulltext (document classification)/bbc/sport\n",
      "datasets/archive/bbc-fulltext (document classification)/bbc/tech\n",
      "datasets/archive/bbc-fulltext (document classification)/bbc/entertainment\n",
      "datasets/archive/bbc-fulltext (document classification)/bbc/business/503.txt\n",
      "datasets/archive/bbc-fulltext (document classification)/bbc/business/412.txt\n",
      "datasets/archive/bbc-fulltext (document classification)/bbc/business/027.txt\n",
      "datasets/archive/bbc-fulltext (document classification)/bbc/business/324.txt\n"
     ]
    }
   ],
   "source": [
    "# `rglob()` globs the given relative pattern recursively\n",
    "for child in list(itertools.islice(p.rglob('*'), 10)):\n",
    "    print(child)"
   ]
  },
  {
   "cell_type": "code",
   "execution_count": 124,
   "id": "7a6e8ef0-bef5-4f60-bdc9-774780e37725",
   "metadata": {},
   "outputs": [
    {
     "name": "stdout",
     "output_type": "stream",
     "text": [
      "<class 'generator'>\n",
      "\n",
      "There are 5 directories and 1 files in 'datasets/archive/bbc-fulltext (document classification)/bbc'\n",
      "There are 0 directories and 510 files in 'datasets/archive/bbc-fulltext (document classification)/bbc/business'\n",
      "There are 0 directories and 417 files in 'datasets/archive/bbc-fulltext (document classification)/bbc/politics'\n",
      "There are 0 directories and 511 files in 'datasets/archive/bbc-fulltext (document classification)/bbc/sport'\n",
      "There are 0 directories and 401 files in 'datasets/archive/bbc-fulltext (document classification)/bbc/tech'\n",
      "There are 0 directories and 386 files in 'datasets/archive/bbc-fulltext (document classification)/bbc/entertainment'\n"
     ]
    }
   ],
   "source": [
    "def walk_through_dir(dir_path):\n",
    "    # Walk through `dir_path` returning its contents\n",
    "    for dirpath, dirnames, filenames in p.walk(dir_path):\n",
    "        print(f\"There are {len(dirnames)} directories and {len(filenames)} files in '{dirpath}'\")\n",
    "\n",
    "print(type(p.walk(on_error=print)))\n",
    "print()\n",
    "\n",
    "walk_through_dir(dataset_path)"
   ]
  },
  {
   "cell_type": "code",
   "execution_count": 123,
   "id": "cdce4445-e0cf-4c51-8ca3-896c2f55961c",
   "metadata": {},
   "outputs": [
    {
     "name": "stdout",
     "output_type": "stream",
     "text": [
      "datasets/archive/bbc-fulltext (document classification)/bbc/business\n"
     ]
    }
   ],
   "source": [
    "# Navigate inside a directory by `/`\n",
    "q = p / 'business'\n",
    "print(q)"
   ]
  },
  {
   "cell_type": "code",
   "execution_count": 126,
   "id": "95afdfe9-d20c-46cd-b1d3-dd43f787e0d8",
   "metadata": {},
   "outputs": [
    {
     "data": {
      "text/plain": [
       "PosixPath('/home/yungshun317/workspace/py/torch-nlp/datasets/archive/bbc-fulltext (document classification)/bbc/business')"
      ]
     },
     "execution_count": 126,
     "metadata": {},
     "output_type": "execute_result"
    }
   ],
   "source": [
    "# `resolve()` returns the absolute path\n",
    "q.resolve()"
   ]
  },
  {
   "cell_type": "markdown",
   "id": "f8501d77-9ec0-4c3e-a9be-d6fc7f981200",
   "metadata": {},
   "source": [
    "## 1-2. os Module\n",
    "1. `os.listdir(path='.')`: Returns a list of bare filenames.\n",
    "2. `os.scandir(path='.')`: Yields `DirEntry` objects that include file type & stat information along with the name. Increases the speed of `os.walk()` by 2-20 times by avoiding unnecessary calls to `os.stat()` in most cases.\n",
    "    - `name`: Returns the entry's filename, relative to the `path` argument.\n",
    "    - `path`: Returns the entry's full path name.\n",
    "    - `is_dir(*, follow_symlinks=True)` \n",
    "    - `is_file(*, follow_symlinks=True)`\n",
    "    - `is_symlink()`\n",
    "    - `stat(*, follow_symlinks=True)`\n",
    "    - `inode()`: Returns the inode number of the entry.\n",
    "3. `os.walk(top, topdown=True, onerror=None, followlinks=False)`: In addition to calling `os.listdir()` on each directory, it calls `os.stat()` on each file to determine whether the filename is a directory or not. Yields a 3-tuple `(dirpath, dirnames, filenames)`.\n",
    "\n",
    "The `os.path` module implements common pathname manipulations:\n",
    "\n",
    "1. `os.path.abspath(path)`: Returns a normalized absolutized version of the pathname `path`.\n",
    "2. `os.path.exists(path)`\n",
    "3. `os.path.join(path, *paths)`: Joins| one or more path segments intelligently."
   ]
  },
  {
   "cell_type": "code",
   "execution_count": 6,
   "id": "5d834223-b247-43ac-88c8-67e5a2249a55",
   "metadata": {},
   "outputs": [],
   "source": [
    "import os\n",
    "\n",
    "dataset_path = \"./datasets/archive/bbc-fulltext (document classification)/bbc\""
   ]
  },
  {
   "cell_type": "code",
   "execution_count": 94,
   "id": "2f8eb374-c702-4f7d-9005-eb0eba91932d",
   "metadata": {},
   "outputs": [
    {
     "name": "stdout",
     "output_type": "stream",
     "text": [
      "<class 'list'>\n",
      "\n",
      "business\n",
      "README.TXT\n",
      "politics\n",
      "sport\n",
      "tech\n",
      "entertainment\n"
     ]
    }
   ],
   "source": [
    "# `listdir()` just returns a list of strings: ['business', 'README.TXT', 'politics', 'sport', 'tech', 'entertainment']\n",
    "print(type(os.listdir(dataset_path)))\n",
    "print()\n",
    "\n",
    "for entry in os.listdir(dataset_path):\n",
    "    print(entry)"
   ]
  },
  {
   "cell_type": "code",
   "execution_count": 92,
   "id": "61626448-d81c-49e4-8078-c114f50ba77d",
   "metadata": {},
   "outputs": [
    {
     "name": "stdout",
     "output_type": "stream",
     "text": [
      "<class 'posix.ScandirIterator'>\n",
      "\n",
      "Entry Name: business\n",
      "Path: ./datasets/archive/bbc-fulltext (document classification)/bbc/business\n",
      "Is Directory: True\n",
      "Is File: False\n",
      "Is Symlink: False\n",
      "Stat: os.stat_result(st_mode=16877, st_ino=39201886, st_dev=66307, st_nlink=2, st_uid=1000, st_gid=1000, st_size=16384, st_atime=1719779416, st_mtime=1712750395, st_ctime=1719776837)\n",
      "inode: 39201886\n",
      "\n",
      "Entry Name: README.TXT\n",
      "Path: ./datasets/archive/bbc-fulltext (document classification)/bbc/README.TXT\n",
      "Is Directory: False\n",
      "Is File: True\n",
      "Is Symlink: False\n",
      "Stat: os.stat_result(st_mode=33261, st_ino=39201885, st_dev=66307, st_nlink=1, st_uid=1000, st_gid=1000, st_size=598, st_atime=1713748603, st_mtime=1571338472, st_ctime=1719776828)\n",
      "inode: 39201885\n",
      "\n",
      "Entry Name: politics\n",
      "Path: ./datasets/archive/bbc-fulltext (document classification)/bbc/politics\n",
      "Is Directory: True\n",
      "Is File: False\n",
      "Is Symlink: False\n",
      "Stat: os.stat_result(st_mode=16877, st_ino=39202784, st_dev=66307, st_nlink=2, st_uid=1000, st_gid=1000, st_size=12288, st_atime=1719779416, st_mtime=1712750395, st_ctime=1719776850)\n",
      "inode: 39202784\n",
      "\n",
      "Entry Name: sport\n",
      "Path: ./datasets/archive/bbc-fulltext (document classification)/bbc/sport\n",
      "Is Directory: True\n",
      "Is File: False\n",
      "Is Symlink: False\n",
      "Stat: os.stat_result(st_mode=16877, st_ino=39203202, st_dev=66307, st_nlink=2, st_uid=1000, st_gid=1000, st_size=16384, st_atime=1719779416, st_mtime=1712750395, st_ctime=1719776858)\n",
      "inode: 39203202\n",
      "\n",
      "Entry Name: tech\n",
      "Path: ./datasets/archive/bbc-fulltext (document classification)/bbc/tech\n",
      "Is Directory: True\n",
      "Is File: False\n",
      "Is Symlink: False\n",
      "Stat: os.stat_result(st_mode=16877, st_ino=39203714, st_dev=66307, st_nlink=2, st_uid=1000, st_gid=1000, st_size=12288, st_atime=1719779416, st_mtime=1712750395, st_ctime=1719776865)\n",
      "inode: 39203714\n",
      "\n",
      "Entry Name: entertainment\n",
      "Path: ./datasets/archive/bbc-fulltext (document classification)/bbc/entertainment\n",
      "Is Directory: True\n",
      "Is File: False\n",
      "Is Symlink: False\n",
      "Stat: os.stat_result(st_mode=16877, st_ino=39202397, st_dev=66307, st_nlink=2, st_uid=1000, st_gid=1000, st_size=12288, st_atime=1719779416, st_mtime=1712750395, st_ctime=1719776843)\n",
      "inode: 39202397\n"
     ]
    }
   ],
   "source": [
    "# `scandir()` returns directory entries with file attribute information\n",
    "print(type(os.scandir(dataset_path)))\n",
    "print()\n",
    "\n",
    "for i, entry in enumerate(os.scandir(dataset_path)):\n",
    "    print(f\"Entry Name: {entry.name}\")\n",
    "    print(f\"Path: {entry.path}\")\n",
    "    print(f\"Is Directory: {entry.is_dir()}\")\n",
    "    print(f\"Is File: {entry.is_file()}\")\n",
    "    print(f\"Is Symlink: {entry.is_symlink()}\")\n",
    "    print(f\"Stat: {entry.stat()}\")\n",
    "    print(f\"inode: {entry.inode()}\")\n",
    "    # Print empty line if it's not the last entry\n",
    "    if i != sum(1 for entry in os.scandir(dataset_path)) - 1:\n",
    "        print()"
   ]
  },
  {
   "cell_type": "code",
   "execution_count": 125,
   "id": "acf4db84-12d9-4cc4-b5ff-28916ef551e8",
   "metadata": {},
   "outputs": [
    {
     "name": "stdout",
     "output_type": "stream",
     "text": [
      "<class 'generator'>\n",
      "\n",
      "There are 5 directories and 1 files in './datasets/archive/bbc-fulltext (document classification)/bbc'\n",
      "There are 0 directories and 510 files in './datasets/archive/bbc-fulltext (document classification)/bbc/business'\n",
      "There are 0 directories and 417 files in './datasets/archive/bbc-fulltext (document classification)/bbc/politics'\n",
      "There are 0 directories and 511 files in './datasets/archive/bbc-fulltext (document classification)/bbc/sport'\n",
      "There are 0 directories and 401 files in './datasets/archive/bbc-fulltext (document classification)/bbc/tech'\n",
      "There are 0 directories and 386 files in './datasets/archive/bbc-fulltext (document classification)/bbc/entertainment'\n"
     ]
    }
   ],
   "source": [
    "def walk_through_dir(dir_path):\n",
    "    # Walk through `dir_path` returning its contents\n",
    "    for dirpath, dirnames, filenames in os.walk(dir_path):\n",
    "        print(f\"There are {len(dirnames)} directories and {len(filenames)} files in '{dirpath}'\")\n",
    "\n",
    "print(type(os.walk(dataset_path)))\n",
    "print()\n",
    "\n",
    "walk_through_dir(dataset_path)"
   ]
  },
  {
   "cell_type": "code",
   "execution_count": 127,
   "id": "9c98a725-f12e-496b-aa6b-c7ed2a294d38",
   "metadata": {},
   "outputs": [
    {
     "data": {
      "text/plain": [
       "'/home/yungshun317/workspace/py/torch-nlp/datasets/archive/bbc-fulltext (document classification)/bbc'"
      ]
     },
     "execution_count": 127,
     "metadata": {},
     "output_type": "execute_result"
    }
   ],
   "source": [
    "# `abspath()` returns the absolute path\n",
    "os.path.abspath(dataset_path)"
   ]
  },
  {
   "cell_type": "code",
   "execution_count": 133,
   "id": "14920bf5-54ff-4558-b01a-958b11a213ca",
   "metadata": {},
   "outputs": [
    {
     "data": {
      "text/plain": [
       "'./datasets/archive/bbc-fulltext (document classification)/bbc/business'"
      ]
     },
     "execution_count": 133,
     "metadata": {},
     "output_type": "execute_result"
    }
   ],
   "source": [
    "# `join()`\n",
    "os.path.join(dataset_path, 'business')"
   ]
  },
  {
   "cell_type": "markdown",
   "id": "70f1997f-02ac-446d-ba72-cc5dc80cd60d",
   "metadata": {},
   "source": [
    "## 1-3. glob Module\n",
    "**Globbing** refers to the process of finding filenames based on a pattern, unlike **regular expressions (regex)**, which can be complex and are used for pattern matching within strings. The term **glob** is short for \"global\". Originally, globbing was part of the \"global command\" functionality used for expanding shell patterns.\n",
    "1. `glob.glob(pathname, *, root_dir=None, dir_fd=None, recursive=False, include_hidden=False)`\n",
    "    - `*`: Matches any sequence of characters.\n",
    "    - `?`: Matches a single character.\n",
    "    - `[abc]`: Matches any one of the characters a, b, or c."
   ]
  },
  {
   "cell_type": "code",
   "execution_count": 4,
   "id": "61296bca-dde1-4e59-bbfd-0df41090e036",
   "metadata": {},
   "outputs": [],
   "source": [
    "import glob\n",
    "\n",
    "dataset_path = \"./datasets/archive/bbc-fulltext (document classification)/bbc\""
   ]
  },
  {
   "cell_type": "code",
   "execution_count": 141,
   "id": "735f9fbb-d4d3-4fc2-881b-72ccdfe4df9e",
   "metadata": {},
   "outputs": [
    {
     "name": "stdout",
     "output_type": "stream",
     "text": [
      "<class 'list'>\n",
      "<class 'str'>\n",
      "\n",
      "./datasets/archive/bbc-fulltext (document classification)/bbc/business\n",
      "./datasets/archive/bbc-fulltext (document classification)/bbc/README.TXT\n",
      "./datasets/archive/bbc-fulltext (document classification)/bbc/politics\n",
      "./datasets/archive/bbc-fulltext (document classification)/bbc/sport\n",
      "./datasets/archive/bbc-fulltext (document classification)/bbc/tech\n",
      "./datasets/archive/bbc-fulltext (document classification)/bbc/entertainment\n"
     ]
    }
   ],
   "source": [
    "print(type(glob.glob(dataset_path)))\n",
    "print(type(glob.glob(dataset_path)[0]))\n",
    "print()\n",
    "\n",
    "for pathname in glob.glob(os.path.join(dataset_path, '*')):\n",
    "    print(pathname)"
   ]
  },
  {
   "cell_type": "code",
   "execution_count": 143,
   "id": "684f504e-19ab-463d-862f-843b345aeb4c",
   "metadata": {},
   "outputs": [
    {
     "name": "stdout",
     "output_type": "stream",
     "text": [
      "./datasets/archive/bbc-fulltext (document classification)/bbc/README.TXT\n"
     ]
    }
   ],
   "source": [
    "for pathname in glob.glob(os.path.join(dataset_path, '*.TXT')):\n",
    "    print(pathname)"
   ]
  },
  {
   "cell_type": "code",
   "execution_count": 155,
   "id": "16e4abc2-da0a-48a1-8436-2d9d721554d3",
   "metadata": {},
   "outputs": [
    {
     "name": "stdout",
     "output_type": "stream",
     "text": [
      "./datasets/archive/bbc-fulltext (document classification)/bbc/business\n",
      "./datasets/archive/bbc-fulltext (document classification)/bbc/README.TXT\n",
      "./datasets/archive/bbc-fulltext (document classification)/bbc/politics\n",
      "./datasets/archive/bbc-fulltext (document classification)/bbc/sport\n",
      "./datasets/archive/bbc-fulltext (document classification)/bbc/tech\n",
      "./datasets/archive/bbc-fulltext (document classification)/bbc/entertainment\n",
      "./datasets/archive/bbc-fulltext (document classification)/bbc/business/503.txt\n",
      "./datasets/archive/bbc-fulltext (document classification)/bbc/business/412.txt\n",
      "./datasets/archive/bbc-fulltext (document classification)/bbc/business/027.txt\n",
      "./datasets/archive/bbc-fulltext (document classification)/bbc/business/324.txt\n"
     ]
    }
   ],
   "source": [
    "# Set `recursive=True`\n",
    "for pathname in list(itertools.islice(glob.glob(os.path.join(dataset_path, '**', '*'), recursive=True), 10)):\n",
    "    print(pathname)"
   ]
  },
  {
   "cell_type": "code",
   "execution_count": 157,
   "id": "ee6d986d-81d1-4554-8a22-3e3cfe89d7da",
   "metadata": {},
   "outputs": [
    {
     "name": "stdout",
     "output_type": "stream",
     "text": [
      "./datasets/archive/bbc-fulltext (document classification)/bbc/business/005.txt\n",
      "./datasets/archive/bbc-fulltext (document classification)/bbc/business/001.txt\n",
      "./datasets/archive/bbc-fulltext (document classification)/bbc/business/007.txt\n",
      "./datasets/archive/bbc-fulltext (document classification)/bbc/business/009.txt\n",
      "./datasets/archive/bbc-fulltext (document classification)/bbc/business/003.txt\n",
      "./datasets/archive/bbc-fulltext (document classification)/bbc/business/008.txt\n",
      "./datasets/archive/bbc-fulltext (document classification)/bbc/business/004.txt\n",
      "./datasets/archive/bbc-fulltext (document classification)/bbc/business/006.txt\n",
      "./datasets/archive/bbc-fulltext (document classification)/bbc/business/002.txt\n"
     ]
    }
   ],
   "source": [
    "# `?` matches a single character\n",
    "for pathname in glob.glob(os.path.join(dataset_path, 'business', '00?.txt')):\n",
    "    print(pathname)"
   ]
  },
  {
   "cell_type": "code",
   "execution_count": 158,
   "id": "db4e8b33-13fd-4e58-973c-c8af20b3ac24",
   "metadata": {},
   "outputs": [
    {
     "name": "stdout",
     "output_type": "stream",
     "text": [
      "./datasets/archive/bbc-fulltext (document classification)/bbc/business/001.txt\n",
      "./datasets/archive/bbc-fulltext (document classification)/bbc/business/003.txt\n",
      "./datasets/archive/bbc-fulltext (document classification)/bbc/business/002.txt\n"
     ]
    }
   ],
   "source": [
    "# Square brackets allow for specific character matches\n",
    "for pathname in glob.glob(os.path.join(dataset_path, 'business', '00[123].txt')):\n",
    "    print(pathname)"
   ]
  },
  {
   "cell_type": "markdown",
   "id": "e3a7e05f-e46c-4895-bdb7-c45e470860e8",
   "metadata": {},
   "source": [
    "Retrieve the label names."
   ]
  },
  {
   "cell_type": "code",
   "execution_count": 7,
   "id": "8754f57d-feb3-4acd-8229-d3bd7ef0aa24",
   "metadata": {},
   "outputs": [
    {
     "name": "stdout",
     "output_type": "stream",
     "text": [
      "target directory: ./datasets/archive/bbc-fulltext (document classification)/bbc\n"
     ]
    },
    {
     "data": {
      "text/plain": [
       "['business', 'entertainment', 'politics', 'sport', 'tech']"
      ]
     },
     "execution_count": 7,
     "metadata": {},
     "output_type": "execute_result"
    }
   ],
   "source": [
    "# Setup path for target directory if entry.is_dir()\n",
    "target_directory = dataset_path\n",
    "print(f\"target directory: {target_directory}\")\n",
    "\n",
    "# Get the class names from the target directory\n",
    "class_names_found = sorted([entry.name for entry in list(os.scandir(target_directory)) if entry.is_dir()])\n",
    "class_names_found"
   ]
  },
  {
   "cell_type": "markdown",
   "id": "e4720144-8afa-47ed-8257-86def6c7827a",
   "metadata": {},
   "source": [
    "# 2. DataFrame\n",
    "## 2-1. Read & Write to Text Files\n",
    "1. `open(file, mode='r', buffering=-1, encoding=None, errors=None, newline=None, closefd=True, opener=None)`\n",
    "   - `mode`\n",
    "       - `r`: Reads.\n",
    "       - `r+`: Reads & writes.\n",
    "       - `w`: Writes.\n",
    "       - `w+`: Writes & reads.\n",
    "       - `a`: Appends.\n",
    "       - `a+`: Appends & reads.\n",
    "   - `newline`: Determines how to parse newline characters from the stream.\n",
    "       - `None`: When reading input from the stream, universal newlines mode is enabled. Lines in the input can end in `\\n`, `\\r`, `\\r\\n`, and these are translated into `\\n`. When writing output to the stream, any `\\n` characters written are translated to the system default line separator, `os.linesep`.\n",
    "       - ``: Universal newlines mode is enabled. But line endings are returned to the caller untranslated.\n",
    "       - `\\n`\n",
    "       - `\\r`\n",
    "       - `\\r\\n`\n",
    "   - [Standard Encodings](https://docs.python.org/3/library/codecs.html#standard-encodings)\n",
    "\n",
    "\n",
    "The `io` module provides Python's main facilities for dealing with various types of I/O.\n",
    "1. `write(s)`: Writes the string `s` to the stream and returns the number of characters written.\n",
    "2. `writelines(lines)`: Writes a list of lines to the stream. Line separators are not added, so it is usual for each of the lines provided to have a line separator at the end.\n",
    "3. `read(size=-1)`: Reads up to `size` bytes from the object and returns them.\n",
    "4. `readline(size=-1)`: Reads and returns one line from the stream. If `size` is specified, at most size bytes will be read.\n",
    "5. `readlines(hint=-1)`: Reads and returns a list of lines from the stream. No more lines will be read if the total size of all lines so far exceeds `hint`."
   ]
  },
  {
   "cell_type": "code",
   "execution_count": 9,
   "id": "df02bf90-5093-4b06-80ca-50e1a373d4e7",
   "metadata": {},
   "outputs": [],
   "source": [
    "import pandas as pd"
   ]
  },
  {
   "cell_type": "code",
   "execution_count": 243,
   "id": "cc0b774b-e826-404f-b6bd-f067976708be",
   "metadata": {},
   "outputs": [
    {
     "name": "stdout",
     "output_type": "stream",
     "text": [
      "[\"India's Maruti sees profits jump\\n\", '\\n', \"India's biggest carmaker Maruti has reported a sharp increase in quarterly profit after a booming economy and low interest rates boosted demand.\\n\", '\\n', \"Net profit surged 70% to 2.39bn rupees ($54.98m; £29.32m) in the last three months of 2004 compared with 1.41bn rupees a year earlier. Total sales were 30.1bn rupees, up 27% from the same 2004 period. Maruti accounts for half of India's domestic car sales, luring consumers with cheap, fuel-efficient vehicles.\\n\", '\\n', 'Demand in India also has been driven by the poor state of public transport and the very low level of car ownership, analysts said.\\n', '\\n', \"Figures show that only eight people per thousand are car owners. Maruti beat market expectations despite an increase in raw materials costs. The company, majority-owned by Japan's Suzuki, said an increase in steel and other raw material prices was partially offset by cost cutting. Sales in the fiscal third quarter, including vans and utility vehicles, rose by 17.8% to 136.069 units. Maruti is not the only company benefiting as Indian's economic growth gives consumer greater spending power. Utility vehicle and tractor maker Mahindra has reported a 52% rise in net profit during the last three months of 2004. Profit was 1.33bn rupees compared with 874.2m rupees a year earlier.\\n\"]\n"
     ]
    }
   ],
   "source": [
    "# Construct a list of lists (lists of lines returned from `readlines()`)\n",
    "dataset = []\n",
    "\n",
    "doc_lst = glob.glob(\"./datasets/archive/bbc-fulltext (document classification)/bbc/business/*.txt\")\n",
    "\n",
    "for filename in doc_lst:\n",
    "    # print(filename)\n",
    "    with open(filename, \"r\") as f:\n",
    "        lines = f.readlines()\n",
    "        dataset.append(lines)\n",
    "\n",
    "print(dataset[0])"
   ]
  },
  {
   "cell_type": "code",
   "execution_count": 244,
   "id": "54f7e6d0-efdb-4a62-9205-b1798ae9d10e",
   "metadata": {},
   "outputs": [
    {
     "name": "stdout",
     "output_type": "stream",
     "text": [
      "{'text': [\"India's Maruti sees profits jump\\n\", '\\n', \"India's biggest carmaker Maruti has reported a sharp increase in quarterly profit after a booming economy and low interest rates boosted demand.\\n\", '\\n', \"Net profit surged 70% to 2.39bn rupees ($54.98m; £29.32m) in the last three months of 2004 compared with 1.41bn rupees a year earlier. Total sales were 30.1bn rupees, up 27% from the same 2004 period. Maruti accounts for half of India's domestic car sales, luring consumers with cheap, fuel-efficient vehicles.\\n\", '\\n', 'Demand in India also has been driven by the poor state of public transport and the very low level of car ownership, analysts said.\\n', '\\n', \"Figures show that only eight people per thousand are car owners. Maruti beat market expectations despite an increase in raw materials costs. The company, majority-owned by Japan's Suzuki, said an increase in steel and other raw material prices was partially offset by cost cutting. Sales in the fiscal third quarter, including vans and utility vehicles, rose by 17.8% to 136.069 units. Maruti is not the only company benefiting as Indian's economic growth gives consumer greater spending power. Utility vehicle and tractor maker Mahindra has reported a 52% rise in net profit during the last three months of 2004. Profit was 1.33bn rupees compared with 874.2m rupees a year earlier.\\n\"], 'label': 'business'}\n"
     ]
    }
   ],
   "source": [
    "# Construct a list of dictionaries\n",
    "dataset = []\n",
    "\n",
    "doc_lst = glob.glob(\"./datasets/archive/bbc-fulltext (document classification)/bbc/business/*.txt\")\n",
    "\n",
    "for filename in doc_lst:\n",
    "    with open(filename, \"r\") as f:\n",
    "        lines = f.readlines()\n",
    "        dataset.append({\"text\": lines, \"label\": \"business\"})\n",
    "\n",
    "print(dataset[0])"
   ]
  },
  {
   "cell_type": "code",
   "execution_count": 223,
   "id": "5ea7091b-7995-4b2d-af81-c9eaec185da7",
   "metadata": {},
   "outputs": [
    {
     "data": {
      "text/html": [
       "<div>\n",
       "<style scoped>\n",
       "    .dataframe tbody tr th:only-of-type {\n",
       "        vertical-align: middle;\n",
       "    }\n",
       "\n",
       "    .dataframe tbody tr th {\n",
       "        vertical-align: top;\n",
       "    }\n",
       "\n",
       "    .dataframe thead th {\n",
       "        text-align: right;\n",
       "    }\n",
       "</style>\n",
       "<table border=\"1\" class=\"dataframe\">\n",
       "  <thead>\n",
       "    <tr style=\"text-align: right;\">\n",
       "      <th></th>\n",
       "      <th>text</th>\n",
       "      <th>label</th>\n",
       "    </tr>\n",
       "  </thead>\n",
       "  <tbody>\n",
       "    <tr>\n",
       "      <th>0</th>\n",
       "      <td>[India's Maruti sees profits jump\\n, \\n, India...</td>\n",
       "      <td>business</td>\n",
       "    </tr>\n",
       "    <tr>\n",
       "      <th>1</th>\n",
       "      <td>[Iran budget seeks state sell-offs\\n, \\n, Iran...</td>\n",
       "      <td>business</td>\n",
       "    </tr>\n",
       "    <tr>\n",
       "      <th>2</th>\n",
       "      <td>[Steel firm 'to cut' 45,000 jobs\\n, \\n, Mittal...</td>\n",
       "      <td>business</td>\n",
       "    </tr>\n",
       "    <tr>\n",
       "      <th>3</th>\n",
       "      <td>[Yukos seeks court action on sale\\n, \\n, Yukos...</td>\n",
       "      <td>business</td>\n",
       "    </tr>\n",
       "    <tr>\n",
       "      <th>4</th>\n",
       "      <td>[US crude prices surge above $53\\n, \\n, US cru...</td>\n",
       "      <td>business</td>\n",
       "    </tr>\n",
       "    <tr>\n",
       "      <th>...</th>\n",
       "      <td>...</td>\n",
       "      <td>...</td>\n",
       "    </tr>\n",
       "    <tr>\n",
       "      <th>505</th>\n",
       "      <td>[Rescue hope for Borussia Dortmund\\n, \\n, Shar...</td>\n",
       "      <td>business</td>\n",
       "    </tr>\n",
       "    <tr>\n",
       "      <th>506</th>\n",
       "      <td>[US prepares for hybrid onslaught\\n, \\n, Sales...</td>\n",
       "      <td>business</td>\n",
       "    </tr>\n",
       "    <tr>\n",
       "      <th>507</th>\n",
       "      <td>[Dutch bank to lay off 2,850 staff\\n, \\n, ABN ...</td>\n",
       "      <td>business</td>\n",
       "    </tr>\n",
       "    <tr>\n",
       "      <th>508</th>\n",
       "      <td>[Rank 'set to sell off film unit'\\n, \\n, Leisu...</td>\n",
       "      <td>business</td>\n",
       "    </tr>\n",
       "    <tr>\n",
       "      <th>509</th>\n",
       "      <td>[Saudi NCCI's shares soar\\n, \\n, Shares in Sau...</td>\n",
       "      <td>business</td>\n",
       "    </tr>\n",
       "  </tbody>\n",
       "</table>\n",
       "<p>510 rows × 2 columns</p>\n",
       "</div>"
      ],
      "text/plain": [
       "                                                  text     label\n",
       "0    [India's Maruti sees profits jump\\n, \\n, India...  business\n",
       "1    [Iran budget seeks state sell-offs\\n, \\n, Iran...  business\n",
       "2    [Steel firm 'to cut' 45,000 jobs\\n, \\n, Mittal...  business\n",
       "3    [Yukos seeks court action on sale\\n, \\n, Yukos...  business\n",
       "4    [US crude prices surge above $53\\n, \\n, US cru...  business\n",
       "..                                                 ...       ...\n",
       "505  [Rescue hope for Borussia Dortmund\\n, \\n, Shar...  business\n",
       "506  [US prepares for hybrid onslaught\\n, \\n, Sales...  business\n",
       "507  [Dutch bank to lay off 2,850 staff\\n, \\n, ABN ...  business\n",
       "508  [Rank 'set to sell off film unit'\\n, \\n, Leisu...  business\n",
       "509  [Saudi NCCI's shares soar\\n, \\n, Shares in Sau...  business\n",
       "\n",
       "[510 rows x 2 columns]"
      ]
     },
     "execution_count": 223,
     "metadata": {},
     "output_type": "execute_result"
    }
   ],
   "source": [
    "import pandas as pd\n",
    "\n",
    "# Convert the list of dictionaries to pandas DataFrame\n",
    "df = pd.DataFrame(dataset)\n",
    "df"
   ]
  },
  {
   "cell_type": "code",
   "execution_count": 224,
   "id": "7ffd5b48-3764-4cc2-946a-dc009314877f",
   "metadata": {},
   "outputs": [
    {
     "data": {
      "text/html": [
       "<div>\n",
       "<style scoped>\n",
       "    .dataframe tbody tr th:only-of-type {\n",
       "        vertical-align: middle;\n",
       "    }\n",
       "\n",
       "    .dataframe tbody tr th {\n",
       "        vertical-align: top;\n",
       "    }\n",
       "\n",
       "    .dataframe thead th {\n",
       "        text-align: right;\n",
       "    }\n",
       "</style>\n",
       "<table border=\"1\" class=\"dataframe\">\n",
       "  <thead>\n",
       "    <tr style=\"text-align: right;\">\n",
       "      <th></th>\n",
       "      <th>text</th>\n",
       "      <th>label</th>\n",
       "    </tr>\n",
       "  </thead>\n",
       "  <tbody>\n",
       "    <tr>\n",
       "      <th>0</th>\n",
       "      <td>[India's Maruti sees profits jump\\n, \\n, India...</td>\n",
       "      <td>business</td>\n",
       "    </tr>\n",
       "    <tr>\n",
       "      <th>1</th>\n",
       "      <td>[Iran budget seeks state sell-offs\\n, \\n, Iran...</td>\n",
       "      <td>business</td>\n",
       "    </tr>\n",
       "    <tr>\n",
       "      <th>2</th>\n",
       "      <td>[Steel firm 'to cut' 45,000 jobs\\n, \\n, Mittal...</td>\n",
       "      <td>business</td>\n",
       "    </tr>\n",
       "    <tr>\n",
       "      <th>3</th>\n",
       "      <td>[Yukos seeks court action on sale\\n, \\n, Yukos...</td>\n",
       "      <td>business</td>\n",
       "    </tr>\n",
       "    <tr>\n",
       "      <th>4</th>\n",
       "      <td>[US crude prices surge above $53\\n, \\n, US cru...</td>\n",
       "      <td>business</td>\n",
       "    </tr>\n",
       "    <tr>\n",
       "      <th>...</th>\n",
       "      <td>...</td>\n",
       "      <td>...</td>\n",
       "    </tr>\n",
       "    <tr>\n",
       "      <th>2220</th>\n",
       "      <td>[New delay hits EU software laws\\n, \\n, A fres...</td>\n",
       "      <td>tech</td>\n",
       "    </tr>\n",
       "    <tr>\n",
       "      <th>2221</th>\n",
       "      <td>[Fast moving phone viruses appear\\n, \\n, Secur...</td>\n",
       "      <td>tech</td>\n",
       "    </tr>\n",
       "    <tr>\n",
       "      <th>2222</th>\n",
       "      <td>[Disney backs Sony DVD technology\\n, \\n, A nex...</td>\n",
       "      <td>tech</td>\n",
       "    </tr>\n",
       "    <tr>\n",
       "      <th>2223</th>\n",
       "      <td>[Apple unveils low-cost 'Mac mini'\\n, \\n, Appl...</td>\n",
       "      <td>tech</td>\n",
       "    </tr>\n",
       "    <tr>\n",
       "      <th>2224</th>\n",
       "      <td>[Britons fed up with net service\\n, \\n, A surv...</td>\n",
       "      <td>tech</td>\n",
       "    </tr>\n",
       "  </tbody>\n",
       "</table>\n",
       "<p>2225 rows × 2 columns</p>\n",
       "</div>"
      ],
      "text/plain": [
       "                                                   text     label\n",
       "0     [India's Maruti sees profits jump\\n, \\n, India...  business\n",
       "1     [Iran budget seeks state sell-offs\\n, \\n, Iran...  business\n",
       "2     [Steel firm 'to cut' 45,000 jobs\\n, \\n, Mittal...  business\n",
       "3     [Yukos seeks court action on sale\\n, \\n, Yukos...  business\n",
       "4     [US crude prices surge above $53\\n, \\n, US cru...  business\n",
       "...                                                 ...       ...\n",
       "2220  [New delay hits EU software laws\\n, \\n, A fres...      tech\n",
       "2221  [Fast moving phone viruses appear\\n, \\n, Secur...      tech\n",
       "2222  [Disney backs Sony DVD technology\\n, \\n, A nex...      tech\n",
       "2223  [Apple unveils low-cost 'Mac mini'\\n, \\n, Appl...      tech\n",
       "2224  [Britons fed up with net service\\n, \\n, A surv...      tech\n",
       "\n",
       "[2225 rows x 2 columns]"
      ]
     },
     "execution_count": 224,
     "metadata": {},
     "output_type": "execute_result"
    }
   ],
   "source": [
    "# Construct a pandas DataFrame using `readlines()`\n",
    "dataset = []\n",
    "\n",
    "for class_name in class_names_found:\n",
    "    doc_lst = glob.glob(f\"./datasets/archive/bbc-fulltext (document classification)/bbc/{class_name}/*.txt\", recursive=True)\n",
    "    for filename in doc_lst:\n",
    "        # Prevent `UnicodeDecodeError`\n",
    "        with open(filename, 'r', errors='replace') as f:\n",
    "            lines = f.readlines()\n",
    "            dataset.append({\"text\": lines, \"label\": class_name})\n",
    "\n",
    "df = pd.DataFrame(dataset)\n",
    "df"
   ]
  },
  {
   "cell_type": "code",
   "execution_count": 225,
   "id": "fd7e4226-3352-4562-ba79-08dfb93f81c5",
   "metadata": {},
   "outputs": [
    {
     "data": {
      "text/plain": [
       "text     object\n",
       "label    object\n",
       "dtype: object"
      ]
     },
     "execution_count": 225,
     "metadata": {},
     "output_type": "execute_result"
    }
   ],
   "source": [
    "df.dtypes"
   ]
  },
  {
   "cell_type": "markdown",
   "id": "3936046e-f582-4c73-b130-335411ee1278",
   "metadata": {},
   "source": [
    "Construct the desired DataFrame."
   ]
  },
  {
   "cell_type": "code",
   "execution_count": 10,
   "id": "f4103ced-9401-4f52-a89b-6997e1db15fb",
   "metadata": {},
   "outputs": [
    {
     "data": {
      "text/html": [
       "<div>\n",
       "<style scoped>\n",
       "    .dataframe tbody tr th:only-of-type {\n",
       "        vertical-align: middle;\n",
       "    }\n",
       "\n",
       "    .dataframe tbody tr th {\n",
       "        vertical-align: top;\n",
       "    }\n",
       "\n",
       "    .dataframe thead th {\n",
       "        text-align: right;\n",
       "    }\n",
       "</style>\n",
       "<table border=\"1\" class=\"dataframe\">\n",
       "  <thead>\n",
       "    <tr style=\"text-align: right;\">\n",
       "      <th></th>\n",
       "      <th>text</th>\n",
       "      <th>label</th>\n",
       "    </tr>\n",
       "  </thead>\n",
       "  <tbody>\n",
       "    <tr>\n",
       "      <th>0</th>\n",
       "      <td>India's Maruti sees profits jump\\n\\nIndia's bi...</td>\n",
       "      <td>business</td>\n",
       "    </tr>\n",
       "    <tr>\n",
       "      <th>1</th>\n",
       "      <td>Iran budget seeks state sell-offs\\n\\nIran's pr...</td>\n",
       "      <td>business</td>\n",
       "    </tr>\n",
       "    <tr>\n",
       "      <th>2</th>\n",
       "      <td>Steel firm 'to cut' 45,000 jobs\\n\\nMittal Stee...</td>\n",
       "      <td>business</td>\n",
       "    </tr>\n",
       "    <tr>\n",
       "      <th>3</th>\n",
       "      <td>Yukos seeks court action on sale\\n\\nYukos will...</td>\n",
       "      <td>business</td>\n",
       "    </tr>\n",
       "    <tr>\n",
       "      <th>4</th>\n",
       "      <td>US crude prices surge above $53\\n\\nUS crude pr...</td>\n",
       "      <td>business</td>\n",
       "    </tr>\n",
       "    <tr>\n",
       "      <th>...</th>\n",
       "      <td>...</td>\n",
       "      <td>...</td>\n",
       "    </tr>\n",
       "    <tr>\n",
       "      <th>2220</th>\n",
       "      <td>New delay hits EU software laws\\n\\nA fresh del...</td>\n",
       "      <td>tech</td>\n",
       "    </tr>\n",
       "    <tr>\n",
       "      <th>2221</th>\n",
       "      <td>Fast moving phone viruses appear\\n\\nSecurity f...</td>\n",
       "      <td>tech</td>\n",
       "    </tr>\n",
       "    <tr>\n",
       "      <th>2222</th>\n",
       "      <td>Disney backs Sony DVD technology\\n\\nA next gen...</td>\n",
       "      <td>tech</td>\n",
       "    </tr>\n",
       "    <tr>\n",
       "      <th>2223</th>\n",
       "      <td>Apple unveils low-cost 'Mac mini'\\n\\nApple has...</td>\n",
       "      <td>tech</td>\n",
       "    </tr>\n",
       "    <tr>\n",
       "      <th>2224</th>\n",
       "      <td>Britons fed up with net service\\n\\nA survey co...</td>\n",
       "      <td>tech</td>\n",
       "    </tr>\n",
       "  </tbody>\n",
       "</table>\n",
       "<p>2225 rows × 2 columns</p>\n",
       "</div>"
      ],
      "text/plain": [
       "                                                   text     label\n",
       "0     India's Maruti sees profits jump\\n\\nIndia's bi...  business\n",
       "1     Iran budget seeks state sell-offs\\n\\nIran's pr...  business\n",
       "2     Steel firm 'to cut' 45,000 jobs\\n\\nMittal Stee...  business\n",
       "3     Yukos seeks court action on sale\\n\\nYukos will...  business\n",
       "4     US crude prices surge above $53\\n\\nUS crude pr...  business\n",
       "...                                                 ...       ...\n",
       "2220  New delay hits EU software laws\\n\\nA fresh del...      tech\n",
       "2221  Fast moving phone viruses appear\\n\\nSecurity f...      tech\n",
       "2222  Disney backs Sony DVD technology\\n\\nA next gen...      tech\n",
       "2223  Apple unveils low-cost 'Mac mini'\\n\\nApple has...      tech\n",
       "2224  Britons fed up with net service\\n\\nA survey co...      tech\n",
       "\n",
       "[2225 rows x 2 columns]"
      ]
     },
     "execution_count": 10,
     "metadata": {},
     "output_type": "execute_result"
    }
   ],
   "source": [
    "# Construct a pandas DataFrame using `read()`\n",
    "dataset = []\n",
    "\n",
    "for class_name in class_names_found:\n",
    "    doc_lst = glob.glob(f\"./datasets/archive/bbc-fulltext (document classification)/bbc/{class_name}/*.txt\", recursive=True)\n",
    "    for filename in doc_lst:\n",
    "        with open(filename, 'r', errors='replace') as f:\n",
    "            # Use `read()` instead of `readlines()`\n",
    "            doc = f.read()\n",
    "            dataset.append({\"text\": doc, \"label\": class_name})\n",
    "\n",
    "df = pd.DataFrame(dataset)\n",
    "df"
   ]
  },
  {
   "cell_type": "markdown",
   "id": "dc47e50d-60e0-43d8-a039-93a9c77c86a2",
   "metadata": {},
   "source": [
    "# 3. Segmentation\n",
    "## 3-1. Document Segmentation\n",
    "The task has several names: **paragraph detection**, **paragraph identification**, **paragraph segmentation**, **section segmentation**, **text segmentation**, **topic segmentation**, or **document zoning**. It is one of the fundamental NLP problems itself. One of the most famous unsupervised algorithms is **TextTiling** implemented in `nltk`.\n",
    "\n",
    "1. `nltk.tokenize.TextTilingTokenizer(w=20, k=10, similarity_method=0, stopwords=None, smoothing_method=[0], smoothing_width=2, smoothing_rounds=1, cutoff_policy=1, demo_mode=False)`: `TextTilingTokenizer` tokenizes text into coherent subtopic chunks using Hearst's TextTiling algorithm, which detects subtopic shifts based upon the analysis of lexical co-occurrence patterns.\n",
    "    - The implementation requires at least 2 paragraphs (i.e. your text needs to contain `\\n\\n`), or you will encounter `ValueError: No paragraph breaks were found(text too short perhaps?)`.\n",
    "    - [Text Tiling: Segmenting Text into Multi-Paragraph Subtopic Passages](https://aclanthology.org/J97-1003.pdf)\n",
    "    - [TextTilingTokenizer](https://tedboy.github.io/nlps/generated/generated/nltk.tokenize.TextTilingTokenizer.html#nltk-tokenize-texttilingtokenizer)\n",
    "2. [Text Segmentation](https://github.com/hyunbool/Text-Segmentation): A list of paper published in 2020 & before.\n",
    "3. More Recent Researches:\n",
    "    - [Text Segmentation by Cross Segment Attention](https://aclanthology.org/2020.emnlp-main.380/) by Google\n",
    "    - [Topic Segmentation Model Focusing on Local Context](https://arxiv.org/abs/2301.01935)\n",
    "    - [Auxiliary Loss for BERT-Based Paragraph Segmentation](https://search.ieice.org/bin/summary.php?id=e106-d_1_58)\n",
    "\n",
    "Main Issues: \n",
    "- Papers often focus on **WikiSection Dataset**, which are too long for paragraphs.\n",
    "- Papers for the task often don't release their code.\n",
    "- Supervised algorithms tend to be specialized to the domain of the training set."
   ]
  },
  {
   "cell_type": "code",
   "execution_count": 380,
   "id": "d9358601-f3e4-4247-a4fb-79852a808479",
   "metadata": {},
   "outputs": [
    {
     "name": "stdout",
     "output_type": "stream",
     "text": [
      "Text Tiled:\n",
      "\n",
      "[\"India's Maruti sees profits jump\\n\\nIndia's biggest carmaker Maruti has reported a sharp increase in quarterly profit after a booming economy and low interest rates boosted demand.\\n\\nNet profit surged 70% to 2.39bn rupees ($54.98m; £29.32m) in the last three months of 2004 compared with 1.41bn rupees a year earlier. Total sales were 30.1bn rupees, up 27% from the same 2004 period. Maruti accounts for half of India's domestic car sales, luring consumers with cheap, fuel-efficient vehicles.\", \"\\n\\nDemand in India also has been driven by the poor state of public transport and the very low level of car ownership, analysts said.\\n\\nFigures show that only eight people per thousand are car owners. Maruti beat market expectations despite an increase in raw materials costs. The company, majority-owned by Japan's Suzuki, said an increase in steel and other raw material prices was partially offset by cost cutting. Sales in the fiscal third quarter, including vans and utility vehicles, rose by 17.8% to 136.069 units. Maruti is not the only company benefiting as Indian's economic growth gives consumer greater spending power. Utility vehicle and tractor maker Mahindra has reported a 52% rise in net profit during the last three months of 2004. Profit was 1.33bn rupees compared with 874.2m rupees a year earlier.\\n\"]\n",
      "\n",
      "Text Tiled to String:\n",
      "\n",
      "India's Maruti sees profits jumpIndia's biggest carmaker Maruti has reported a sharp increase in quarterly profit after a booming economy and low interest rates boosted demand.Net profit surged 70% to 2.39bn rupees ($54.98m; £29.32m) in the last three months of 2004 compared with 1.41bn rupees a year earlier. Total sales were 30.1bn rupees, up 27% from the same 2004 period. Maruti accounts for half of India's domestic car sales, luring consumers with cheap, fuel-efficient vehicles.\n",
      "\n",
      "Demand in India also has been driven by the poor state of public transport and the very low level of car ownership, analysts said.Figures show that only eight people per thousand are car owners. Maruti beat market expectations despite an increase in raw materials costs. The company, majority-owned by Japan's Suzuki, said an increase in steel and other raw material prices was partially offset by cost cutting. Sales in the fiscal third quarter, including vans and utility vehicles, rose by 17.8% to 136.069 units. Maruti is not the only company benefiting as Indian's economic growth gives consumer greater spending power. Utility vehicle and tractor maker Mahindra has reported a 52% rise in net profit during the last three months of 2004. Profit was 1.33bn rupees compared with 874.2m rupees a year earlier.\n",
      "\n",
      "Original:\n",
      "\n",
      "India's Maruti sees profits jump\n",
      "\n",
      "India's biggest carmaker Maruti has reported a sharp increase in quarterly profit after a booming economy and low interest rates boosted demand.\n",
      "\n",
      "Net profit surged 70% to 2.39bn rupees ($54.98m; £29.32m) in the last three months of 2004 compared with 1.41bn rupees a year earlier. Total sales were 30.1bn rupees, up 27% from the same 2004 period. Maruti accounts for half of India's domestic car sales, luring consumers with cheap, fuel-efficient vehicles.\n",
      "\n",
      "Demand in India also has been driven by the poor state of public transport and the very low level of car ownership, analysts said.\n",
      "\n",
      "Figures show that only eight people per thousand are car owners. Maruti beat market expectations despite an increase in raw materials costs. The company, majority-owned by Japan's Suzuki, said an increase in steel and other raw material prices was partially offset by cost cutting. Sales in the fiscal third quarter, including vans and utility vehicles, rose by 17.8% to 136.069 units. Maruti is not the only company benefiting as Indian's economic growth gives consumer greater spending power. Utility vehicle and tractor maker Mahindra has reported a 52% rise in net profit during the last three months of 2004. Profit was 1.33bn rupees compared with 874.2m rupees a year earlier.\n",
      "\n"
     ]
    }
   ],
   "source": [
    "from nltk.tokenize.texttiling import TextTilingTokenizer\n",
    "\n",
    "tt = TextTilingTokenizer(demo_mode=False)\n",
    "# Only take the first 10 documents as example to prevent errors\n",
    "tiles = df.text[:10].apply(tt.tokenize)\n",
    "for i, doc in list(itertools.islice(enumerate(tiles), 1)):\n",
    "    print(\"Text Tiled:\")\n",
    "    print()\n",
    "    print(doc)\n",
    "    print()\n",
    "    print(\"Text Tiled to String:\")\n",
    "    print()\n",
    "    print('\\n\\n'.join(list(map(lambda d: re.sub('\\n\\n', '', d), doc))))\n",
    "    print(\"Original:\")\n",
    "    print()\n",
    "    print(df.text[i])"
   ]
  },
  {
   "cell_type": "code",
   "execution_count": 382,
   "id": "b5fb28a3-1d3b-441d-bc8a-8936a7b57f2e",
   "metadata": {},
   "outputs": [
    {
     "name": "stdout",
     "output_type": "stream",
     "text": [
      "Text Tiled:\n",
      "\n",
      "[\"India's Maruti sees profits jump\\n\\nIndia's biggest carmaker Maruti has reported a sharp increase in quarterly profit after a booming economy and low interest rates boosted demand.\\n\\nNet profit surged 70% to 2.39bn rupees ($54.98m; £29.32m) in the last three months of 2004 compared with 1.41bn rupees a year earlier. Total sales were 30.1bn rupees, up 27% from the same 2004 period. Maruti accounts for half of India's domestic car sales, luring consumers with cheap, fuel-efficient vehicles.\", \"\\n\\nDemand in India also has been driven by the poor state of public transport and the very low level of car ownership, analysts said.\\n\\nFigures show that only eight people per thousand are car owners. Maruti beat market expectations despite an increase in raw materials costs. The company, majority-owned by Japan's Suzuki, said an increase in steel and other raw material prices was partially offset by cost cutting. Sales in the fiscal third quarter, including vans and utility vehicles, rose by 17.8% to 136.069 units. Maruti is not the only company benefiting as Indian's economic growth gives consumer greater spending power. Utility vehicle and tractor maker Mahindra has reported a 52% rise in net profit during the last three months of 2004. Profit was 1.33bn rupees compared with 874.2m rupees a year earlier.\\n\"]\n",
      "\n",
      "Text Tiled to String:\n",
      "\n",
      "India's Maruti sees profits jumpIndia's biggest carmaker Maruti has reported a sharp increase in quarterly profit after a booming economy and low interest rates boosted demand.Net profit surged 70% to 2.39bn rupees ($54.98m; £29.32m) in the last three months of 2004 compared with 1.41bn rupees a year earlier. Total sales were 30.1bn rupees, up 27% from the same 2004 period. Maruti accounts for half of India's domestic car sales, luring consumers with cheap, fuel-efficient vehicles.\n",
      "\n",
      "Demand in India also has been driven by the poor state of public transport and the very low level of car ownership, analysts said.Figures show that only eight people per thousand are car owners. Maruti beat market expectations despite an increase in raw materials costs. The company, majority-owned by Japan's Suzuki, said an increase in steel and other raw material prices was partially offset by cost cutting. Sales in the fiscal third quarter, including vans and utility vehicles, rose by 17.8% to 136.069 units. Maruti is not the only company benefiting as Indian's economic growth gives consumer greater spending power. Utility vehicle and tractor maker Mahindra has reported a 52% rise in net profit during the last three months of 2004. Profit was 1.33bn rupees compared with 874.2m rupees a year earlier.\n",
      "\n",
      "Original:\n",
      "\n",
      "India's Maruti sees profits jump\n",
      "\n",
      "India's biggest carmaker Maruti has reported a sharp increase in quarterly profit after a booming economy and low interest rates boosted demand.\n",
      "\n",
      "Net profit surged 70% to 2.39bn rupees ($54.98m; £29.32m) in the last three months of 2004 compared with 1.41bn rupees a year earlier. Total sales were 30.1bn rupees, up 27% from the same 2004 period. Maruti accounts for half of India's domestic car sales, luring consumers with cheap, fuel-efficient vehicles.\n",
      "\n",
      "Demand in India also has been driven by the poor state of public transport and the very low level of car ownership, analysts said.\n",
      "\n",
      "Figures show that only eight people per thousand are car owners. Maruti beat market expectations despite an increase in raw materials costs. The company, majority-owned by Japan's Suzuki, said an increase in steel and other raw material prices was partially offset by cost cutting. Sales in the fiscal third quarter, including vans and utility vehicles, rose by 17.8% to 136.069 units. Maruti is not the only company benefiting as Indian's economic growth gives consumer greater spending power. Utility vehicle and tractor maker Mahindra has reported a 52% rise in net profit during the last three months of 2004. Profit was 1.33bn rupees compared with 874.2m rupees a year earlier.\n",
      "\n"
     ]
    }
   ],
   "source": [
    "# Handle exceptions\n",
    "from nltk.tokenize import TextTilingTokenizer\n",
    "\n",
    "# Just insert the whole document string into a list if there is no `\\n\\n` in that document\n",
    "def augment_texttiling_tokenize(doc):\n",
    "    try:\n",
    "        return tt.tokenize(doc)\n",
    "    except:\n",
    "        return [doc]\n",
    "\n",
    "tt = TextTilingTokenizer(demo_mode=False)\n",
    "# Only take the first 10 documents as example to prevent errors\n",
    "tiles = df.text.apply(augment_texttiling_tokenize)\n",
    "for i, doc in list(itertools.islice(enumerate(tiles), 1)):\n",
    "    print(\"Text Tiled:\")\n",
    "    print()\n",
    "    print(doc)\n",
    "    print()\n",
    "    print(\"Text Tiled to String:\")\n",
    "    print()\n",
    "    print('\\n\\n'.join(list(map(lambda d: re.sub('\\n\\n', '', d), doc))))\n",
    "    print(\"Original:\")\n",
    "    print()\n",
    "    print(df.text[i])"
   ]
  },
  {
   "cell_type": "markdown",
   "id": "40667b6f-4d68-4f78-8b17-b3c11c3fcb48",
   "metadata": {},
   "source": [
    "## 3-2. Sentence Segmentation\n",
    "1. `nltk.tokenize.sent_tokenize(text, language='english'))`: Uses the pre-trained tokenizer equivalent to `PunktSentenceTokenizer`.\n",
    "2. `nltk.tokenize.PunktSentenceTokenizer(train_text=None, verbose=False, lang_vars=<nltk.tokenize.punkt.PunktLanguageVars object>, token_cls=<class 'nltk.tokenize.punkt.PunktToken'>)`: Uses an unsupervised algorithm to build a model for abbreviation words, collocations, and words that start sentences; and then uses that model to find sentence boundaries. It's said to work well for many European languages.\n",
    "    - [Unsupervised Multilingual Sentence Boundary Detection](https://direct.mit.edu/coli/article/32/4/485/1923/Unsupervised-Multilingual-Sentence-Boundary) by Kiss & Strunk\n",
    "    - This is a statistical algorithm. You may still need to separate sentences using `\\n` symbols before or after calling the tokenizer, simply do `str.split('\\n')` manually.\n",
    "3. `spacy`"
   ]
  },
  {
   "cell_type": "code",
   "execution_count": 402,
   "id": "cf607122-98be-4cd4-872f-193e4626b5cf",
   "metadata": {},
   "outputs": [
    {
     "name": "stdout",
     "output_type": "stream",
     "text": [
      "Sentence Tokenized:\n",
      "\n",
      "[\"India's Maruti sees profits jump\", \"India's biggest carmaker Maruti has reported a sharp increase in quarterly profit after a booming economy and low interest rates boosted demand.\", 'Net profit surged 70% to 2.39bn rupees ($54.98m; £29.32m) in the last three months of 2004 compared with 1.41bn rupees a year earlier.', 'Total sales were 30.1bn rupees, up 27% from the same 2004 period.', \"Maruti accounts for half of India's domestic car sales, luring consumers with cheap, fuel-efficient vehicles.\", 'Demand in India also has been driven by the poor state of public transport and the very low level of car ownership, analysts said.', 'Figures show that only eight people per thousand are car owners.', 'Maruti beat market expectations despite an increase in raw materials costs.', \"The company, majority-owned by Japan's Suzuki, said an increase in steel and other raw material prices was partially offset by cost cutting.\", 'Sales in the fiscal third quarter, including vans and utility vehicles, rose by 17.8% to 136.069 units.', \"Maruti is not the only company benefiting as Indian's economic growth gives consumer greater spending power.\", 'Utility vehicle and tractor maker Mahindra has reported a 52% rise in net profit during the last three months of 2004.', 'Profit was 1.33bn rupees compared with 874.2m rupees a year earlier.']\n",
      "\n",
      "Sentence Tokenized to String:\n",
      "\n",
      "India's Maruti sees profits jump\n",
      "\n",
      "India's biggest carmaker Maruti has reported a sharp increase in quarterly profit after a booming economy and low interest rates boosted demand.\n",
      "\n",
      "Net profit surged 70% to 2.39bn rupees ($54.98m; £29.32m) in the last three months of 2004 compared with 1.41bn rupees a year earlier.\n",
      "\n",
      "Total sales were 30.1bn rupees, up 27% from the same 2004 period.\n",
      "\n",
      "Maruti accounts for half of India's domestic car sales, luring consumers with cheap, fuel-efficient vehicles.\n",
      "\n",
      "Demand in India also has been driven by the poor state of public transport and the very low level of car ownership, analysts said.\n",
      "\n",
      "Figures show that only eight people per thousand are car owners.\n",
      "\n",
      "Maruti beat market expectations despite an increase in raw materials costs.\n",
      "\n",
      "The company, majority-owned by Japan's Suzuki, said an increase in steel and other raw material prices was partially offset by cost cutting.\n",
      "\n",
      "Sales in the fiscal third quarter, including vans and utility vehicles, rose by 17.8% to 136.069 units.\n",
      "\n",
      "Maruti is not the only company benefiting as Indian's economic growth gives consumer greater spending power.\n",
      "\n",
      "Utility vehicle and tractor maker Mahindra has reported a 52% rise in net profit during the last three months of 2004.\n",
      "\n",
      "Profit was 1.33bn rupees compared with 874.2m rupees a year earlier.\n",
      "\n",
      "Original:\n",
      "\n",
      "India's Maruti sees profits jump\n",
      "\n",
      "India's biggest carmaker Maruti has reported a sharp increase in quarterly profit after a booming economy and low interest rates boosted demand.\n",
      "\n",
      "Net profit surged 70% to 2.39bn rupees ($54.98m; £29.32m) in the last three months of 2004 compared with 1.41bn rupees a year earlier. Total sales were 30.1bn rupees, up 27% from the same 2004 period. Maruti accounts for half of India's domestic car sales, luring consumers with cheap, fuel-efficient vehicles.\n",
      "\n",
      "Demand in India also has been driven by the poor state of public transport and the very low level of car ownership, analysts said.\n",
      "\n",
      "Figures show that only eight people per thousand are car owners. Maruti beat market expectations despite an increase in raw materials costs. The company, majority-owned by Japan's Suzuki, said an increase in steel and other raw material prices was partially offset by cost cutting. Sales in the fiscal third quarter, including vans and utility vehicles, rose by 17.8% to 136.069 units. Maruti is not the only company benefiting as Indian's economic growth gives consumer greater spending power. Utility vehicle and tractor maker Mahindra has reported a 52% rise in net profit during the last three months of 2004. Profit was 1.33bn rupees compared with 874.2m rupees a year earlier.\n",
      "\n"
     ]
    }
   ],
   "source": [
    "# `nltk.tokenize.sent_tokenize()`\n",
    "from nltk.tokenize import sent_tokenize\n",
    "from itertools import chain\n",
    "\n",
    "sentences_series = df.text.apply(sent_tokenize)\n",
    "# `split('\\n\\n')` or `split('\\n')` for rule-based process\n",
    "splitted_sentences = [[s.split('\\n\\n') for s in sentences] for sentences in sentences_series]\n",
    "# Extract nested lists using `itertools.chain()`\n",
    "flattened_sentences = list(list(chain.from_iterable(s)) if isinstance(s, list) else s for s in splitted_sentences)\n",
    "for i, doc in list(itertools.islice(enumerate(flattened_sentences), 1)):\n",
    "    print(\"Sentence Tokenized:\")\n",
    "    print()\n",
    "    print(doc)\n",
    "    print()\n",
    "    print(\"Sentence Tokenized to String:\")\n",
    "    print()\n",
    "    print('\\n\\n'.join(list(map(lambda d: re.sub('\\n\\n', '', d), doc))))\n",
    "    print()\n",
    "    print(\"Original:\")\n",
    "    print()\n",
    "    print(df.text[i])"
   ]
  },
  {
   "cell_type": "code",
   "execution_count": 403,
   "id": "893647ab-7ad7-4a8c-94c4-1b574392646e",
   "metadata": {},
   "outputs": [
    {
     "name": "stdout",
     "output_type": "stream",
     "text": [
      "Sentence Tokenized:\n",
      "\n",
      "[\"India's Maruti sees profits jump\", \"India's biggest carmaker Maruti has reported a sharp increase in quarterly profit after a booming economy and low interest rates boosted demand.\", 'Net profit surged 70% to 2.39bn rupees ($54.98m; £29.32m) in the last three months of 2004 compared with 1.41bn rupees a year earlier.', 'Total sales were 30.1bn rupees, up 27% from the same 2004 period.', \"Maruti accounts for half of India's domestic car sales, luring consumers with cheap, fuel-efficient vehicles.\", 'Demand in India also has been driven by the poor state of public transport and the very low level of car ownership, analysts said.', 'Figures show that only eight people per thousand are car owners.', 'Maruti beat market expectations despite an increase in raw materials costs.', \"The company, majority-owned by Japan's Suzuki, said an increase in steel and other raw material prices was partially offset by cost cutting.\", 'Sales in the fiscal third quarter, including vans and utility vehicles, rose by 17.8% to 136.069 units.', \"Maruti is not the only company benefiting as Indian's economic growth gives consumer greater spending power.\", 'Utility vehicle and tractor maker Mahindra has reported a 52% rise in net profit during the last three months of 2004.', 'Profit was 1.33bn rupees compared with 874.2m rupees a year earlier.']\n",
      "\n",
      "Sentence Tokenized to String:\n",
      "\n",
      "India's Maruti sees profits jump\n",
      "\n",
      "India's biggest carmaker Maruti has reported a sharp increase in quarterly profit after a booming economy and low interest rates boosted demand.\n",
      "\n",
      "Net profit surged 70% to 2.39bn rupees ($54.98m; £29.32m) in the last three months of 2004 compared with 1.41bn rupees a year earlier.\n",
      "\n",
      "Total sales were 30.1bn rupees, up 27% from the same 2004 period.\n",
      "\n",
      "Maruti accounts for half of India's domestic car sales, luring consumers with cheap, fuel-efficient vehicles.\n",
      "\n",
      "Demand in India also has been driven by the poor state of public transport and the very low level of car ownership, analysts said.\n",
      "\n",
      "Figures show that only eight people per thousand are car owners.\n",
      "\n",
      "Maruti beat market expectations despite an increase in raw materials costs.\n",
      "\n",
      "The company, majority-owned by Japan's Suzuki, said an increase in steel and other raw material prices was partially offset by cost cutting.\n",
      "\n",
      "Sales in the fiscal third quarter, including vans and utility vehicles, rose by 17.8% to 136.069 units.\n",
      "\n",
      "Maruti is not the only company benefiting as Indian's economic growth gives consumer greater spending power.\n",
      "\n",
      "Utility vehicle and tractor maker Mahindra has reported a 52% rise in net profit during the last three months of 2004.\n",
      "\n",
      "Profit was 1.33bn rupees compared with 874.2m rupees a year earlier.\n",
      "\n",
      "Original:\n",
      "\n",
      "India's Maruti sees profits jump\n",
      "\n",
      "India's biggest carmaker Maruti has reported a sharp increase in quarterly profit after a booming economy and low interest rates boosted demand.\n",
      "\n",
      "Net profit surged 70% to 2.39bn rupees ($54.98m; £29.32m) in the last three months of 2004 compared with 1.41bn rupees a year earlier. Total sales were 30.1bn rupees, up 27% from the same 2004 period. Maruti accounts for half of India's domestic car sales, luring consumers with cheap, fuel-efficient vehicles.\n",
      "\n",
      "Demand in India also has been driven by the poor state of public transport and the very low level of car ownership, analysts said.\n",
      "\n",
      "Figures show that only eight people per thousand are car owners. Maruti beat market expectations despite an increase in raw materials costs. The company, majority-owned by Japan's Suzuki, said an increase in steel and other raw material prices was partially offset by cost cutting. Sales in the fiscal third quarter, including vans and utility vehicles, rose by 17.8% to 136.069 units. Maruti is not the only company benefiting as Indian's economic growth gives consumer greater spending power. Utility vehicle and tractor maker Mahindra has reported a 52% rise in net profit during the last three months of 2004. Profit was 1.33bn rupees compared with 874.2m rupees a year earlier.\n",
      "\n"
     ]
    }
   ],
   "source": [
    "# `PunktSentenceTokenizer()`\n",
    "from nltk.tokenize import PunktSentenceTokenizer\n",
    "\n",
    "pst = PunktSentenceTokenizer()\n",
    "sentences_series = df.text.apply(pst.tokenize)\n",
    "# `split('\\n\\n')` or `split('\\n')` for rule-based process\n",
    "splitted_sentences = [[s.split('\\n\\n') for s in sentences] for sentences in sentences_series]\n",
    "# Extract nested lists using `itertools.chain()`\n",
    "flattened_sentences = list(list(chain.from_iterable(s)) if isinstance(s, list) else s for s in splitted_sentences)\n",
    "for i, doc in list(itertools.islice(enumerate(flattened_sentences), 1)):\n",
    "    print(\"Sentence Tokenized:\")\n",
    "    print()\n",
    "    print(doc)\n",
    "    print()\n",
    "    print(\"Sentence Tokenized to String:\")\n",
    "    print()\n",
    "    print('\\n\\n'.join(list(map(lambda d: re.sub('\\n\\n', '', d), doc))))\n",
    "    print()\n",
    "    print(\"Original:\")\n",
    "    print()\n",
    "    print(df.text[i])"
   ]
  },
  {
   "cell_type": "markdown",
   "id": "c2b1649e-6abe-4702-8abf-2b0ab2ebe01a",
   "metadata": {},
   "source": [
    "# 4. Lower Casing\n",
    "We want to lowercase our text in order to improve our general accuracy. Many language models will ultimately treat capital letters differently.\n",
    "- Different for very large language models.\n",
    "- Language dependent (but for English, consider lowercasing your corpus)."
   ]
  },
  {
   "cell_type": "code",
   "execution_count": 277,
   "id": "db0cd2de-cb51-4569-aa7a-2b05b34a0d0d",
   "metadata": {},
   "outputs": [
    {
     "name": "stdout",
     "output_type": "stream",
     "text": [
      "Lowercase:\n",
      "\n",
      "india's maruti sees profits jump\n",
      "\n",
      "india's biggest carmaker maruti has reported a sharp increase in quarterly profit after a booming economy and low interest rates boosted demand.\n",
      "\n",
      "net profit surged 70% to 2.39bn rupees ($54.98m; £29.32m) in the last three months of 2004 compared with 1.41bn rupees a year earlier. total sales were 30.1bn rupees, up 27% from the same 2004 period. maruti accounts for half of india's domestic car sales, luring consumers with cheap, fuel-efficient vehicles.\n",
      "\n",
      "demand in india also has been driven by the poor state of public transport and the very low level of car ownership, analysts said.\n",
      "\n",
      "figures show that only eight people per thousand are car owners. maruti beat market expectations despite an increase in raw materials costs. the company, majority-owned by japan's suzuki, said an increase in steel and other raw material prices was partially offset by cost cutting. sales in the fiscal third quarter, including vans and utility vehicles, rose by 17.8% to 136.069 units. maruti is not the only company benefiting as indian's economic growth gives consumer greater spending power. utility vehicle and tractor maker mahindra has reported a 52% rise in net profit during the last three months of 2004. profit was 1.33bn rupees compared with 874.2m rupees a year earlier.\n",
      "\n",
      "Original:\n",
      "\n",
      "India's Maruti sees profits jump\n",
      "\n",
      "India's biggest carmaker Maruti has reported a sharp increase in quarterly profit after a booming economy and low interest rates boosted demand.\n",
      "\n",
      "Net profit surged 70% to 2.39bn rupees ($54.98m; £29.32m) in the last three months of 2004 compared with 1.41bn rupees a year earlier. Total sales were 30.1bn rupees, up 27% from the same 2004 period. Maruti accounts for half of India's domestic car sales, luring consumers with cheap, fuel-efficient vehicles.\n",
      "\n",
      "Demand in India also has been driven by the poor state of public transport and the very low level of car ownership, analysts said.\n",
      "\n",
      "Figures show that only eight people per thousand are car owners. Maruti beat market expectations despite an increase in raw materials costs. The company, majority-owned by Japan's Suzuki, said an increase in steel and other raw material prices was partially offset by cost cutting. Sales in the fiscal third quarter, including vans and utility vehicles, rose by 17.8% to 136.069 units. Maruti is not the only company benefiting as Indian's economic growth gives consumer greater spending power. Utility vehicle and tractor maker Mahindra has reported a 52% rise in net profit during the last three months of 2004. Profit was 1.33bn rupees compared with 874.2m rupees a year earlier.\n",
      "\n"
     ]
    }
   ],
   "source": [
    "for i, doc in list(itertools.islice(enumerate(df.text.str.lower()), 1)):\n",
    "    print(\"Lowercase:\")\n",
    "    print()\n",
    "    print(doc)\n",
    "    print(\"Original:\")\n",
    "    print()\n",
    "    print(df.text[i])"
   ]
  },
  {
   "cell_type": "markdown",
   "id": "10588b70-f369-43ae-8f7f-04122dd3cbe0",
   "metadata": {
    "jp-MarkdownHeadingCollapsed": true
   },
   "source": [
    "# 5. Tokenization\n",
    "## 5-1. Word Tokenization\n",
    "## 5-2. Character Tokenization\n",
    "## 5-3. Sentence Tokenization\n",
    "## 5-4. Punctuation Tokenization\n",
    "## 5-5. Whitespace Tokenization\n",
    "## 5-6. Subword Tokenization"
   ]
  },
  {
   "cell_type": "markdown",
   "id": "c30b74a2-fff0-4b68-a029-ff5db683a722",
   "metadata": {},
   "source": [
    "# 6. Expand Contractions\n",
    "- Contractions are words or combinations of words that are shortened by dropping letters and replacing them by an apostrophe.\n",
    "- Removing contractions contributes to text standardization & dimensionality reduction.\n",
    "- `contractions.fix(text)`\n",
    "    - [contractions](https://github.com/kootenpv/contractions)"
   ]
  },
  {
   "cell_type": "code",
   "execution_count": 19,
   "id": "e55e5828-750c-4dde-a6e0-4bdb6209829b",
   "metadata": {},
   "outputs": [
    {
     "name": "stdout",
     "output_type": "stream",
     "text": [
      "Contractions Expanded:\n",
      "\n",
      "India's Maruti sees profits jump India's biggest carmaker Maruti has reported a sharp increase in quarterly profit after a booming economy and low interest rates boosted demand. Net profit surged 70% to 2.39bn rupees ($54.98m; £29.32m) in the last three months of 2004 compared with 1.41bn rupees a year earlier. Total sales were 30.1bn rupees, up 27% from the same 2004 period. Maruti accounts for half of India's domestic car sales, luring consumers with cheap, fuel-efficient vehicles. Demand in India also has been driven by the poor state of public transport and the very low level of car ownership, analysts said. Figures show that only eight people per thousand are car owners. Maruti beat market expectations despite an increase in raw materials costs. The company, majority-owned by Japan's Suzuki, said an increase in steel and other raw material prices was partially offset by cost cutting. Sales in the fiscal third quarter, including vans and utility vehicles, rose by 17.8% to 136.069 units. Maruti is not the only company benefiting as Indian's economic growth gives consumer greater spending power. Utility vehicle and tractor maker Mahindra has reported a 52% rise in net profit during the last three months of 2004. Profit was 1.33bn rupees compared with 874.2m rupees a year earlier.\n",
      "Original:\n",
      "\n",
      "India's Maruti sees profits jump\n",
      "\n",
      "India's biggest carmaker Maruti has reported a sharp increase in quarterly profit after a booming economy and low interest rates boosted demand.\n",
      "\n",
      "Net profit surged 70% to 2.39bn rupees ($54.98m; £29.32m) in the last three months of 2004 compared with 1.41bn rupees a year earlier. Total sales were 30.1bn rupees, up 27% from the same 2004 period. Maruti accounts for half of India's domestic car sales, luring consumers with cheap, fuel-efficient vehicles.\n",
      "\n",
      "Demand in India also has been driven by the poor state of public transport and the very low level of car ownership, analysts said.\n",
      "\n",
      "Figures show that only eight people per thousand are car owners. Maruti beat market expectations despite an increase in raw materials costs. The company, majority-owned by Japan's Suzuki, said an increase in steel and other raw material prices was partially offset by cost cutting. Sales in the fiscal third quarter, including vans and utility vehicles, rose by 17.8% to 136.069 units. Maruti is not the only company benefiting as Indian's economic growth gives consumer greater spending power. Utility vehicle and tractor maker Mahindra has reported a 52% rise in net profit during the last three months of 2004. Profit was 1.33bn rupees compared with 874.2m rupees a year earlier.\n",
      "\n"
     ]
    }
   ],
   "source": [
    "# !pip3 install contractions\n",
    "import contractions, itertools\n",
    "\n",
    "def expand_contractions(text: str) -> str:\n",
    "    expanded_words = []\n",
    "    for word in text.split():\n",
    "        expanded_words.append(contractions.fix(word))\n",
    "    return ' '.join(expanded_words)\n",
    "\n",
    "# Example\n",
    "# text_to_expanded = '''I'll be there within 5 min. Shouldn't you be there too? \n",
    "#                       I'd love to see u there my dear. It's awesome to meet new friends.\n",
    "#                       We've been waiting for this day for so long.'''\n",
    "# print(expand_contractions(text_to_expanded))\n",
    "# I will be there within 5 min. Should not you be there too? I would love to see you there my dear. It is awesome to meet new friends. We have been waiting for this day for so long.\n",
    "\n",
    "expanded_doc = df.text.apply(expand_contractions)\n",
    "for i, doc in list(itertools.islice(enumerate(expanded_doc), 1)):\n",
    "    print(\"Contractions Expanded:\")\n",
    "    print()\n",
    "    print(doc)\n",
    "    print(\"Original:\")\n",
    "    print()\n",
    "    print(df.text[i])"
   ]
  },
  {
   "cell_type": "markdown",
   "id": "03ade97a-bd2f-4bc0-a565-9ecd331ea851",
   "metadata": {},
   "source": [
    "# 7. Noisy Entity Removal\n",
    "Sometimes the text in question contains unwanted noise such as spaces, non-alphanumeric characters, numbers and html formatting that need to be removed. What gets removed though, is highly dependent on the domain of the use case at hand.\n",
    "## 7-1. Punctuation Removal\n",
    "Why remove punctuation?\n",
    "- Removing punctuation can reduce complexity of total number of words considered.\n",
    "- Most importantly, punctuation typically does not hold any vital information and thus should be removed.\n",
    "    - However, be careful if you are utilizing transfer learning on Large language models since the preprocess step can be dependent on punctuation.\n",
    "- [regex101](https://regex101.com/)\n",
    "\n",
    "1. Regular Expression to find all punctuation: `[^\\w\\s]+`\n",
    "    - `+`: Matches the previous token between one and unlimited times, as many times as possible, giving back as needed (greedy).\n",
    "    - `\\w`: Matches any word character (equivalent to `[a-zA-Z0-9]_`).\n",
    "    - `\\s`: Matches any whitespace character (equivalent to `[\\r\\n\\t\\f\\v ]`).\n",
    "2. `spacy`: Uses `Token.is_punct` attribute. See the example in the stop word section."
   ]
  },
  {
   "cell_type": "code",
   "execution_count": 314,
   "id": "c6915df5-0753-4d3f-b850-fdf13e448e9d",
   "metadata": {},
   "outputs": [
    {
     "name": "stdout",
     "output_type": "stream",
     "text": [
      "Punctuation Removed:\n",
      "\n",
      "Indias Maruti sees profits jump\n",
      "\n",
      "Indias biggest carmaker Maruti has reported a sharp increase in quarterly profit after a booming economy and low interest rates boosted demand\n",
      "\n",
      "Net profit surged 70 to 239bn rupees 5498m 2932m in the last three months of 2004 compared with 141bn rupees a year earlier Total sales were 301bn rupees up 27 from the same 2004 period Maruti accounts for half of Indias domestic car sales luring consumers with cheap fuelefficient vehicles\n",
      "\n",
      "Demand in India also has been driven by the poor state of public transport and the very low level of car ownership analysts said\n",
      "\n",
      "Figures show that only eight people per thousand are car owners Maruti beat market expectations despite an increase in raw materials costs The company majorityowned by Japans Suzuki said an increase in steel and other raw material prices was partially offset by cost cutting Sales in the fiscal third quarter including vans and utility vehicles rose by 178 to 136069 units Maruti is not the only company benefiting as Indians economic growth gives consumer greater spending power Utility vehicle and tractor maker Mahindra has reported a 52 rise in net profit during the last three months of 2004 Profit was 133bn rupees compared with 8742m rupees a year earlier\n",
      "\n",
      "Original:\n",
      "\n",
      "India's Maruti sees profits jump\n",
      "\n",
      "India's biggest carmaker Maruti has reported a sharp increase in quarterly profit after a booming economy and low interest rates boosted demand.\n",
      "\n",
      "Net profit surged 70% to 2.39bn rupees ($54.98m; £29.32m) in the last three months of 2004 compared with 1.41bn rupees a year earlier. Total sales were 30.1bn rupees, up 27% from the same 2004 period. Maruti accounts for half of India's domestic car sales, luring consumers with cheap, fuel-efficient vehicles.\n",
      "\n",
      "Demand in India also has been driven by the poor state of public transport and the very low level of car ownership, analysts said.\n",
      "\n",
      "Figures show that only eight people per thousand are car owners. Maruti beat market expectations despite an increase in raw materials costs. The company, majority-owned by Japan's Suzuki, said an increase in steel and other raw material prices was partially offset by cost cutting. Sales in the fiscal third quarter, including vans and utility vehicles, rose by 17.8% to 136.069 units. Maruti is not the only company benefiting as Indian's economic growth gives consumer greater spending power. Utility vehicle and tractor maker Mahindra has reported a 52% rise in net profit during the last three months of 2004. Profit was 1.33bn rupees compared with 874.2m rupees a year earlier.\n",
      "\n"
     ]
    }
   ],
   "source": [
    "import re\n",
    "\n",
    "def remove_punctuation(text: str) -> str:\n",
    "    # r'' indicates to treat as a raw string\n",
    "    return re.sub(r'[^\\w\\s]+', '', text) \n",
    "    \n",
    "no_punctuation = df.text.apply(remove_punctuation)\n",
    "for i, doc in list(itertools.islice(enumerate(no_punctuation), 1)):\n",
    "    print(\"Punctuation Removed:\")\n",
    "    print()\n",
    "    print(doc)\n",
    "    print(\"Original:\")\n",
    "    print()\n",
    "    print(df.text[i])"
   ]
  },
  {
   "cell_type": "markdown",
   "id": "461ef3d0-a1be-447b-8675-d8a6b21d41af",
   "metadata": {},
   "source": [
    "## 7-2. URL Removal\n",
    "- URLs do not give any information when we try to analyze text from words.\n",
    "- However, there are cases when maybe having URL's are still useful especially if you want to have a graph-oriented databse. (Neo4j for example).\n",
    "- Regular expression to find all URLs: `http\\S+|www.\\S+`\n",
    "    - `\\S`: `\\s` matches whitespaces (spaces, tabs and new lines). `\\S` is negated `\\s`."
   ]
  },
  {
   "cell_type": "code",
   "execution_count": 315,
   "id": "e37c96a3-e5da-4f1c-9a77-ca170ba27a88",
   "metadata": {},
   "outputs": [
    {
     "name": "stdout",
     "output_type": "stream",
     "text": [
      "URL Removed:\n",
      "\n",
      "India's Maruti sees profits jump\n",
      "\n",
      "India's biggest carmaker Maruti has reported a sharp increase in quarterly profit after a booming economy and low interest rates boosted demand.\n",
      "\n",
      "Net profit surged 70% to 2.39bn rupees ($54.98m; £29.32m) in the last three months of 2004 compared with 1.41bn rupees a year earlier. Total sales were 30.1bn rupees, up 27% from the same 2004 period. Maruti accounts for half of India's domestic car sales, luring consumers with cheap, fuel-efficient vehicles.\n",
      "\n",
      "Demand in India also has been driven by the poor state of public transport and the very low level of car ownership, analysts said.\n",
      "\n",
      "Figures show that only eight people per thousand are car owners. Maruti beat market expectations despite an increase in raw materials costs. The company, majority-owned by Japan's Suzuki, said an increase in steel and other raw material prices was partially offset by cost cutting. Sales in the fiscal third quarter, including vans and utility vehicles, rose by 17.8% to 136.069 units. Maruti is not the only company benefiting as Indian's economic growth gives consumer greater spending power. Utility vehicle and tractor maker Mahindra has reported a 52% rise in net profit during the last three months of 2004. Profit was 1.33bn rupees compared with 874.2m rupees a year earlier.\n",
      "\n",
      "Original:\n",
      "\n",
      "India's Maruti sees profits jump\n",
      "\n",
      "India's biggest carmaker Maruti has reported a sharp increase in quarterly profit after a booming economy and low interest rates boosted demand.\n",
      "\n",
      "Net profit surged 70% to 2.39bn rupees ($54.98m; £29.32m) in the last three months of 2004 compared with 1.41bn rupees a year earlier. Total sales were 30.1bn rupees, up 27% from the same 2004 period. Maruti accounts for half of India's domestic car sales, luring consumers with cheap, fuel-efficient vehicles.\n",
      "\n",
      "Demand in India also has been driven by the poor state of public transport and the very low level of car ownership, analysts said.\n",
      "\n",
      "Figures show that only eight people per thousand are car owners. Maruti beat market expectations despite an increase in raw materials costs. The company, majority-owned by Japan's Suzuki, said an increase in steel and other raw material prices was partially offset by cost cutting. Sales in the fiscal third quarter, including vans and utility vehicles, rose by 17.8% to 136.069 units. Maruti is not the only company benefiting as Indian's economic growth gives consumer greater spending power. Utility vehicle and tractor maker Mahindra has reported a 52% rise in net profit during the last three months of 2004. Profit was 1.33bn rupees compared with 874.2m rupees a year earlier.\n",
      "\n"
     ]
    }
   ],
   "source": [
    "import re\n",
    "\n",
    "def remove_url(text: str) -> str:\n",
    "    return re.sub(r'http\\S+|www.\\S+', '', text)\n",
    "\n",
    "no_url = df.text.apply(remove_url)\n",
    "for i, doc in list(itertools.islice(enumerate(no_url), 1)):\n",
    "    print(\"URL Removed:\")\n",
    "    print()\n",
    "    print(doc)\n",
    "    print(\"Original:\")\n",
    "    print()\n",
    "    print(df.text[i])"
   ]
  },
  {
   "cell_type": "markdown",
   "id": "6c3949b7-ee31-4ad4-9ad9-6a49970bdef0",
   "metadata": {},
   "source": [
    "## 7-3. HTML Tag Removal\n",
    "Text data may contain HTML tags that need to be removed before analysis. Regular Expression to find all HTML tags: `<.*?>`\n",
    "- `.*`: Matches zero or more of any character.\n",
    "- `?`: Changes the repetition behavior into non-greedy (reluctant or lazy). Matches as few repetitions as possible.\n",
    "    - For example, the greedy `h.+l` matches \"hell\" in \"hello\" but the lazy `h.+?l` matches \"hel\"."
   ]
  },
  {
   "cell_type": "code",
   "execution_count": 334,
   "id": "50bea305-22f2-4aba-a81a-352c1e4c17ca",
   "metadata": {},
   "outputs": [
    {
     "name": "stdout",
     "output_type": "stream",
     "text": [
      "HTML Tags Removed:\n",
      "\n",
      "India's Maruti sees profits jump\n",
      "\n",
      "India's biggest carmaker Maruti has reported a sharp increase in quarterly profit after a booming economy and low interest rates boosted demand.\n",
      "\n",
      "Net profit surged 70% to 2.39bn rupees ($54.98m; £29.32m) in the last three months of 2004 compared with 1.41bn rupees a year earlier. Total sales were 30.1bn rupees, up 27% from the same 2004 period. Maruti accounts for half of India's domestic car sales, luring consumers with cheap, fuel-efficient vehicles.\n",
      "\n",
      "Demand in India also has been driven by the poor state of public transport and the very low level of car ownership, analysts said.\n",
      "\n",
      "Figures show that only eight people per thousand are car owners. Maruti beat market expectations despite an increase in raw materials costs. The company, majority-owned by Japan's Suzuki, said an increase in steel and other raw material prices was partially offset by cost cutting. Sales in the fiscal third quarter, including vans and utility vehicles, rose by 17.8% to 136.069 units. Maruti is not the only company benefiting as Indian's economic growth gives consumer greater spending power. Utility vehicle and tractor maker Mahindra has reported a 52% rise in net profit during the last three months of 2004. Profit was 1.33bn rupees compared with 874.2m rupees a year earlier.\n",
      "\n",
      "Original:\n",
      "\n",
      "India's Maruti sees profits jump\n",
      "\n",
      "India's biggest carmaker Maruti has reported a sharp increase in quarterly profit after a booming economy and low interest rates boosted demand.\n",
      "\n",
      "Net profit surged 70% to 2.39bn rupees ($54.98m; £29.32m) in the last three months of 2004 compared with 1.41bn rupees a year earlier. Total sales were 30.1bn rupees, up 27% from the same 2004 period. Maruti accounts for half of India's domestic car sales, luring consumers with cheap, fuel-efficient vehicles.\n",
      "\n",
      "Demand in India also has been driven by the poor state of public transport and the very low level of car ownership, analysts said.\n",
      "\n",
      "Figures show that only eight people per thousand are car owners. Maruti beat market expectations despite an increase in raw materials costs. The company, majority-owned by Japan's Suzuki, said an increase in steel and other raw material prices was partially offset by cost cutting. Sales in the fiscal third quarter, including vans and utility vehicles, rose by 17.8% to 136.069 units. Maruti is not the only company benefiting as Indian's economic growth gives consumer greater spending power. Utility vehicle and tractor maker Mahindra has reported a 52% rise in net profit during the last three months of 2004. Profit was 1.33bn rupees compared with 874.2m rupees a year earlier.\n",
      "\n"
     ]
    }
   ],
   "source": [
    "import re\n",
    "\n",
    "def remove_html_tag(text: str) -> str:\n",
    "    return re.sub(r'<.*?>', '', text)\n",
    "\n",
    "no_html_tag = df.text.apply(remove_html_tag)\n",
    "for i, doc in list(itertools.islice(enumerate(no_html_tag), 1)):\n",
    "    print(\"HTML Tags Removed:\")\n",
    "    print()\n",
    "    print(doc)\n",
    "    print(\"Original:\")\n",
    "    print()\n",
    "    print(df.text[i])"
   ]
  },
  {
   "cell_type": "markdown",
   "id": "0b9281bd-c58f-4a13-9071-2b5f18b611f8",
   "metadata": {},
   "source": [
    "## 7-4. Whitespace Removal\n",
    "**Stripping** gets rid of leading and trailing blanks."
   ]
  },
  {
   "cell_type": "code",
   "execution_count": 333,
   "id": "c36c4e51-6baa-4859-8622-ca7e72744d77",
   "metadata": {},
   "outputs": [
    {
     "name": "stdout",
     "output_type": "stream",
     "text": [
      "Stripped:\n",
      "\n",
      "India's Maruti sees profits jump\n",
      "\n",
      "India's biggest carmaker Maruti has reported a sharp increase in quarterly profit after a booming economy and low interest rates boosted demand.\n",
      "\n",
      "Net profit surged 70% to 2.39bn rupees ($54.98m; £29.32m) in the last three months of 2004 compared with 1.41bn rupees a year earlier. Total sales were 30.1bn rupees, up 27% from the same 2004 period. Maruti accounts for half of India's domestic car sales, luring consumers with cheap, fuel-efficient vehicles.\n",
      "\n",
      "Demand in India also has been driven by the poor state of public transport and the very low level of car ownership, analysts said.\n",
      "\n",
      "Figures show that only eight people per thousand are car owners. Maruti beat market expectations despite an increase in raw materials costs. The company, majority-owned by Japan's Suzuki, said an increase in steel and other raw material prices was partially offset by cost cutting. Sales in the fiscal third quarter, including vans and utility vehicles, rose by 17.8% to 136.069 units. Maruti is not the only company benefiting as Indian's economic growth gives consumer greater spending power. Utility vehicle and tractor maker Mahindra has reported a 52% rise in net profit during the last three months of 2004. Profit was 1.33bn rupees compared with 874.2m rupees a year earlier.\n",
      "Original:\n",
      "\n",
      "India's Maruti sees profits jump\n",
      "\n",
      "India's biggest carmaker Maruti has reported a sharp increase in quarterly profit after a booming economy and low interest rates boosted demand.\n",
      "\n",
      "Net profit surged 70% to 2.39bn rupees ($54.98m; £29.32m) in the last three months of 2004 compared with 1.41bn rupees a year earlier. Total sales were 30.1bn rupees, up 27% from the same 2004 period. Maruti accounts for half of India's domestic car sales, luring consumers with cheap, fuel-efficient vehicles.\n",
      "\n",
      "Demand in India also has been driven by the poor state of public transport and the very low level of car ownership, analysts said.\n",
      "\n",
      "Figures show that only eight people per thousand are car owners. Maruti beat market expectations despite an increase in raw materials costs. The company, majority-owned by Japan's Suzuki, said an increase in steel and other raw material prices was partially offset by cost cutting. Sales in the fiscal third quarter, including vans and utility vehicles, rose by 17.8% to 136.069 units. Maruti is not the only company benefiting as Indian's economic growth gives consumer greater spending power. Utility vehicle and tractor maker Mahindra has reported a 52% rise in net profit during the last three months of 2004. Profit was 1.33bn rupees compared with 874.2m rupees a year earlier.\n",
      "\n"
     ]
    }
   ],
   "source": [
    "for i, doc in list(itertools.islice(enumerate(df.text.str.strip()), 1)):\n",
    "    print(\"Stripped:\")\n",
    "    print()\n",
    "    print(doc)\n",
    "    print(\"Original:\")\n",
    "    print()\n",
    "    print(df.text[i])"
   ]
  },
  {
   "cell_type": "markdown",
   "id": "ed989ac8-f774-4c12-ab2a-fd1281539eb0",
   "metadata": {},
   "source": [
    "## 7-5. Number Removal\n",
    "Usually combined with punctuation removal. Regular expression to find all numbers: `[\\d]`\n",
    "- `\\d`: Matches any digit from 0 to 9."
   ]
  },
  {
   "cell_type": "code",
   "execution_count": 336,
   "id": "9859545e-160b-46b3-9362-80a58fbe987e",
   "metadata": {},
   "outputs": [
    {
     "name": "stdout",
     "output_type": "stream",
     "text": [
      "Numbers Removed:\n",
      "\n",
      "India's Maruti sees profits jump\n",
      "\n",
      "India's biggest carmaker Maruti has reported a sharp increase in quarterly profit after a booming economy and low interest rates boosted demand.\n",
      "\n",
      "Net profit surged % to .bn rupees ($.m; £.m) in the last three months of  compared with .bn rupees a year earlier. Total sales were .bn rupees, up % from the same  period. Maruti accounts for half of India's domestic car sales, luring consumers with cheap, fuel-efficient vehicles.\n",
      "\n",
      "Demand in India also has been driven by the poor state of public transport and the very low level of car ownership, analysts said.\n",
      "\n",
      "Figures show that only eight people per thousand are car owners. Maruti beat market expectations despite an increase in raw materials costs. The company, majority-owned by Japan's Suzuki, said an increase in steel and other raw material prices was partially offset by cost cutting. Sales in the fiscal third quarter, including vans and utility vehicles, rose by .% to . units. Maruti is not the only company benefiting as Indian's economic growth gives consumer greater spending power. Utility vehicle and tractor maker Mahindra has reported a % rise in net profit during the last three months of . Profit was .bn rupees compared with .m rupees a year earlier.\n",
      "\n",
      "Original:\n",
      "\n",
      "India's Maruti sees profits jump\n",
      "\n",
      "India's biggest carmaker Maruti has reported a sharp increase in quarterly profit after a booming economy and low interest rates boosted demand.\n",
      "\n",
      "Net profit surged 70% to 2.39bn rupees ($54.98m; £29.32m) in the last three months of 2004 compared with 1.41bn rupees a year earlier. Total sales were 30.1bn rupees, up 27% from the same 2004 period. Maruti accounts for half of India's domestic car sales, luring consumers with cheap, fuel-efficient vehicles.\n",
      "\n",
      "Demand in India also has been driven by the poor state of public transport and the very low level of car ownership, analysts said.\n",
      "\n",
      "Figures show that only eight people per thousand are car owners. Maruti beat market expectations despite an increase in raw materials costs. The company, majority-owned by Japan's Suzuki, said an increase in steel and other raw material prices was partially offset by cost cutting. Sales in the fiscal third quarter, including vans and utility vehicles, rose by 17.8% to 136.069 units. Maruti is not the only company benefiting as Indian's economic growth gives consumer greater spending power. Utility vehicle and tractor maker Mahindra has reported a 52% rise in net profit during the last three months of 2004. Profit was 1.33bn rupees compared with 874.2m rupees a year earlier.\n",
      "\n"
     ]
    }
   ],
   "source": [
    "import re\n",
    "\n",
    "def remove_number(text: str) -> str:\n",
    "    return re.sub(r'[\\d]', '', text)\n",
    "\n",
    "no_number = df.text.apply(remove_number)\n",
    "for i, doc in list(itertools.islice(enumerate(no_number), 1)):\n",
    "    print(\"Numbers Removed:\")\n",
    "    print()\n",
    "    print(doc)\n",
    "    print(\"Original:\")\n",
    "    print()\n",
    "    print(df.text[i])"
   ]
  },
  {
   "cell_type": "markdown",
   "id": "2ef14ca2-011d-4106-8898-8c35e6479429",
   "metadata": {},
   "source": [
    "## 7-6. Stop Word Removal\n",
    "- Stop words are commonly used words in language, adding little to no value to the meaning of the sentence. A group of words that do not add any additional information such as articles, determiners and prepositions are associated with stop words.\n",
    "- The list of stop words vary from package to package.\n",
    "\n",
    "1. `nltk.corpus.stopwords`\n",
    "2. `spacy`: Uses `Token.is_stop` attribute.\n",
    "3. `gensim.parsing.preprocessing.remove_stopwords()`\n",
    "\n",
    "Types of Stop Words:\n",
    "1. **Common Stop Words:** These are the most frequently occurring words in a language and are often removed during text preprocessing. Examples include “the,” “is,” “in,” “for,” “where,” “when,” “to,” “at,” etc.\n",
    "2. **Custom Stop Words:** Depending on the specific task or domain, additional words may be considered as stopwords. These could be domain-specific terms that don’t contribute much to the overall meaning. For example, in a medical context, words like “patient” or “treatment” might be considered as custom stopwords.\n",
    "3. **Numerical Stop Words:** Numbers and numeric characters may be treated as stopwords in certain cases, especially when the analysis is focused on the meaning of the text rather than specific numerical values. As the number removal section.\n",
    "4. **Single-Character Stop Words:** Single characters, such as “a,” “I,” “s,” or “x,” may be considered stopwords, particularly in cases where they don’t convey much meaning on their own. Regular expression to find all single character: `\\b[a-zA-Z]\\s`. Note \"a\" will be removed.\n",
    "5. **Contextual Stop Words:** Words that are stopwords in one context but meaningful in another may be considered as contextual stopwords. For instance, the word “will” might be a stopword in the context of general language processing but could be important in predicting future events."
   ]
  },
  {
   "cell_type": "code",
   "execution_count": 245,
   "id": "1b049715-02ea-4fa3-9be4-09fecaaceda1",
   "metadata": {},
   "outputs": [
    {
     "name": "stderr",
     "output_type": "stream",
     "text": [
      "[nltk_data] Downloading package stopwords to\n",
      "[nltk_data]     /home/yungshun317/nltk_data...\n"
     ]
    },
    {
     "name": "stdout",
     "output_type": "stream",
     "text": [
      "['i', 'me', 'my', 'myself', 'we', 'our', 'ours', 'ourselves', 'you', \"you're\", \"you've\", \"you'll\", \"you'd\", 'your', 'yours', 'yourself', 'yourselves', 'he', 'him', 'his', 'himself', 'she', \"she's\", 'her', 'hers', 'herself', 'it', \"it's\", 'its', 'itself', 'they', 'them', 'their', 'theirs', 'themselves', 'what', 'which', 'who', 'whom', 'this', 'that', \"that'll\", 'these', 'those', 'am', 'is', 'are', 'was', 'were', 'be', 'been', 'being', 'have', 'has', 'had', 'having', 'do', 'does', 'did', 'doing', 'a', 'an', 'the', 'and', 'but', 'if', 'or', 'because', 'as', 'until', 'while', 'of', 'at', 'by', 'for', 'with', 'about', 'against', 'between', 'into', 'through', 'during', 'before', 'after', 'above', 'below', 'to', 'from', 'up', 'down', 'in', 'out', 'on', 'off', 'over', 'under', 'again', 'further', 'then', 'once', 'here', 'there', 'when', 'where', 'why', 'how', 'all', 'any', 'both', 'each', 'few', 'more', 'most', 'other', 'some', 'such', 'no', 'nor', 'not', 'only', 'own', 'same', 'so', 'than', 'too', 'very', 's', 't', 'can', 'will', 'just', 'don', \"don't\", 'should', \"should've\", 'now', 'd', 'll', 'm', 'o', 're', 've', 'y', 'ain', 'aren', \"aren't\", 'couldn', \"couldn't\", 'didn', \"didn't\", 'doesn', \"doesn't\", 'hadn', \"hadn't\", 'hasn', \"hasn't\", 'haven', \"haven't\", 'isn', \"isn't\", 'ma', 'mightn', \"mightn't\", 'mustn', \"mustn't\", 'needn', \"needn't\", 'shan', \"shan't\", 'shouldn', \"shouldn't\", 'wasn', \"wasn't\", 'weren', \"weren't\", 'won', \"won't\", 'wouldn', \"wouldn't\"]\n"
     ]
    },
    {
     "name": "stderr",
     "output_type": "stream",
     "text": [
      "[nltk_data]   Unzipping corpora/stopwords.zip.\n"
     ]
    }
   ],
   "source": [
    "# `nltk`\n",
    "import nltk\n",
    "from nltk.corpus import stopwords\n",
    "nltk.download('stopwords')\n",
    "\n",
    "print(stopwords.words('english'))"
   ]
  },
  {
   "cell_type": "code",
   "execution_count": 305,
   "id": "dc52b8d9-82e5-4425-9d67-98f9363bc236",
   "metadata": {},
   "outputs": [
    {
     "name": "stdout",
     "output_type": "stream",
     "text": [
      "No Stop Words:\n",
      "\n",
      "India's Maruti sees profits jump India's biggest carmaker Maruti reported sharp increase quarterly profit booming economy low interest rates boosted demand. Net profit surged 70% 2.39bn rupees ($54.98m; £29.32m) last three months 2004 compared 1.41bn rupees year earlier. Total sales 30.1bn rupees, 27% 2004 period. Maruti accounts half India's domestic car sales, luring consumers cheap, fuel-efficient vehicles. Demand India also driven poor state public transport low level car ownership, analysts said. Figures show eight people per thousand car owners. Maruti beat market expectations despite increase raw materials costs. The company, majority-owned Japan's Suzuki, said increase steel raw material prices partially offset cost cutting. Sales fiscal third quarter, including vans utility vehicles, rose 17.8% 136.069 units. Maruti company benefiting Indian's economic growth gives consumer greater spending power. Utility vehicle tractor maker Mahindra reported 52% rise net profit last three months 2004. Profit 1.33bn rupees compared 874.2m rupees year earlier.\n",
      "\n",
      "Original:\n",
      "\n",
      "India's Maruti sees profits jump\n",
      "\n",
      "India's biggest carmaker Maruti has reported a sharp increase in quarterly profit after a booming economy and low interest rates boosted demand.\n",
      "\n",
      "Net profit surged 70% to 2.39bn rupees ($54.98m; £29.32m) in the last three months of 2004 compared with 1.41bn rupees a year earlier. Total sales were 30.1bn rupees, up 27% from the same 2004 period. Maruti accounts for half of India's domestic car sales, luring consumers with cheap, fuel-efficient vehicles.\n",
      "\n",
      "Demand in India also has been driven by the poor state of public transport and the very low level of car ownership, analysts said.\n",
      "\n",
      "Figures show that only eight people per thousand are car owners. Maruti beat market expectations despite an increase in raw materials costs. The company, majority-owned by Japan's Suzuki, said an increase in steel and other raw material prices was partially offset by cost cutting. Sales in the fiscal third quarter, including vans and utility vehicles, rose by 17.8% to 136.069 units. Maruti is not the only company benefiting as Indian's economic growth gives consumer greater spending power. Utility vehicle and tractor maker Mahindra has reported a 52% rise in net profit during the last three months of 2004. Profit was 1.33bn rupees compared with 874.2m rupees a year earlier.\n",
      "\n"
     ]
    }
   ],
   "source": [
    "stop_words = stopwords.words('english')\n",
    "\n",
    "no_stop_words = df.text.apply(lambda doc: ' '.join([word for word in doc.split() if word not in stop_words]))\n",
    "for i, doc in list(itertools.islice(enumerate(no_stop_words), 1)):\n",
    "    print(\"No Stop Words:\")\n",
    "    print()\n",
    "    print(doc)\n",
    "    print()\n",
    "    print(\"Original:\")\n",
    "    print()\n",
    "    print(df.text[i])"
   ]
  },
  {
   "cell_type": "code",
   "execution_count": 280,
   "id": "26a2e41e-1fe0-4990-b7b2-f5594c858396",
   "metadata": {},
   "outputs": [],
   "source": [
    "# `spacy`\n",
    "import spacy\n",
    "# Execute `python3 -m spacy download en` in command line first\n",
    "nlp = spacy.load('en_core_web_sm')"
   ]
  },
  {
   "cell_type": "code",
   "execution_count": 330,
   "id": "e948b1d7-fb78-4eb6-816f-94d6e33b99d6",
   "metadata": {},
   "outputs": [
    {
     "name": "stdout",
     "output_type": "stream",
     "text": [
      "No Stop Words:\n",
      "\n",
      "India Maruti sees profits jump India biggest carmaker Maruti reported sharp increase quarterly profit booming economy low interest rates boosted demand Net profit surged 70 2.39bn rupees $ 54.98 m £ 29.32 m months 2004 compared 1.41bn rupees year earlier Total sales 30.1bn rupees 27 2004 period Maruti accounts half India domestic car sales luring consumers cheap fuel efficient vehicles Demand India driven poor state public transport low level car ownership analysts said Figures people thousand car owners Maruti beat market expectations despite increase raw materials costs company majority owned Japan Suzuki said increase steel raw material prices partially offset cost cutting Sales fiscal quarter including vans utility vehicles rose 17.8 136.069 units Maruti company benefiting Indian economic growth gives consumer greater spending power Utility vehicle tractor maker Mahindra reported 52 rise net profit months 2004 Profit 1.33bn rupees compared 874.2 m rupees year earlier\n",
      "\n",
      "Original:\n",
      "\n",
      "India's Maruti sees profits jump\n",
      "\n",
      "India's biggest carmaker Maruti has reported a sharp increase in quarterly profit after a booming economy and low interest rates boosted demand.\n",
      "\n",
      "Net profit surged 70% to 2.39bn rupees ($54.98m; £29.32m) in the last three months of 2004 compared with 1.41bn rupees a year earlier. Total sales were 30.1bn rupees, up 27% from the same 2004 period. Maruti accounts for half of India's domestic car sales, luring consumers with cheap, fuel-efficient vehicles.\n",
      "\n",
      "Demand in India also has been driven by the poor state of public transport and the very low level of car ownership, analysts said.\n",
      "\n",
      "Figures show that only eight people per thousand are car owners. Maruti beat market expectations despite an increase in raw materials costs. The company, majority-owned by Japan's Suzuki, said an increase in steel and other raw material prices was partially offset by cost cutting. Sales in the fiscal third quarter, including vans and utility vehicles, rose by 17.8% to 136.069 units. Maruti is not the only company benefiting as Indian's economic growth gives consumer greater spending power. Utility vehicle and tractor maker Mahindra has reported a 52% rise in net profit during the last three months of 2004. Profit was 1.33bn rupees compared with 874.2m rupees a year earlier.\n",
      "\n"
     ]
    }
   ],
   "source": [
    "no_stop_words = df.text.apply(lambda doc: ' '.join([token.text for token in nlp(doc) if not token.is_stop and not token.is_punct and not token.is_space]))\n",
    "for i, doc in list(itertools.islice(enumerate(no_stop_words), 1)):\n",
    "    print(\"No Stop Words:\")\n",
    "    print()\n",
    "    print(doc)\n",
    "    print()\n",
    "    print(\"Original:\")\n",
    "    print()\n",
    "    print(df.text[i])"
   ]
  },
  {
   "cell_type": "code",
   "execution_count": 332,
   "id": "c151790b-8e49-44b7-b4fb-da4227cec133",
   "metadata": {},
   "outputs": [
    {
     "name": "stdout",
     "output_type": "stream",
     "text": [
      "No Stop Words:\n",
      "\n",
      "India's Maruti sees profits jump India's biggest carmaker Maruti reported sharp increase quarterly profit booming economy low rates boosted demand. Net profit surged 70% 2.39bn rupees ($54.98m; £29.32m) months 2004 compared 1.41bn rupees year earlier. Total sales 30.1bn rupees, 27% 2004 period. Maruti accounts half India's domestic car sales, luring consumers cheap, fuel-efficient vehicles. Demand India driven poor state public transport low level car ownership, analysts said. Figures people thousand car owners. Maruti beat market expectations despite increase raw materials costs. The company, majority-owned Japan's Suzuki, said increase steel raw material prices partially offset cost cutting. Sales fiscal quarter, including vans utility vehicles, rose 17.8% 136.069 units. Maruti company benefiting Indian's economic growth gives consumer greater spending power. Utility vehicle tractor maker Mahindra reported 52% rise net profit months 2004. Profit 1.33bn rupees compared 874.2m rupees year earlier.\n",
      "\n",
      "Original:\n",
      "\n",
      "India's Maruti sees profits jump\n",
      "\n",
      "India's biggest carmaker Maruti has reported a sharp increase in quarterly profit after a booming economy and low interest rates boosted demand.\n",
      "\n",
      "Net profit surged 70% to 2.39bn rupees ($54.98m; £29.32m) in the last three months of 2004 compared with 1.41bn rupees a year earlier. Total sales were 30.1bn rupees, up 27% from the same 2004 period. Maruti accounts for half of India's domestic car sales, luring consumers with cheap, fuel-efficient vehicles.\n",
      "\n",
      "Demand in India also has been driven by the poor state of public transport and the very low level of car ownership, analysts said.\n",
      "\n",
      "Figures show that only eight people per thousand are car owners. Maruti beat market expectations despite an increase in raw materials costs. The company, majority-owned by Japan's Suzuki, said an increase in steel and other raw material prices was partially offset by cost cutting. Sales in the fiscal third quarter, including vans and utility vehicles, rose by 17.8% to 136.069 units. Maruti is not the only company benefiting as Indian's economic growth gives consumer greater spending power. Utility vehicle and tractor maker Mahindra has reported a 52% rise in net profit during the last three months of 2004. Profit was 1.33bn rupees compared with 874.2m rupees a year earlier.\n",
      "\n"
     ]
    }
   ],
   "source": [
    "# `gensim`\n",
    "from gensim.parsing.preprocessing import remove_stopwords\n",
    "\n",
    "no_stop_words = df.text.apply(remove_stopwords)\n",
    "for i, doc in list(itertools.islice(enumerate(no_stop_words), 1)):\n",
    "    print(\"No Stop Words:\")\n",
    "    print()\n",
    "    print(doc)\n",
    "    print()\n",
    "    print(\"Original:\")\n",
    "    print()\n",
    "    print(df.text[i])"
   ]
  },
  {
   "cell_type": "markdown",
   "id": "306f200f-0532-488a-a992-4acf166e9e9e",
   "metadata": {},
   "source": [
    "# 8. Text Normalization\n",
    "## 8-1. Stemming \n",
    "## 8-2. Lemmatization"
   ]
  },
  {
   "cell_type": "markdown",
   "id": "665afc64-3c69-4546-a9b4-4e5364158a87",
   "metadata": {},
   "source": [
    "# 9. POS Tagging"
   ]
  },
  {
   "cell_type": "markdown",
   "id": "9b4bf93a-f9df-4568-8a32-1607fdd348f0",
   "metadata": {},
   "source": [
    "# 10. NER"
   ]
  },
  {
   "cell_type": "code",
   "execution_count": null,
   "id": "b8860af3-8ea9-44f6-af25-fc28f555288a",
   "metadata": {},
   "outputs": [],
   "source": []
  }
 ],
 "metadata": {
  "kernelspec": {
   "display_name": "Python 3 (ipykernel)",
   "language": "python",
   "name": "python3"
  },
  "language_info": {
   "codemirror_mode": {
    "name": "ipython",
    "version": 3
   },
   "file_extension": ".py",
   "mimetype": "text/x-python",
   "name": "python",
   "nbconvert_exporter": "python",
   "pygments_lexer": "ipython3",
   "version": "3.12.3"
  }
 },
 "nbformat": 4,
 "nbformat_minor": 5
}
