{
 "cells": [
  {
   "cell_type": "code",
   "execution_count": 1,
   "id": "880ff17a-cf78-46b0-aca5-43cd45f9bd55",
   "metadata": {},
   "outputs": [],
   "source": [
    "import math\n",
    "\n",
    "import torch\n",
    "import torch.nn as nn\n",
    "import torch.nn.functional as F\n",
    "from torch.utils.data import dataset\n",
    "\n",
    "import numpy as np\n",
    "import matplotlib.pyplot as plt"
   ]
  },
  {
   "cell_type": "markdown",
   "id": "b2ab94ae-4641-4f7e-b2dc-f13c5f256607",
   "metadata": {},
   "source": [
    "# 1. Seq2seq\n",
    "\n",
    "**Seq2seq (Sequence to Sequence)** is an RNN encoder-decoder framework for **Neural Machine Translation**, or more generally **Sequence Transduction**, specifically by encoding a variable-length source sentence into a fixed-shape vector. The latter would then be decoded into a variable-length target sentence. \n",
    "- [Learning Phrase Representations using RNN Encoder-Decoder for Statistical Machine Translation](https://arxiv.org/abs/1406.1078)\n",
    "- [Sequence to Sequence Learning with Neural Networks](https://arxiv.org/abs/1409.3215) by Ilya Sutskever & Quoc Le at Google Brain\n",
    "\n",
    "Conventionally, in an RNN all relevant information about a source sequence is translated into some internal fixed-dimensional state representation by the encoder. It is this very state that is used by the decoder as the complete and exclusive source of information for generating the translated sequence. In other words, the sequence-to-sequence mechanism treats the intermediate state as a sufficient statistic of whatever string might have served as input.\n",
    "\n",
    "# 2. Attention Mechanisms\n",
    "## 2-1. Neural Machine Translation with Bahdanau Attention\n",
    "1. `torch.utils.data.RandomSampler(data_source, replacement=False, num_samples=None, generator=None)`: Samples elements randomly. If without replacement, then sample from a shuffled dataset.\n",
    "\n",
    "The dataset is derived from the open translation website, [Tatoeba Project](https://tatoeba.org/en), and [Tab-Delimited Bilingual Sentence Pairs](https://www.manythings.org/anki/) splitting languages into individual text files. We will trim the dataset to only relatively short & simple sentences by setting the maximum length. "
   ]
  },
  {
   "cell_type": "code",
   "execution_count": 2,
   "id": "5832d943-180f-4cc0-bc6b-5a32a2d58512",
   "metadata": {},
   "outputs": [],
   "source": [
    "import unicodedata, re\n",
    "\n",
    "# Turn a Unicode string to plain ASCII\n",
    "def unicode_to_ascii(s):\n",
    "    return ''.join(c for c in unicodedata.normalize('NFD', s) if unicodedata.category(c) != 'Mn')\n",
    "\n",
    "# Lowercase, trim, and remove non-letter characters\n",
    "def normalize_string(string):\n",
    "    string = unicode_to_ascii(string.lower().strip())\n",
    "    string = re.sub(r\"([.!?])\", r\" \\1\", string)\n",
    "    string = re.sub(r\"[^a-zA-Z!?]+\", r\" \", string)\n",
    "    return string.strip()\n",
    "\n",
    "max_length = 10\n",
    "\n",
    "eng_prefixes = (\n",
    "    \"i am \", \"i m \",\n",
    "    \"he is\", \"he s \",\n",
    "    \"she is\", \"she s \",\n",
    "    \"you are\", \"you re \",\n",
    "    \"we are\", \"we re \",\n",
    "    \"they are\", \"they re \"\n",
    ")\n",
    "\n",
    "def filter_pair(pair):\n",
    "    return len(pair[0].split(' ')) < max_length and len(pair[1].split(' ')) < max_length and pair[1].startswith(eng_prefixes)\n",
    "\n",
    "def filter_pairs(pairs):\n",
    "    return [pair for pair in pairs if filter_pair(pair)]"
   ]
  },
  {
   "cell_type": "code",
   "execution_count": 3,
   "id": "425a0b49-7e60-4f93-964e-e21eb4f91fe5",
   "metadata": {},
   "outputs": [],
   "source": [
    "sos_token = 0\n",
    "eos_token = 1\n",
    "\n",
    "class Language:\n",
    "    def __init__(self, name):\n",
    "        self.name = name\n",
    "        self.word2idx = {}\n",
    "        self.word_count = {}\n",
    "        self.idx2word = {0: \"<SOS>\", 1: \"<EOS>\"}\n",
    "        # Count `<SOS>` & `<EOS>`\n",
    "        self.num_words = 2\n",
    "\n",
    "    def add_sentence(self, sentence):\n",
    "        for word in sentence.split(' '):\n",
    "            self.add_word(word)\n",
    "\n",
    "    def add_word(self, word):\n",
    "        if word not in self.word2idx:\n",
    "            self.word2idx[word] = self.num_words\n",
    "            self.word_count[word] = 1\n",
    "            self.idx2word[self.num_words] = word\n",
    "            self.num_words += 1\n",
    "        else:\n",
    "            self.word_count[word] += 1\n",
    "\n",
    "def read_languages(language_1, language_2, reverse=False):\n",
    "    print(\"Reading Lines...\")\n",
    "\n",
    "    # Read the file and split into lines\n",
    "    lines = open('datasets/name_languages/%s-%s.txt' % (language_1, language_2), encoding='utf-8').read().strip().split('\\n')\n",
    "\n",
    "    # Split every line into pairs and normalize\n",
    "    pairs = [[normalize_string(s) for s in l.split('\\t')] for l in lines]\n",
    "\n",
    "    # Reverse pairs, make `Language` instances\n",
    "    if reverse:\n",
    "        pairs = [list(reversed(p)) for p in pairs]\n",
    "        input_language = Language(language_2)\n",
    "        output_language = Language(language_1)\n",
    "    else:\n",
    "        input_language = Language(language_1)\n",
    "        output_language = Language(language_2)\n",
    "\n",
    "    return input_language, output_language, pairs"
   ]
  },
  {
   "cell_type": "code",
   "execution_count": 4,
   "id": "dc2b92fa-c4ab-42e3-8f83-2c765ddeaf8c",
   "metadata": {},
   "outputs": [
    {
     "name": "stdout",
     "output_type": "stream",
     "text": [
      "Reading Lines...\n",
      "Read 135842 sentence pairs.\n",
      "Trimmed to 11445 sentence pairs.\n",
      "Counting Words...\n",
      "Counted Words:\n",
      "fra 4601\n",
      "eng 2991\n",
      "['nous sommes du meme cote', 'we re on the same side']\n"
     ]
    }
   ],
   "source": [
    "import random\n",
    "\n",
    "random.seed(0)\n",
    "\n",
    "def prepare_data(language_1, language_2, reverse=False):\n",
    "    input_language, output_language, pairs = read_languages(language_1, language_2, reverse)\n",
    "    print(\"Read %s sentence pairs.\" % len(pairs))\n",
    "    pairs = filter_pairs(pairs)\n",
    "    print(\"Trimmed to %s sentence pairs.\" % len(pairs))\n",
    "    print(\"Counting Words...\")\n",
    "    for pair in pairs:\n",
    "        input_language.add_sentence(pair[0])\n",
    "        output_language.add_sentence(pair[1])\n",
    "    print(\"Counted Words:\")\n",
    "    print(input_language.name, input_language.num_words)\n",
    "    print(output_language.name, output_language.num_words)\n",
    "    return input_language, output_language, pairs\n",
    "\n",
    "input_language, output_language, pairs = prepare_data('eng', 'fra', True)\n",
    "print(random.choice(pairs))"
   ]
  },
  {
   "cell_type": "code",
   "execution_count": 29,
   "id": "7c4d15e4-9ed2-4063-ae65-bfac591e4bf6",
   "metadata": {},
   "outputs": [
    {
     "name": "stdout",
     "output_type": "stream",
     "text": [
      "Reading Lines...\n",
      "Read 135842 sentence pairs.\n",
      "Trimmed to 11445 sentence pairs.\n",
      "Counting Words...\n",
      "Counted Words:\n",
      "fra 4601\n",
      "eng 2991\n",
      "Input Shape: (11445, 10)\n",
      "Target Shape: (11445, 10)\n",
      "Dataset Size: 11445\n",
      "Dataset Sample:\n",
      "(tensor([2, 3, 4, 1, 0, 0, 0, 0, 0, 0], device='cuda:0'), tensor([2, 3, 4, 1, 0, 0, 0, 0, 0, 0], device='cuda:0'))\n",
      "Feature Batch Shape: torch.Size([32, 10])\n",
      "Labels Batch Shape: torch.Size([32, 10])\n",
      "Feature Batch Sample:\n",
      "tensor([[ 121,  124,  568,    1,    0,    0,    0,    0,    0,    0],\n",
      "        [ 209,  210,  305,    1,    0,    0,    0,    0,    0,    0],\n",
      "        [ 209,  210, 1510,    1,    0,    0,    0,    0,    0,    0],\n",
      "        [ 209,  210,  201,  980,   99,  629, 2392,    1,    0,    0],\n",
      "        [ 209,  210, 1289,  144,  113,  601, 3008, 4070,    1,    0],\n",
      "        [   2,    7,  669,   99, 2127, 4081,    1,    0,    0,    0],\n",
      "        [ 121,  124,  193,  194,  196,    1,    0,    0,    0,    0],\n",
      "        [ 244, 1581, 1362,   64,  884,   23, 3897,    1,    0,    0],\n",
      "        [  20,   21,  278,  113,  425,  223,  359,  689,    1,    0],\n",
      "        [ 216,  210,   64, 2021, 3412,    1,    0,    0,    0,    0],\n",
      "        [ 347,  348, 1460,    1,    0,    0,    0,    0,    0,    0],\n",
      "        [ 121,  122,   99,  247, 1722,    1,    0,    0,    0,    0],\n",
      "        [ 121,  124,  193,  194,    1,    0,    0,    0,    0,    0],\n",
      "        [ 116,  213, 1051,    1,    0,    0,    0,    0,    0,    0],\n",
      "        [ 116,  213,  320,  690,    1,    0,    0,    0,    0,    0],\n",
      "        [   2, 2646, 2107,  452,  137,  452, 4173, 2703,    1,    0],\n",
      "        [ 121,  124,  706,  643,    1,    0,    0,    0,    0,    0],\n",
      "        [   2,    7,  442,    1,    0,    0,    0,    0,    0,    0],\n",
      "        [  20,  296, 2665,  245,  232,   64,   20,    1,    0,    0],\n",
      "        [  20,  244,   21,  245,  201,  729, 1888,    1,    0,    0],\n",
      "        [  29,   30, 1411,   32,    1,    0,    0,    0,    0,    0],\n",
      "        [ 347,  348,  349,    1,    0,    0,    0,    0,    0,    0],\n",
      "        [  20,  113,  656,   99, 1388,    1,    0,    0,    0,    0],\n",
      "        [ 121,   10,  122, 1120,   32,    1,    0,    0,    0,    0],\n",
      "        [ 121,  124,  772,    1,    0,    0,    0,    0,    0,    0],\n",
      "        [   2,    7, 1175, 1451,   99,  700,    1,    0,    0,    0],\n",
      "        [ 116,  213,   60,    1,    0,    0,    0,    0,    0,    0],\n",
      "        [ 350,  760,  996,    1,    0,    0,    0,    0,    0,    0],\n",
      "        [  29, 2315,  201,   47,    1,    0,    0,    0,    0,    0],\n",
      "        [ 209,  241,  452,  167,   99,  247, 1544,    1,    0,    0],\n",
      "        [   2,    7,  110,  232, 1887,  688,    1,    0,    0,    0],\n",
      "        [ 121,  559,   64, 1395, 2263,    1,    0,    0,    0,    0]],\n",
      "       device='cuda:0')\n",
      "Labels Batch Sample:\n",
      "tensor([[  76,   77,  113,    1,    0,    0,    0,    0,    0,    0],\n",
      "        [ 128,   77,  190,    1,    0,    0,    0,    0,    0,    0],\n",
      "        [ 128,   77, 1271,    1,    0,    0,    0,    0,    0,    0],\n",
      "        [ 128,   77,  293,  884,  517,  144, 2168,    1,    0,    0],\n",
      "        [ 128,   77,  293,  516, 1740, 2785,  694, 2556,    1,    0],\n",
      "        [   2,    3,  882,  676, 1480, 2564,    1,    0,    0,    0],\n",
      "        [  76,  123,   18,  124,    1,    0,    0,    0,    0,    0],\n",
      "        [   2,    3,    4,  676,  500,  387,  516,  468,    1,    0],\n",
      "        [  13,   39,  168,  531,  144, 1644,  663,    1,    0,    0],\n",
      "        [ 128,   77,   41, 2098,   43, 2016,    1,    0,    0,    0],\n",
      "        [ 220,  123,  804,    1,    0,    0,    0,    0,    0,    0],\n",
      "        [  76,   77,  947,    1,    0,    0,    0,    0,    0,    0],\n",
      "        [  76,  123,  124,    1,    0,    0,    0,    0,    0,    0],\n",
      "        [ 128,   77,  332,    1,    0,    0,    0,    0,    0,    0],\n",
      "        [ 128,   77,  200,  380,    1,    0,    0,    0,    0,    0],\n",
      "        [   2,    3,  295,  517, 1055,   84, 1591, 2634,    1,    0],\n",
      "        [  76,  123,  588,  677,    1,    0,    0,    0,    0,    0],\n",
      "        [   2,   15,  252,    1,    0,    0,    0,    0,    0,    0],\n",
      "        [  13,   39,   51,  101,  516, 1561,    1,    0,    0,    0],\n",
      "        [  13,  536,  537,   45,   39,   13, 1050,    1,    0,    0],\n",
      "        [   2,    3,  762,   21,    1,    0,    0,    0,    0,    0],\n",
      "        [ 220,   77,  129,    1,    0,    0,    0,    0,    0,    0],\n",
      "        [  13,   39,  359,  517,  746,    1,    0,    0,    0,    0],\n",
      "        [  76,   77, 1101,  259,    1,    0,    0,    0,    0,    0],\n",
      "        [  76,   77,  161,    1,    0,    0,    0,    0,    0,    0],\n",
      "        [   2,    3,  449,  795,  517,  694,    1,    0,    0,    0],\n",
      "        [ 128,  123,   43,    1,    0,    0,    0,    0,    0,    0],\n",
      "        [ 220,   77,  154,   63,    1,    0,    0,    0,    0,    0],\n",
      "        [   2,    3, 1341, 1342,    1,    0,    0,    0,    0,    0],\n",
      "        [ 128,   77,  394,    1,    0,    0,    0,    0,    0,    0],\n",
      "        [   2,   15,   71,  517,  388,  531,  377,    1,    0,    0],\n",
      "        [  76,   77, 1268, 1299,  754,    1,    0,    0,    0,    0]],\n",
      "       device='cuda:0')\n"
     ]
    }
   ],
   "source": [
    "from torch.utils.data import DataLoader, TensorDataset, RandomSampler\n",
    "\n",
    "def indexes_from_sentence(language, sentence):\n",
    "    return [language.word2idx[word] for word in sentence.split(' ')]\n",
    "\n",
    "def tensor_from_sentence(language, sentence):\n",
    "    indexes = indexes_from_sentence(language, sentence)\n",
    "    indexes.append(eos_token)\n",
    "    return torch.tensor(indexes, dtype=torch.long, device=device).view(1, -1)\n",
    "\n",
    "def tensors_from_pair(pair):\n",
    "    input_tensor = tensor_from_sentence(input_language, pair[0])\n",
    "    target_tensor = tensor_from_sentence(output_language, pair[1])\n",
    "    return (input_tensor, target_tensor)\n",
    "\n",
    "def get_dataloader(batch_size):\n",
    "    input_language, output_language, pairs = prepare_data('eng', 'fra', True)\n",
    "\n",
    "    num_pairs = len(pairs)\n",
    "    input_ids = np.zeros((num_pairs, max_length), dtype=np.int32)\n",
    "    target_ids = np.zeros((num_pairs, max_length), dtype=np.int32)\n",
    "\n",
    "    for idx, (input_sentence, target_sentence) in enumerate(pairs):\n",
    "        input_sentence_ids = indexes_from_sentence(input_language, input_sentence)\n",
    "        target_sentence_ids = indexes_from_sentence(output_language, target_sentence)\n",
    "        input_sentence_ids.append(eos_token)\n",
    "        target_sentence_ids.append(eos_token)\n",
    "        input_ids[idx, :len(input_sentence_ids)] = input_sentence_ids\n",
    "        target_ids[idx, :len(target_sentence_ids)] = target_sentence_ids\n",
    "\n",
    "    print(\"Input Shape:\", input_ids.shape)\n",
    "    print(\"Target Shape:\", target_ids.shape)\n",
    "    train_data = TensorDataset(torch.LongTensor(input_ids).to(device), torch.LongTensor(target_ids).to(device))\n",
    "    print(\"Dataset Size:\", train_data.__len__())\n",
    "    print(\"Dataset Sample:\")\n",
    "    print(train_data.__getitem__(0))\n",
    "\n",
    "    train_sampler = RandomSampler(train_data)\n",
    "    train_dataloader = DataLoader(train_data, sampler=train_sampler, batch_size=batch_size)\n",
    "\n",
    "    # Iterate through the `DataLoader` & print shapes\n",
    "    train_features, train_labels = next(iter(train_dataloader))\n",
    "    print(f\"Feature Batch Shape: {train_features.size()}\")\n",
    "    print(f\"Labels Batch Shape: {train_labels.size()}\")\n",
    "    print(\"Feature Batch Sample:\")\n",
    "    print(train_features)\n",
    "    print(\"Labels Batch Sample:\")\n",
    "    print(train_labels)\n",
    "\n",
    "    return input_language, output_language, train_dataloader\n",
    "\n",
    "batch_size = 32\n",
    "input_language, output_language, train_dataloader = get_dataloader(batch_size)"
   ]
  },
  {
   "cell_type": "markdown",
   "id": "08e77b02-8ad9-4a27-8e0b-95e48ca0e656",
   "metadata": {},
   "source": [
    "### 2-1-1. Encoder with Gated Recurrent Units (GRUs)\n",
    "The encoder of a seq2seq network is a recurrent neural network (RNN) that outputs some value for every word from the input sequence. For every input word the encoder outputs a vector & a hidden state, and uses the hidden state for the next input word."
   ]
  },
  {
   "cell_type": "code",
   "execution_count": 6,
   "id": "2da276cc-287b-41fd-9c28-c540bacbe396",
   "metadata": {},
   "outputs": [],
   "source": [
    "# Device agnostic code\n",
    "device = \"cuda\" if torch.cuda.is_available() else \"cpu\"\n",
    "\n",
    "class EncoderGRUNeuralNetwork(torch.nn.Module):\n",
    "    def __init__(self, input_size, hidden_size, dropout_prob=0.1):\n",
    "        super(EncoderGRUNeuralNetwork, self).__init__()\n",
    "        self.hidden_size = hidden_size\n",
    "\n",
    "        self.embedding = torch.nn.Embedding(input_size, hidden_size)\n",
    "        self.gru = torch.nn.GRU(hidden_size, hidden_size, batch_first=True)\n",
    "        self.dropout = torch.nn.Dropout(p=dropout_prob)\n",
    "\n",
    "    def forward(self, input):\n",
    "        embedded = self.dropout(self.embedding(input))\n",
    "        output, hidden = self.gru(embedded)\n",
    "        return output, hidden"
   ]
  },
  {
   "cell_type": "markdown",
   "id": "4bfc2aa3-e157-4eaa-b942-6c519d12c9ce",
   "metadata": {},
   "source": [
    "### 2-1-2. Decoder with Gated Recurrent Units (GRUs)\n",
    "At every step of decoding, the decoder is given an input token and hidden state. The initial input token is the start-of-string, `<SOS>`, token. In the simplest seq2seq decoder we use only last output of the encoder, which is called **Context Vector** as it encodes context from the entire sequence, for the initial hidden state."
   ]
  },
  {
   "cell_type": "code",
   "execution_count": 7,
   "id": "ac695398-68d2-456b-aec9-f930a7b10831",
   "metadata": {},
   "outputs": [],
   "source": [
    "class DecoderGRUNeuralNetwork(torch.nn.Module):\n",
    "    def __init__(self, hidden_size, output_size):\n",
    "        super(DecoderGRUNeuralNetwork, self).__init__()\n",
    "        self.embedding = torch.nn.Embedding(output_size, hidden_size)\n",
    "        self.gru = torch.nn.GRU(hidden_size, hidden_size, batch_first=True)\n",
    "        self.output = torch.nn.Linear(hidden_size, output_size)\n",
    "\n",
    "    def forward(self, encoder_outputs, encoder_hidden, target_tensor=None):\n",
    "        batch_size = encoder_outputs.size(0)\n",
    "        decoder_input = torch.empty(batch_size, 1, dtype=torch.long, device=device).fill_(sos_token)\n",
    "        decoder_hidden = encoder_hidden\n",
    "        decoder_outputs = []\n",
    "\n",
    "        for i in range(max_length):\n",
    "            decoder_output, decoder_hidden  = self.forward_step(decoder_input, decoder_hidden)\n",
    "            decoder_outputs.append(decoder_output)\n",
    "\n",
    "            if target_tensor is not None:\n",
    "                # With teacher forcing feed the target as the next input\n",
    "                decoder_input = target_tensor[:, i].unsqueeze(1) \n",
    "            else:\n",
    "                # Without teacher forcing use its own predictions as the next input\n",
    "                _, top_idx = decoder_output.topk(1)\n",
    "                # Detach from history as input\n",
    "                decoder_input = top_idx.squeeze(-1).detach()  \n",
    "\n",
    "        decoder_outputs = torch.cat(decoder_outputs, dim=1)\n",
    "        decoder_outputs = torch.nn.functional.log_softmax(decoder_outputs, dim=-1)\n",
    "        # Return `None` for consistency in the training loop\n",
    "        return decoder_outputs, decoder_hidden, None \n",
    "\n",
    "    def forward_step(self, input, hidden):\n",
    "        output = self.embedding(input)\n",
    "        output = torch.nn.functional.relu(output)\n",
    "        output, hidden = self.gru(output, hidden)\n",
    "        output = self.output(output)\n",
    "        return output, hidden"
   ]
  },
  {
   "cell_type": "markdown",
   "id": "abe88105-d66c-4eec-a1cf-0a83769b104c",
   "metadata": {},
   "source": [
    "### 2-1-3. Bahdanau Attention\n",
    "**Bahdanau Attention**, or **Addition Attention**, is a commonly used attention mechanism in seq2seq models, particularly in neural machine translation tasks. The encoding of a variable-length input into a fixed-length vector squashes the information of the source sentence, irrespective of its length, causing the performance of a basic encoder-decoder model to deteriorate rapidly with an increasing length of the input sentence.\n",
    "\n",
    "- [Neural Machine Translation by Jointly Learning to Align and Translate](https://arxiv.org/abs/1409.0473)\n",
    "\n",
    "In the original research, it employs a bidirectional RNN as an encoder, which generates an annotation for each word in an input sequence, and an RNN decoder, which combines each annotation and the previous hidden decoder state using an addition attention. A learned alignment model, parameterized as a feed-forward neural network & jointly trained with the remaining system components, is used to compute attention scores between the encoder and decoder hidden states.\n",
    "\n",
    "1. `torch.bmm(input, mat2, *, out=None)`: Performs a batch matrix-matrix product of matrices stored in `input` and `mat2`, which both of them must be three-dimensional tensors each containing the same number of matrices. If `input` is a $(b, n, m)$ tensor, `mat2` is a $(b, m, p)$ tensor, then `out` will be a $(b, n, p)$ tensor."
   ]
  },
  {
   "cell_type": "code",
   "execution_count": 8,
   "id": "368847fe-7080-4da8-8bf5-a9333ad60d4a",
   "metadata": {},
   "outputs": [],
   "source": [
    "class BahdanauAttention(torch.nn.Module):\n",
    "    def __init__(self, hidden_size):\n",
    "        super(BahdanauAttention, self).__init__()\n",
    "        self.Wa = torch.nn.Linear(hidden_size, hidden_size)\n",
    "        self.Ua = torch.nn.Linear(hidden_size, hidden_size)\n",
    "        self.Va = torch.nn.Linear(hidden_size, 1)\n",
    "\n",
    "    def forward(self, query, keys):\n",
    "        # Calculate attention scores\n",
    "        scores = self.Va(torch.tanh(self.Wa(query) + self.Ua(keys)))\n",
    "        scores = scores.squeeze(2).unsqueeze(1)\n",
    "\n",
    "        weights = torch.nn.functional.softmax(scores, dim=-1)\n",
    "        context = torch.bmm(weights, keys)\n",
    "\n",
    "        return context, weights\n",
    "\n",
    "class BahdanauAttentionDecoderGRUNeuralNetwork(nn.Module):\n",
    "    def __init__(self, hidden_size, output_size, dropout_prob=0.1):\n",
    "        super(BahdanauAttentionDecoderGRUNeuralNetwork, self).__init__()\n",
    "        self.embedding = torch.nn.Embedding(output_size, hidden_size)\n",
    "        self.attention = BahdanauAttention(hidden_size)\n",
    "        self.gru = torch.nn.GRU(2 * hidden_size, hidden_size, batch_first=True)\n",
    "        self.output = torch.nn.Linear(hidden_size, output_size)\n",
    "        self.dropout = torch.nn.Dropout(p=dropout_prob)\n",
    "\n",
    "    def forward(self, encoder_outputs, encoder_hidden, target_tensor=None):\n",
    "        batch_size = encoder_outputs.size(0)\n",
    "        decoder_input = torch.empty(batch_size, 1, dtype=torch.long, device=device).fill_(sos_token)\n",
    "        decoder_hidden = encoder_hidden\n",
    "        decoder_outputs = []\n",
    "        attentions = []\n",
    "\n",
    "        for i in range(max_length):\n",
    "            decoder_output, decoder_hidden, attn_weights = self.forward_step(\n",
    "                decoder_input, decoder_hidden, encoder_outputs\n",
    "            )\n",
    "            decoder_outputs.append(decoder_output)\n",
    "            attentions.append(attn_weights)\n",
    "\n",
    "            if target_tensor is not None:\n",
    "                # With teacher forcing feed the target as the next input\n",
    "                decoder_input = target_tensor[:, i].unsqueeze(1)\n",
    "            else:\n",
    "                # Without teacher forcing use its own predictions as the next input\n",
    "                _, top_idx = decoder_output.topk(1)\n",
    "                # Detach from history as input\n",
    "                decoder_input = top_idx.squeeze(-1).detach()\n",
    "\n",
    "        decoder_outputs = torch.cat(decoder_outputs, dim=1)\n",
    "        decoder_outputs = torch.nn.functional.log_softmax(decoder_outputs, dim=-1)\n",
    "        attentions = torch.cat(attentions, dim=1)\n",
    "\n",
    "        return decoder_outputs, decoder_hidden, attentions\n",
    "\n",
    "    def forward_step(self, input, hidden, encoder_outputs):\n",
    "        embedded =  self.dropout(self.embedding(input))\n",
    "\n",
    "        query = hidden.permute(1, 0, 2)\n",
    "        context, attn_weights = self.attention(query, encoder_outputs)\n",
    "        input_gru = torch.cat((embedded, context), dim=2)\n",
    "\n",
    "        output, hidden = self.gru(input_gru, hidden)\n",
    "        output = self.output(output)\n",
    "\n",
    "        return output, hidden, attn_weights"
   ]
  },
  {
   "cell_type": "code",
   "execution_count": 23,
   "id": "3f7e5d0e-073b-4119-9286-1bb5064542fa",
   "metadata": {},
   "outputs": [],
   "source": [
    "import time, math\n",
    "import matplotlib.pyplot as plt\n",
    "import matplotlib.ticker as ticker\n",
    "import numpy as np\n",
    "\n",
    "def as_minutes(s):\n",
    "    m = math.floor(s / 60)\n",
    "    s -= m * 60\n",
    "    return '%dm %ds' % (m, s)\n",
    "\n",
    "def time_since(since, percent):\n",
    "    now = time.time()\n",
    "    s = now - since\n",
    "    es = s / (percent)\n",
    "    rs = es - s\n",
    "    return '%s (- %s)' % (as_minutes(s), as_minutes(rs))\n",
    "\n",
    "def train_epoch(dataloader, encoder, decoder, encoder_optimizer, decoder_optimizer, criterion):\n",
    "    total_loss = 0\n",
    "    \n",
    "    for data in dataloader:\n",
    "        input_tensor, target_tensor = data\n",
    "\n",
    "        encoder_optimizer.zero_grad()\n",
    "        decoder_optimizer.zero_grad()\n",
    "\n",
    "        encoder_outputs, encoder_hidden = encoder(input_tensor)\n",
    "        decoder_outputs, _, _ = decoder(encoder_outputs, encoder_hidden, target_tensor)\n",
    "\n",
    "        loss = criterion(\n",
    "            decoder_outputs.view(-1, decoder_outputs.size(-1)),\n",
    "            target_tensor.view(-1)\n",
    "        )\n",
    "        loss.backward()\n",
    "\n",
    "        encoder_optimizer.step()\n",
    "        decoder_optimizer.step()\n",
    "\n",
    "        total_loss += loss.item()\n",
    "\n",
    "    return total_loss / len(dataloader)\n",
    "\n",
    "def show_plot(points):\n",
    "    plt.figure()\n",
    "    fig, ax = plt.subplots()\n",
    "    # This locator puts ticks at regular intervals\n",
    "    locator = ticker.MultipleLocator(base=0.2)\n",
    "    ax.yaxis.set_major_locator(locator)\n",
    "    plt.plot(points)\n",
    "\n",
    "def train(train_dataloader, encoder, decoder, num_epochs, learning_rate=0.001, print_every=100, plot_every=100):\n",
    "    start = time.time()\n",
    "    plot_losses = []\n",
    "    # Reset every `print_every`\n",
    "    print_loss_total = 0\n",
    "    # Reset every `plot_every`\n",
    "    plot_loss_total = 0\n",
    "\n",
    "    encoder_optimizer = torch.optim.Adam(encoder.parameters(), lr=learning_rate)\n",
    "    decoder_optimizer = torch.optim.Adam(decoder.parameters(), lr=learning_rate)\n",
    "    criterion = torch.nn.NLLLoss()\n",
    "\n",
    "    for epoch in range(1, num_epochs + 1):\n",
    "        loss = train_epoch(train_dataloader, encoder, decoder, encoder_optimizer, decoder_optimizer, criterion)\n",
    "        print_loss_total += loss\n",
    "        plot_loss_total += loss\n",
    "\n",
    "        if epoch % print_every == 0:\n",
    "            print_loss_avg = print_loss_total / print_every\n",
    "            print_loss_total = 0\n",
    "            print('%s (%d %d%%) %.4f' % (time_since(start, epoch / num_epochs), epoch, epoch / num_epochs * 100, print_loss_avg))\n",
    "\n",
    "        if epoch % plot_every == 0:\n",
    "            plot_loss_avg = plot_loss_total / plot_every\n",
    "            plot_losses.append(plot_loss_avg)\n",
    "            plot_loss_total = 0\n",
    "\n",
    "    show_plot(plot_losses)"
   ]
  },
  {
   "cell_type": "code",
   "execution_count": 31,
   "id": "ec056612-caaf-44b0-891c-4d21bb5045cc",
   "metadata": {},
   "outputs": [],
   "source": [
    "def evaluate(encoder, decoder, sentence, input_language, output_language):\n",
    "    with torch.no_grad():\n",
    "        input_tensor = tensor_from_sentence(input_language, sentence)\n",
    "\n",
    "        encoder_outputs, encoder_hidden = encoder(input_tensor)\n",
    "        decoder_outputs, decoder_hidden, decoder_attn = decoder(encoder_outputs, encoder_hidden)\n",
    "\n",
    "        _, top_idx = decoder_outputs.topk(1)\n",
    "        decoded_ids = top_idx.squeeze()\n",
    "\n",
    "        decoded_words = []\n",
    "        for idx in decoded_ids:\n",
    "            if idx.item() == eos_token:\n",
    "                decoded_words.append('<EOS>')\n",
    "                break\n",
    "            decoded_words.append(output_language.idx2word[idx.item()])\n",
    "    return decoded_words, decoder_attn\n",
    "\n",
    "def evaluate_randomly(encoder, decoder, n=10):\n",
    "    for i in range(n):\n",
    "        pair = random.choice(pairs)\n",
    "        print('>', pair[0])\n",
    "        print('=', pair[1])\n",
    "        output_words, _ = evaluate(encoder, decoder, pair[0], input_language, output_language)\n",
    "        output_sentence = ' '.join(output_words)\n",
    "        print('<', output_sentence)\n",
    "        # Print empty lines betweem samples if not the last one\n",
    "        if i != n - 1:\n",
    "            print('')"
   ]
  },
  {
   "cell_type": "code",
   "execution_count": 24,
   "id": "4e7d29ad-7f82-4642-8244-5605fd2a5cae",
   "metadata": {},
   "outputs": [
    {
     "name": "stdout",
     "output_type": "stream",
     "text": [
      "0m 11s (- 2m 49s) (5 6%) 1.5440\n",
      "0m 21s (- 2m 32s) (10 12%) 0.6843\n",
      "0m 32s (- 2m 20s) (15 18%) 0.3545\n",
      "0m 42s (- 2m 8s) (20 25%) 0.1979\n",
      "0m 53s (- 1m 57s) (25 31%) 0.1234\n",
      "1m 4s (- 1m 47s) (30 37%) 0.0862\n",
      "1m 15s (- 1m 37s) (35 43%) 0.0648\n",
      "1m 26s (- 1m 26s) (40 50%) 0.0541\n",
      "1m 37s (- 1m 15s) (45 56%) 0.0456\n",
      "1m 48s (- 1m 4s) (50 62%) 0.0412\n",
      "1m 58s (- 0m 54s) (55 68%) 0.0373\n",
      "2m 9s (- 0m 43s) (60 75%) 0.0350\n",
      "2m 20s (- 0m 32s) (65 81%) 0.0336\n",
      "2m 31s (- 0m 21s) (70 87%) 0.0314\n",
      "2m 42s (- 0m 10s) (75 93%) 0.0302\n",
      "2m 53s (- 0m 0s) (80 100%) 0.0292\n"
     ]
    },
    {
     "data": {
      "text/plain": [
       "<Figure size 640x480 with 0 Axes>"
      ]
     },
     "metadata": {},
     "output_type": "display_data"
    },
    {
     "data": {
      "image/png": "[encoded data removed]",
      "text/plain": [
       "<Figure size 640x480 with 1 Axes>"
      ]
     },
     "metadata": {},
     "output_type": "display_data"
    }
   ],
   "source": [
    "hidden_size = 128\n",
    "\n",
    "encoder = EncoderGRUNeuralNetwork(input_language.num_words, hidden_size).to(device)\n",
    "decoder = BahdanauAttentionDecoderGRUNeuralNetwork(hidden_size, output_language.num_words).to(device)\n",
    "\n",
    "train(train_dataloader, encoder, decoder, num_epochs=80, print_every=5, plot_every=5)"
   ]
  },
  {
   "cell_type": "code",
   "execution_count": 32,
   "id": "d9ffe81b-340a-4cd9-a9d5-51697fe0936f",
   "metadata": {},
   "outputs": [
    {
     "name": "stdout",
     "output_type": "stream",
     "text": [
      "> il est le plus grand des deux\n",
      "= he is the taller of the two\n",
      "< he is the taller of the two <EOS>\n",
      "\n",
      "> il est fort courageux\n",
      "= he is very brave\n",
      "< he is very brave <EOS>\n",
      "\n",
      "> vous n etes pas encore mort\n",
      "= you re not dead yet\n",
      "< you re not dead yet <EOS>\n",
      "\n",
      "> il est un peu ivre\n",
      "= he s a bit drunk\n",
      "< he s a bit drunk <EOS>\n",
      "\n",
      "> nous n en avons pas termine\n",
      "= we re not done\n",
      "< we re not done <EOS>\n",
      "\n",
      "> je vais avoir besoin de plus de temps\n",
      "= i m going to need some more time\n",
      "< i m going to need some more time <EOS>\n",
      "\n",
      "> vous etes tres astucieuses\n",
      "= you re very astute\n",
      "< you re very astute <EOS>\n",
      "\n",
      "> je requiers ton aide\n",
      "= i m asking you for your help\n",
      "< i m asking you for your help <EOS>\n",
      "\n",
      "> je ne suis pas si presse\n",
      "= i m not in that much of a hurry\n",
      "< i m not in that much of a hurry <EOS>\n",
      "\n",
      "> je suis plutot content\n",
      "= i m fairly happy\n",
      "< i m fairly happy <EOS>\n"
     ]
    }
   ],
   "source": [
    "encoder.eval()\n",
    "decoder.eval()\n",
    "evaluate_randomly(encoder, decoder)"
   ]
  },
  {
   "cell_type": "code",
   "execution_count": 59,
   "id": "6d1a9954-e85c-4f35-9062-b83a25380830",
   "metadata": {},
   "outputs": [
    {
     "name": "stdout",
     "output_type": "stream",
     "text": [
      "Sample Attention:\n",
      "tensor([[[3.8052e-02, 3.3325e-01, 1.5430e-01, 1.3771e-01, 2.5129e-01,\n",
      "          2.6021e-02, 2.2861e-02, 1.5383e-02, 1.8317e-02, 2.8240e-03],\n",
      "         [2.2669e-04, 1.2873e-03, 5.8983e-04, 9.3445e-02, 2.4531e-01,\n",
      "          1.7962e-01, 1.7801e-01, 1.2158e-01, 1.4049e-01, 3.9445e-02],\n",
      "         [2.3186e-03, 8.1286e-02, 4.6676e-02, 3.7880e-01, 3.7287e-01,\n",
      "          4.2105e-02, 4.4898e-02, 1.1891e-02, 1.4720e-02, 4.4345e-03],\n",
      "         [1.0716e-04, 3.5082e-04, 4.8032e-05, 2.1164e-02, 6.7391e-01,\n",
      "          9.1989e-02, 6.3175e-02, 7.5774e-02, 5.5719e-02, 1.7765e-02],\n",
      "         [1.0064e-06, 8.6094e-07, 2.8683e-06, 3.8114e-05, 2.1602e-02,\n",
      "          2.3130e-01, 2.0626e-01, 2.3559e-01, 2.6166e-01, 4.3544e-02],\n",
      "         [9.2085e-08, 1.2156e-07, 7.8310e-07, 1.4651e-05, 5.1336e-03,\n",
      "          3.4612e-02, 2.3286e-01, 3.9058e-01, 2.4398e-01, 9.2816e-02],\n",
      "         [2.9240e-09, 2.9445e-08, 2.9455e-08, 2.1786e-05, 2.6234e-03,\n",
      "          5.0081e-03, 3.9052e-03, 3.5720e-01, 4.0450e-01, 2.2675e-01],\n",
      "         [2.2021e-09, 8.1641e-09, 2.4347e-08, 3.6414e-06, 1.8195e-04,\n",
      "          1.5381e-03, 4.1047e-03, 1.5778e-01, 5.3550e-01, 3.0090e-01],\n",
      "         [5.8407e-10, 1.9398e-09, 1.6121e-08, 9.1258e-06, 5.0909e-05,\n",
      "          1.4362e-03, 5.9054e-04, 2.9090e-02, 1.2259e-01, 8.4623e-01],\n",
      "         [1.0193e-09, 6.4704e-09, 1.1689e-08, 7.3423e-06, 5.4390e-05,\n",
      "          1.0909e-03, 1.4972e-03, 1.1701e-01, 2.7733e-01, 6.0302e-01]]],\n",
      "       device='cuda:0')\n",
      "Attention Shape: torch.Size([1, 10, 10])\n",
      "Input Sentence: il n est pas aussi grand que son pere\n",
      "output Words: he is not as tall as his father <EOS>\n"
     ]
    },
    {
     "name": "stderr",
     "output_type": "stream",
     "text": [
      "/tmp/ipykernel_567401/1572440452.py:8: UserWarning: set_ticklabels() should only be used with a fixed number of ticks, i.e. after set_ticks() or using a FixedLocator.\n",
      "  ax.set_xticklabels([''] + input_sentence.split(' ') + ['<EOS>'], rotation=90)\n",
      "/tmp/ipykernel_567401/1572440452.py:9: UserWarning: set_ticklabels() should only be used with a fixed number of ticks, i.e. after set_ticks() or using a FixedLocator.\n",
      "  ax.set_yticklabels([''] + output_words)\n"
     ]
    },
    {
     "data": {
      "image/png": "[encoded data removed]",
      "text/plain": [
       "<Figure size 640x480 with 2 Axes>"
      ]
     },
     "metadata": {},
     "output_type": "display_data"
    },
    {
     "name": "stdout",
     "output_type": "stream",
     "text": [
      "Sample Attention:\n",
      "tensor([[[4.3554e-01, 3.4978e-02, 1.5061e-01, 1.7389e-01, 5.7214e-02,\n",
      "          1.3638e-01, 1.1388e-02],\n",
      "         [4.4103e-04, 2.4309e-04, 1.4897e-01, 6.2378e-01, 1.0226e-02,\n",
      "          1.9708e-01, 1.9256e-02],\n",
      "         [3.6976e-04, 3.9402e-04, 9.2100e-01, 6.6431e-02, 1.0558e-02,\n",
      "          1.0195e-03, 2.2268e-04],\n",
      "         [3.8476e-04, 1.7453e-04, 1.7084e-02, 8.4998e-01, 7.6120e-02,\n",
      "          5.0987e-02, 5.2681e-03],\n",
      "         [3.2406e-06, 1.5784e-06, 2.5433e-04, 5.8591e-02, 2.5236e-01,\n",
      "          5.9901e-01, 8.9776e-02],\n",
      "         [5.8227e-08, 5.4780e-08, 3.7763e-05, 6.4751e-02, 2.6292e-02,\n",
      "          7.2828e-01, 1.8064e-01],\n",
      "         [6.9161e-08, 2.1063e-08, 1.2070e-05, 1.4800e-03, 6.7318e-04,\n",
      "          4.7436e-01, 5.2347e-01],\n",
      "         [1.7623e-08, 1.3590e-08, 1.7409e-05, 1.5054e-03, 5.5899e-04,\n",
      "          6.9992e-01, 2.9800e-01],\n",
      "         [1.2136e-08, 5.7767e-08, 1.3048e-04, 2.9330e-02, 1.1816e-03,\n",
      "          7.1837e-01, 2.5099e-01],\n",
      "         [4.2042e-08, 3.8790e-07, 6.2532e-04, 6.6575e-02, 2.9051e-03,\n",
      "          3.8768e-01, 5.4222e-01]]], device='cuda:0')\n",
      "Attention Shape: torch.Size([1, 10, 7])\n",
      "Input Sentence: je suis trop fatigue pour conduire\n",
      "output Words: i am too tired to drive <EOS>\n"
     ]
    },
    {
     "name": "stderr",
     "output_type": "stream",
     "text": [
      "/tmp/ipykernel_567401/1572440452.py:8: UserWarning: set_ticklabels() should only be used with a fixed number of ticks, i.e. after set_ticks() or using a FixedLocator.\n",
      "  ax.set_xticklabels([''] + input_sentence.split(' ') + ['<EOS>'], rotation=90)\n",
      "/tmp/ipykernel_567401/1572440452.py:9: UserWarning: set_ticklabels() should only be used with a fixed number of ticks, i.e. after set_ticks() or using a FixedLocator.\n",
      "  ax.set_yticklabels([''] + output_words)\n"
     ]
    },
    {
     "data": {
      "image/png": "[encoded data removed]",
      "text/plain": [
       "<Figure size 640x480 with 2 Axes>"
      ]
     },
     "metadata": {},
     "output_type": "display_data"
    },
    {
     "name": "stdout",
     "output_type": "stream",
     "text": [
      "Sample Attention:\n",
      "tensor([[[4.4646e-01, 7.5509e-02, 2.2904e-01, 1.1369e-01, 4.6290e-02,\n",
      "          2.7662e-02, 1.3278e-02, 2.6403e-02, 1.7943e-02, 3.7250e-03],\n",
      "         [6.1199e-05, 3.4543e-05, 9.7702e-02, 5.1603e-01, 5.8891e-02,\n",
      "          9.1750e-02, 3.6629e-02, 8.4077e-02, 9.5820e-02, 1.9010e-02],\n",
      "         [1.3093e-04, 2.9958e-04, 6.7707e-01, 3.0907e-01, 3.4263e-03,\n",
      "          3.0145e-03, 1.4361e-03, 4.4527e-03, 9.1890e-04, 1.8519e-04],\n",
      "         [4.4561e-06, 2.5824e-06, 4.7770e-03, 5.9482e-01, 1.4016e-01,\n",
      "          6.7075e-02, 2.9370e-02, 7.5699e-02, 6.9208e-02, 1.8879e-02],\n",
      "         [1.3148e-04, 3.4638e-05, 4.2033e-03, 8.8291e-02, 3.3482e-01,\n",
      "          1.4520e-01, 5.8968e-02, 1.6163e-01, 1.6022e-01, 4.6500e-02],\n",
      "         [2.6767e-07, 4.8416e-08, 3.7955e-04, 1.7293e-02, 7.1557e-02,\n",
      "          4.5458e-02, 9.6183e-02, 2.5829e-01, 3.8983e-01, 1.2101e-01],\n",
      "         [3.5214e-06, 3.8356e-07, 8.2853e-04, 2.2998e-02, 1.9928e-02,\n",
      "          3.8960e-02, 8.5175e-02, 5.1169e-01, 2.4155e-01, 7.8864e-02],\n",
      "         [6.1313e-08, 1.7469e-08, 6.6936e-05, 1.5136e-03, 1.9376e-02,\n",
      "          1.6601e-02, 6.7429e-02, 1.0482e-01, 5.1291e-01, 2.7728e-01],\n",
      "         [1.8778e-07, 2.1214e-07, 1.0265e-04, 1.0338e-03, 7.0380e-03,\n",
      "          3.9868e-02, 4.0576e-02, 2.6749e-02, 6.5007e-01, 2.3457e-01],\n",
      "         [2.1761e-09, 6.7686e-09, 6.2390e-06, 4.5991e-05, 8.4413e-04,\n",
      "          1.2609e-02, 1.0667e-01, 4.6228e-02, 3.2331e-01, 5.1029e-01]]],\n",
      "       device='cuda:0')\n",
      "Attention Shape: torch.Size([1, 10, 10])\n",
      "Input Sentence: je suis desole si c est une question idiote\n",
      "output Words: i m sorry if this is a stupid question <EOS>\n"
     ]
    },
    {
     "name": "stderr",
     "output_type": "stream",
     "text": [
      "/tmp/ipykernel_567401/1572440452.py:8: UserWarning: set_ticklabels() should only be used with a fixed number of ticks, i.e. after set_ticks() or using a FixedLocator.\n",
      "  ax.set_xticklabels([''] + input_sentence.split(' ') + ['<EOS>'], rotation=90)\n",
      "/tmp/ipykernel_567401/1572440452.py:9: UserWarning: set_ticklabels() should only be used with a fixed number of ticks, i.e. after set_ticks() or using a FixedLocator.\n",
      "  ax.set_yticklabels([''] + output_words)\n"
     ]
    },
    {
     "data": {
      "image/png": "[encoded data removed]",
      "text/plain": [
       "<Figure size 640x480 with 2 Axes>"
      ]
     },
     "metadata": {},
     "output_type": "display_data"
    },
    {
     "name": "stdout",
     "output_type": "stream",
     "text": [
      "Sample Attention:\n",
      "tensor([[[5.6678e-01, 5.4391e-02, 1.0181e-01, 1.4862e-01, 5.3501e-02,\n",
      "          6.4664e-02, 1.0240e-02],\n",
      "         [4.5626e-04, 1.6115e-04, 7.7397e-02, 5.6768e-01, 6.9028e-02,\n",
      "          2.1635e-01, 6.8927e-02],\n",
      "         [1.1521e-04, 2.5682e-04, 6.4028e-01, 3.0824e-01, 3.9454e-02,\n",
      "          1.1238e-02, 4.1504e-04],\n",
      "         [5.4609e-05, 5.1073e-06, 1.5508e-02, 7.5872e-01, 1.7726e-01,\n",
      "          4.1564e-02, 6.8876e-03],\n",
      "         [3.3952e-04, 3.5322e-05, 3.8563e-03, 1.0088e-01, 2.8000e-01,\n",
      "          5.0211e-01, 1.1277e-01],\n",
      "         [1.6078e-07, 9.2564e-08, 1.5715e-04, 6.1031e-03, 1.3506e-01,\n",
      "          5.9768e-01, 2.6100e-01],\n",
      "         [1.2991e-07, 6.2935e-08, 1.8821e-04, 2.6679e-03, 5.4962e-02,\n",
      "          3.8195e-01, 5.6023e-01],\n",
      "         [1.7365e-08, 3.1211e-09, 6.7585e-05, 4.0400e-04, 6.4256e-04,\n",
      "          2.6367e-02, 9.7252e-01],\n",
      "         [9.6447e-09, 1.3819e-08, 1.7543e-05, 5.5388e-04, 8.4358e-03,\n",
      "          1.1766e-01, 8.7333e-01],\n",
      "         [8.5280e-09, 1.7578e-08, 4.2613e-05, 4.5597e-04, 2.6188e-03,\n",
      "          8.6916e-02, 9.0997e-01]]], device='cuda:0')\n",
      "Attention Shape: torch.Size([1, 10, 7])\n",
      "Input Sentence: je suis reellement fiere de vous\n",
      "output Words: i m really proud of you <EOS>\n"
     ]
    },
    {
     "name": "stderr",
     "output_type": "stream",
     "text": [
      "/tmp/ipykernel_567401/1572440452.py:8: UserWarning: set_ticklabels() should only be used with a fixed number of ticks, i.e. after set_ticks() or using a FixedLocator.\n",
      "  ax.set_xticklabels([''] + input_sentence.split(' ') + ['<EOS>'], rotation=90)\n",
      "/tmp/ipykernel_567401/1572440452.py:9: UserWarning: set_ticklabels() should only be used with a fixed number of ticks, i.e. after set_ticks() or using a FixedLocator.\n",
      "  ax.set_yticklabels([''] + output_words)\n"
     ]
    },
    {
     "data": {
      "image/png": "[encoded data removed]",
      "text/plain": [
       "<Figure size 640x480 with 2 Axes>"
      ]
     },
     "metadata": {},
     "output_type": "display_data"
    }
   ],
   "source": [
    "def show_attention(input_sentence, output_words, attentions):\n",
    "    fig = plt.figure()\n",
    "    ax = fig.add_subplot(111)\n",
    "    cax = ax.matshow(attentions.cpu().numpy(), cmap='bone')\n",
    "    fig.colorbar(cax)\n",
    "\n",
    "    # Setup axes\n",
    "    ax.set_xticklabels([''] + input_sentence.split(' ') + ['<EOS>'], rotation=90)\n",
    "    ax.set_yticklabels([''] + output_words)\n",
    "    \n",
    "    # Show label at every tick\n",
    "    ax.xaxis.set_major_locator(ticker.MultipleLocator(1))\n",
    "    ax.yaxis.set_major_locator(ticker.MultipleLocator(1))\n",
    "\n",
    "    plt.show()\n",
    "\n",
    "def evaluate_and_show_attention(input_sentence):\n",
    "    output_words, attentions = evaluate(encoder, decoder, input_sentence, input_language, output_language)\n",
    "    print(\"Sample Attention:\")\n",
    "    print(attentions)\n",
    "    print(\"Attention Shape:\", attentions.shape)\n",
    "    print('Input Sentence:', input_sentence)\n",
    "    print('output Words:', ' '.join(output_words))\n",
    "    show_attention(input_sentence, output_words, attentions[0, :len(output_words), :])\n",
    "\n",
    "evaluate_and_show_attention('il n est pas aussi grand que son pere')\n",
    "evaluate_and_show_attention('je suis trop fatigue pour conduire')\n",
    "evaluate_and_show_attention('je suis desole si c est une question idiote')\n",
    "evaluate_and_show_attention('je suis reellement fiere de vous')"
   ]
  },
  {
   "cell_type": "markdown",
   "id": "7a38757e-bf69-47a7-8182-a2006c970080",
   "metadata": {},
   "source": [
    "# 2. Transformers\n",
    "- [Attention is All You Need](https://arxiv.org/abs/1706.03762)\n",
    "- [The Illustrated Transformer](https://jalammar.github.io/illustrated-transformer/) by Jay Alammar\n",
    "## 2-1. Multi-Head Self-Attention\n",
    "As the model processes each word, **Self-Attention** allows it to look at other positions in the input sequence for clues that can help lead to a better encoding for this word. It is the method the Transformer uses to bake the understanding of other relevant words into the one we are currently processing. The steps are as follows:\n",
    "- Creates three vectors (a **Query Vector**, a **Key Vector** & **a Value Vector**) from each of the encoder's input vectors (the embedding of each word). These vectors are created by multiplying the embedding by three matrices that we trained during the training process. They are usually smaller in dimension than the embedding vector.\n",
    "- Calculates scores by taking the dot product of the query vector with the key vector of the respective word we are scoring.\n",
    "- Divides the scores by the square root of the dimension of the key vectors. This leads to having more stable gradients.\n",
    "- Passes the result through a softmax operation for normalization so that they are all positive & add up to $1$. This softmax score determines how much each word will be expressed at this position.\n",
    "- Multiplies each value vector by the softmax score. Keeps intact the values of the words we want to focus on & drown-out irrelevant words.\n",
    "- Sums up the weighted value vectors. Produces the output of the self-attention layer at this position for the first word.\n",
    "\n",
    "**Multi-Head Attention** is a module for attention mechanisms which runs through an attention mechanism several times in parallel. The independent attention outputs are then concatenated and linearly transformed into the expected dimension. Multiple attention heads allows for attending to parts of the sequence differently, such as longer-term dependencies versus shorter-term dependencies.\n",
    "\n",
    "1. `torch.Tensor.masked_fill(mask, value)`: Fills elements of `self` tensor with `value` where `mask` is `True`. The shape of `mask` must be broadcastable with the shape of the underlying tensor.\n",
    "\n",
    "- [Masked Attention](https://en.wikipedia.org/wiki/Transformer_(deep_learning_architecture)#Masked_attention)"
   ]
  },
  {
   "cell_type": "code",
   "execution_count": 17,
   "id": "02dfde8c-dd1b-417d-b616-3be3f234cfeb",
   "metadata": {},
   "outputs": [],
   "source": [
    "class MultiHeadAttention(torch.nn.Module):\n",
    "    def __init__(self, dim_k, dim_model, num_heads, maximum_length, causal=False):\n",
    "        super().__init__()\n",
    "    \n",
    "        # Assume `dim_v = dim_k`\n",
    "        self.dim_k = dim_k\n",
    "        self.num_heads = num_heads\n",
    "    \n",
    "        self.key = torch.nn.Linear(dim_model, dim_k * num_heads)\n",
    "        self.query = torch.nn.Linear(dim_model, dim_k * num_heads)\n",
    "        self.value = torch.nn.Linear(dim_model, dim_k * num_heads)\n",
    "    \n",
    "        # Final linear layer\n",
    "        self.linear = torch.nn.Linear(dim_k * num_heads, dim_model)\n",
    "    \n",
    "        # Causal mask \n",
    "        # Make it so that diagonal is `0` too\n",
    "        # This way we don't have to shift the inputs to make targets\n",
    "        self.causal = causal\n",
    "        if causal:\n",
    "            causal_mask = torch.tril(torch.ones(maximum_length, maximum_length))\n",
    "            self.register_buffer(\"causal_mask\", causal_mask.view(1, 1, maximum_length, maximum_length))\n",
    "\n",
    "    def forward(self, q, k, v, pad_mask=None):\n",
    "        # `N` is batch size; `T` means \n",
    "        # `(N, T, h * dim_k)`\n",
    "        q = self.query(q)\n",
    "        # `(N, T, h * dim_k)`\n",
    "        k = self.key(k)\n",
    "        # `(N, T, h * dim_v)`\n",
    "        v = self.value(v)\n",
    "    \n",
    "        N = q.shape[0]\n",
    "        T_output = q.shape[1]\n",
    "        T_input = k.shape[1]\n",
    "    \n",
    "        # Change the shape from `(N, T, h, dim_k)` to `(N, h, T, dim_k)` in order for matrix multiplication to work properly\n",
    "        q = q.view(N, T_output, self.num_heads, self.dim_k).transpose(1, 2)\n",
    "        k = k.view(N, T_input, self.num_heads, self.dim_k).transpose(1, 2)\n",
    "        v = v.view(N, T_input, self.num_heads, self.dim_k).transpose(1, 2)\n",
    "    \n",
    "        # Compute attention weights\n",
    "        # `(N, h, T, d_k)` x `(N, h, d_k, T)` to `(N, h, T, T)`\n",
    "        attn_scores = q @ k.transpose(-2, -1) / math.sqrt(self.dim_k)\n",
    "        if pad_mask is not None:\n",
    "            # `(N, T)` to `(N, 1, 1, T)`; Use `float('-inf')` because the result it takes softmax is `0`\n",
    "            attn_scores = attn_scores.masked_fill(pad_mask[:, None, None, :] == 0, float('-inf'))\n",
    "        if self.causal:\n",
    "            attn_scores = attn_scores.masked_fill(self.causal_mask[:, :, :T_output, :T_input] == 0, float('-inf'))\n",
    "        attn_weights = torch.nn.functional.softmax(attn_scores, dim=-1)\n",
    "        \n",
    "        # Compute attention-weighted values: `(N, h, T, T)` x `(N, h, T, dim_k)` to `(N, h, T, dim_k)`\n",
    "        A = attn_weights @ v\n",
    "    \n",
    "        # Reshape it back before final linear layer\n",
    "        # `(N, T, h, dim_k)`\n",
    "        A = A.transpose(1, 2)\n",
    "        # `(N, T, h * dim_k)`\n",
    "        A = A.contiguous().view(N, T_output, self.dim_k * self.num_heads) \n",
    "    \n",
    "        # Projection\n",
    "        return self.linear(A)"
   ]
  },
  {
   "cell_type": "code",
   "execution_count": 3,
   "id": "a2bd4579-97be-49a5-bccf-b94f773ea7a1",
   "metadata": {},
   "outputs": [],
   "source": [
    "class EncoderBlock(nn.Module):\n",
    "    def __init__(self, dim_k, dim_model, num_heads, maximum_length, dropout_prob=0.1):\n",
    "        super().__init__()\n",
    "    \n",
    "        self.layer_norm_1 = torch.nn.LayerNorm(dim_model)\n",
    "        self.layer_norm_2 = torch.nn.LayerNorm(dim_model)\n",
    "        self.multi_head_attn = MultiHeadAttention(dim_k, dim_model, num_heads, maximum_length, causal=False)\n",
    "        self.linear = torch.nn.Sequential(\n",
    "            torch.nn.Linear(dim_model, dim_model * 4),\n",
    "            torch.nn.GELU(),\n",
    "            torch.nn.Linear(dim_model * 4, dim_model),\n",
    "            torch.nn.Dropout(dropout_prob),\n",
    "        )\n",
    "        self.dropout = torch.nn.Dropout(p=dropout_prob)\n",
    "  \n",
    "    def forward(self, X, pad_mask=None):\n",
    "        X = self.layer_norm_1(X + self.multi_head_attn(X, X, X, pad_mask))\n",
    "        X = self.layer_norm_2(X + self.linear(X))\n",
    "        X = self.dropout(X)\n",
    "        return X"
   ]
  },
  {
   "cell_type": "markdown",
   "id": "bbc53b97-2677-4d24-a575-6dcc192d620f",
   "metadata": {},
   "source": [
    "## 2-2. Sinusoidal Positional Encoding\n",
    "**Positional Encoding** describes the location or position of an entity in a sequence so that each position is assigned a unique representation. The following criteria should be satisfied:\n",
    "- It should output a unique encoding for each time step (word’s position in a sentence).\n",
    "- Distance between any two time steps should be consistent across sentences with different lengths.\n",
    "- Our model should generalize to longer sentences without any efforts. Its values should be bounded.\n",
    "- It must be deterministic.\n",
    "\n",
    "**Sinusoidal Positional Encoding (SPE)** is the first proposed method."
   ]
  },
  {
   "cell_type": "code",
   "execution_count": 4,
   "id": "fb268c55-2eb9-44d0-9d0a-f3c28c6b600f",
   "metadata": {},
   "outputs": [],
   "source": [
    "class PositionalEncoding(torch.nn.Module):\n",
    "    def __init__(self, dim_model, maximum_length=2048, dropout_prob=0.1):\n",
    "        super().__init__()\n",
    "        self.dropout = torch.nn.Dropout(p=dropout_prob)\n",
    "    \n",
    "        position = torch.arange(maximum_length).unsqueeze(1)\n",
    "        power_term = torch.arange(0, dim_model, 2)\n",
    "        # We take advantage of the property `exp(-ylog(x)) = 1 / (x^y)`  \n",
    "        denominator_term = torch.exp(power_term * (-math.log(10000.0) / dim_model))\n",
    "        positional_encoding = torch.zeros(1, maximum_length, dim_model)\n",
    "        positional_encoding[0, :, 0::2] = torch.sin(position * denominator_term)\n",
    "        positional_encoding[0, :, 1::2] = torch.cos(position * denominator_term)\n",
    "        self.register_buffer('positional_encoding', positional_encoding)\n",
    "\n",
    "    def forward(self, X):\n",
    "        # `(N, T, D)`\n",
    "        X = X + self.positional_encoding[:, :X.size(1), :]\n",
    "        return self.dropout(X)"
   ]
  },
  {
   "cell_type": "markdown",
   "id": "0dd96e63-5aaf-48a2-ae9c-8f7b9ed38aa8",
   "metadata": {},
   "source": [
    "## 2-3. Text Classification with Transformer Encoders\n",
    "Use GLUE SST-2."
   ]
  },
  {
   "cell_type": "code",
   "execution_count": 5,
   "id": "297ed3fc-8879-439b-836d-1cac5f81154f",
   "metadata": {},
   "outputs": [],
   "source": [
    "class Encoder(torch.nn.Module):\n",
    "    def __init__(self, vocab_size, maximum_length, dim_k, dim_model, num_heads, num_layers, num_classes, dropout_prob):\n",
    "        super().__init__()\n",
    "    \n",
    "        self.embedding = torch.nn.Embedding(vocab_size, dim_model)\n",
    "        self.positional_encoding = PositionalEncoding(dim_model, maximum_length, dropout_prob)\n",
    "        transformer_blocks = [EncoderBlock(dim_k, dim_model, num_heads, maximum_length, dropout_prob) for _ in range(num_layers)]\n",
    "        self.transformer_blocks = torch.nn.Sequential(*transformer_blocks)\n",
    "        self.layer_norm = torch.nn.LayerNorm(dim_model)\n",
    "        self.linear = torch.nn.Linear(dim_model, num_classes)\n",
    "  \n",
    "    def forward(self, X, pad_mask=None):\n",
    "        X = self.embedding(X)\n",
    "        X = self.positional_encoding(X)\n",
    "        for block in self.transformer_blocks:\n",
    "            # print(block)\n",
    "            X = block(X, pad_mask)\n",
    "    \n",
    "        # Many-to-one (X has the shape N x T x D)\n",
    "        X = X[:, 0, :]\n",
    "    \n",
    "        X = self.layer_norm(X)\n",
    "        X = self.linear(X)\n",
    "        return X"
   ]
  },
  {
   "cell_type": "code",
   "execution_count": 6,
   "id": "1a8d7885-cfb6-4576-8d66-14943504b586",
   "metadata": {},
   "outputs": [
    {
     "name": "stdout",
     "output_type": "stream",
     "text": [
      "cuda\n"
     ]
    },
    {
     "data": {
      "text/plain": [
       "Encoder(\n",
       "  (embedding): Embedding(20000, 64)\n",
       "  (positional_encoding): PositionalEncoding(\n",
       "    (dropout): Dropout(p=0.1, inplace=False)\n",
       "  )\n",
       "  (transformer_blocks): Sequential(\n",
       "    (0): EncoderBlock(\n",
       "      (layer_norm_1): LayerNorm((64,), eps=1e-05, elementwise_affine=True)\n",
       "      (layer_norm_2): LayerNorm((64,), eps=1e-05, elementwise_affine=True)\n",
       "      (multi_head_attention): MultiHeadAttention(\n",
       "        (key): Linear(in_features=64, out_features=64, bias=True)\n",
       "        (query): Linear(in_features=64, out_features=64, bias=True)\n",
       "        (value): Linear(in_features=64, out_features=64, bias=True)\n",
       "        (linear): Linear(in_features=64, out_features=64, bias=True)\n",
       "      )\n",
       "      (linear): Sequential(\n",
       "        (0): Linear(in_features=64, out_features=256, bias=True)\n",
       "        (1): GELU(approximate='none')\n",
       "        (2): Linear(in_features=256, out_features=64, bias=True)\n",
       "        (3): Dropout(p=0.1, inplace=False)\n",
       "      )\n",
       "      (dropout): Dropout(p=0.1, inplace=False)\n",
       "    )\n",
       "    (1): EncoderBlock(\n",
       "      (layer_norm_1): LayerNorm((64,), eps=1e-05, elementwise_affine=True)\n",
       "      (layer_norm_2): LayerNorm((64,), eps=1e-05, elementwise_affine=True)\n",
       "      (multi_head_attention): MultiHeadAttention(\n",
       "        (key): Linear(in_features=64, out_features=64, bias=True)\n",
       "        (query): Linear(in_features=64, out_features=64, bias=True)\n",
       "        (value): Linear(in_features=64, out_features=64, bias=True)\n",
       "        (linear): Linear(in_features=64, out_features=64, bias=True)\n",
       "      )\n",
       "      (linear): Sequential(\n",
       "        (0): Linear(in_features=64, out_features=256, bias=True)\n",
       "        (1): GELU(approximate='none')\n",
       "        (2): Linear(in_features=256, out_features=64, bias=True)\n",
       "        (3): Dropout(p=0.1, inplace=False)\n",
       "      )\n",
       "      (dropout): Dropout(p=0.1, inplace=False)\n",
       "    )\n",
       "  )\n",
       "  (layer_norm): LayerNorm((64,), eps=1e-05, elementwise_affine=True)\n",
       "  (linear): Linear(in_features=64, out_features=5, bias=True)\n",
       ")"
      ]
     },
     "execution_count": 6,
     "metadata": {},
     "output_type": "execute_result"
    }
   ],
   "source": [
    "torch.manual_seed(0)\n",
    "torch.cuda.manual_seed(0)\n",
    "\n",
    "encoder = Encoder(vocab_size=20_000, maximum_length=1024, dim_k=16, dim_model=64, num_heads=4, num_layers=2, num_classes=5, dropout_prob=0.1)\n",
    "\n",
    "# Device agnostic code\n",
    "device = \"cuda\" if torch.cuda.is_available() else \"cpu\"\n",
    "print(device)\n",
    "encoder.to(device)"
   ]
  },
  {
   "cell_type": "code",
   "execution_count": 7,
   "id": "5a795b5f-8962-4d86-8057-a685ea532c70",
   "metadata": {},
   "outputs": [
    {
     "data": {
      "text/plain": [
       "torch.Size([8, 5])"
      ]
     },
     "execution_count": 7,
     "metadata": {},
     "output_type": "execute_result"
    }
   ],
   "source": [
    "import numpy as np\n",
    "\n",
    "np.random.seed(0)\n",
    "X = np.random.randint(0, 20_000, size=(8, 512))\n",
    "X = torch.tensor(X).to(device)\n",
    "\n",
    "mask = np.ones((8, 512))\n",
    "mask[:, 256:] = 0\n",
    "mask = torch.tensor(mask).to(device)\n",
    "\n",
    "y = encoder(X, mask)\n",
    "y.shape"
   ]
  },
  {
   "cell_type": "code",
   "execution_count": 8,
   "id": "71338386-18b2-438e-9378-0dad0d081ce4",
   "metadata": {},
   "outputs": [
    {
     "name": "stderr",
     "output_type": "stream",
     "text": [
      "2024-09-27 10:07:10.123882: I tensorflow/core/util/port.cc:153] oneDNN custom operations are on. You may see slightly different numerical results due to floating-point round-off errors from different computation orders. To turn them off, set the environment variable `TF_ENABLE_ONEDNN_OPTS=0`.\n",
      "2024-09-27 10:07:10.131370: E external/local_xla/xla/stream_executor/cuda/cuda_fft.cc:485] Unable to register cuFFT factory: Attempting to register factory for plugin cuFFT when one has already been registered\n",
      "2024-09-27 10:07:10.139767: E external/local_xla/xla/stream_executor/cuda/cuda_dnn.cc:8454] Unable to register cuDNN factory: Attempting to register factory for plugin cuDNN when one has already been registered\n",
      "2024-09-27 10:07:10.142248: E external/local_xla/xla/stream_executor/cuda/cuda_blas.cc:1452] Unable to register cuBLAS factory: Attempting to register factory for plugin cuBLAS when one has already been registered\n",
      "2024-09-27 10:07:10.149278: I tensorflow/core/platform/cpu_feature_guard.cc:210] This TensorFlow binary is optimized to use available CPU instructions in performance-critical operations.\n",
      "To enable the following instructions: AVX2 AVX_VNNI FMA, in other operations, rebuild TensorFlow with the appropriate compiler flags.\n",
      "2024-09-27 10:07:10.616102: W tensorflow/compiler/tf2tensorrt/utils/py_utils.cc:38] TF-TRT Warning: Could not find TensorRT\n",
      "/home/yungshun317/envs/yungshun-py3/lib/python3.12/site-packages/transformers/tokenization_utils_base.py:1601: FutureWarning: `clean_up_tokenization_spaces` was not set. It will be set to `True` by default. This behavior will be depracted in transformers v4.45, and will be then set to `False` by default. For more details check this issue: https://github.com/huggingface/transformers/issues/31884\n",
      "  warnings.warn(\n"
     ]
    },
    {
     "name": "stdout",
     "output_type": "stream",
     "text": [
      "DatasetDict({\n",
      "    train: Dataset({\n",
      "        features: ['sentence', 'label', 'idx'],\n",
      "        num_rows: 67349\n",
      "    })\n",
      "    validation: Dataset({\n",
      "        features: ['sentence', 'label', 'idx'],\n",
      "        num_rows: 872\n",
      "    })\n",
      "    test: Dataset({\n",
      "        features: ['sentence', 'label', 'idx'],\n",
      "        num_rows: 1821\n",
      "    })\n",
      "})\n"
     ]
    }
   ],
   "source": [
    "from transformers import AutoTokenizer, DataCollatorWithPadding\n",
    "from datasets import load_dataset\n",
    "\n",
    "checkpoint = 'distilbert-base-cased'\n",
    "tokenizer = AutoTokenizer.from_pretrained(checkpoint)\n",
    "\n",
    "raw_dataset = load_dataset(\"glue\", \"sst2\")\n",
    "print(raw_dataset)"
   ]
  },
  {
   "cell_type": "code",
   "execution_count": 9,
   "id": "319d04f1-3e85-4fef-9abd-e500edfa9951",
   "metadata": {},
   "outputs": [
    {
     "name": "stdout",
     "output_type": "stream",
     "text": [
      "DataCollatorWithPadding(tokenizer=DistilBertTokenizerFast(name_or_path='distilbert-base-cased', vocab_size=28996, model_max_length=512, is_fast=True, padding_side='right', truncation_side='right', special_tokens={'unk_token': '[UNK]', 'sep_token': '[SEP]', 'pad_token': '[PAD]', 'cls_token': '[CLS]', 'mask_token': '[MASK]'}, clean_up_tokenization_spaces=True),  added_tokens_decoder={\n",
      "\t0: AddedToken(\"[PAD]\", rstrip=False, lstrip=False, single_word=False, normalized=False, special=True),\n",
      "\t100: AddedToken(\"[UNK]\", rstrip=False, lstrip=False, single_word=False, normalized=False, special=True),\n",
      "\t101: AddedToken(\"[CLS]\", rstrip=False, lstrip=False, single_word=False, normalized=False, special=True),\n",
      "\t102: AddedToken(\"[SEP]\", rstrip=False, lstrip=False, single_word=False, normalized=False, special=True),\n",
      "\t103: AddedToken(\"[MASK]\", rstrip=False, lstrip=False, single_word=False, normalized=False, special=True),\n",
      "}, padding=True, max_length=None, pad_to_multiple_of=None, return_tensors='pt')\n"
     ]
    }
   ],
   "source": [
    "def tokenize(batch):\n",
    "    return tokenizer(batch['sentence'], truncation=True)\n",
    "\n",
    "tokenized_dataset = raw_dataset.map(tokenize, batched=True)\n",
    "data_collator = DataCollatorWithPadding(tokenizer=tokenizer)\n",
    "print(data_collator)"
   ]
  },
  {
   "cell_type": "code",
   "execution_count": 10,
   "id": "d5dc5de9-a2a7-4260-82bf-f639f3edb69b",
   "metadata": {},
   "outputs": [
    {
     "name": "stdout",
     "output_type": "stream",
     "text": [
      "DatasetDict({\n",
      "    train: Dataset({\n",
      "        features: ['sentence', 'label', 'idx', 'input_ids', 'attention_mask'],\n",
      "        num_rows: 67349\n",
      "    })\n",
      "    validation: Dataset({\n",
      "        features: ['sentence', 'label', 'idx', 'input_ids', 'attention_mask'],\n",
      "        num_rows: 872\n",
      "    })\n",
      "    test: Dataset({\n",
      "        features: ['sentence', 'label', 'idx', 'input_ids', 'attention_mask'],\n",
      "        num_rows: 1821\n",
      "    })\n",
      "})\n"
     ]
    }
   ],
   "source": [
    "print(tokenized_dataset)"
   ]
  },
  {
   "cell_type": "code",
   "execution_count": 11,
   "id": "b3515bdd-ef6d-40cb-91e5-52bcba8e531c",
   "metadata": {},
   "outputs": [
    {
     "name": "stdout",
     "output_type": "stream",
     "text": [
      "DatasetDict({\n",
      "    train: Dataset({\n",
      "        features: ['labels', 'input_ids', 'attention_mask'],\n",
      "        num_rows: 67349\n",
      "    })\n",
      "    validation: Dataset({\n",
      "        features: ['labels', 'input_ids', 'attention_mask'],\n",
      "        num_rows: 872\n",
      "    })\n",
      "    test: Dataset({\n",
      "        features: ['labels', 'input_ids', 'attention_mask'],\n",
      "        num_rows: 1821\n",
      "    })\n",
      "})\n"
     ]
    }
   ],
   "source": [
    "tokenized_dataset = tokenized_dataset.remove_columns([\"sentence\", \"idx\"])\n",
    "tokenized_dataset = tokenized_dataset.rename_column(\"label\", \"labels\")\n",
    "print(tokenized_dataset)"
   ]
  },
  {
   "cell_type": "code",
   "execution_count": 12,
   "id": "5f5feb63-4069-4669-9d34-6db9e3f23262",
   "metadata": {},
   "outputs": [
    {
     "name": "stdout",
     "output_type": "stream",
     "text": [
      "k: labels v.shape: torch.Size([32])\n",
      "k: input_ids v.shape: torch.Size([32, 43])\n",
      "k: attention_mask v.shape: torch.Size([32, 43])\n"
     ]
    }
   ],
   "source": [
    "from torch.utils.data import DataLoader\n",
    "\n",
    "train_loader = DataLoader(\n",
    "    tokenized_dataset[\"train\"],\n",
    "    shuffle=True,\n",
    "    batch_size=32,\n",
    "    collate_fn=data_collator\n",
    ")\n",
    "valid_loader = DataLoader(\n",
    "    tokenized_dataset[\"validation\"],\n",
    "    batch_size=32,\n",
    "    collate_fn=data_collator\n",
    ")\n",
    "\n",
    "# Check how it works\n",
    "for batch in train_loader:\n",
    "    for k, v in batch.items():\n",
    "        print(\"k:\", k, \"v.shape:\", v.shape)\n",
    "    break"
   ]
  },
  {
   "cell_type": "code",
   "execution_count": 13,
   "id": "91d49f73-b2f5-4299-8ab8-f0fb3611922d",
   "metadata": {},
   "outputs": [
    {
     "name": "stdout",
     "output_type": "stream",
     "text": [
      "Labels in the Tokenized Dataset: {0, 1}\n",
      "Vocabulary Size: 28996\n",
      "Model Maximum Length: 512\n"
     ]
    }
   ],
   "source": [
    "print(\"Labels in the Tokenized Dataset:\", set(tokenized_dataset['train']['labels']))\n",
    "print(\"Vocabulary Size:\", tokenizer.vocab_size)\n",
    "print(\"Model Maximum Length:\", tokenizer.model_max_length)"
   ]
  },
  {
   "cell_type": "code",
   "execution_count": 14,
   "id": "342ca43a-10e3-430f-b15a-ceac344160d4",
   "metadata": {},
   "outputs": [
    {
     "data": {
      "text/plain": [
       "Encoder(\n",
       "  (embedding): Embedding(28996, 64)\n",
       "  (positional_encoding): PositionalEncoding(\n",
       "    (dropout): Dropout(p=0.1, inplace=False)\n",
       "  )\n",
       "  (transformer_blocks): Sequential(\n",
       "    (0): EncoderBlock(\n",
       "      (layer_norm_1): LayerNorm((64,), eps=1e-05, elementwise_affine=True)\n",
       "      (layer_norm_2): LayerNorm((64,), eps=1e-05, elementwise_affine=True)\n",
       "      (multi_head_attention): MultiHeadAttention(\n",
       "        (key): Linear(in_features=64, out_features=64, bias=True)\n",
       "        (query): Linear(in_features=64, out_features=64, bias=True)\n",
       "        (value): Linear(in_features=64, out_features=64, bias=True)\n",
       "        (linear): Linear(in_features=64, out_features=64, bias=True)\n",
       "      )\n",
       "      (linear): Sequential(\n",
       "        (0): Linear(in_features=64, out_features=256, bias=True)\n",
       "        (1): GELU(approximate='none')\n",
       "        (2): Linear(in_features=256, out_features=64, bias=True)\n",
       "        (3): Dropout(p=0.1, inplace=False)\n",
       "      )\n",
       "      (dropout): Dropout(p=0.1, inplace=False)\n",
       "    )\n",
       "    (1): EncoderBlock(\n",
       "      (layer_norm_1): LayerNorm((64,), eps=1e-05, elementwise_affine=True)\n",
       "      (layer_norm_2): LayerNorm((64,), eps=1e-05, elementwise_affine=True)\n",
       "      (multi_head_attention): MultiHeadAttention(\n",
       "        (key): Linear(in_features=64, out_features=64, bias=True)\n",
       "        (query): Linear(in_features=64, out_features=64, bias=True)\n",
       "        (value): Linear(in_features=64, out_features=64, bias=True)\n",
       "        (linear): Linear(in_features=64, out_features=64, bias=True)\n",
       "      )\n",
       "      (linear): Sequential(\n",
       "        (0): Linear(in_features=64, out_features=256, bias=True)\n",
       "        (1): GELU(approximate='none')\n",
       "        (2): Linear(in_features=256, out_features=64, bias=True)\n",
       "        (3): Dropout(p=0.1, inplace=False)\n",
       "      )\n",
       "      (dropout): Dropout(p=0.1, inplace=False)\n",
       "    )\n",
       "  )\n",
       "  (layer_norm): LayerNorm((64,), eps=1e-05, elementwise_affine=True)\n",
       "  (linear): Linear(in_features=64, out_features=2, bias=True)\n",
       ")"
      ]
     },
     "execution_count": 14,
     "metadata": {},
     "output_type": "execute_result"
    }
   ],
   "source": [
    "encoder = Encoder(vocab_size=tokenizer.vocab_size, maximum_length=tokenizer.model_max_length, dim_k=16, dim_model=64, num_heads=4, num_layers=2, num_classes=2, dropout_prob=0.1)\n",
    "encoder.to(device)"
   ]
  },
  {
   "cell_type": "code",
   "execution_count": 15,
   "id": "672a64f6-a994-46ed-8d33-ef509f94ac8c",
   "metadata": {},
   "outputs": [
    {
     "name": "stdout",
     "output_type": "stream",
     "text": [
      "Epoch 1 / 4, Train Loss: 0.5335, Test Loss: 0.4901, Duration: 0:00:05.956681\n",
      "Epoch 2 / 4, Train Loss: 0.3705, Test Loss: 0.4639, Duration: 0:00:05.120563\n",
      "Epoch 3 / 4, Train Loss: 0.3001, Test Loss: 0.4533, Duration: 0:00:06.071800\n",
      "Epoch 4 / 4, Train Loss: 0.2599, Test Loss: 0.4942, Duration: 0:00:05.040054\n"
     ]
    }
   ],
   "source": [
    "from datetime import datetime\n",
    "\n",
    "# Loss and optimizer\n",
    "criterion = torch.nn.CrossEntropyLoss()\n",
    "optimizer = torch.optim.Adam(encoder.parameters())\n",
    "\n",
    "# A function to encapsulate the training loop\n",
    "def train(model, criterion, optimizer, train_loader, valid_loader, num_epochs):\n",
    "    train_losses = np.zeros(num_epochs)\n",
    "    test_losses = np.zeros(num_epochs)\n",
    "\n",
    "    for epoch in range(num_epochs):\n",
    "        model.train()\n",
    "        t_0 = datetime.now()\n",
    "        train_loss = 0\n",
    "        num_train = 0\n",
    "        for batch in train_loader:\n",
    "            # Move data to GPU\n",
    "            batch = {k: v.to(device) for k, v in batch.items()}\n",
    "        \n",
    "            # zero the parameter gradients\n",
    "            optimizer.zero_grad()\n",
    "        \n",
    "            # Forward pass\n",
    "            outputs = model(batch['input_ids'], batch['attention_mask'])\n",
    "            loss = criterion(outputs, batch['labels'])\n",
    "                \n",
    "            # Backward and optimize\n",
    "            loss.backward()\n",
    "            optimizer.step()\n",
    "        \n",
    "            train_loss += loss.item() * batch['input_ids'].size(0)\n",
    "            num_train += batch['input_ids'].size(0)\n",
    "    \n",
    "        # Get average train loss\n",
    "        train_loss = train_loss / num_train\n",
    "    \n",
    "        model.eval()\n",
    "        test_loss = 0\n",
    "        num_test = 0\n",
    "        for batch in valid_loader:\n",
    "            batch = {k: v.to(device) for k, v in batch.items()}\n",
    "            outputs = model(batch['input_ids'], batch['attention_mask'])\n",
    "            loss = criterion(outputs, batch['labels'])\n",
    "            test_loss += loss.item() * batch['input_ids'].size(0)\n",
    "            num_test += batch['input_ids'].size(0)\n",
    "        test_loss = test_loss / num_test\n",
    "    \n",
    "        # Save losses\n",
    "        train_losses[epoch] = train_loss\n",
    "        test_losses[epoch] = test_loss\n",
    "        \n",
    "        d_t = datetime.now() - t_0\n",
    "        print(f'Epoch {epoch + 1} / {num_epochs}, Train Loss: {train_loss:.4f}, Test Loss: {test_loss:.4f}, Duration: {d_t}')\n",
    "  \n",
    "    return train_losses, test_losses\n",
    "\n",
    "train_losses, test_losses = train(encoder, criterion, optimizer, train_loader, valid_loader, num_epochs=4)"
   ]
  },
  {
   "cell_type": "code",
   "execution_count": 16,
   "id": "3dc7d32a-1bd3-4836-9e6c-94adad2d06cc",
   "metadata": {},
   "outputs": [
    {
     "name": "stdout",
     "output_type": "stream",
     "text": [
      "Train acc: 0.9298, Test acc: 0.7856\n"
     ]
    }
   ],
   "source": [
    "# Accuracy\n",
    "encoder.eval()\n",
    "num_correct = 0.\n",
    "num_total = 0.\n",
    "for batch in train_loader:\n",
    "    # Move to GPU\n",
    "    batch = {k: v.to(device) for k, v in batch.items()}\n",
    "\n",
    "    # Forward pass\n",
    "    outputs = encoder(batch['input_ids'], batch['attention_mask'])\n",
    "\n",
    "    # Get prediction\n",
    "    # torch.max returns both max and argmax\n",
    "    _, predictions = torch.max(outputs, 1)\n",
    "  \n",
    "    # update counts\n",
    "    num_correct += (predictions == batch['labels']).sum().item()\n",
    "    num_total += batch['labels'].shape[0]\n",
    "\n",
    "train_acc = num_correct / num_total\n",
    "\n",
    "num_correct = 0.\n",
    "num_total = 0.\n",
    "for batch in valid_loader:\n",
    "    # Move to GPU\n",
    "    batch = {k: v.to(device) for k, v in batch.items()}\n",
    "  \n",
    "    # Forward pass\n",
    "    outputs = encoder(batch['input_ids'], batch['attention_mask'])\n",
    "\n",
    "    # Get prediction\n",
    "    # torch.max returns both max and argmax\n",
    "    _, predictions = torch.max(outputs, 1)\n",
    "  \n",
    "    # update counts\n",
    "    num_correct += (predictions == batch['labels']).sum().item()\n",
    "    num_total += batch['labels'].shape[0]\n",
    "\n",
    "test_acc = num_correct / num_total\n",
    "print(f\"Train acc: {train_acc:.4f}, Test acc: {test_acc:.4f}\")"
   ]
  },
  {
   "cell_type": "markdown",
   "id": "5134c532-7fde-45ef-a2bc-90852bbba140",
   "metadata": {},
   "source": [
    "## 2-4. Text Classification with Transformer Decoders"
   ]
  },
  {
   "cell_type": "code",
   "execution_count": 19,
   "id": "74cf2d22-a4fd-4c0b-af9e-78138469d5d7",
   "metadata": {},
   "outputs": [],
   "source": [
    "class DecoderBlock(nn.Module):\n",
    "    def __init__(self, dim_k, dim_model, num_heads, maximum_length, dropout_prob=0.1):\n",
    "        super().__init__()\n",
    "    \n",
    "        self.layer_norm_1 = torch.nn.LayerNorm(dim_model)\n",
    "        self.layer_norm_2 = torch.nn.LayerNorm(dim_model)\n",
    "        self.layer_norm_3 = torch.nn.LayerNorm(dim_model)\n",
    "        self.multi_head_attn_1 = MultiHeadAttention(dim_k, dim_model, num_heads, maximum_length, causal=True)\n",
    "        self.multi_head_attn_2 = MultiHeadAttention(dim_k, dim_model, num_heads, maximum_length, causal=False)\n",
    "        self.linear = torch.nn.Sequential(\n",
    "            torch.nn.Linear(dim_model, dim_model * 4),\n",
    "            torch.nn.GELU(),\n",
    "            torch.nn.Linear(dim_model * 4, dim_model),\n",
    "            torch.nn.Dropout(p=dropout_prob),\n",
    "        )\n",
    "        self.dropout = torch.nn.Dropout(p=dropout_prob)\n",
    "  \n",
    "    def forward(self, encoder_output, decoder_input, encoder_mask=None, decoder_mask=None):\n",
    "        # Self-attention on decoder input\n",
    "        X = self.layer_norm_1(decoder_input + self.multi_head_attn_1(decoder_input, decoder_input, decoder_input, decoder_mask))\n",
    "    \n",
    "        # Multi-head attention including encoder output\n",
    "        X = self.layer_norm_2(X + self.multi_head_attn_2(X, encoder_output, encoder_output, encoder_mask))\n",
    "    \n",
    "        X = self.layer_norm_3(X + self.linear(X))\n",
    "        X = self.dropout(X)\n",
    "        return X"
   ]
  },
  {
   "cell_type": "code",
   "execution_count": 20,
   "id": "c039a219-45d7-40c3-a81f-650fddffad91",
   "metadata": {},
   "outputs": [],
   "source": [
    "class Decoder(nn.Module):\n",
    "    def __init__(self, vocab_size, maximum_length, dim_k, dim_model, num_heads, num_layers, dropout_prob):\n",
    "        super().__init__()\n",
    "    \n",
    "        self.embedding = torch.nn.Embedding(vocab_size, dim_model)\n",
    "        self.positional_encoding = PositionalEncoding(dim_model, maximum_length, dropout_prob)\n",
    "        transformer_blocks = [DecoderBlock(dim_k, dim_model, num_heads, maximum_length, dropout_prob) for _ in range(num_layers)]\n",
    "        self.transformer_blocks = torch.nn.Sequential(*transformer_blocks)\n",
    "        self.layer_norm = torch.nn.LayerNorm(dim_model)\n",
    "        self.linear = torch.nn.Linear(dim_model, vocab_size)\n",
    "  \n",
    "    def forward(self, encoder_output, decoder_input, encoder_mask=None, decoder_mask=None):\n",
    "        X = self.embedding(decoder_input)\n",
    "        X = self.positional_encoding(X)\n",
    "        for block in self.transformer_blocks:\n",
    "            X = block(encoder_output, X, encoder_mask, decoder_mask)\n",
    "        X = self.layer_norm(X)\n",
    "        # Many-to-many\n",
    "        X = self.linear(X) \n",
    "        return x"
   ]
  },
  {
   "cell_type": "code",
   "execution_count": 23,
   "id": "8c76aad6-a393-490b-8dc4-dbc568fad6f7",
   "metadata": {},
   "outputs": [
    {
     "name": "stdout",
     "output_type": "stream",
     "text": [
      "cuda\n"
     ]
    },
    {
     "ename": "RuntimeError",
     "evalue": "CUDA error: unspecified launch failure\nCUDA kernel errors might be asynchronously reported at some other API call, so the stacktrace below might be incorrect.\nFor debugging consider passing CUDA_LAUNCH_BLOCKING=1\nCompile with `TORCH_USE_CUDA_DSA` to enable device-side assertions.\n",
     "output_type": "error",
     "traceback": [
      "\u001b[0;31m---------------------------------------------------------------------------\u001b[0m",
      "\u001b[0;31mRuntimeError\u001b[0m                              Traceback (most recent call last)",
      "Cell \u001b[0;32mIn[23], line 9\u001b[0m\n\u001b[1;32m      7\u001b[0m device \u001b[38;5;241m=\u001b[39m \u001b[38;5;124m\"\u001b[39m\u001b[38;5;124mcuda\u001b[39m\u001b[38;5;124m\"\u001b[39m \u001b[38;5;28;01mif\u001b[39;00m torch\u001b[38;5;241m.\u001b[39mcuda\u001b[38;5;241m.\u001b[39mis_available() \u001b[38;5;28;01melse\u001b[39;00m \u001b[38;5;124m\"\u001b[39m\u001b[38;5;124mcpu\u001b[39m\u001b[38;5;124m\"\u001b[39m\n\u001b[1;32m      8\u001b[0m \u001b[38;5;28mprint\u001b[39m(device)\n\u001b[0;32m----> 9\u001b[0m \u001b[43mdecoder\u001b[49m\u001b[38;5;241;43m.\u001b[39;49m\u001b[43mto\u001b[49m\u001b[43m(\u001b[49m\u001b[43mdevice\u001b[49m\u001b[43m)\u001b[49m\n",
      "File \u001b[0;32m~/envs/yungshun-py3/lib/python3.12/site-packages/torch/nn/modules/module.py:1174\u001b[0m, in \u001b[0;36mModule.to\u001b[0;34m(self, *args, **kwargs)\u001b[0m\n\u001b[1;32m   1171\u001b[0m         \u001b[38;5;28;01melse\u001b[39;00m:\n\u001b[1;32m   1172\u001b[0m             \u001b[38;5;28;01mraise\u001b[39;00m\n\u001b[0;32m-> 1174\u001b[0m \u001b[38;5;28;01mreturn\u001b[39;00m \u001b[38;5;28;43mself\u001b[39;49m\u001b[38;5;241;43m.\u001b[39;49m\u001b[43m_apply\u001b[49m\u001b[43m(\u001b[49m\u001b[43mconvert\u001b[49m\u001b[43m)\u001b[49m\n",
      "File \u001b[0;32m~/envs/yungshun-py3/lib/python3.12/site-packages/torch/nn/modules/module.py:780\u001b[0m, in \u001b[0;36mModule._apply\u001b[0;34m(self, fn, recurse)\u001b[0m\n\u001b[1;32m    778\u001b[0m \u001b[38;5;28;01mif\u001b[39;00m recurse:\n\u001b[1;32m    779\u001b[0m     \u001b[38;5;28;01mfor\u001b[39;00m module \u001b[38;5;129;01min\u001b[39;00m \u001b[38;5;28mself\u001b[39m\u001b[38;5;241m.\u001b[39mchildren():\n\u001b[0;32m--> 780\u001b[0m         \u001b[43mmodule\u001b[49m\u001b[38;5;241;43m.\u001b[39;49m\u001b[43m_apply\u001b[49m\u001b[43m(\u001b[49m\u001b[43mfn\u001b[49m\u001b[43m)\u001b[49m\n\u001b[1;32m    782\u001b[0m \u001b[38;5;28;01mdef\u001b[39;00m \u001b[38;5;21mcompute_should_use_set_data\u001b[39m(tensor, tensor_applied):\n\u001b[1;32m    783\u001b[0m     \u001b[38;5;28;01mif\u001b[39;00m torch\u001b[38;5;241m.\u001b[39m_has_compatible_shallow_copy_type(tensor, tensor_applied):\n\u001b[1;32m    784\u001b[0m         \u001b[38;5;66;03m# If the new tensor has compatible tensor type as the existing tensor,\u001b[39;00m\n\u001b[1;32m    785\u001b[0m         \u001b[38;5;66;03m# the current behavior is to change the tensor in-place using `.data =`,\u001b[39;00m\n\u001b[0;32m   (...)\u001b[0m\n\u001b[1;32m    790\u001b[0m         \u001b[38;5;66;03m# global flag to let the user control whether they want the future\u001b[39;00m\n\u001b[1;32m    791\u001b[0m         \u001b[38;5;66;03m# behavior of overwriting the existing tensor or not.\u001b[39;00m\n",
      "File \u001b[0;32m~/envs/yungshun-py3/lib/python3.12/site-packages/torch/nn/modules/module.py:805\u001b[0m, in \u001b[0;36mModule._apply\u001b[0;34m(self, fn, recurse)\u001b[0m\n\u001b[1;32m    801\u001b[0m \u001b[38;5;66;03m# Tensors stored in modules are graph leaves, and we don't want to\u001b[39;00m\n\u001b[1;32m    802\u001b[0m \u001b[38;5;66;03m# track autograd history of `param_applied`, so we have to use\u001b[39;00m\n\u001b[1;32m    803\u001b[0m \u001b[38;5;66;03m# `with torch.no_grad():`\u001b[39;00m\n\u001b[1;32m    804\u001b[0m \u001b[38;5;28;01mwith\u001b[39;00m torch\u001b[38;5;241m.\u001b[39mno_grad():\n\u001b[0;32m--> 805\u001b[0m     param_applied \u001b[38;5;241m=\u001b[39m \u001b[43mfn\u001b[49m\u001b[43m(\u001b[49m\u001b[43mparam\u001b[49m\u001b[43m)\u001b[49m\n\u001b[1;32m    806\u001b[0m p_should_use_set_data \u001b[38;5;241m=\u001b[39m compute_should_use_set_data(param, param_applied)\n\u001b[1;32m    808\u001b[0m \u001b[38;5;66;03m# subclasses may have multiple child tensors so we need to use swap_tensors\u001b[39;00m\n",
      "File \u001b[0;32m~/envs/yungshun-py3/lib/python3.12/site-packages/torch/nn/modules/module.py:1160\u001b[0m, in \u001b[0;36mModule.to.<locals>.convert\u001b[0;34m(t)\u001b[0m\n\u001b[1;32m   1153\u001b[0m     \u001b[38;5;28;01mif\u001b[39;00m convert_to_format \u001b[38;5;129;01mis\u001b[39;00m \u001b[38;5;129;01mnot\u001b[39;00m \u001b[38;5;28;01mNone\u001b[39;00m \u001b[38;5;129;01mand\u001b[39;00m t\u001b[38;5;241m.\u001b[39mdim() \u001b[38;5;129;01min\u001b[39;00m (\u001b[38;5;241m4\u001b[39m, \u001b[38;5;241m5\u001b[39m):\n\u001b[1;32m   1154\u001b[0m         \u001b[38;5;28;01mreturn\u001b[39;00m t\u001b[38;5;241m.\u001b[39mto(\n\u001b[1;32m   1155\u001b[0m             device,\n\u001b[1;32m   1156\u001b[0m             dtype \u001b[38;5;28;01mif\u001b[39;00m t\u001b[38;5;241m.\u001b[39mis_floating_point() \u001b[38;5;129;01mor\u001b[39;00m t\u001b[38;5;241m.\u001b[39mis_complex() \u001b[38;5;28;01melse\u001b[39;00m \u001b[38;5;28;01mNone\u001b[39;00m,\n\u001b[1;32m   1157\u001b[0m             non_blocking,\n\u001b[1;32m   1158\u001b[0m             memory_format\u001b[38;5;241m=\u001b[39mconvert_to_format,\n\u001b[1;32m   1159\u001b[0m         )\n\u001b[0;32m-> 1160\u001b[0m     \u001b[38;5;28;01mreturn\u001b[39;00m \u001b[43mt\u001b[49m\u001b[38;5;241;43m.\u001b[39;49m\u001b[43mto\u001b[49m\u001b[43m(\u001b[49m\n\u001b[1;32m   1161\u001b[0m \u001b[43m        \u001b[49m\u001b[43mdevice\u001b[49m\u001b[43m,\u001b[49m\n\u001b[1;32m   1162\u001b[0m \u001b[43m        \u001b[49m\u001b[43mdtype\u001b[49m\u001b[43m \u001b[49m\u001b[38;5;28;43;01mif\u001b[39;49;00m\u001b[43m \u001b[49m\u001b[43mt\u001b[49m\u001b[38;5;241;43m.\u001b[39;49m\u001b[43mis_floating_point\u001b[49m\u001b[43m(\u001b[49m\u001b[43m)\u001b[49m\u001b[43m \u001b[49m\u001b[38;5;129;43;01mor\u001b[39;49;00m\u001b[43m \u001b[49m\u001b[43mt\u001b[49m\u001b[38;5;241;43m.\u001b[39;49m\u001b[43mis_complex\u001b[49m\u001b[43m(\u001b[49m\u001b[43m)\u001b[49m\u001b[43m \u001b[49m\u001b[38;5;28;43;01melse\u001b[39;49;00m\u001b[43m \u001b[49m\u001b[38;5;28;43;01mNone\u001b[39;49;00m\u001b[43m,\u001b[49m\n\u001b[1;32m   1163\u001b[0m \u001b[43m        \u001b[49m\u001b[43mnon_blocking\u001b[49m\u001b[43m,\u001b[49m\n\u001b[1;32m   1164\u001b[0m \u001b[43m    \u001b[49m\u001b[43m)\u001b[49m\n\u001b[1;32m   1165\u001b[0m \u001b[38;5;28;01mexcept\u001b[39;00m \u001b[38;5;167;01mNotImplementedError\u001b[39;00m \u001b[38;5;28;01mas\u001b[39;00m e:\n\u001b[1;32m   1166\u001b[0m     \u001b[38;5;28;01mif\u001b[39;00m \u001b[38;5;28mstr\u001b[39m(e) \u001b[38;5;241m==\u001b[39m \u001b[38;5;124m\"\u001b[39m\u001b[38;5;124mCannot copy out of meta tensor; no data!\u001b[39m\u001b[38;5;124m\"\u001b[39m:\n",
      "\u001b[0;31mRuntimeError\u001b[0m: CUDA error: unspecified launch failure\nCUDA kernel errors might be asynchronously reported at some other API call, so the stacktrace below might be incorrect.\nFor debugging consider passing CUDA_LAUNCH_BLOCKING=1\nCompile with `TORCH_USE_CUDA_DSA` to enable device-side assertions.\n"
     ]
    }
   ],
   "source": [
    "torch.manual_seed(0)\n",
    "torch.cuda.manual_seed(0)\n",
    "\n",
    "decoder = Decoder(vocab_size=20_000, maximum_length=1024, dim_k=16, dim_model=64, num_heads=4, num_layers=2, dropout_prob=0.1)\n",
    "\n",
    "# Device agnostic code\n",
    "device = \"cuda\" if torch.cuda.is_available() else \"cpu\"\n",
    "print(device)\n",
    "decoder.to(device)"
   ]
  },
  {
   "cell_type": "code",
   "execution_count": null,
   "id": "bfa8ab57-a0c0-4073-9433-7faa01e1d0c3",
   "metadata": {},
   "outputs": [],
   "source": [
    "import numpy as np\n",
    "\n",
    "np.random.seed(0)\n",
    "X = np.random.randint(0, 20_000, size=(8, 512))\n",
    "X = torch.tensor(X).to(device)\n",
    "\n",
    "mask = np.ones((8, 512))\n",
    "mask[:, 256:] = 0\n",
    "mask = torch.tensor(mask).to(device)\n",
    "\n",
    "y = decoder(X, mask)\n",
    "y.shape"
   ]
  },
  {
   "cell_type": "code",
   "execution_count": null,
   "id": "b4631018-87d2-426b-9e52-72851f92fdab",
   "metadata": {},
   "outputs": [],
   "source": [
    "from transformers import AutoTokenizer, DataCollatorWithPadding\n",
    "from datasets import load_dataset\n",
    "\n",
    "checkpoint = 'distilbert-base-cased'\n",
    "tokenizer = AutoTokenizer.from_pretrained(checkpoint)\n",
    "\n",
    "# Use the same dataset but ignore the labels\n",
    "raw_datasets = load_dataset(\"glue\", \"sst2\")\n",
    "print(raw_datasets)"
   ]
  },
  {
   "cell_type": "code",
   "execution_count": null,
   "id": "8b760665-1292-4931-ad92-ca6658381a6a",
   "metadata": {},
   "outputs": [],
   "source": [
    "def tokenize(batch):\n",
    "   return tokenizer(batch['sentence'], truncation=True)\n",
    "\n",
    "tokenized_datasets = raw_datasets.map(tokenize, batched=True)\n",
    "data_collator = DataCollatorWithPadding(tokenizer=tokenizer)\n",
    "print(tokenized_datasets)"
   ]
  },
  {
   "cell_type": "code",
   "execution_count": null,
   "id": "b492071d-c6bb-4ee6-80e0-d07ca0369028",
   "metadata": {},
   "outputs": [],
   "source": [
    "tokenized_datasets = tokenized_datasets.remove_columns([\"sentence\", \"idx\", \"label\"])\n",
    "print(tokenized_datasets)"
   ]
  },
  {
   "cell_type": "code",
   "execution_count": null,
   "id": "7e9a381e-caa8-49dd-ae29-5c81e1b88f3f",
   "metadata": {},
   "outputs": [],
   "source": [
    "from torch.utils.data import DataLoader\n",
    "\n",
    "train_loader = DataLoader(tokenized_datasets[\"train\"], shuffle=True, batch_size=32, collate_fn=data_collator)\n",
    "\n",
    "# check how it works\n",
    "for batch in train_loader:\n",
    "    for k, v in batch.items():\n",
    "        print(\"k:\", k, \"v.shape:\", v.shape)\n",
    "    break\n",
    "\n",
    "print(tokenizer.pad_token_id)"
   ]
  },
  {
   "cell_type": "code",
   "execution_count": null,
   "id": "88827485-8060-4fe2-a7b7-dea78adeb0ee",
   "metadata": {},
   "outputs": [],
   "source": [
    "decoder = Decoder(vocab_size=tokenizer.vocab_size, maximum_length=tokenizer.model_max_length, dim_k=16, dim_model=64, num_heads=4, num_layers=2, dropout_prob=0.1)\n",
    "decoder.to(device)"
   ]
  },
  {
   "cell_type": "code",
   "execution_count": null,
   "id": "75decdd6-d233-4ee1-bee9-59f993ad852c",
   "metadata": {},
   "outputs": [],
   "source": [
    "from datetime import datetime\n",
    "\n",
    "# Loss and optimizer\n",
    "criterion = torch.nn.CrossEntropyLoss(ignore_index=tokenizer.pad_token_id)\n",
    "optimizer = torch.optim.Adam(decoder.parameters())\n",
    "\n",
    "# A function to encapsulate the training loop\n",
    "def train(model, criterion, optimizer, train_loader, num_epochs):\n",
    "    train_losses = np.zeros(epochs)\n",
    "\n",
    "    for it in range(epochs):\n",
    "        model.train()\n",
    "        t_0 = datetime.now()\n",
    "        train_loss = []\n",
    "        for batch in train_loader:\n",
    "            # move data to GPU\n",
    "            batch = {k: v.to(device) for k, v in batch.items()}\n",
    "    \n",
    "            # zero the parameter gradients\n",
    "            optimizer.zero_grad()\n",
    "    \n",
    "            # shift targets backwards\n",
    "            targets = batch['input_ids'].clone().detach()\n",
    "            targets = torch.roll(targets, shifts=-1, dims=1)\n",
    "            targets[:, -1] = tokenizer.pad_token_id\n",
    "    \n",
    "            # Forward pass\n",
    "            outputs = model(batch['input_ids'], batch['attention_mask'])\n",
    "            # outputs are (N, T, V)\n",
    "            # but PyTorch expects (N, V, T)\n",
    "            # print(\"outputs:\", outputs)\n",
    "            # print(\"targets:\", targets)\n",
    "            loss = criterion(outputs.transpose(2, 1), targets)\n",
    "            # N, T, V = outputs.shape\n",
    "            # loss = criterion(outputs.view(N * T, V), targets.view(N * T))\n",
    "            \n",
    "            # Backward and optimize\n",
    "            loss.backward()\n",
    "            optimizer.step()\n",
    "            train_loss.append(loss.item())\n",
    "\n",
    "        # Get train loss and test loss\n",
    "        train_loss = np.mean(train_loss)\n",
    "    \n",
    "        # Save losses\n",
    "        train_losses[it] = train_loss\n",
    "        \n",
    "        d_t = datetime.now() - t_0\n",
    "        print(f'Epoch {it + 1} / {num_epochs}, Train Loss: {train_loss:.4f}, Duration: {dt}')\n",
    "        \n",
    "  return train_losses\n",
    "\n",
    "train_losses = train(decoder, criterion, optimizer, train_loader, epochs=15)"
   ]
  },
  {
   "cell_type": "code",
   "execution_count": null,
   "id": "8089c0e3-d398-4313-a921-0a968762c4b4",
   "metadata": {},
   "outputs": [],
   "source": [
    "valid_loader = DataLoader(tokenized_datasets[\"validation\"], batch_size=1, collate_fn=data_collator)\n",
    "\n",
    "decoder.eval()\n",
    "for batch in valid_loader:\n",
    "    # move data to GPU\n",
    "    batch = {k: v.to(device) for k, v in batch.items()}\n",
    "    outputs = decoder(batch['input_ids'], batch['attention_mask'])\n",
    "    break\n",
    "\n",
    "print(outputs.shape)\n",
    "print(torch.argmax(outputs, axis=-1))\n",
    "\n",
    "prediction_ids = torch.argmax(outputs, axis=-1)\n",
    "print(tokenizer.decode(prediction_ids[0]))\n",
    "\n",
    "print(tokenizer.decode(batch['input_ids'][0]))\n",
    "print(tokenizer.decode(torch.concat((batch['input_ids'][0, :5], prediction_ids[:, 4]))))"
   ]
  },
  {
   "cell_type": "code",
   "execution_count": null,
   "id": "72691b8d-2e19-449b-9459-87dd60379cfa",
   "metadata": {},
   "outputs": [],
   "source": [
    "# generate something\n",
    "prompt = \"it's\"\n",
    "\n",
    "tokenized_prompt = tokenizer(prompt, return_tensors='pt')\n",
    "print(tokenized_prompt)"
   ]
  },
  {
   "cell_type": "code",
   "execution_count": null,
   "id": "63ad86fe-b325-42bf-bf2d-c7038d8e433f",
   "metadata": {},
   "outputs": [],
   "source": [
    "outputs = model(tokenized_prompt['input_ids'][:, :-1].to(device), tokenized_prompt['attention_mask'][:, :-1].to(device))\n",
    "print(outputs.shape)\n",
    "\n",
    "prediction_ids = torch.argmax(outputs[:, -1, :], axis=-1)\n",
    "print(tokenizer.decode(prediction_ids[0]))"
   ]
  },
  {
   "cell_type": "code",
   "execution_count": null,
   "id": "e01b89b5-3dec-4d8a-91e7-9d9e9742dbae",
   "metadata": {},
   "outputs": [],
   "source": [
    "# generate something\n",
    "prompt = \"it's a\"\n",
    "\n",
    "tokenized_prompt = tokenizer(prompt, return_tensors='pt')\n",
    "\n",
    "# Prepare inputs & get rid of `<SEP>` token at the end\n",
    "input_ids = tokenized_prompt['input_ids'][:, :-1].to(device)\n",
    "mask = tokenized_prompt['attention_mask'][:, :-1].to(device)\n",
    "\n",
    "for _ in range(20):\n",
    "    outputs = decoder(input_ids, mask)\n",
    "    prediction_id = torch.argmax(outputs[:, -1, :], axis=-1)\n",
    "\n",
    "    input_ids = torch.hstack((input_ids, prediction_id.view(1, 1)))\n",
    "    mask = torch.ones_like(input_ids)\n",
    "\n",
    "    if prediction_id == tokenizer.sep_token_id:\n",
    "        break\n",
    "\n",
    "tokenizer.decode(input_ids[0])"
   ]
  },
  {
   "cell_type": "code",
   "execution_count": null,
   "id": "0c7dcf65-5b19-4435-b5f5-b038731ecdcc",
   "metadata": {},
   "outputs": [],
   "source": []
  },
  {
   "cell_type": "markdown",
   "id": "840ddcb1-389c-4fac-a5d4-b505e62918af",
   "metadata": {},
   "source": [
    "## 2-5. Text Classification with Transformers"
   ]
  },
  {
   "cell_type": "code",
   "execution_count": null,
   "id": "01d42abc-e76d-499e-93f5-2335565b1be8",
   "metadata": {},
   "outputs": [],
   "source": [
    "class Transformer(nn.Module):\n",
    "  def __init__(self, encoder, decoder):\n",
    "    super().__init__()\n",
    "    self.encoder = encoder\n",
    "    self.decoder = decoder\n",
    "  \n",
    "  def forward(self, enc_input, dec_input, enc_mask, dec_mask):\n",
    "    enc_output = self.encoder(enc_input, enc_mask)\n",
    "    dec_output = self.decoder(enc_output, dec_input, enc_mask, dec_mask)\n",
    "    return dec_output"
   ]
  },
  {
   "cell_type": "code",
   "execution_count": null,
   "id": "e50d94af-5082-47cb-98fa-b542f9820349",
   "metadata": {},
   "outputs": [],
   "source": [
    "# test it\n",
    "encoder = Encoder(vocab_size=20_000,\n",
    "                  max_len=512,\n",
    "                  d_k=16,\n",
    "                  d_model=64,\n",
    "                  n_heads=4,\n",
    "                  n_layers=2,\n",
    "                  dropout_prob=0.1)\n",
    "decoder = Decoder(vocab_size=10_000,\n",
    "                  max_len=512,\n",
    "                  d_k=16,\n",
    "                  d_model=64,\n",
    "                  n_heads=4,\n",
    "                  n_layers=2,\n",
    "                  dropout_prob=0.1)\n",
    "transformer = Transformer(encoder, decoder)"
   ]
  },
  {
   "cell_type": "code",
   "execution_count": null,
   "id": "c1761e9c-2006-4631-90b6-dc3850c1b8f7",
   "metadata": {},
   "outputs": [],
   "source": [
    "device = torch.device(\"cuda:0\" if torch.cuda.is_available() else \"cpu\")\n",
    "print(device)\n",
    "encoder.to(device)\n",
    "decoder.to(device)"
   ]
  },
  {
   "cell_type": "code",
   "execution_count": null,
   "id": "5d9f47c3-f4eb-42ba-9561-dd9d7d0286cb",
   "metadata": {},
   "outputs": [],
   "source": [
    "class Encoder(torch.nn.Module):\n",
    "    def __init__(self, vocab_size, maximum_length, dim_k, dim_model, num_heads, num_layers, dropout_prob):\n",
    "        super().__init__()\n",
    "    \n",
    "        self.embedding = torch.nn.Embedding(vocab_size, dim_model)\n",
    "        self.position_encoding = PositionalEncoding(dim_model, maximum_length, dropout_prob)\n",
    "        transformer_blocks = [EncoderBlock(dim_k, dim_model, num_heads, maximum_length, dropout_prob) for _ in range(n_layers)]\n",
    "        self.transformer_blocks = torch.nn.Sequential(*transformer_blocks)\n",
    "        self.layer_norm = torch.nn.LayerNorm(dim_model)\n",
    "        # self.linear = nn.Linear(dim_model, num_classes)\n",
    "  \n",
    "    def forward(self, x, pad_mask=None):\n",
    "        x = self.embedding(x)\n",
    "        x = self.pos_encoding(x)\n",
    "        for block in self.transformer_blocks:\n",
    "          x = block(x, pad_mask)\n",
    "    \n",
    "        # many-to-one (x has the shape N x T x D)\n",
    "        # x = x[:, 0, :]\n",
    "    \n",
    "        x = self.ln(x)\n",
    "        # x = self.fc(x)\n",
    "        return x"
   ]
  },
  {
   "cell_type": "markdown",
   "id": "7decc91c-8903-4365-a0fa-43b79fb45553",
   "metadata": {},
   "source": [
    "# 4. Transfer Learning"
   ]
  },
  {
   "cell_type": "code",
   "execution_count": null,
   "id": "a1f9f03c-639e-4b23-9622-c724939830d7",
   "metadata": {},
   "outputs": [],
   "source": [
    "# [1] Freeze weights\n",
    "# import dataset (comes with colab!)\n",
    "data = np.loadtxt(open('sample_data/mnist_train_small.csv','rb'),delimiter=',')\n",
    "\n",
    "# extract labels (number IDs) and remove from data\n",
    "labels = data[:,0]\n",
    "data   = data[:,1:]\n",
    "\n",
    "# normalize the data to a range of [0 1]\n",
    "dataNorm = data / np.max(data)"
   ]
  },
  {
   "cell_type": "code",
   "execution_count": null,
   "id": "2e1117be-5ddf-403a-b48f-7c9913292402",
   "metadata": {},
   "outputs": [],
   "source": [
    "# Step 1: convert to tensor\n",
    "dataT   = torch.tensor( dataNorm ).float()\n",
    "labelsT = torch.tensor( labels ).long()\n",
    "\n",
    "# Step 2: use scikitlearn to split the data\n",
    "train_data,test_data, train_labels,test_labels = train_test_split(dataT, labelsT, test_size=.1)\n",
    "\n",
    "# Step 3: convert into PyTorch Datasets\n",
    "train_data = TensorDataset(train_data,train_labels)\n",
    "test_data  = TensorDataset(test_data,test_labels)\n",
    "\n",
    "# Step 4: translate into dataloader objects\n",
    "batchsize    = 32\n",
    "train_loader = DataLoader(train_data,batch_size=batchsize,shuffle=True,drop_last=True)\n",
    "test_loader  = DataLoader(test_data,batch_size=test_data.tensors[0].shape[0])"
   ]
  },
  {
   "cell_type": "code",
   "execution_count": null,
   "id": "069e60f3-7a01-4c75-9b6d-a5de22b9b898",
   "metadata": {},
   "outputs": [],
   "source": [
    "def createTheMNISTNet():\n",
    "\n",
    "  class mnistNet(nn.Module):\n",
    "    def __init__(self):\n",
    "      super().__init__()\n",
    "\n",
    "      ### input layer\n",
    "      self.input = nn.Linear(784,64)\n",
    "      \n",
    "      ### hidden layer\n",
    "      self.fc1 = nn.Linear(64,32)\n",
    "      self.fc2 = nn.Linear(32,32)\n",
    "\n",
    "      ### output layer\n",
    "      self.output = nn.Linear(32,10)\n",
    "\n",
    "    # forward pass\n",
    "    def forward(self,x):\n",
    "      x = F.relu( self.input(x) )\n",
    "      x = F.relu( self.fc1(x) )\n",
    "      x = F.relu( self.fc2(x) )\n",
    "      return self.output(x)\n",
    "  \n",
    "  # create the model instance\n",
    "  net = mnistNet()\n",
    "  \n",
    "  # loss function\n",
    "  lossfun = nn.CrossEntropyLoss()\n",
    "\n",
    "  # optimizer (using SGD to slow down learning!)\n",
    "  optimizer = torch.optim.SGD(net.parameters(),lr=.001)\n",
    "\n",
    "  return net,lossfun,optimizer"
   ]
  },
  {
   "cell_type": "code",
   "execution_count": null,
   "id": "c527c916-6716-4d19-847c-142bcbeafd60",
   "metadata": {},
   "outputs": [],
   "source": [
    "# inspect the \"learning toggle\" of a layer\n",
    "N = createTheMNISTNet()[0]\n",
    "N.fc1.weight.requires_grad"
   ]
  },
  {
   "cell_type": "code",
   "execution_count": null,
   "id": "af5c627e-959c-4647-97a0-c83061970e77",
   "metadata": {},
   "outputs": [],
   "source": [
    "N = createTheMNISTNet()[0]\n",
    "\n",
    "# switch off all layers except input\n",
    "for p in N.named_parameters():\n",
    "  if 'input' not in p[0]:\n",
    "    p[1].requires_grad = False\n",
    "  \n",
    "\n",
    "# check what we've done\n",
    "for p in N.named_parameters():\n",
    "  print('Requires_grad status in layer %s: %s' %(p[0],p[1].requires_grad))"
   ]
  },
  {
   "cell_type": "code",
   "execution_count": null,
   "id": "f43b0ffd-88fc-4449-a43e-ff20225fff8b",
   "metadata": {},
   "outputs": [],
   "source": [
    "def function2trainTheModel(net,lossfun,optimizer):\n",
    "\n",
    "  # number of epochs\n",
    "  numepochs = 100\n",
    "  \n",
    "  # initialize losses\n",
    "  losses    = torch.zeros(numepochs)\n",
    "  trainAcc  = []\n",
    "  testAcc   = []\n",
    "\n",
    "\n",
    "  # loop over epochs\n",
    "  for epochi in range(numepochs):\n",
    "\n",
    "\n",
    "\n",
    "    \n",
    "    # NEW: switch off learning in all-but-output layers during first 1/2 of training\n",
    "    if epochi<(numepochs/2):\n",
    "      for p in net.named_parameters():\n",
    "        if 'output' not in p[0]:\n",
    "          p[1].requires_grad = False\n",
    "    else:\n",
    "      for p in net.named_parameters():\n",
    "        p[1].requires_grad = True\n",
    "    \n",
    "    \n",
    "\n",
    "\n",
    "\n",
    "    # loop over training data batches\n",
    "    net.train()\n",
    "    batchAcc  = []\n",
    "    batchLoss = []\n",
    "    for X,y in train_loader:\n",
    "\n",
    "      # forward pass and loss\n",
    "      yHat = net(X)\n",
    "      loss = lossfun(yHat,y)\n",
    "\n",
    "      # backprop\n",
    "      optimizer.zero_grad()\n",
    "      loss.backward()\n",
    "      optimizer.step()\n",
    "\n",
    "      # loss from this batch\n",
    "      batchLoss.append(loss.item())\n",
    "\n",
    "      # compute accuracy\n",
    "      matches = torch.argmax(yHat,axis=1) == y     # booleans (false/true)\n",
    "      matchesNumeric = matches.float()             # convert to numbers (0/1)\n",
    "      accuracyPct = 100*torch.mean(matchesNumeric) # average and x100\n",
    "      batchAcc.append( accuracyPct )               # add to list of accuracies\n",
    "    # end of batch loop...\n",
    "\n",
    "    # now that we've trained through the batches, get their average training accuracy\n",
    "    trainAcc.append( np.mean(batchAcc) )\n",
    "\n",
    "    # and get average losses across the batches\n",
    "    losses[epochi] = np.mean(batchLoss)\n",
    "\n",
    "    # test accuracy\n",
    "    net.eval()\n",
    "    X,y = next(iter(test_loader)) # extract X,y from test dataloader\n",
    "    with torch.no_grad(): # deactivates autograd\n",
    "      yHat = net(X)\n",
    "      \n",
    "    # compare the following really long line of code to the training accuracy lines\n",
    "    testAcc.append( 100*torch.mean((torch.argmax(yHat,axis=1)==y).float()) )\n",
    "  # end epochs\n",
    "\n",
    "  # function output\n",
    "  return trainAcc,testAcc,losses,net"
   ]
  },
  {
   "cell_type": "code",
   "execution_count": null,
   "id": "5f0d9537-37fe-4478-980c-aaff5eaf3387",
   "metadata": {},
   "outputs": [],
   "source": [
    "# create the network\n",
    "net,lossfun,optimizer = createTheMNISTNet()\n",
    "\n",
    "# train the model\n",
    "trainAcc,testAcc,losses,net = function2trainTheModel(net,lossfun,optimizer)\n",
    "\n",
    "plt.plot(trainAcc,label='Train')\n",
    "plt.plot(testAcc,label='Test')\n",
    "plt.plot([len(trainAcc)/2, len(trainAcc)/2],[10,80],'k--',label='Learning switched on')\n",
    "plt.legend()\n",
    "plt.show()"
   ]
  },
  {
   "cell_type": "markdown",
   "id": "c079bdfb-1844-4f8d-b170-a3a2f996afcb",
   "metadata": {},
   "source": [
    "## 4-2. Transformers\n",
    "\n",
    "- [Supported Models & Frameworks](https://huggingface.co/docs/transformers/index#supported-models-and-frameworks)\n",
    "### 4-2-1. Pipelines\n",
    "- [Complete List of Supported Tasks](https://huggingface.co/docs/transformers/v4.44.0/en/main_classes/pipelines#transformers.pipeline)"
   ]
  },
  {
   "cell_type": "code",
   "execution_count": 3,
   "id": "d5f7b534-dcce-49bb-a9e4-e77cd229bd20",
   "metadata": {},
   "outputs": [],
   "source": [
    "#!pip3 install tf-keras \n",
    "from transformers import pipeline"
   ]
  },
  {
   "cell_type": "code",
   "execution_count": 4,
   "id": "52cce711-675c-4f08-92dc-94a6174d6a85",
   "metadata": {},
   "outputs": [
    {
     "name": "stderr",
     "output_type": "stream",
     "text": [
      "No model was supplied, defaulted to distilbert/distilbert-base-uncased-finetuned-sst-2-english and revision af0f99b (https://huggingface.co/distilbert/distilbert-base-uncased-finetuned-sst-2-english).\n",
      "Using a pipeline without specifying a model name and revision in production is not recommended.\n"
     ]
    },
    {
     "data": {
      "application/vnd.jupyter.widget-view+json": {
       "model_id": "55f4a1dbf2b14680a392b903fe58172c",
       "version_major": 2,
       "version_minor": 0
      },
      "text/plain": [
       "model.safetensors:   0%|          | 0.00/268M [00:00<?, ?B/s]"
      ]
     },
     "metadata": {},
     "output_type": "display_data"
    },
    {
     "data": {
      "application/vnd.jupyter.widget-view+json": {
       "model_id": "e8f5694e3f69404fa5ab98663f6efc74",
       "version_major": 2,
       "version_minor": 0
      },
      "text/plain": [
       "tokenizer_config.json:   0%|          | 0.00/48.0 [00:00<?, ?B/s]"
      ]
     },
     "metadata": {},
     "output_type": "display_data"
    },
    {
     "data": {
      "application/vnd.jupyter.widget-view+json": {
       "model_id": "bdb85ba1a9034aa5bdbe00a54d6211aa",
       "version_major": 2,
       "version_minor": 0
      },
      "text/plain": [
       "vocab.txt:   0%|          | 0.00/232k [00:00<?, ?B/s]"
      ]
     },
     "metadata": {},
     "output_type": "display_data"
    },
    {
     "name": "stderr",
     "output_type": "stream",
     "text": [
      "Hardware accelerator e.g. GPU is available in the environment, but no `device` argument is passed to the `Pipeline` object. Model will be on CPU.\n"
     ]
    },
    {
     "data": {
      "text/plain": [
       "transformers.pipelines.text_classification.TextClassificationPipeline"
      ]
     },
     "execution_count": 4,
     "metadata": {},
     "output_type": "execute_result"
    }
   ],
   "source": [
    "classifier = pipeline(\"sentiment-analysis\")\n",
    "type(classifier)"
   ]
  },
  {
   "cell_type": "code",
   "execution_count": 5,
   "id": "e90fce79-03b0-4566-a71e-0501beb0d585",
   "metadata": {},
   "outputs": [
    {
     "data": {
      "text/plain": [
       "[{'label': 'POSITIVE', 'score': 0.9998759031295776}]"
      ]
     },
     "execution_count": 5,
     "metadata": {},
     "output_type": "execute_result"
    }
   ],
   "source": [
    "# Output is a dictionary\n",
    "classifier(\"This is such a great movie!\")"
   ]
  },
  {
   "cell_type": "markdown",
   "id": "5d6ce99b-4718-4fa5-be2b-cee251d7e158",
   "metadata": {},
   "source": [
    "### 4-2-2. Fine-Tuning"
   ]
  },
  {
   "cell_type": "code",
   "execution_count": 6,
   "id": "2d1f8b4f-369d-4ca7-af24-5cbf68708be1",
   "metadata": {},
   "outputs": [],
   "source": [
    "from datasets import load_dataset"
   ]
  },
  {
   "cell_type": "code",
   "execution_count": 7,
   "id": "292480eb-6d72-41d1-ba77-c2cc5a7b4377",
   "metadata": {},
   "outputs": [
    {
     "data": {
      "application/vnd.jupyter.widget-view+json": {
       "model_id": "a13e40586bb44aba9bf4a3fa67469a3d",
       "version_major": 2,
       "version_minor": 0
      },
      "text/plain": [
       "Downloading readme:   0%|          | 0.00/35.3k [00:00<?, ?B/s]"
      ]
     },
     "metadata": {},
     "output_type": "display_data"
    },
    {
     "data": {
      "application/vnd.jupyter.widget-view+json": {
       "model_id": "b84bf07de1774c06b385611cd277728d",
       "version_major": 2,
       "version_minor": 0
      },
      "text/plain": [
       "Downloading data:   0%|          | 0.00/3.11M [00:00<?, ?B/s]"
      ]
     },
     "metadata": {},
     "output_type": "display_data"
    },
    {
     "data": {
      "application/vnd.jupyter.widget-view+json": {
       "model_id": "9309390dac454bcc953ec69d3d171ddc",
       "version_major": 2,
       "version_minor": 0
      },
      "text/plain": [
       "Downloading data:   0%|          | 0.00/72.8k [00:00<?, ?B/s]"
      ]
     },
     "metadata": {},
     "output_type": "display_data"
    },
    {
     "data": {
      "application/vnd.jupyter.widget-view+json": {
       "model_id": "7530e8bcb57f41359357d6cd0f96977a",
       "version_major": 2,
       "version_minor": 0
      },
      "text/plain": [
       "Downloading data:   0%|          | 0.00/148k [00:00<?, ?B/s]"
      ]
     },
     "metadata": {},
     "output_type": "display_data"
    },
    {
     "data": {
      "application/vnd.jupyter.widget-view+json": {
       "model_id": "04f7b3a3bba64b9e8b8a88a206b563b7",
       "version_major": 2,
       "version_minor": 0
      },
      "text/plain": [
       "Generating train split:   0%|          | 0/67349 [00:00<?, ? examples/s]"
      ]
     },
     "metadata": {},
     "output_type": "display_data"
    },
    {
     "data": {
      "application/vnd.jupyter.widget-view+json": {
       "model_id": "a28d6f2199864ffe90be76f8c262b14d",
       "version_major": 2,
       "version_minor": 0
      },
      "text/plain": [
       "Generating validation split:   0%|          | 0/872 [00:00<?, ? examples/s]"
      ]
     },
     "metadata": {},
     "output_type": "display_data"
    },
    {
     "data": {
      "application/vnd.jupyter.widget-view+json": {
       "model_id": "f358d052bfdf46408bdd70b0b8e1306f",
       "version_major": 2,
       "version_minor": 0
      },
      "text/plain": [
       "Generating test split:   0%|          | 0/1821 [00:00<?, ? examples/s]"
      ]
     },
     "metadata": {},
     "output_type": "display_data"
    },
    {
     "data": {
      "text/plain": [
       "DatasetDict({\n",
       "    train: Dataset({\n",
       "        features: ['sentence', 'label', 'idx'],\n",
       "        num_rows: 67349\n",
       "    })\n",
       "    validation: Dataset({\n",
       "        features: ['sentence', 'label', 'idx'],\n",
       "        num_rows: 872\n",
       "    })\n",
       "    test: Dataset({\n",
       "        features: ['sentence', 'label', 'idx'],\n",
       "        num_rows: 1821\n",
       "    })\n",
       "})"
      ]
     },
     "execution_count": 7,
     "metadata": {},
     "output_type": "execute_result"
    }
   ],
   "source": [
    "raw_datasets = load_dataset(\"glue\", \"sst2\")\n",
    "raw_datasets"
   ]
  },
  {
   "cell_type": "code",
   "execution_count": 8,
   "id": "5486156e-fe89-4804-87db-d8da07f370bc",
   "metadata": {},
   "outputs": [
    {
     "data": {
      "text/plain": [
       "Dataset({\n",
       "    features: ['sentence', 'label', 'idx'],\n",
       "    num_rows: 67349\n",
       "})"
      ]
     },
     "execution_count": 8,
     "metadata": {},
     "output_type": "execute_result"
    }
   ],
   "source": [
    "raw_datasets['train']"
   ]
  },
  {
   "cell_type": "code",
   "execution_count": 9,
   "id": "a25f1878-bee8-4048-953c-d59f84291b96",
   "metadata": {},
   "outputs": [
    {
     "data": {
      "text/plain": [
       "MemoryMappedTable\n",
       "sentence: string\n",
       "label: int64\n",
       "idx: int32\n",
       "----\n",
       "sentence: [[\"hide new secretions from the parental units \",\"contains no wit , only labored gags \",\"that loves its characters and communicates something rather beautiful about human nature \",\"remains utterly satisfied to remain the same throughout \",\"on the worst revenge-of-the-nerds clichés the filmmakers could dredge up \",...,\"you wish you were at home watching that movie instead of in the theater watching this one \",\"'s no point in extracting the bare bones of byatt 's plot for purposes of bland hollywood romance \",\"underdeveloped \",\"the jokes are flat \",\"a heartening tale of small victories \"],[\"suspense , intriguing characters and bizarre bank robberies , \",\"a gritty police thriller with all the dysfunctional family dynamics one could wish for \",\"with a wonderful ensemble cast of characters that bring the routine day to day struggles of the working class to life \",\"nonetheless appreciates the art and reveals a music scene that transcends culture and race . \",\"do we really need the tiger beat version ? \",...,\"when there 's nothing else happening \",\"on cable \",\"it with ring , \",\"far from a groundbreaking endeavor \",\"that these women are spectacular \"],...,[\"it does turn out to be a bit of a cheat in the end \",\"may be convinced that he has something significant to say \",\"to be both hugely entertaining and uplifting . \",\", boredom never takes hold . \",\"left to work with , sort of like michael jackson 's nose \",...,\"from a severe case of hollywood-itis \",\"the very best of them \",\"thrills , \",\"'s attracting audiences to unfaithful \",\"impressively delicate range \"],[\"starts off promisingly but then proceeds to flop \",\"distinguished actor \",\"on their parents ' anguish \",\"pays off and is effective if you stick with it \",\"is n't particularly funny \",...,\"a delightful comedy \",\"anguish , anger and frustration \",\"at achieving the modest , crowd-pleasing goals it sets for itself \",\"a patient viewer \",\"this new jangle of noise , mayhem and stupidity must be a serious contender for the title . \"]]\n",
       "label: [[0,0,1,0,0,...,0,0,0,0,1],[1,1,1,1,0,...,0,0,1,0,1],...,[0,0,1,1,0,...,0,1,1,1,1],[0,1,0,1,0,...,1,0,1,1,0]]\n",
       "idx: [[0,1,2,3,4,...,995,996,997,998,999],[1000,1001,1002,1003,1004,...,1995,1996,1997,1998,1999],...,[66000,66001,66002,66003,66004,...,66995,66996,66997,66998,66999],[67000,67001,67002,67003,67004,...,67344,67345,67346,67347,67348]]"
      ]
     },
     "execution_count": 9,
     "metadata": {},
     "output_type": "execute_result"
    }
   ],
   "source": [
    "raw_datasets['train'].data"
   ]
  },
  {
   "cell_type": "code",
   "execution_count": 44,
   "id": "4558f922-6ad9-465f-bd7c-2e305584f503",
   "metadata": {},
   "outputs": [
    {
     "data": {
      "text/plain": [
       "{'sentence': Value(dtype='string', id=None),\n",
       " 'label': ClassLabel(names=['negative', 'positive'], id=None),\n",
       " 'idx': Value(dtype='int32', id=None)}"
      ]
     },
     "execution_count": 44,
     "metadata": {},
     "output_type": "execute_result"
    }
   ],
   "source": [
    "raw_datasets['train'].features"
   ]
  },
  {
   "cell_type": "code",
   "execution_count": 10,
   "id": "da8cf0a4-39bf-4ab7-9840-bfc085c68808",
   "metadata": {},
   "outputs": [
    {
     "data": {
      "application/vnd.jupyter.widget-view+json": {
       "model_id": "915d9bc28cf64d9b9b16e4a089079423",
       "version_major": 2,
       "version_minor": 0
      },
      "text/plain": [
       "tokenizer_config.json:   0%|          | 0.00/48.0 [00:00<?, ?B/s]"
      ]
     },
     "metadata": {},
     "output_type": "display_data"
    },
    {
     "data": {
      "application/vnd.jupyter.widget-view+json": {
       "model_id": "6f22131436804f63b052dec0264053b8",
       "version_major": 2,
       "version_minor": 0
      },
      "text/plain": [
       "config.json:   0%|          | 0.00/483 [00:00<?, ?B/s]"
      ]
     },
     "metadata": {},
     "output_type": "display_data"
    },
    {
     "data": {
      "application/vnd.jupyter.widget-view+json": {
       "model_id": "f16dbce17f844673a53dc12abd43ec6d",
       "version_major": 2,
       "version_minor": 0
      },
      "text/plain": [
       "vocab.txt:   0%|          | 0.00/232k [00:00<?, ?B/s]"
      ]
     },
     "metadata": {},
     "output_type": "display_data"
    },
    {
     "data": {
      "application/vnd.jupyter.widget-view+json": {
       "model_id": "c999c9cd39bb4411934371883556a53c",
       "version_major": 2,
       "version_minor": 0
      },
      "text/plain": [
       "tokenizer.json:   0%|          | 0.00/466k [00:00<?, ?B/s]"
      ]
     },
     "metadata": {},
     "output_type": "display_data"
    },
    {
     "name": "stdout",
     "output_type": "stream",
     "text": [
      "{'attention_mask': [[1, 1, 1, 1, 1, 1, 1, 1, 1, 1],\n",
      "                    [1, 1, 1, 1, 1, 1, 1, 1, 1, 1, 1],\n",
      "                    [1, 1, 1, 1, 1, 1, 1, 1, 1, 1, 1, 1, 1, 1, 1]],\n",
      " 'input_ids': [[101, 5342, 2047, 3595, 8496, 2013, 1996, 18643, 3197, 102],\n",
      "               [101,\n",
      "                3397,\n",
      "                2053,\n",
      "                15966,\n",
      "                1010,\n",
      "                2069,\n",
      "                4450,\n",
      "                2098,\n",
      "                18201,\n",
      "                2015,\n",
      "                102],\n",
      "               [101,\n",
      "                2008,\n",
      "                7459,\n",
      "                2049,\n",
      "                3494,\n",
      "                1998,\n",
      "                10639,\n",
      "                2015,\n",
      "                2242,\n",
      "                2738,\n",
      "                3376,\n",
      "                2055,\n",
      "                2529,\n",
      "                3267,\n",
      "                102]]}\n"
     ]
    }
   ],
   "source": [
    "from transformers import AutoTokenizer\n",
    "from pprint import pprint\n",
    "\n",
    "checkpoint = \"distilbert-base-uncased\"\n",
    "tokenizer = AutoTokenizer.from_pretrained(checkpoint)\n",
    "\n",
    "tokenized_sentences = tokenizer(raw_datasets['train'][0:3]['sentence'])\n",
    "pprint(tokenized_sentences)"
   ]
  },
  {
   "cell_type": "code",
   "execution_count": 19,
   "id": "5d515f6b-3769-43e6-916f-fca294f7a22e",
   "metadata": {},
   "outputs": [
    {
     "data": {
      "application/vnd.jupyter.widget-view+json": {
       "model_id": "e6bde47a18bc4a91b372330e7c17925b",
       "version_major": 2,
       "version_minor": 0
      },
      "text/plain": [
       "Map:   0%|          | 0/67349 [00:00<?, ? examples/s]"
      ]
     },
     "metadata": {},
     "output_type": "display_data"
    },
    {
     "data": {
      "application/vnd.jupyter.widget-view+json": {
       "model_id": "f414a499ef40440f8c58716f4b50b467",
       "version_major": 2,
       "version_minor": 0
      },
      "text/plain": [
       "Map:   0%|          | 0/872 [00:00<?, ? examples/s]"
      ]
     },
     "metadata": {},
     "output_type": "display_data"
    },
    {
     "data": {
      "application/vnd.jupyter.widget-view+json": {
       "model_id": "0f0ea13c27744a31a5ede242980c28f9",
       "version_major": 2,
       "version_minor": 0
      },
      "text/plain": [
       "Map:   0%|          | 0/1821 [00:00<?, ? examples/s]"
      ]
     },
     "metadata": {},
     "output_type": "display_data"
    },
    {
     "data": {
      "text/plain": [
       "datasets.dataset_dict.DatasetDict"
      ]
     },
     "execution_count": 19,
     "metadata": {},
     "output_type": "execute_result"
    }
   ],
   "source": [
    "def tokenize_fn(batch):\n",
    "  return tokenizer(batch['sentence'], truncation=True)\n",
    "\n",
    "tokenized_datasets = raw_datasets.map(tokenize_fn, batched=True)\n",
    "type(tokenized_datasets)"
   ]
  },
  {
   "cell_type": "code",
   "execution_count": 13,
   "id": "b95f2797-056f-43bc-9514-8248d4ff314c",
   "metadata": {},
   "outputs": [
    {
     "data": {
      "text/plain": [
       "TrainingArguments(\n",
       "_n_gpu=1,\n",
       "accelerator_config={'split_batches': False, 'dispatch_batches': None, 'even_batches': True, 'use_seedable_sampler': True, 'non_blocking': False, 'gradient_accumulation_kwargs': None, 'use_configured_state': False},\n",
       "adafactor=False,\n",
       "adam_beta1=0.9,\n",
       "adam_beta2=0.999,\n",
       "adam_epsilon=1e-08,\n",
       "auto_find_batch_size=False,\n",
       "batch_eval_metrics=False,\n",
       "bf16=False,\n",
       "bf16_full_eval=False,\n",
       "data_seed=None,\n",
       "dataloader_drop_last=False,\n",
       "dataloader_num_workers=0,\n",
       "dataloader_persistent_workers=False,\n",
       "dataloader_pin_memory=True,\n",
       "dataloader_prefetch_factor=None,\n",
       "ddp_backend=None,\n",
       "ddp_broadcast_buffers=None,\n",
       "ddp_bucket_cap_mb=None,\n",
       "ddp_find_unused_parameters=None,\n",
       "ddp_timeout=1800,\n",
       "debug=[],\n",
       "deepspeed=None,\n",
       "disable_tqdm=False,\n",
       "dispatch_batches=None,\n",
       "do_eval=True,\n",
       "do_predict=False,\n",
       "do_train=False,\n",
       "eval_accumulation_steps=None,\n",
       "eval_delay=0,\n",
       "eval_do_concat_batches=True,\n",
       "eval_on_start=False,\n",
       "eval_steps=None,\n",
       "eval_strategy=IntervalStrategy.EPOCH,\n",
       "eval_use_gather_object=False,\n",
       "evaluation_strategy=None,\n",
       "fp16=False,\n",
       "fp16_backend=auto,\n",
       "fp16_full_eval=False,\n",
       "fp16_opt_level=O1,\n",
       "fsdp=[],\n",
       "fsdp_config={'min_num_params': 0, 'xla': False, 'xla_fsdp_v2': False, 'xla_fsdp_grad_ckpt': False},\n",
       "fsdp_min_num_params=0,\n",
       "fsdp_transformer_layer_cls_to_wrap=None,\n",
       "full_determinism=False,\n",
       "gradient_accumulation_steps=1,\n",
       "gradient_checkpointing=False,\n",
       "gradient_checkpointing_kwargs=None,\n",
       "greater_is_better=None,\n",
       "group_by_length=False,\n",
       "half_precision_backend=auto,\n",
       "hub_always_push=False,\n",
       "hub_model_id=None,\n",
       "hub_private_repo=False,\n",
       "hub_strategy=HubStrategy.EVERY_SAVE,\n",
       "hub_token=<HUB_TOKEN>,\n",
       "ignore_data_skip=False,\n",
       "include_inputs_for_metrics=False,\n",
       "include_num_input_tokens_seen=False,\n",
       "include_tokens_per_second=False,\n",
       "jit_mode_eval=False,\n",
       "label_names=None,\n",
       "label_smoothing_factor=0.0,\n",
       "learning_rate=5e-05,\n",
       "length_column_name=length,\n",
       "load_best_model_at_end=False,\n",
       "local_rank=0,\n",
       "log_level=passive,\n",
       "log_level_replica=warning,\n",
       "log_on_each_node=True,\n",
       "logging_dir=my_trainer/runs/Aug12_22-42-33_yungshun317-Titan-18-HX-A14VIG,\n",
       "logging_first_step=False,\n",
       "logging_nan_inf_filter=True,\n",
       "logging_steps=500,\n",
       "logging_strategy=IntervalStrategy.STEPS,\n",
       "lr_scheduler_kwargs={},\n",
       "lr_scheduler_type=SchedulerType.LINEAR,\n",
       "max_grad_norm=1.0,\n",
       "max_steps=-1,\n",
       "metric_for_best_model=None,\n",
       "mp_parameters=,\n",
       "neftune_noise_alpha=None,\n",
       "no_cuda=False,\n",
       "num_train_epochs=1,\n",
       "optim=OptimizerNames.ADAMW_TORCH,\n",
       "optim_args=None,\n",
       "optim_target_modules=None,\n",
       "output_dir=my_trainer,\n",
       "overwrite_output_dir=False,\n",
       "past_index=-1,\n",
       "per_device_eval_batch_size=8,\n",
       "per_device_train_batch_size=8,\n",
       "prediction_loss_only=False,\n",
       "push_to_hub=False,\n",
       "push_to_hub_model_id=None,\n",
       "push_to_hub_organization=None,\n",
       "push_to_hub_token=<PUSH_TO_HUB_TOKEN>,\n",
       "ray_scope=last,\n",
       "remove_unused_columns=True,\n",
       "report_to=['tensorboard'],\n",
       "restore_callback_states_from_checkpoint=False,\n",
       "resume_from_checkpoint=None,\n",
       "run_name=my_trainer,\n",
       "save_on_each_node=False,\n",
       "save_only_model=False,\n",
       "save_safetensors=True,\n",
       "save_steps=500,\n",
       "save_strategy=IntervalStrategy.EPOCH,\n",
       "save_total_limit=None,\n",
       "seed=42,\n",
       "skip_memory_metrics=True,\n",
       "split_batches=None,\n",
       "tf32=None,\n",
       "torch_compile=False,\n",
       "torch_compile_backend=None,\n",
       "torch_compile_mode=None,\n",
       "torch_empty_cache_steps=None,\n",
       "torchdynamo=None,\n",
       "tpu_metrics_debug=False,\n",
       "tpu_num_cores=None,\n",
       "use_cpu=False,\n",
       "use_ipex=False,\n",
       "use_legacy_prediction_loop=False,\n",
       "use_mps_device=False,\n",
       "warmup_ratio=0.0,\n",
       "warmup_steps=0,\n",
       "weight_decay=0.0,\n",
       ")"
      ]
     },
     "execution_count": 13,
     "metadata": {},
     "output_type": "execute_result"
    }
   ],
   "source": [
    "from transformers import TrainingArguments\n",
    "\n",
    "training_args = TrainingArguments(\n",
    "  'my_trainer',\n",
    "  eval_strategy='epoch',\n",
    "  save_strategy='epoch',\n",
    "  num_train_epochs=1,\n",
    ")\n",
    "training_args"
   ]
  },
  {
   "cell_type": "code",
   "execution_count": 12,
   "id": "54e6cae1-8ecd-4efa-8e18-233b580ef77d",
   "metadata": {},
   "outputs": [
    {
     "data": {
      "application/vnd.jupyter.widget-view+json": {
       "model_id": "d54dd42b8b634e5e84eb7c42ebad2d4f",
       "version_major": 2,
       "version_minor": 0
      },
      "text/plain": [
       "model.safetensors:   0%|          | 0.00/268M [00:00<?, ?B/s]"
      ]
     },
     "metadata": {},
     "output_type": "display_data"
    },
    {
     "name": "stderr",
     "output_type": "stream",
     "text": [
      "Some weights of DistilBertForSequenceClassification were not initialized from the model checkpoint at distilbert-base-uncased and are newly initialized: ['classifier.bias', 'classifier.weight', 'pre_classifier.bias', 'pre_classifier.weight']\n",
      "You should probably TRAIN this model on a down-stream task to be able to use it for predictions and inference.\n"
     ]
    },
    {
     "data": {
      "text/plain": [
       "transformers.models.distilbert.modeling_distilbert.DistilBertForSequenceClassification"
      ]
     },
     "execution_count": 12,
     "metadata": {},
     "output_type": "execute_result"
    }
   ],
   "source": [
    "from transformers import AutoModelForSequenceClassification\n",
    "\n",
    "model = AutoModelForSequenceClassification.from_pretrained(\n",
    "    checkpoint,\n",
    "    num_labels=2)\n",
    "type(model)"
   ]
  },
  {
   "cell_type": "code",
   "execution_count": 14,
   "id": "fdb643e8-9dc2-4091-9495-7e4d86a67b76",
   "metadata": {},
   "outputs": [
    {
     "data": {
      "text/plain": [
       "DistilBertForSequenceClassification(\n",
       "  (distilbert): DistilBertModel(\n",
       "    (embeddings): Embeddings(\n",
       "      (word_embeddings): Embedding(30522, 768, padding_idx=0)\n",
       "      (position_embeddings): Embedding(512, 768)\n",
       "      (LayerNorm): LayerNorm((768,), eps=1e-12, elementwise_affine=True)\n",
       "      (dropout): Dropout(p=0.1, inplace=False)\n",
       "    )\n",
       "    (transformer): Transformer(\n",
       "      (layer): ModuleList(\n",
       "        (0-5): 6 x TransformerBlock(\n",
       "          (attention): MultiHeadSelfAttention(\n",
       "            (dropout): Dropout(p=0.1, inplace=False)\n",
       "            (q_lin): Linear(in_features=768, out_features=768, bias=True)\n",
       "            (k_lin): Linear(in_features=768, out_features=768, bias=True)\n",
       "            (v_lin): Linear(in_features=768, out_features=768, bias=True)\n",
       "            (out_lin): Linear(in_features=768, out_features=768, bias=True)\n",
       "          )\n",
       "          (sa_layer_norm): LayerNorm((768,), eps=1e-12, elementwise_affine=True)\n",
       "          (ffn): FFN(\n",
       "            (dropout): Dropout(p=0.1, inplace=False)\n",
       "            (lin1): Linear(in_features=768, out_features=3072, bias=True)\n",
       "            (lin2): Linear(in_features=3072, out_features=768, bias=True)\n",
       "            (activation): GELUActivation()\n",
       "          )\n",
       "          (output_layer_norm): LayerNorm((768,), eps=1e-12, elementwise_affine=True)\n",
       "        )\n",
       "      )\n",
       "    )\n",
       "  )\n",
       "  (pre_classifier): Linear(in_features=768, out_features=768, bias=True)\n",
       "  (classifier): Linear(in_features=768, out_features=2, bias=True)\n",
       "  (dropout): Dropout(p=0.2, inplace=False)\n",
       ")"
      ]
     },
     "execution_count": 14,
     "metadata": {},
     "output_type": "execute_result"
    }
   ],
   "source": [
    "model"
   ]
  },
  {
   "cell_type": "code",
   "execution_count": 15,
   "id": "9f728925-aff4-4841-bfe0-b92b30e8901c",
   "metadata": {},
   "outputs": [
    {
     "data": {
      "text/plain": [
       "================================================================================\n",
       "Layer (type:depth-idx)                                  Param #\n",
       "================================================================================\n",
       "DistilBertForSequenceClassification                     --\n",
       "├─DistilBertModel: 1-1                                  --\n",
       "│    └─Embeddings: 2-1                                  --\n",
       "│    │    └─Embedding: 3-1                              23,440,896\n",
       "│    │    └─Embedding: 3-2                              393,216\n",
       "│    │    └─LayerNorm: 3-3                              1,536\n",
       "│    │    └─Dropout: 3-4                                --\n",
       "│    └─Transformer: 2-2                                 --\n",
       "│    │    └─ModuleList: 3-5                             42,527,232\n",
       "├─Linear: 1-2                                           590,592\n",
       "├─Linear: 1-3                                           1,538\n",
       "├─Dropout: 1-4                                          --\n",
       "================================================================================\n",
       "Total params: 66,955,010\n",
       "Trainable params: 66,955,010\n",
       "Non-trainable params: 0\n",
       "================================================================================"
      ]
     },
     "execution_count": 15,
     "metadata": {},
     "output_type": "execute_result"
    }
   ],
   "source": [
    "from torchinfo import summary\n",
    "\n",
    "summary(model)"
   ]
  },
  {
   "cell_type": "code",
   "execution_count": 32,
   "id": "ffde041c-e5f6-4183-91bd-37e47ecc0606",
   "metadata": {},
   "outputs": [],
   "source": [
    "# !pip3 install evaluate\n",
    "import evaluate\n",
    "\n",
    "# Metric for validation error\n",
    "def compute_metrics(eval_preds):\n",
    "    metric = load_metric(\"glue\", \"sst2\")\n",
    "    logits, labels = eval_preds\n",
    "    predictions = np.argmax(logits, axis=-1)\n",
    "    return metric.compute(predictions=predictions, references=labels)"
   ]
  },
  {
   "cell_type": "code",
   "execution_count": 33,
   "id": "6c222023-bf0d-48b1-a846-349f0cfae16a",
   "metadata": {},
   "outputs": [
    {
     "data": {
      "text/html": [
       "\n",
       "    <div>\n",
       "      \n",
       "      <progress value='8419' max='8419' style='width:300px; height:20px; vertical-align: middle;'></progress>\n",
       "      [8419/8419 03:14, Epoch 1/1]\n",
       "    </div>\n",
       "    <table border=\"1\" class=\"dataframe\">\n",
       "  <thead>\n",
       " <tr style=\"text-align: left;\">\n",
       "      <th>Epoch</th>\n",
       "      <th>Training Loss</th>\n",
       "      <th>Validation Loss</th>\n",
       "      <th>Accuracy</th>\n",
       "    </tr>\n",
       "  </thead>\n",
       "  <tbody>\n",
       "    <tr>\n",
       "      <td>1</td>\n",
       "      <td>0.151100</td>\n",
       "      <td>0.509155</td>\n",
       "      <td>0.883028</td>\n",
       "    </tr>\n",
       "  </tbody>\n",
       "</table><p>"
      ],
      "text/plain": [
       "<IPython.core.display.HTML object>"
      ]
     },
     "metadata": {},
     "output_type": "display_data"
    },
    {
     "data": {
      "text/plain": [
       "TrainOutput(global_step=8419, training_loss=0.07386701579104694, metrics={'train_runtime': 194.6434, 'train_samples_per_second': 346.012, 'train_steps_per_second': 43.253, 'total_flos': 517212489917652.0, 'train_loss': 0.07386701579104694, 'epoch': 1.0})"
      ]
     },
     "execution_count": 33,
     "metadata": {},
     "output_type": "execute_result"
    }
   ],
   "source": [
    "from transformers import Trainer\n",
    "\n",
    "trainer = Trainer(\n",
    "    model,\n",
    "    training_args,\n",
    "    train_dataset=tokenized_datasets[\"train\"],\n",
    "    eval_dataset=tokenized_datasets[\"validation\"],\n",
    "    tokenizer=tokenizer,\n",
    "    compute_metrics=compute_metrics,\n",
    ")\n",
    "trainer.train()"
   ]
  },
  {
   "cell_type": "code",
   "execution_count": 34,
   "id": "063f5e9a-9529-4dbc-b21e-9baa13ff53e0",
   "metadata": {},
   "outputs": [],
   "source": [
    "trainer.save_model('models/finetuned_model')"
   ]
  },
  {
   "cell_type": "code",
   "execution_count": 35,
   "id": "38cb7889-f9f1-4ee3-96c3-ffb08eda8aab",
   "metadata": {},
   "outputs": [
    {
     "data": {
      "text/plain": [
       "[{'label': 'LABEL_1', 'score': 0.9997863173484802}]"
      ]
     },
     "execution_count": 35,
     "metadata": {},
     "output_type": "execute_result"
    }
   ],
   "source": [
    "finetuned_model = pipeline(\"sentiment-analysis\", model='models/finetuned_model', device=0)\n",
    "finetuned_model('This is such a great movie!')"
   ]
  },
  {
   "cell_type": "code",
   "execution_count": 41,
   "id": "292f822a-1fed-46a4-8fd4-de1ad309779c",
   "metadata": {},
   "outputs": [
    {
     "data": {
      "text/plain": [
       "[{'label': 'LABEL_0', 'score': 0.9997292160987854}]"
      ]
     },
     "execution_count": 41,
     "metadata": {},
     "output_type": "execute_result"
    }
   ],
   "source": [
    "finetuned_model('This is such a bad movie!')"
   ]
  },
  {
   "cell_type": "code",
   "execution_count": 36,
   "id": "d55f06db-45cf-4029-afe3-c7408fd4c263",
   "metadata": {},
   "outputs": [
    {
     "name": "stdout",
     "output_type": "stream",
     "text": [
      "{\n",
      "  \"_name_or_path\": \"distilbert-base-uncased\",\n",
      "  \"activation\": \"gelu\",\n",
      "  \"architectures\": [\n",
      "    \"DistilBertForSequenceClassification\"\n",
      "  ],\n",
      "  \"attention_dropout\": 0.1,\n",
      "  \"dim\": 768,\n",
      "  \"dropout\": 0.1,\n",
      "  \"hidden_dim\": 3072,\n",
      "  \"initializer_range\": 0.02,\n",
      "  \"max_position_embeddings\": 512,\n",
      "  \"model_type\": \"distilbert\",\n",
      "  \"n_heads\": 12,\n",
      "  \"n_layers\": 6,\n",
      "  \"pad_token_id\": 0,\n",
      "  \"problem_type\": \"single_label_classification\",\n",
      "  \"qa_dropout\": 0.1,\n",
      "  \"seq_classif_dropout\": 0.2,\n",
      "  \"sinusoidal_pos_embds\": false,\n",
      "  \"tie_weights_\": true,\n",
      "  \"torch_dtype\": \"float32\",\n",
      "  \"transformers_version\": \"4.43.4\",\n",
      "  \"vocab_size\": 30522\n",
      "}\n"
     ]
    },
    {
     "name": "stderr",
     "output_type": "stream",
     "text": [
      "huggingface/tokenizers: The current process just got forked, after parallelism has already been used. Disabling parallelism to avoid deadlocks...\n",
      "To disable this warning, you can either:\n",
      "\t- Avoid using `tokenizers` before the fork if possible\n",
      "\t- Explicitly set the environment variable TOKENIZERS_PARALLELISM=(true | false)\n"
     ]
    }
   ],
   "source": [
    "!cat models/finetuned_model/config.json"
   ]
  },
  {
   "cell_type": "code",
   "execution_count": 58,
   "id": "ddde7e38-f876-4bc6-8af4-37dedb9b5c3d",
   "metadata": {},
   "outputs": [
    {
     "name": "stdout",
     "output_type": "stream",
     "text": [
      "{'accuracy': 0.988}\n"
     ]
    }
   ],
   "source": [
    "metric = load_metric(\"glue\", \"sst2\")\n",
    "\n",
    "n_samples = 500\n",
    "\n",
    "# The labels in test set of `glue/sst2` are `-1`\n",
    "X = raw_datasets['train'].data[\"sentence\"].to_pylist()[:n_samples]\n",
    "y = raw_datasets['train'].data[\"label\"].to_pylist()[:n_samples]\n",
    "\n",
    "results = finetuned_model(X)\n",
    "predictions = [0 if res[\"label\"] == \"LABEL_0\" else 1 for res in results]\n",
    "print(metric.compute(predictions=predictions, references=y))"
   ]
  },
  {
   "cell_type": "code",
   "execution_count": null,
   "id": "6847dd8c-5032-4218-a459-5701f60145c1",
   "metadata": {},
   "outputs": [],
   "source": []
  }
 ],
 "metadata": {
  "kernelspec": {
   "display_name": "Python 3 (ipykernel)",
   "language": "python",
   "name": "python3"
  },
  "language_info": {
   "codemirror_mode": {
    "name": "ipython",
    "version": 3
   },
   "file_extension": ".py",
   "mimetype": "text/x-python",
   "name": "python",
   "nbconvert_exporter": "python",
   "pygments_lexer": "ipython3",
   "version": "3.12.3"
  }
 },
 "nbformat": 4,
 "nbformat_minor": 5
}
