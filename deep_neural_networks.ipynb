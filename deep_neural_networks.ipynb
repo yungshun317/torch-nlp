{
 "cells": [
  {
   "cell_type": "markdown",
   "id": "f3e4bdbf-eafe-46c0-9d55-35dcad874d0c",
   "metadata": {},
   "source": [
    "# 1. PyTorch\n",
    "## 1-1. Containers\n",
    "Your model should subclass `torch.nn.Module`. `torch.nn` holds basic build blocks for graphs.\n",
    "1. `torch.nn.Module.parameters(recurse=True)`: Returns an iterator over module learnable parameters (weights & biases). This is typically passed to an optimizer.\n",
    "2. `torch.nn.Module.named_parameters(prefix='', recurse=True, remove_duplicate=True)`: Returns an iterator over module parameters, yielding both the name of the parameter as well as the parameter itself.\n",
    "3. `torch.nn.Module.to(device=None, dtype=None, non_blocking=False)`: Moves and/or casts the parameters and buffers.\n",
    "4. `torch.nn.Module.load_state_dict(state_dict, strict=True, assign=False)`: Copies parameters and buffers from `state_dict` into this module and its descendants.\n",
    "5. `torch.nn.Module.state_dict`: A Python dictionary object contains parameters & persistent buffers.\n",
    "\n",
    "## 1-2. Loss Functions\n",
    "1. Each PyTorch Loss function creates a criterion that measures the loss between `output` from a model and `target`, returning a `torch.Tensor`.\n",
    "   - [Loss Functions](https://pytorch.org/docs/stable/nn.html#loss-functions)\n",
    "   - Metrics supporting backpropagation (`is_differentiable == True`) in **TorchMetrics** can be used. More details in [Metrics & Differentiability](https://lightning.ai/docs/torchmetrics/stable/pages/overview.html#metrics-and-differentiability).\n",
    "3. `torch.Tensor.backward(gradient=None, retain_graph=None, create_graph=False, inputs=None)`: Computes the gradient of current tensor with reference to graph leaves. The graph is differentiated using the chain rule. This function accumulates gradients in the leaves.\n",
    "\n",
    "## 1-3. Optimizer\n",
    "`torch.optim` implements various [optimization algorithms](https://pytorch.org/docs/stable/optim.html#algorithms).\n",
    "1. `torch.optim.Optimizer.step(closure=None)`: Performs a single optimization step (parameter update).\n",
    "    - For example, [torch.optim.SGD.step(closure=None)](https://github.com/pytorch/pytorch/blob/cd9b27231b51633e76e28b6a34002ab83b0660fc/torch/optim/sgd.py#L63).\n",
    "2. `torch.optim.Optimizer.zero_grad(set_to_none=True)`: Resets the gradients of all optimized `torch.Tensor`s.\n",
    "4. `torch.optim.Optimizer.load_state_dict(state_dict)`: Loads the optimizer state. Uses this function when loading a general checkpoint for inference or resuming training.\n",
    "5. `torch.optim.Optimizer.state_dict`: Contains information about the optimizer's state (parameters to be optimized), as well as the hyperparameters used.\n",
    "6. `torch.optim.Optimizer.add_param_group(param_group)`: Adds a param group to the `Optimizer`'s `param_groups`. Uses this function when fine tuning a pre-trained network as frozen layers can be made trainable and added to the `Optimizer` as training progresses."
   ]
  },
  {
   "cell_type": "code",
   "execution_count": 10,
   "id": "72365525-def0-4046-886a-4cbc7fc15bb6",
   "metadata": {},
   "outputs": [
    {
     "name": "stdout",
     "output_type": "stream",
     "text": [
      "tensor([[-0.6368,  0.6902, -1.1642,  1.7340,  0.3089],\n",
      "        [-0.5741, -2.2496,  0.1549,  0.2255, -0.5959],\n",
      "        [ 0.6467,  0.2575,  1.8013,  0.4424, -0.4409]], requires_grad=True)\n",
      "tensor([[-0.7584,  0.2138, -0.3933,  0.1054,  0.2149],\n",
      "        [ 0.2793,  0.7960, -0.1902,  2.1231, -0.5180],\n",
      "        [ 1.6648, -0.5898,  2.1185,  0.5762,  1.2281]])\n",
      "tensor(1.4591, grad_fn=<MseLossBackward0>)\n",
      "tensor([[ 0.0162,  0.0635, -0.1028,  0.2171,  0.0125],\n",
      "        [-0.1138, -0.4061,  0.0460, -0.2530, -0.0104],\n",
      "        [-0.1358,  0.1130, -0.0423, -0.0178, -0.2225]])\n"
     ]
    }
   ],
   "source": [
    "import torch, torch.nn as nn\n",
    "\n",
    "loss = nn.MSELoss()\n",
    "# Model output\n",
    "input = torch.randn(3, 5, requires_grad=True)\n",
    "print(input)\n",
    "target = torch.randn(3, 5)\n",
    "print(target)\n",
    "output = loss(input, target)\n",
    "print(output)\n",
    "output.backward()\n",
    "print(input.grad)"
   ]
  },
  {
   "cell_type": "markdown",
   "id": "7b7430ef-1497-4966-81eb-88b16bec52a4",
   "metadata": {},
   "source": [
    "### 1-3-1. Gradient Accumulation\n",
    "**Gradient accumulation** refers to the situation, where multiple backwards passes are performed before updating the parameters. The goal is to have the same model parameters for multiple inputs (batches) and then update the model's parameters based on all these batches, instead of performing an update after every single batch. This technique is used to overcome GPU memory limitations when training neural networks.\n",
    "1. Manual Implementation\n",
    "2. `pytorch_lightning.Trainer(accumulate_grad_batches)`\n",
    "3. `accelerate.Accelerator(gradient_accumulation_steps)`"
   ]
  },
  {
   "cell_type": "markdown",
   "id": "b879fff4-4171-46ad-b02a-e2224446c994",
   "metadata": {},
   "source": [
    "# 2. Linear Regression"
   ]
  },
  {
   "cell_type": "code",
   "execution_count": 8,
   "id": "70274d15-d1a5-4259-8b17-5f9daa7f6395",
   "metadata": {},
   "outputs": [],
   "source": [
    "import torch\n",
    "import torch.nn as nn\n",
    "import numpy as np\n",
    "import matplotlib.pyplot as plt"
   ]
  },
  {
   "cell_type": "code",
   "execution_count": 9,
   "id": "cbbc8da9-3229-42e7-a656-86708b9260ca",
   "metadata": {},
   "outputs": [
    {
     "data": {
      "text/plain": [
       "<matplotlib.collections.PathCollection at 0x76d01b38e660>"
      ]
     },
     "execution_count": 9,
     "metadata": {},
     "output_type": "execute_result"
    },
    {
     "data": {
      "image/png": "[encoded data removed]",
      "text/plain": [
       "<Figure size 640x480 with 1 Axes>"
      ]
     },
     "metadata": {},
     "output_type": "display_data"
    }
   ],
   "source": [
    "N = 10\n",
    "# (-5, 5)\n",
    "X = np.random.random(N) * 10 - 5\n",
    "y = 0.5 * X - 1 + np.random.randn(N)\n",
    "\n",
    "plt.scatter(X, y)"
   ]
  },
  {
   "cell_type": "code",
   "execution_count": 23,
   "id": "96aebb84-17e2-45de-b712-b9bc8cca84fd",
   "metadata": {},
   "outputs": [
    {
     "data": {
      "text/plain": [
       "torch.Tensor"
      ]
     },
     "execution_count": 23,
     "metadata": {},
     "output_type": "execute_result"
    }
   ],
   "source": [
    "model = nn.Linear(1, 1)\n",
    "\n",
    "criterion = nn.MSELoss()\n",
    "optimizer = torch.optim.SGD(model.parameters(), lr=0.05)\n",
    "\n",
    "X = X.reshape(N, 1)\n",
    "y = y.reshape(N, 1)\n",
    "\n",
    "# NumPy creates `float64` by default\n",
    "inputs = torch.from_numpy(X.astype(np.float32))\n",
    "targets = torch.from_numpy(y.astype(np.float32))\n",
    "\n",
    "type(inputs)"
   ]
  },
  {
   "cell_type": "code",
   "execution_count": 29,
   "id": "ab8675ea-1415-43de-94f1-14489f3ee43c",
   "metadata": {},
   "outputs": [
    {
     "name": "stdout",
     "output_type": "stream",
     "text": [
      "tensor([[-0.7517],\n",
      "        [-1.1045],\n",
      "        [-1.2412],\n",
      "        [-0.3923],\n",
      "        [ 2.9923],\n",
      "        [ 0.6128],\n",
      "        [ 1.5206],\n",
      "        [-4.7027],\n",
      "        [-0.3810],\n",
      "        [-4.4450]])\n"
     ]
    }
   ],
   "source": [
    "print(inputs)"
   ]
  },
  {
   "cell_type": "code",
   "execution_count": 30,
   "id": "bf22e162-9a48-494b-8abb-6fe3068a851b",
   "metadata": {},
   "outputs": [
    {
     "name": "stdout",
     "output_type": "stream",
     "text": [
      "tensor([[-2.1424],\n",
      "        [-2.5755],\n",
      "        [-1.5125],\n",
      "        [ 0.7460],\n",
      "        [ 0.4411],\n",
      "        [-2.2813],\n",
      "        [-1.8139],\n",
      "        [-5.3069],\n",
      "        [-1.8115],\n",
      "        [-2.3218]])\n"
     ]
    }
   ],
   "source": [
    "print(targets)"
   ]
  },
  {
   "cell_type": "code",
   "execution_count": 24,
   "id": "e85da0fd-de16-44d3-83b2-a4f99e691ff9",
   "metadata": {},
   "outputs": [
    {
     "name": "stdout",
     "output_type": "stream",
     "text": [
      "Optimizer's `state_dict`:\n",
      "state \t {}\n",
      "param_groups \t [{'lr': 0.05, 'momentum': 0, 'dampening': 0, 'weight_decay': 0, 'nesterov': False, 'maximize': False, 'foreach': None, 'differentiable': False, 'fused': None, 'params': [0, 1]}]\n"
     ]
    }
   ],
   "source": [
    "print(\"Optimizer's `state_dict`:\")\n",
    "for var_name in optimizer.state_dict():\n",
    "    print(var_name, \"\\t\", optimizer.state_dict()[var_name])"
   ]
  },
  {
   "cell_type": "code",
   "execution_count": 25,
   "id": "07f50d81-d76e-4598-845e-38f6dd7c5a56",
   "metadata": {},
   "outputs": [
    {
     "name": "stdout",
     "output_type": "stream",
     "text": [
      "Model's `state_dict`:\n",
      "weight \t torch.Size([1, 1])\n",
      "bias \t torch.Size([1])\n"
     ]
    }
   ],
   "source": [
    "print(\"Model's `state_dict`:\")\n",
    "for param_tensor in model.state_dict():\n",
    "    print(param_tensor, \"\\t\", model.state_dict()[param_tensor].size())"
   ]
  },
  {
   "cell_type": "code",
   "execution_count": 26,
   "id": "179616f2-3a96-4284-a9d0-9936a614269f",
   "metadata": {},
   "outputs": [
    {
     "name": "stdout",
     "output_type": "stream",
     "text": [
      "Optimizer's `state_dict`:\n",
      "state \t {}\n",
      "param_groups \t [{'lr': 0.05, 'momentum': 0, 'dampening': 0, 'weight_decay': 0, 'nesterov': False, 'maximize': False, 'foreach': None, 'differentiable': False, 'fused': None, 'params': [0, 1]}]\n"
     ]
    }
   ],
   "source": [
    "optimizer.zero_grad()\n",
    "\n",
    "print(\"Optimizer's `state_dict`:\")\n",
    "for var_name in optimizer.state_dict():\n",
    "    print(var_name, \"\\t\", optimizer.state_dict()[var_name])"
   ]
  },
  {
   "cell_type": "code",
   "execution_count": 27,
   "id": "21aa9d82-76a1-4f9d-9aaf-a6095b84f297",
   "metadata": {},
   "outputs": [
    {
     "name": "stdout",
     "output_type": "stream",
     "text": [
      "Model's `state_dict`:\n",
      "weight \t tensor([[0.7652]])\n",
      "bias \t tensor([-0.3949])\n"
     ]
    }
   ],
   "source": [
    "outputs = model(inputs)\n",
    "\n",
    "print(\"Model's `state_dict`:\")\n",
    "for param_tensor in model.state_dict():\n",
    "    print(param_tensor, \"\\t\", model.state_dict()[param_tensor])\n",
    "    # print(param_tensor, \"\\t\", model.state_dict()[param_tensor].size())"
   ]
  },
  {
   "cell_type": "code",
   "execution_count": 28,
   "id": "c4a0c947-1bc1-48a2-9ff6-cc7c101212a7",
   "metadata": {},
   "outputs": [
    {
     "name": "stdout",
     "output_type": "stream",
     "text": [
      "tensor([[-0.9701],\n",
      "        [-1.2401],\n",
      "        [-1.3446],\n",
      "        [-0.6951],\n",
      "        [ 1.8947],\n",
      "        [ 0.0740],\n",
      "        [ 0.7686],\n",
      "        [-3.9934],\n",
      "        [-0.6865],\n",
      "        [-3.7962]], grad_fn=<AddmmBackward0>)\n"
     ]
    }
   ],
   "source": [
    "# input * weight + bias\n",
    "print(outputs)"
   ]
  },
  {
   "cell_type": "code",
   "execution_count": 31,
   "id": "43344499-cd17-4402-abb6-51c4c70901a1",
   "metadata": {},
   "outputs": [
    {
     "name": "stdout",
     "output_type": "stream",
     "text": [
      "tensor(2.4758, grad_fn=<MseLossBackward0>)\n"
     ]
    }
   ],
   "source": [
    "# sum((output - target)^2) / 10 = 2.4758\n",
    "loss = criterion(outputs, targets)\n",
    "print(loss)"
   ]
  },
  {
   "cell_type": "code",
   "execution_count": 32,
   "id": "c7d2e8d6-5d36-428b-ba43-0b5bdb554de2",
   "metadata": {},
   "outputs": [],
   "source": [
    "loss.backward()"
   ]
  },
  {
   "cell_type": "code",
   "execution_count": 41,
   "id": "2f57e2ce-1cb5-4e5e-89b8-dc36ee52fa71",
   "metadata": {},
   "outputs": [
    {
     "name": "stdout",
     "output_type": "stream",
     "text": [
      "tensor([[1.5338]])\n",
      "tensor([1.7180])\n"
     ]
    }
   ],
   "source": [
    "print(model.weight.grad)\n",
    "print(model.bias.grad)"
   ]
  },
  {
   "cell_type": "code",
   "execution_count": 42,
   "id": "99d8cd32-702b-456f-9698-6f4f5706155b",
   "metadata": {},
   "outputs": [],
   "source": [
    "optimizer.step()"
   ]
  },
  {
   "cell_type": "code",
   "execution_count": 43,
   "id": "02e6e7ac-7291-44cf-996b-9148a38af3d1",
   "metadata": {},
   "outputs": [
    {
     "name": "stdout",
     "output_type": "stream",
     "text": [
      "Optimizer's `state_dict`:\n",
      "state \t {}\n",
      "param_groups \t [{'lr': 0.05, 'momentum': 0, 'dampening': 0, 'weight_decay': 0, 'nesterov': False, 'maximize': False, 'foreach': None, 'differentiable': False, 'fused': None, 'params': [0, 1]}]\n"
     ]
    }
   ],
   "source": [
    "# Nothing changes\n",
    "print(\"Optimizer's `state_dict`:\")\n",
    "for var_name in optimizer.state_dict():\n",
    "    print(var_name, \"\\t\", optimizer.state_dict()[var_name])"
   ]
  },
  {
   "cell_type": "code",
   "execution_count": 44,
   "id": "83fcd70b-29a2-4f40-bbad-85caaa318a61",
   "metadata": {},
   "outputs": [
    {
     "name": "stdout",
     "output_type": "stream",
     "text": [
      "Model's `state_dict`:\n",
      "weight \t tensor([[0.6885]])\n",
      "bias \t tensor([-0.4808])\n"
     ]
    }
   ],
   "source": [
    "# 0.7652 - 1.5338 * 0.05 = 0.7652 - 0.07669 = 0.6885\n",
    "# -0.3949 - 1.7180 * 0.05 = -0.4808\n",
    "print(\"Model's `state_dict`:\")\n",
    "for param_tensor in model.state_dict():\n",
    "    print(param_tensor, \"\\t\", model.state_dict()[param_tensor])"
   ]
  },
  {
   "cell_type": "code",
   "execution_count": 45,
   "id": "95ba2d0d-ff57-445c-98c3-eb9d21fa11a6",
   "metadata": {},
   "outputs": [],
   "source": [
    "optimizer.zero_grad()"
   ]
  },
  {
   "cell_type": "code",
   "execution_count": 46,
   "id": "4bef0637-d7bc-44a3-bc0e-b624720b3cdd",
   "metadata": {},
   "outputs": [
    {
     "name": "stdout",
     "output_type": "stream",
     "text": [
      "Optimizer's `state_dict`:\n",
      "state \t {}\n",
      "param_groups \t [{'lr': 0.05, 'momentum': 0, 'dampening': 0, 'weight_decay': 0, 'nesterov': False, 'maximize': False, 'foreach': None, 'differentiable': False, 'fused': None, 'params': [0, 1]}]\n"
     ]
    }
   ],
   "source": [
    "# Nothing changes\n",
    "print(\"Optimizer's `state_dict`:\")\n",
    "for var_name in optimizer.state_dict():\n",
    "    print(var_name, \"\\t\", optimizer.state_dict()[var_name])"
   ]
  },
  {
   "cell_type": "code",
   "execution_count": 47,
   "id": "ebaf4847-cab0-48d2-9a6c-b547f68a5557",
   "metadata": {},
   "outputs": [
    {
     "name": "stdout",
     "output_type": "stream",
     "text": [
      "Model's `state_dict`:\n",
      "weight \t tensor([[0.6885]])\n",
      "bias \t tensor([-0.4808])\n"
     ]
    }
   ],
   "source": [
    "# Nothing changes\n",
    "print(\"Model's `state_dict`:\")\n",
    "for param_tensor in model.state_dict():\n",
    "    print(param_tensor, \"\\t\", model.state_dict()[param_tensor])"
   ]
  },
  {
   "cell_type": "code",
   "execution_count": 48,
   "id": "6713d39e-8cac-49b5-ae9f-7d7655bfe649",
   "metadata": {},
   "outputs": [
    {
     "name": "stdout",
     "output_type": "stream",
     "text": [
      "None\n",
      "None\n"
     ]
    }
   ],
   "source": [
    "print(model.weight.grad)\n",
    "print(model.bias.grad)"
   ]
  },
  {
   "cell_type": "code",
   "execution_count": 4,
   "id": "96e21e40-a36e-4539-a4ed-c370d49b5c6d",
   "metadata": {},
   "outputs": [
    {
     "name": "stdout",
     "output_type": "stream",
     "text": [
      "Epoch 1/30, Loss: 3.7359\n",
      "Epoch 2/30, Loss: 3.2713\n",
      "Epoch 3/30, Loss: 2.9047\n",
      "Epoch 4/30, Loss: 2.5957\n",
      "Epoch 5/30, Loss: 2.3300\n",
      "Epoch 6/30, Loss: 2.1002\n",
      "Epoch 7/30, Loss: 1.9012\n",
      "Epoch 8/30, Loss: 1.7288\n",
      "Epoch 9/30, Loss: 1.5794\n",
      "Epoch 10/30, Loss: 1.4499\n",
      "Epoch 11/30, Loss: 1.3377\n",
      "Epoch 12/30, Loss: 1.2405\n",
      "Epoch 13/30, Loss: 1.1563\n",
      "Epoch 14/30, Loss: 1.0833\n",
      "Epoch 15/30, Loss: 1.0200\n",
      "Epoch 16/30, Loss: 0.9652\n",
      "Epoch 17/30, Loss: 0.9177\n",
      "Epoch 18/30, Loss: 0.8765\n",
      "Epoch 19/30, Loss: 0.8408\n",
      "Epoch 20/30, Loss: 0.8099\n",
      "Epoch 21/30, Loss: 0.7831\n",
      "Epoch 22/30, Loss: 0.7599\n",
      "Epoch 23/30, Loss: 0.7398\n",
      "Epoch 24/30, Loss: 0.7223\n",
      "Epoch 25/30, Loss: 0.7072\n",
      "Epoch 26/30, Loss: 0.6941\n",
      "Epoch 27/30, Loss: 0.6828\n",
      "Epoch 28/30, Loss: 0.6730\n",
      "Epoch 29/30, Loss: 0.6644\n",
      "Epoch 30/30, Loss: 0.6571\n"
     ]
    }
   ],
   "source": [
    "n_epochs = 30\n",
    "losses = []\n",
    "for it in range(n_epochs):\n",
    "    optimizer.zero_grad()\n",
    "    \n",
    "    outputs = model(inputs)\n",
    "    loss = criterion(outputs, targets)\n",
    "\n",
    "    losses.append(loss.item())\n",
    "\n",
    "    loss.backward()\n",
    "    optimizer.step()\n",
    "\n",
    "    print(f\"Epoch {it+1}/{n_epochs}, Loss: {loss.item():.4f}\")"
   ]
  },
  {
   "cell_type": "code",
   "execution_count": 5,
   "id": "f2dff905-10a7-4fa9-b0bb-37cea882039e",
   "metadata": {},
   "outputs": [
    {
     "data": {
      "text/plain": [
       "[<matplotlib.lines.Line2D at 0x76d027e86c30>]"
      ]
     },
     "execution_count": 5,
     "metadata": {},
     "output_type": "execute_result"
    },
    {
     "data": {
      "image/png": "[encoded data removed]",
      "text/plain": [
       "<Figure size 640x480 with 1 Axes>"
      ]
     },
     "metadata": {},
     "output_type": "display_data"
    }
   ],
   "source": [
    "plt.plot(losses)"
   ]
  },
  {
   "cell_type": "code",
   "execution_count": 6,
   "id": "805113e9-c4ee-478e-9cec-48420a0abc71",
   "metadata": {},
   "outputs": [
    {
     "data": {
      "image/png": "[encoded data removed]",
      "text/plain": [
       "<Figure size 640x480 with 1 Axes>"
      ]
     },
     "metadata": {},
     "output_type": "display_data"
    }
   ],
   "source": [
    "predictions = model(inputs).detach().numpy()\n",
    "plt.scatter(X, y, label=\"Original Data\")\n",
    "plt.plot(X, predictions, label=\"Fitted Line\")\n",
    "plt.legend()\n",
    "plt.show()"
   ]
  },
  {
   "cell_type": "code",
   "execution_count": 7,
   "id": "d2369573-2c74-4eb5-872b-fd00c343be9d",
   "metadata": {},
   "outputs": [
    {
     "name": "stdout",
     "output_type": "stream",
     "text": [
      "[[0.70741653]] [-1.4193791]\n"
     ]
    }
   ],
   "source": [
    "w = model.weight.data.numpy()\n",
    "b = model.bias.data.numpy()\n",
    "# (0.5, -1)\n",
    "print(w, b)"
   ]
  },
  {
   "cell_type": "markdown",
   "id": "a1d25b52-1415-4c42-8586-e05b0c88d7c9",
   "metadata": {},
   "source": [
    "# 3. Logistic Regression\n",
    "**Binary Cross Entropy** for binary classification:\n",
    "1. `torch.nn.BCELoss(weight=None, size_average=None, reduce=None, reduction='mean')`\n",
    "2. `torch.nn.BCEWithLogitsLoss(weight=None, size_average=None, reduce=None, reduction='mean', pos_weight=None)`: Combines a `Sigmoid` layer and the `BCELoss` in one single class."
   ]
  },
  {
   "cell_type": "code",
   "execution_count": 177,
   "id": "139365fb-4d8b-44a8-b18f-bbbe505ea6a7",
   "metadata": {},
   "outputs": [],
   "source": [
    "from sklearn.datasets import load_breast_cancer"
   ]
  },
  {
   "cell_type": "code",
   "execution_count": 178,
   "id": "c065e199-a0fe-47ca-8470-ff4c2a3966d9",
   "metadata": {},
   "outputs": [
    {
     "data": {
      "text/plain": [
       "sklearn.utils._bunch.Bunch"
      ]
     },
     "execution_count": 178,
     "metadata": {},
     "output_type": "execute_result"
    }
   ],
   "source": [
    "data = load_breast_cancer()\n",
    "type(data)"
   ]
  },
  {
   "cell_type": "code",
   "execution_count": 179,
   "id": "ac79fc96-46c8-428d-a0e2-9e57fd699b80",
   "metadata": {},
   "outputs": [
    {
     "data": {
      "text/plain": [
       "dict_keys(['data', 'target', 'frame', 'target_names', 'DESCR', 'feature_names', 'filename', 'data_module'])"
      ]
     },
     "execution_count": 179,
     "metadata": {},
     "output_type": "execute_result"
    }
   ],
   "source": [
    "data.keys()"
   ]
  },
  {
   "cell_type": "code",
   "execution_count": 180,
   "id": "4ed71c89-3281-4373-b3c8-50588818f7d8",
   "metadata": {},
   "outputs": [
    {
     "data": {
      "text/plain": [
       "(569, 30)"
      ]
     },
     "execution_count": 180,
     "metadata": {},
     "output_type": "execute_result"
    }
   ],
   "source": [
    "data.data.shape"
   ]
  },
  {
   "cell_type": "code",
   "execution_count": 181,
   "id": "5a92ced7-9795-42f1-8d73-4f1bc0d31451",
   "metadata": {},
   "outputs": [
    {
     "data": {
      "text/plain": [
       "array([0, 0, 0, 0, 0, 0, 0, 0, 0, 0, 0, 0, 0, 0, 0, 0, 0, 0, 0, 1, 1, 1,\n",
       "       0, 0, 0, 0, 0, 0, 0, 0, 0, 0, 0, 0, 0, 0, 0, 1, 0, 0, 0, 0, 0, 0,\n",
       "       0, 0, 1, 0, 1, 1, 1, 1, 1, 0, 0, 1, 0, 0, 1, 1, 1, 1, 0, 1, 0, 0,\n",
       "       1, 1, 1, 1, 0, 1, 0, 0, 1, 0, 1, 0, 0, 1, 1, 1, 0, 0, 1, 0, 0, 0,\n",
       "       1, 1, 1, 0, 1, 1, 0, 0, 1, 1, 1, 0, 0, 1, 1, 1, 1, 0, 1, 1, 0, 1,\n",
       "       1, 1, 1, 1, 1, 1, 1, 0, 0, 0, 1, 0, 0, 1, 1, 1, 0, 0, 1, 0, 1, 0,\n",
       "       0, 1, 0, 0, 1, 1, 0, 1, 1, 0, 1, 1, 1, 1, 0, 1, 1, 1, 1, 1, 1, 1,\n",
       "       1, 1, 0, 1, 1, 1, 1, 0, 0, 1, 0, 1, 1, 0, 0, 1, 1, 0, 0, 1, 1, 1,\n",
       "       1, 0, 1, 1, 0, 0, 0, 1, 0, 1, 0, 1, 1, 1, 0, 1, 1, 0, 0, 1, 0, 0,\n",
       "       0, 0, 1, 0, 0, 0, 1, 0, 1, 0, 1, 1, 0, 1, 0, 0, 0, 0, 1, 1, 0, 0,\n",
       "       1, 1, 1, 0, 1, 1, 1, 1, 1, 0, 0, 1, 1, 0, 1, 1, 0, 0, 1, 0, 1, 1,\n",
       "       1, 1, 0, 1, 1, 1, 1, 1, 0, 1, 0, 0, 0, 0, 0, 0, 0, 0, 0, 0, 0, 0,\n",
       "       0, 0, 1, 1, 1, 1, 1, 1, 0, 1, 0, 1, 1, 0, 1, 1, 0, 1, 0, 0, 1, 1,\n",
       "       1, 1, 1, 1, 1, 1, 1, 1, 1, 1, 1, 0, 1, 1, 0, 1, 0, 1, 1, 1, 1, 1,\n",
       "       1, 1, 1, 1, 1, 1, 1, 1, 1, 0, 1, 1, 1, 0, 1, 0, 1, 1, 1, 1, 0, 0,\n",
       "       0, 1, 1, 1, 1, 0, 1, 0, 1, 0, 1, 1, 1, 0, 1, 1, 1, 1, 1, 1, 1, 0,\n",
       "       0, 0, 1, 1, 1, 1, 1, 1, 1, 1, 1, 1, 1, 0, 0, 1, 0, 0, 0, 1, 0, 0,\n",
       "       1, 1, 1, 1, 1, 0, 1, 1, 1, 1, 1, 0, 1, 1, 1, 0, 1, 1, 0, 0, 1, 1,\n",
       "       1, 1, 1, 1, 0, 1, 1, 1, 1, 1, 1, 1, 0, 1, 1, 1, 1, 1, 0, 1, 1, 0,\n",
       "       1, 1, 1, 1, 1, 1, 1, 1, 1, 1, 1, 1, 0, 1, 0, 0, 1, 0, 1, 1, 1, 1,\n",
       "       1, 0, 1, 1, 0, 1, 0, 1, 1, 0, 1, 0, 1, 1, 1, 1, 1, 1, 1, 1, 0, 0,\n",
       "       1, 1, 1, 1, 1, 1, 0, 1, 1, 1, 1, 1, 1, 1, 1, 1, 1, 0, 1, 1, 1, 1,\n",
       "       1, 1, 1, 0, 1, 0, 1, 1, 0, 1, 1, 1, 1, 1, 0, 0, 1, 0, 1, 0, 1, 1,\n",
       "       1, 1, 1, 0, 1, 1, 0, 1, 0, 1, 0, 0, 1, 1, 1, 0, 1, 1, 1, 1, 1, 1,\n",
       "       1, 1, 1, 1, 1, 0, 1, 0, 0, 1, 1, 1, 1, 1, 1, 1, 1, 1, 1, 1, 1, 1,\n",
       "       1, 1, 1, 1, 1, 1, 1, 1, 1, 1, 1, 1, 0, 0, 0, 0, 0, 0, 1])"
      ]
     },
     "execution_count": 181,
     "metadata": {},
     "output_type": "execute_result"
    }
   ],
   "source": [
    "data.target"
   ]
  },
  {
   "cell_type": "code",
   "execution_count": 182,
   "id": "4946e6f6-33a7-4771-bc99-7b264e077ff1",
   "metadata": {},
   "outputs": [
    {
     "data": {
      "text/plain": [
       "(569,)"
      ]
     },
     "execution_count": 182,
     "metadata": {},
     "output_type": "execute_result"
    }
   ],
   "source": [
    "data.target.shape"
   ]
  },
  {
   "cell_type": "code",
   "execution_count": 183,
   "id": "6c85d510-c8fc-4b38-923d-d7dd7f9b6e55",
   "metadata": {},
   "outputs": [
    {
     "data": {
      "text/plain": [
       "array(['malignant', 'benign'], dtype='<U9')"
      ]
     },
     "execution_count": 183,
     "metadata": {},
     "output_type": "execute_result"
    }
   ],
   "source": [
    "data.target_names"
   ]
  },
  {
   "cell_type": "code",
   "execution_count": 184,
   "id": "e28cf85a-5cf6-46a8-8631-13832f24fdc9",
   "metadata": {},
   "outputs": [
    {
     "data": {
      "text/plain": [
       "array(['mean radius', 'mean texture', 'mean perimeter', 'mean area',\n",
       "       'mean smoothness', 'mean compactness', 'mean concavity',\n",
       "       'mean concave points', 'mean symmetry', 'mean fractal dimension',\n",
       "       'radius error', 'texture error', 'perimeter error', 'area error',\n",
       "       'smoothness error', 'compactness error', 'concavity error',\n",
       "       'concave points error', 'symmetry error',\n",
       "       'fractal dimension error', 'worst radius', 'worst texture',\n",
       "       'worst perimeter', 'worst area', 'worst smoothness',\n",
       "       'worst compactness', 'worst concavity', 'worst concave points',\n",
       "       'worst symmetry', 'worst fractal dimension'], dtype='<U23')"
      ]
     },
     "execution_count": 184,
     "metadata": {},
     "output_type": "execute_result"
    }
   ],
   "source": [
    "data.feature_names"
   ]
  },
  {
   "cell_type": "code",
   "execution_count": 185,
   "id": "914b0917-780d-445d-bdb6-430272f66106",
   "metadata": {},
   "outputs": [
    {
     "data": {
      "text/plain": [
       "(381, 30)"
      ]
     },
     "execution_count": 185,
     "metadata": {},
     "output_type": "execute_result"
    }
   ],
   "source": [
    "from sklearn.model_selection import train_test_split\n",
    "\n",
    "X_train, X_test, y_train, y_test = train_test_split(data.data, data.target, test_size=0.33)\n",
    "N, D = X_train.shape\n",
    "N, D"
   ]
  },
  {
   "cell_type": "code",
   "execution_count": 186,
   "id": "fc32c739-9bb0-4a71-83ef-a2b93d61b3a9",
   "metadata": {},
   "outputs": [],
   "source": [
    "from sklearn.preprocessing import StandardScaler\n",
    "\n",
    "scaler = StandardScaler()\n",
    "X_train = scaler.fit_transform(X_train)\n",
    "X_test = scaler.transform(X_test)"
   ]
  },
  {
   "cell_type": "code",
   "execution_count": 133,
   "id": "4f0804da-20e3-4e8c-8968-6e9aa301c9eb",
   "metadata": {},
   "outputs": [],
   "source": [
    "model = nn.Sequential(\n",
    "    nn.Linear(D,1), \n",
    "    nn.Sigmoid()\n",
    ")\n",
    "\n",
    "criterion = nn.BCELoss()\n",
    "optimizer = torch.optim.Adam(model.parameters())"
   ]
  },
  {
   "cell_type": "code",
   "execution_count": 187,
   "id": "09dfdba8-6f68-473c-b1cd-2aa1c8dcdfe6",
   "metadata": {},
   "outputs": [
    {
     "data": {
      "text/plain": [
       "(381,)"
      ]
     },
     "execution_count": 187,
     "metadata": {},
     "output_type": "execute_result"
    }
   ],
   "source": [
    "y_train.shape"
   ]
  },
  {
   "cell_type": "code",
   "execution_count": 188,
   "id": "d0d88e98-1255-4171-98c8-a92b66df861b",
   "metadata": {},
   "outputs": [
    {
     "data": {
      "text/plain": [
       "(381, 1)"
      ]
     },
     "execution_count": 188,
     "metadata": {},
     "output_type": "execute_result"
    }
   ],
   "source": [
    "y_train.astype(np.float32).reshape(-1, 1).shape"
   ]
  },
  {
   "cell_type": "code",
   "execution_count": 189,
   "id": "224b7336-4c89-4112-a51d-fd2e7795e0d2",
   "metadata": {},
   "outputs": [],
   "source": [
    "X_train = torch.from_numpy(X_train.astype(np.float32))\n",
    "X_test = torch.from_numpy(X_test.astype(np.float32))\n",
    "y_train = torch.from_numpy(y_train.astype(np.float32).reshape(-1, 1))\n",
    "y_test = torch.from_numpy(y_test.astype(np.float32).reshape(-1, 1))"
   ]
  },
  {
   "cell_type": "code",
   "execution_count": 137,
   "id": "cdf98c29-e033-4fd4-9859-545b4894281a",
   "metadata": {},
   "outputs": [
    {
     "name": "stdout",
     "output_type": "stream",
     "text": [
      "Epoch 50/1000, Train Loss: 0.5543, Test Loss: 0.5545\n",
      "Epoch 100/1000, Train Loss: 0.4093, Test Loss: 0.4079\n",
      "Epoch 150/1000, Train Loss: 0.3302, Test Loss: 0.3276\n",
      "Epoch 200/1000, Train Loss: 0.2800, Test Loss: 0.2766\n",
      "Epoch 250/1000, Train Loss: 0.2450, Test Loss: 0.2411\n",
      "Epoch 300/1000, Train Loss: 0.2191, Test Loss: 0.2149\n",
      "Epoch 350/1000, Train Loss: 0.1993, Test Loss: 0.1947\n",
      "Epoch 400/1000, Train Loss: 0.1836, Test Loss: 0.1788\n",
      "Epoch 450/1000, Train Loss: 0.1709, Test Loss: 0.1658\n",
      "Epoch 500/1000, Train Loss: 0.1604, Test Loss: 0.1552\n",
      "Epoch 550/1000, Train Loss: 0.1516, Test Loss: 0.1462\n",
      "Epoch 600/1000, Train Loss: 0.1441, Test Loss: 0.1386\n",
      "Epoch 650/1000, Train Loss: 0.1376, Test Loss: 0.1321\n",
      "Epoch 700/1000, Train Loss: 0.1319, Test Loss: 0.1264\n",
      "Epoch 750/1000, Train Loss: 0.1269, Test Loss: 0.1215\n",
      "Epoch 800/1000, Train Loss: 0.1224, Test Loss: 0.1170\n",
      "Epoch 850/1000, Train Loss: 0.1185, Test Loss: 0.1131\n",
      "Epoch 900/1000, Train Loss: 0.1149, Test Loss: 0.1096\n",
      "Epoch 950/1000, Train Loss: 0.1116, Test Loss: 0.1064\n",
      "Epoch 1000/1000, Train Loss: 0.1086, Test Loss: 0.1035\n"
     ]
    }
   ],
   "source": [
    "n_epochs = 1000\n",
    "\n",
    "train_losses = np.zeros(n_epochs)\n",
    "test_losses = np.zeros(n_epochs)\n",
    "\n",
    "for it in range(n_epochs):\n",
    "    optimizer.zero_grad()\n",
    "\n",
    "    outputs = model(X_train)\n",
    "    loss = criterion(outputs, y_train)\n",
    "\n",
    "    loss.backward()\n",
    "    optimizer.step()\n",
    "\n",
    "    outputs_test = model(X_test)\n",
    "    loss_test = criterion(outputs_test, y_test)\n",
    "\n",
    "    train_losses[it] = loss.item()\n",
    "    test_losses[it] = loss_test.item()\n",
    "\n",
    "    if (it + 1) % 50 == 0:\n",
    "        print(f\"Epoch {it+1}/{n_epochs}, Train Loss: {loss.item():.4f}, Test Loss: {loss_test.item():.4f}\")"
   ]
  },
  {
   "cell_type": "code",
   "execution_count": 138,
   "id": "73519ea3-94aa-49b1-98a4-fc7d8c553720",
   "metadata": {},
   "outputs": [
    {
     "data": {
      "image/png": "[encoded data removed]",
      "text/plain": [
       "<Figure size 640x480 with 1 Axes>"
      ]
     },
     "metadata": {},
     "output_type": "display_data"
    }
   ],
   "source": [
    "plt.plot(train_losses, label=\"train loss\")\n",
    "plt.plot(test_losses, label=\"test loss\")\n",
    "plt.legend()\n",
    "plt.show()"
   ]
  },
  {
   "cell_type": "code",
   "execution_count": 139,
   "id": "fce0af7b-dab7-418e-a788-b38b937af304",
   "metadata": {},
   "outputs": [
    {
     "name": "stdout",
     "output_type": "stream",
     "text": [
      "Train acc: 0.9738, Test acc: 0.9734\n"
     ]
    }
   ],
   "source": [
    "with torch.no_grad():\n",
    "    p_train = model(X_train)\n",
    "    p_train = np.round(p_train.numpy())\n",
    "    train_acc = np.mean(y_train.numpy() == p_train)\n",
    "\n",
    "    p_test = model(X_test)\n",
    "    p_test = np.round(p_test.numpy())\n",
    "    test_acc = np.mean(y_test.numpy() == p_test)\n",
    "print(f\"Train acc: {train_acc:.4f}, Test acc: {test_acc:.4f}\")"
   ]
  },
  {
   "cell_type": "code",
   "execution_count": 190,
   "id": "9cf7ee54-6e0a-421c-ab25-4c3e4b1ca10e",
   "metadata": {},
   "outputs": [],
   "source": [
    "# `BCEWithLogitsLoss()`\n",
    "model_2 = nn.Linear(D,1)\n",
    "\n",
    "criterion = nn.BCEWithLogitsLoss()\n",
    "optimizer = torch.optim.Adam(model_2.parameters())"
   ]
  },
  {
   "cell_type": "code",
   "execution_count": 191,
   "id": "ec637a04-c958-4820-b20e-5c564e53f5a2",
   "metadata": {},
   "outputs": [
    {
     "name": "stdout",
     "output_type": "stream",
     "text": [
      "Epoch 50/1000, Train Loss: 0.5003, Test Loss: 0.4939\n",
      "Epoch 100/1000, Train Loss: 0.3675, Test Loss: 0.3612\n",
      "Epoch 150/1000, Train Loss: 0.2979, Test Loss: 0.2907\n",
      "Epoch 200/1000, Train Loss: 0.2547, Test Loss: 0.2462\n",
      "Epoch 250/1000, Train Loss: 0.2250, Test Loss: 0.2151\n",
      "Epoch 300/1000, Train Loss: 0.2032, Test Loss: 0.1920\n",
      "Epoch 350/1000, Train Loss: 0.1865, Test Loss: 0.1741\n",
      "Epoch 400/1000, Train Loss: 0.1732, Test Loss: 0.1597\n",
      "Epoch 450/1000, Train Loss: 0.1625, Test Loss: 0.1480\n",
      "Epoch 500/1000, Train Loss: 0.1536, Test Loss: 0.1383\n",
      "Epoch 550/1000, Train Loss: 0.1461, Test Loss: 0.1301\n",
      "Epoch 600/1000, Train Loss: 0.1397, Test Loss: 0.1231\n",
      "Epoch 650/1000, Train Loss: 0.1342, Test Loss: 0.1171\n",
      "Epoch 700/1000, Train Loss: 0.1293, Test Loss: 0.1118\n",
      "Epoch 750/1000, Train Loss: 0.1250, Test Loss: 0.1072\n",
      "Epoch 800/1000, Train Loss: 0.1212, Test Loss: 0.1031\n",
      "Epoch 850/1000, Train Loss: 0.1177, Test Loss: 0.0995\n",
      "Epoch 900/1000, Train Loss: 0.1146, Test Loss: 0.0962\n",
      "Epoch 950/1000, Train Loss: 0.1118, Test Loss: 0.0933\n",
      "Epoch 1000/1000, Train Loss: 0.1092, Test Loss: 0.0907\n"
     ]
    }
   ],
   "source": [
    "n_epochs = 1000\n",
    "\n",
    "train_losses = np.zeros(n_epochs)\n",
    "test_losses = np.zeros(n_epochs)\n",
    "train_acc = np.zeros(n_epochs)\n",
    "test_acc = np.zeros(n_epochs)\n",
    "\n",
    "for it in range(n_epochs):\n",
    "    optimizer.zero_grad()\n",
    "\n",
    "    outputs = model_2(X_train)\n",
    "    loss = criterion(outputs, y_train)\n",
    "\n",
    "    loss.backward()\n",
    "    optimizer.step()\n",
    "\n",
    "    outputs_test = model_2(X_test)\n",
    "    loss_test = criterion(outputs_test, y_test)\n",
    "\n",
    "    train_losses[it] = loss.item()\n",
    "    test_losses[it] = loss_test.item()\n",
    "\n",
    "    if (it + 1) % 50 == 0:\n",
    "        print(f\"Epoch {it+1}/{n_epochs}, Train Loss: {loss.item():.4f}, Test Loss: {loss_test.item():.4f}\")"
   ]
  },
  {
   "cell_type": "code",
   "execution_count": 192,
   "id": "45ac5a60-473f-4fc0-8b22-ec8cd48e07cf",
   "metadata": {},
   "outputs": [
    {
     "data": {
      "image/png": "[encoded data removed]",
      "text/plain": [
       "<Figure size 640x480 with 1 Axes>"
      ]
     },
     "metadata": {},
     "output_type": "display_data"
    }
   ],
   "source": [
    "plt.plot(train_losses, label=\"train loss\")\n",
    "plt.plot(test_losses, label=\"test loss\")\n",
    "plt.legend()\n",
    "plt.show()"
   ]
  },
  {
   "cell_type": "code",
   "execution_count": 194,
   "id": "c563cd04-0248-415d-ac40-130411047ded",
   "metadata": {},
   "outputs": [
    {
     "name": "stdout",
     "output_type": "stream",
     "text": [
      "Train acc: 0.9738, Test acc: 0.9840\n"
     ]
    }
   ],
   "source": [
    "with torch.no_grad():\n",
    "    p_train = model_2(X_train)\n",
    "    p_train = (p_train.numpy() > 0)\n",
    "    train_acc = np.mean(y_train.numpy() == p_train)\n",
    "\n",
    "    p_test = model_2(X_test)\n",
    "    p_test = p_test.numpy() > 0\n",
    "    test_acc = np.mean(y_test.numpy() == p_test)\n",
    "print(f\"Train acc: {train_acc:.4f}, Test acc: {test_acc:.4f}\")"
   ]
  },
  {
   "cell_type": "markdown",
   "id": "eacdf230-8069-4ae0-92c5-e1df29ffe5af",
   "metadata": {},
   "source": [
    "# 4. Deep Neural Networks (DNNs)\n",
    "# 5. Convolutional Neural Networks (CNNs)\n",
    "# 6. Recurrent Neural Networks (RNNs)\n",
    "## 6-1. RNN\n",
    "## 6-2. GRU\n",
    "## 6-3. LSTM"
   ]
  },
  {
   "cell_type": "code",
   "execution_count": null,
   "id": "81449907-67c7-48db-abea-6012efb43b0e",
   "metadata": {},
   "outputs": [],
   "source": []
  }
 ],
 "metadata": {
  "kernelspec": {
   "display_name": "Python 3 (ipykernel)",
   "language": "python",
   "name": "python3"
  },
  "language_info": {
   "codemirror_mode": {
    "name": "ipython",
    "version": 3
   },
   "file_extension": ".py",
   "mimetype": "text/x-python",
   "name": "python",
   "nbconvert_exporter": "python",
   "pygments_lexer": "ipython3",
   "version": "3.12.3"
  }
 },
 "nbformat": 4,
 "nbformat_minor": 5
}
