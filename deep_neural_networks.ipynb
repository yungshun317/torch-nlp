{
 "cells": [
  {
   "cell_type": "markdown",
   "id": "f3e4bdbf-eafe-46c0-9d55-35dcad874d0c",
   "metadata": {},
   "source": [
    "# 1. PyTorch\n",
    "## 1-1. Containers\n",
    "Your model should subclass `torch.nn.Module`. `torch.nn` holds basic build blocks for graphs.\n",
    "1. `torch.nn.Module.parameters(recurse=True)`: Returns an iterator over module learnable parameters (weights & biases). This is typically passed to an optimizer.\n",
    "2. `torch.nn.Module.named_parameters(prefix='', recurse=True, remove_duplicate=True)`: Returns an iterator over module parameters, yielding both the name of the parameter as well as the parameter itself.\n",
    "3. `torch.nn.Module.to(device=None, dtype=None, non_blocking=False)`: Moves and/or casts the parameters and buffers.\n",
    "4. `torch.nn.Module.load_state_dict(state_dict, strict=True, assign=False)`: Copies parameters and buffers from `state_dict` into this module and its descendants.\n",
    "5. `torch.nn.Module.state_dict`: A Python dictionary object contains parameters & persistent buffers.\n",
    "\n",
    "## 1-2. Loss Functions\n",
    "1. Each PyTorch Loss function creates a criterion that measures the loss between `output` from a model and `target`, returning a `torch.Tensor`.\n",
    "   - [Loss Functions](https://pytorch.org/docs/stable/nn.html#loss-functions)\n",
    "   - Metrics supporting backpropagation (`is_differentiable == True`) in **TorchMetrics** can be used. More details in [Metrics & Differentiability](https://lightning.ai/docs/torchmetrics/stable/pages/overview.html#metrics-and-differentiability).\n",
    "3. `torch.Tensor.backward(gradient=None, retain_graph=None, create_graph=False, inputs=None)`: Computes the gradient of current tensor with reference to graph leaves. The graph is differentiated using the chain rule. This function accumulates gradients in the leaves.\n",
    "\n",
    "## 1-3. Optimizer\n",
    "`torch.optim` implements various [optimization algorithms](https://pytorch.org/docs/stable/optim.html#algorithms).\n",
    "1. `torch.optim.Optimizer.step(closure=None)`: Performs a single optimization step (parameter update).\n",
    "    - For example, [torch.optim.SGD.step(closure=None)](https://github.com/pytorch/pytorch/blob/cd9b27231b51633e76e28b6a34002ab83b0660fc/torch/optim/sgd.py#L63).\n",
    "2. `torch.optim.Optimizer.zero_grad(set_to_none=True)`: Resets the gradients of all optimized `torch.Tensor`s.\n",
    "4. `torch.optim.Optimizer.load_state_dict(state_dict)`: Loads the optimizer state. Uses this function when loading a general checkpoint for inference or resuming training.\n",
    "5. `torch.optim.Optimizer.state_dict`: Contains information about the optimizer's state (parameters to be optimized), as well as the hyperparameters used.\n",
    "6. `torch.optim.Optimizer.add_param_group(param_group)`: Adds a param group to the `Optimizer`'s `param_groups`. Uses this function when fine tuning a pre-trained network as frozen layers can be made trainable and added to the `Optimizer` as training progresses."
   ]
  },
  {
   "cell_type": "code",
   "execution_count": 10,
   "id": "72365525-def0-4046-886a-4cbc7fc15bb6",
   "metadata": {},
   "outputs": [
    {
     "name": "stdout",
     "output_type": "stream",
     "text": [
      "tensor([[-0.6368,  0.6902, -1.1642,  1.7340,  0.3089],\n",
      "        [-0.5741, -2.2496,  0.1549,  0.2255, -0.5959],\n",
      "        [ 0.6467,  0.2575,  1.8013,  0.4424, -0.4409]], requires_grad=True)\n",
      "tensor([[-0.7584,  0.2138, -0.3933,  0.1054,  0.2149],\n",
      "        [ 0.2793,  0.7960, -0.1902,  2.1231, -0.5180],\n",
      "        [ 1.6648, -0.5898,  2.1185,  0.5762,  1.2281]])\n",
      "tensor(1.4591, grad_fn=<MseLossBackward0>)\n",
      "tensor([[ 0.0162,  0.0635, -0.1028,  0.2171,  0.0125],\n",
      "        [-0.1138, -0.4061,  0.0460, -0.2530, -0.0104],\n",
      "        [-0.1358,  0.1130, -0.0423, -0.0178, -0.2225]])\n"
     ]
    }
   ],
   "source": [
    "import torch, torch.nn as nn\n",
    "\n",
    "loss = nn.MSELoss()\n",
    "# Model output\n",
    "input = torch.randn(3, 5, requires_grad=True)\n",
    "print(input)\n",
    "target = torch.randn(3, 5)\n",
    "print(target)\n",
    "output = loss(input, target)\n",
    "print(output)\n",
    "output.backward()\n",
    "print(input.grad)"
   ]
  },
  {
   "cell_type": "markdown",
   "id": "7b7430ef-1497-4966-81eb-88b16bec52a4",
   "metadata": {},
   "source": [
    "### 1-3-1. Gradient Accumulation\n",
    "**Gradient accumulation** refers to the situation, where multiple backwards passes are performed before updating the parameters. The goal is to have the same model parameters for multiple inputs (batches) and then update the model's parameters based on all these batches, instead of performing an update after every single batch. This technique is used to overcome GPU memory limitations when training neural networks.\n",
    "1. Manual Implementation\n",
    "2. `pytorch_lightning.Trainer(accumulate_grad_batches)`\n",
    "3. `accelerate.Accelerator(gradient_accumulation_steps)`"
   ]
  },
  {
   "cell_type": "markdown",
   "id": "b879fff4-4171-46ad-b02a-e2224446c994",
   "metadata": {},
   "source": [
    "# 2. Linear Regression"
   ]
  },
  {
   "cell_type": "code",
   "execution_count": 8,
   "id": "70274d15-d1a5-4259-8b17-5f9daa7f6395",
   "metadata": {},
   "outputs": [],
   "source": [
    "import torch\n",
    "import torch.nn as nn\n",
    "import numpy as np\n",
    "import matplotlib.pyplot as plt"
   ]
  },
  {
   "cell_type": "code",
   "execution_count": 9,
   "id": "cbbc8da9-3229-42e7-a656-86708b9260ca",
   "metadata": {},
   "outputs": [
    {
     "data": {
      "text/plain": [
       "<matplotlib.collections.PathCollection at 0x76d01b38e660>"
      ]
     },
     "execution_count": 9,
     "metadata": {},
     "output_type": "execute_result"
    },
    {
     "data": {
      "image/png": "[encoded data removed]",
      "text/plain": [
       "<Figure size 640x480 with 1 Axes>"
      ]
     },
     "metadata": {},
     "output_type": "display_data"
    }
   ],
   "source": [
    "N = 10\n",
    "# (-5, 5)\n",
    "X = np.random.random(N) * 10 - 5\n",
    "y = 0.5 * X - 1 + np.random.randn(N)\n",
    "\n",
    "plt.scatter(X, y)"
   ]
  },
  {
   "cell_type": "code",
   "execution_count": 23,
   "id": "96aebb84-17e2-45de-b712-b9bc8cca84fd",
   "metadata": {},
   "outputs": [
    {
     "data": {
      "text/plain": [
       "torch.Tensor"
      ]
     },
     "execution_count": 23,
     "metadata": {},
     "output_type": "execute_result"
    }
   ],
   "source": [
    "model = nn.Linear(1, 1)\n",
    "\n",
    "criterion = nn.MSELoss()\n",
    "optimizer = torch.optim.SGD(model.parameters(), lr=0.05)\n",
    "\n",
    "X = X.reshape(N, 1)\n",
    "y = y.reshape(N, 1)\n",
    "\n",
    "# NumPy creates `float64` by default\n",
    "inputs = torch.from_numpy(X.astype(np.float32))\n",
    "targets = torch.from_numpy(y.astype(np.float32))\n",
    "\n",
    "type(inputs)"
   ]
  },
  {
   "cell_type": "code",
   "execution_count": 29,
   "id": "ab8675ea-1415-43de-94f1-14489f3ee43c",
   "metadata": {},
   "outputs": [
    {
     "name": "stdout",
     "output_type": "stream",
     "text": [
      "tensor([[-0.7517],\n",
      "        [-1.1045],\n",
      "        [-1.2412],\n",
      "        [-0.3923],\n",
      "        [ 2.9923],\n",
      "        [ 0.6128],\n",
      "        [ 1.5206],\n",
      "        [-4.7027],\n",
      "        [-0.3810],\n",
      "        [-4.4450]])\n"
     ]
    }
   ],
   "source": [
    "print(inputs)"
   ]
  },
  {
   "cell_type": "code",
   "execution_count": 30,
   "id": "bf22e162-9a48-494b-8abb-6fe3068a851b",
   "metadata": {},
   "outputs": [
    {
     "name": "stdout",
     "output_type": "stream",
     "text": [
      "tensor([[-2.1424],\n",
      "        [-2.5755],\n",
      "        [-1.5125],\n",
      "        [ 0.7460],\n",
      "        [ 0.4411],\n",
      "        [-2.2813],\n",
      "        [-1.8139],\n",
      "        [-5.3069],\n",
      "        [-1.8115],\n",
      "        [-2.3218]])\n"
     ]
    }
   ],
   "source": [
    "print(targets)"
   ]
  },
  {
   "cell_type": "code",
   "execution_count": 24,
   "id": "e85da0fd-de16-44d3-83b2-a4f99e691ff9",
   "metadata": {},
   "outputs": [
    {
     "name": "stdout",
     "output_type": "stream",
     "text": [
      "Optimizer's `state_dict`:\n",
      "state \t {}\n",
      "param_groups \t [{'lr': 0.05, 'momentum': 0, 'dampening': 0, 'weight_decay': 0, 'nesterov': False, 'maximize': False, 'foreach': None, 'differentiable': False, 'fused': None, 'params': [0, 1]}]\n"
     ]
    }
   ],
   "source": [
    "print(\"Optimizer's `state_dict`:\")\n",
    "for var_name in optimizer.state_dict():\n",
    "    print(var_name, \"\\t\", optimizer.state_dict()[var_name])"
   ]
  },
  {
   "cell_type": "code",
   "execution_count": 25,
   "id": "07f50d81-d76e-4598-845e-38f6dd7c5a56",
   "metadata": {},
   "outputs": [
    {
     "name": "stdout",
     "output_type": "stream",
     "text": [
      "Model's `state_dict`:\n",
      "weight \t torch.Size([1, 1])\n",
      "bias \t torch.Size([1])\n"
     ]
    }
   ],
   "source": [
    "print(\"Model's `state_dict`:\")\n",
    "for param_tensor in model.state_dict():\n",
    "    print(param_tensor, \"\\t\", model.state_dict()[param_tensor].size())"
   ]
  },
  {
   "cell_type": "code",
   "execution_count": 26,
   "id": "179616f2-3a96-4284-a9d0-9936a614269f",
   "metadata": {},
   "outputs": [
    {
     "name": "stdout",
     "output_type": "stream",
     "text": [
      "Optimizer's `state_dict`:\n",
      "state \t {}\n",
      "param_groups \t [{'lr': 0.05, 'momentum': 0, 'dampening': 0, 'weight_decay': 0, 'nesterov': False, 'maximize': False, 'foreach': None, 'differentiable': False, 'fused': None, 'params': [0, 1]}]\n"
     ]
    }
   ],
   "source": [
    "optimizer.zero_grad()\n",
    "\n",
    "print(\"Optimizer's `state_dict`:\")\n",
    "for var_name in optimizer.state_dict():\n",
    "    print(var_name, \"\\t\", optimizer.state_dict()[var_name])"
   ]
  },
  {
   "cell_type": "code",
   "execution_count": 27,
   "id": "21aa9d82-76a1-4f9d-9aaf-a6095b84f297",
   "metadata": {},
   "outputs": [
    {
     "name": "stdout",
     "output_type": "stream",
     "text": [
      "Model's `state_dict`:\n",
      "weight \t tensor([[0.7652]])\n",
      "bias \t tensor([-0.3949])\n"
     ]
    }
   ],
   "source": [
    "outputs = model(inputs)\n",
    "\n",
    "print(\"Model's `state_dict`:\")\n",
    "for param_tensor in model.state_dict():\n",
    "    print(param_tensor, \"\\t\", model.state_dict()[param_tensor])\n",
    "    # print(param_tensor, \"\\t\", model.state_dict()[param_tensor].size())"
   ]
  },
  {
   "cell_type": "code",
   "execution_count": 28,
   "id": "c4a0c947-1bc1-48a2-9ff6-cc7c101212a7",
   "metadata": {},
   "outputs": [
    {
     "name": "stdout",
     "output_type": "stream",
     "text": [
      "tensor([[-0.9701],\n",
      "        [-1.2401],\n",
      "        [-1.3446],\n",
      "        [-0.6951],\n",
      "        [ 1.8947],\n",
      "        [ 0.0740],\n",
      "        [ 0.7686],\n",
      "        [-3.9934],\n",
      "        [-0.6865],\n",
      "        [-3.7962]], grad_fn=<AddmmBackward0>)\n"
     ]
    }
   ],
   "source": [
    "# input * weight + bias\n",
    "print(outputs)"
   ]
  },
  {
   "cell_type": "code",
   "execution_count": 31,
   "id": "43344499-cd17-4402-abb6-51c4c70901a1",
   "metadata": {},
   "outputs": [
    {
     "name": "stdout",
     "output_type": "stream",
     "text": [
      "tensor(2.4758, grad_fn=<MseLossBackward0>)\n"
     ]
    }
   ],
   "source": [
    "# sum((output - target)^2) / 10 = 2.4758\n",
    "loss = criterion(outputs, targets)\n",
    "print(loss)"
   ]
  },
  {
   "cell_type": "code",
   "execution_count": 32,
   "id": "c7d2e8d6-5d36-428b-ba43-0b5bdb554de2",
   "metadata": {},
   "outputs": [],
   "source": [
    "loss.backward()"
   ]
  },
  {
   "cell_type": "code",
   "execution_count": 41,
   "id": "2f57e2ce-1cb5-4e5e-89b8-dc36ee52fa71",
   "metadata": {},
   "outputs": [
    {
     "name": "stdout",
     "output_type": "stream",
     "text": [
      "tensor([[1.5338]])\n",
      "tensor([1.7180])\n"
     ]
    }
   ],
   "source": [
    "print(model.weight.grad)\n",
    "print(model.bias.grad)"
   ]
  },
  {
   "cell_type": "code",
   "execution_count": 42,
   "id": "99d8cd32-702b-456f-9698-6f4f5706155b",
   "metadata": {},
   "outputs": [],
   "source": [
    "optimizer.step()"
   ]
  },
  {
   "cell_type": "code",
   "execution_count": 43,
   "id": "02e6e7ac-7291-44cf-996b-9148a38af3d1",
   "metadata": {},
   "outputs": [
    {
     "name": "stdout",
     "output_type": "stream",
     "text": [
      "Optimizer's `state_dict`:\n",
      "state \t {}\n",
      "param_groups \t [{'lr': 0.05, 'momentum': 0, 'dampening': 0, 'weight_decay': 0, 'nesterov': False, 'maximize': False, 'foreach': None, 'differentiable': False, 'fused': None, 'params': [0, 1]}]\n"
     ]
    }
   ],
   "source": [
    "# Nothing changes\n",
    "print(\"Optimizer's `state_dict`:\")\n",
    "for var_name in optimizer.state_dict():\n",
    "    print(var_name, \"\\t\", optimizer.state_dict()[var_name])"
   ]
  },
  {
   "cell_type": "code",
   "execution_count": 44,
   "id": "83fcd70b-29a2-4f40-bbad-85caaa318a61",
   "metadata": {},
   "outputs": [
    {
     "name": "stdout",
     "output_type": "stream",
     "text": [
      "Model's `state_dict`:\n",
      "weight \t tensor([[0.6885]])\n",
      "bias \t tensor([-0.4808])\n"
     ]
    }
   ],
   "source": [
    "# 0.7652 - 1.5338 * 0.05 = 0.7652 - 0.07669 = 0.6885\n",
    "# -0.3949 - 1.7180 * 0.05 = -0.4808\n",
    "print(\"Model's `state_dict`:\")\n",
    "for param_tensor in model.state_dict():\n",
    "    print(param_tensor, \"\\t\", model.state_dict()[param_tensor])"
   ]
  },
  {
   "cell_type": "code",
   "execution_count": 45,
   "id": "95ba2d0d-ff57-445c-98c3-eb9d21fa11a6",
   "metadata": {},
   "outputs": [],
   "source": [
    "optimizer.zero_grad()"
   ]
  },
  {
   "cell_type": "code",
   "execution_count": 46,
   "id": "4bef0637-d7bc-44a3-bc0e-b624720b3cdd",
   "metadata": {},
   "outputs": [
    {
     "name": "stdout",
     "output_type": "stream",
     "text": [
      "Optimizer's `state_dict`:\n",
      "state \t {}\n",
      "param_groups \t [{'lr': 0.05, 'momentum': 0, 'dampening': 0, 'weight_decay': 0, 'nesterov': False, 'maximize': False, 'foreach': None, 'differentiable': False, 'fused': None, 'params': [0, 1]}]\n"
     ]
    }
   ],
   "source": [
    "# Nothing changes\n",
    "print(\"Optimizer's `state_dict`:\")\n",
    "for var_name in optimizer.state_dict():\n",
    "    print(var_name, \"\\t\", optimizer.state_dict()[var_name])"
   ]
  },
  {
   "cell_type": "code",
   "execution_count": 47,
   "id": "ebaf4847-cab0-48d2-9a6c-b547f68a5557",
   "metadata": {},
   "outputs": [
    {
     "name": "stdout",
     "output_type": "stream",
     "text": [
      "Model's `state_dict`:\n",
      "weight \t tensor([[0.6885]])\n",
      "bias \t tensor([-0.4808])\n"
     ]
    }
   ],
   "source": [
    "# Nothing changes\n",
    "print(\"Model's `state_dict`:\")\n",
    "for param_tensor in model.state_dict():\n",
    "    print(param_tensor, \"\\t\", model.state_dict()[param_tensor])"
   ]
  },
  {
   "cell_type": "code",
   "execution_count": 48,
   "id": "6713d39e-8cac-49b5-ae9f-7d7655bfe649",
   "metadata": {},
   "outputs": [
    {
     "name": "stdout",
     "output_type": "stream",
     "text": [
      "None\n",
      "None\n"
     ]
    }
   ],
   "source": [
    "print(model.weight.grad)\n",
    "print(model.bias.grad)"
   ]
  },
  {
   "cell_type": "code",
   "execution_count": 4,
   "id": "96e21e40-a36e-4539-a4ed-c370d49b5c6d",
   "metadata": {},
   "outputs": [
    {
     "name": "stdout",
     "output_type": "stream",
     "text": [
      "Epoch 1/30, Loss: 3.7359\n",
      "Epoch 2/30, Loss: 3.2713\n",
      "Epoch 3/30, Loss: 2.9047\n",
      "Epoch 4/30, Loss: 2.5957\n",
      "Epoch 5/30, Loss: 2.3300\n",
      "Epoch 6/30, Loss: 2.1002\n",
      "Epoch 7/30, Loss: 1.9012\n",
      "Epoch 8/30, Loss: 1.7288\n",
      "Epoch 9/30, Loss: 1.5794\n",
      "Epoch 10/30, Loss: 1.4499\n",
      "Epoch 11/30, Loss: 1.3377\n",
      "Epoch 12/30, Loss: 1.2405\n",
      "Epoch 13/30, Loss: 1.1563\n",
      "Epoch 14/30, Loss: 1.0833\n",
      "Epoch 15/30, Loss: 1.0200\n",
      "Epoch 16/30, Loss: 0.9652\n",
      "Epoch 17/30, Loss: 0.9177\n",
      "Epoch 18/30, Loss: 0.8765\n",
      "Epoch 19/30, Loss: 0.8408\n",
      "Epoch 20/30, Loss: 0.8099\n",
      "Epoch 21/30, Loss: 0.7831\n",
      "Epoch 22/30, Loss: 0.7599\n",
      "Epoch 23/30, Loss: 0.7398\n",
      "Epoch 24/30, Loss: 0.7223\n",
      "Epoch 25/30, Loss: 0.7072\n",
      "Epoch 26/30, Loss: 0.6941\n",
      "Epoch 27/30, Loss: 0.6828\n",
      "Epoch 28/30, Loss: 0.6730\n",
      "Epoch 29/30, Loss: 0.6644\n",
      "Epoch 30/30, Loss: 0.6571\n"
     ]
    }
   ],
   "source": [
    "n_epochs = 30\n",
    "losses = []\n",
    "for it in range(n_epochs):\n",
    "    optimizer.zero_grad()\n",
    "    \n",
    "    outputs = model(inputs)\n",
    "    loss = criterion(outputs, targets)\n",
    "\n",
    "    losses.append(loss.item())\n",
    "\n",
    "    loss.backward()\n",
    "    optimizer.step()\n",
    "\n",
    "    print(f\"Epoch {it+1}/{n_epochs}, Loss: {loss.item():.4f}\")"
   ]
  },
  {
   "cell_type": "code",
   "execution_count": 5,
   "id": "f2dff905-10a7-4fa9-b0bb-37cea882039e",
   "metadata": {},
   "outputs": [
    {
     "data": {
      "text/plain": [
       "[<matplotlib.lines.Line2D at 0x76d027e86c30>]"
      ]
     },
     "execution_count": 5,
     "metadata": {},
     "output_type": "execute_result"
    },
    {
     "data": {
      "image/png": "[encoded data removed]",
      "text/plain": [
       "<Figure size 640x480 with 1 Axes>"
      ]
     },
     "metadata": {},
     "output_type": "display_data"
    }
   ],
   "source": [
    "plt.plot(losses)"
   ]
  },
  {
   "cell_type": "code",
   "execution_count": 6,
   "id": "805113e9-c4ee-478e-9cec-48420a0abc71",
   "metadata": {},
   "outputs": [
    {
     "data": {
      "image/png": "[encoded data removed]",
      "text/plain": [
       "<Figure size 640x480 with 1 Axes>"
      ]
     },
     "metadata": {},
     "output_type": "display_data"
    }
   ],
   "source": [
    "predictions = model(inputs).detach().numpy()\n",
    "plt.scatter(X, y, label=\"Original Data\")\n",
    "plt.plot(X, predictions, label=\"Fitted Line\")\n",
    "plt.legend()\n",
    "plt.show()"
   ]
  },
  {
   "cell_type": "code",
   "execution_count": 7,
   "id": "d2369573-2c74-4eb5-872b-fd00c343be9d",
   "metadata": {},
   "outputs": [
    {
     "name": "stdout",
     "output_type": "stream",
     "text": [
      "[[0.70741653]] [-1.4193791]\n"
     ]
    }
   ],
   "source": [
    "w = model.weight.data.numpy()\n",
    "b = model.bias.data.numpy()\n",
    "# (0.5, -1)\n",
    "print(w, b)"
   ]
  },
  {
   "cell_type": "markdown",
   "id": "a1d25b52-1415-4c42-8586-e05b0c88d7c9",
   "metadata": {},
   "source": [
    "# 3. Logistic Regression"
   ]
  },
  {
   "cell_type": "code",
   "execution_count": null,
   "id": "139365fb-4d8b-44a8-b18f-bbbe505ea6a7",
   "metadata": {},
   "outputs": [],
   "source": []
  },
  {
   "cell_type": "markdown",
   "id": "eacdf230-8069-4ae0-92c5-e1df29ffe5af",
   "metadata": {},
   "source": [
    "# 4. Deep Neural Networks (DNNs)\n",
    "# 5. Convolutional Neural Networks (CNNs)\n",
    "# 6. Recurrent Neural Networks (RNNs)\n",
    "## 6-1. RNN\n",
    "## 6-2. GRU\n",
    "## 6-3. LSTM"
   ]
  },
  {
   "cell_type": "code",
   "execution_count": null,
   "id": "81449907-67c7-48db-abea-6012efb43b0e",
   "metadata": {},
   "outputs": [],
   "source": []
  }
 ],
 "metadata": {
  "kernelspec": {
   "display_name": "Python 3 (ipykernel)",
   "language": "python",
   "name": "python3"
  },
  "language_info": {
   "codemirror_mode": {
    "name": "ipython",
    "version": 3
   },
   "file_extension": ".py",
   "mimetype": "text/x-python",
   "name": "python",
   "nbconvert_exporter": "python",
   "pygments_lexer": "ipython3",
   "version": "3.12.3"
  }
 },
 "nbformat": 4,
 "nbformat_minor": 5
}
