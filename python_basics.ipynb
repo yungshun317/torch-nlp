{
 "cells": [
  {
   "cell_type": "markdown",
   "id": "91018c07-3ced-486a-87e5-2beaba4c929f",
   "metadata": {},
   "source": [
    "# 1. Zen of Python\n",
    "By Tim Peters."
   ]
  },
  {
   "cell_type": "code",
   "execution_count": 1,
   "id": "65fadbe1-4741-4872-995b-8786be2712db",
   "metadata": {},
   "outputs": [
    {
     "name": "stdout",
     "output_type": "stream",
     "text": [
      "The Zen of Python, by Tim Peters\n",
      "\n",
      "Beautiful is better than ugly.\n",
      "Explicit is better than implicit.\n",
      "Simple is better than complex.\n",
      "Complex is better than complicated.\n",
      "Flat is better than nested.\n",
      "Sparse is better than dense.\n",
      "Readability counts.\n",
      "Special cases aren't special enough to break the rules.\n",
      "Although practicality beats purity.\n",
      "Errors should never pass silently.\n",
      "Unless explicitly silenced.\n",
      "In the face of ambiguity, refuse the temptation to guess.\n",
      "There should be one-- and preferably only one --obvious way to do it.\n",
      "Although that way may not be obvious at first unless you're Dutch.\n",
      "Now is better than never.\n",
      "Although never is often better than *right* now.\n",
      "If the implementation is hard to explain, it's a bad idea.\n",
      "If the implementation is easy to explain, it may be a good idea.\n",
      "Namespaces are one honking great idea -- let's do more of those!\n"
     ]
    }
   ],
   "source": [
    "import this"
   ]
  },
  {
   "cell_type": "markdown",
   "id": "07c8ad54-1a69-4bad-b103-ccd5fe86ac88",
   "metadata": {},
   "source": [
    "# 2. Variable\n",
    "A Python **Variable** is a symbolic name that is a reference or pointer to an object.\n",
    "- Python uses `=` to assign an object on the right to a variable on the left.\n",
    "- Dynamic typing."
   ]
  },
  {
   "cell_type": "code",
   "execution_count": 2,
   "id": "1c4a4afd-a27b-4b10-a8b4-5d00395480c9",
   "metadata": {},
   "outputs": [
    {
     "data": {
      "text/plain": [
       "1"
      ]
     },
     "execution_count": 2,
     "metadata": {},
     "output_type": "execute_result"
    }
   ],
   "source": [
    "var = 1\n",
    "var"
   ]
  },
  {
   "cell_type": "code",
   "execution_count": 3,
   "id": "f350b3b9-674a-4bc3-a533-1ad6e8ef5ef6",
   "metadata": {},
   "outputs": [
    {
     "data": {
      "text/plain": [
       "(1, 2, 3)"
      ]
     },
     "execution_count": 3,
     "metadata": {},
     "output_type": "execute_result"
    }
   ],
   "source": [
    "x, y, z = 1, 2, 3\n",
    "x, y, z"
   ]
  },
  {
   "cell_type": "markdown",
   "id": "476991b9-da84-47c4-84b5-02dfcff714eb",
   "metadata": {},
   "source": [
    "# 3. Integer\n",
    "An **Integer** is the number zero, a positive natural number, or the negation of a positive natural number (negative integer). "
   ]
  },
  {
   "cell_type": "code",
   "execution_count": 4,
   "id": "a0900936-cb4b-4e94-9993-2ddfc5828399",
   "metadata": {},
   "outputs": [
    {
     "data": {
      "text/plain": [
       "1"
      ]
     },
     "execution_count": 4,
     "metadata": {},
     "output_type": "execute_result"
    }
   ],
   "source": [
    "integer = 1\n",
    "integer"
   ]
  },
  {
   "cell_type": "code",
   "execution_count": 10,
   "id": "433596d9-3584-4faa-a82e-71d81c232b5f",
   "metadata": {},
   "outputs": [
    {
     "data": {
      "text/plain": [
       "int"
      ]
     },
     "execution_count": 10,
     "metadata": {},
     "output_type": "execute_result"
    }
   ],
   "source": [
    "type(integer)"
   ]
  },
  {
   "cell_type": "markdown",
   "id": "63d72993-f8f6-4ac4-b4cd-b46226212721",
   "metadata": {},
   "source": [
    "# 4. Floating-Point Number\n",
    "**Floating Point Arithmetic (FP)** is arithmetic that represents subsets of real numbers using an integer with a fixed precision, significand, scaled by an integer exponent of a fixed base. Number of this form are called **Floating-Point Numbers**.\n",
    "- [Floating Point Arithmetic](https://en.wikipedia.org/wiki/Floating-point_arithmetic)"
   ]
  },
  {
   "cell_type": "code",
   "execution_count": 6,
   "id": "bf268c07-874a-4279-b5cf-3255e0065cc0",
   "metadata": {},
   "outputs": [
    {
     "data": {
      "text/plain": [
       "float"
      ]
     },
     "execution_count": 6,
     "metadata": {},
     "output_type": "execute_result"
    }
   ],
   "source": [
    "floating_num = 1.0\n",
    "type(floating_num)"
   ]
  },
  {
   "cell_type": "code",
   "execution_count": null,
   "id": "f47971eb-7f70-4dd6-8868-a0027e9615f2",
   "metadata": {},
   "outputs": [],
   "source": []
  },
  {
   "cell_type": "markdown",
   "id": "abaeede1-a7d6-483a-aa6f-9ac9c705df0d",
   "metadata": {},
   "source": [
    "# 5. String\n",
    "\n",
    "A **String** is made up of a sequence of characters indexed from left to right, starting at zero.\n",
    "- [PEP 8 - Style Guide for Python](https://peps.python.org/pep-0008/#string-quotes)"
   ]
  },
  {
   "cell_type": "code",
   "execution_count": 7,
   "id": "6454978a-a279-46c6-8e9c-364297522e52",
   "metadata": {},
   "outputs": [
    {
     "data": {
      "text/plain": [
       "'Albert'"
      ]
     },
     "execution_count": 7,
     "metadata": {},
     "output_type": "execute_result"
    }
   ],
   "source": [
    "# Double quoted\n",
    "name = \"Albert\"\n",
    "name"
   ]
  },
  {
   "cell_type": "code",
   "execution_count": 54,
   "id": "26c2b82a-3ddc-4fc9-b008-24338a486e4f",
   "metadata": {},
   "outputs": [
    {
     "data": {
      "text/plain": [
       "'Bob'"
      ]
     },
     "execution_count": 54,
     "metadata": {},
     "output_type": "execute_result"
    }
   ],
   "source": [
    "# Single quoted\n",
    "name = \"Bob\"\n",
    "name"
   ]
  },
  {
   "cell_type": "code",
   "execution_count": 11,
   "id": "976826d0-7f47-4d96-83c6-c741cc424821",
   "metadata": {},
   "outputs": [
    {
     "data": {
      "text/plain": [
       "str"
      ]
     },
     "execution_count": 11,
     "metadata": {},
     "output_type": "execute_result"
    }
   ],
   "source": [
    "type(name)"
   ]
  },
  {
   "cell_type": "code",
   "execution_count": 88,
   "id": "050d06e6-bc93-4bba-b440-511e5da8fc9f",
   "metadata": {},
   "outputs": [
    {
     "data": {
      "text/plain": [
       "'\\nAlbert\\nBob\\nFrank\\n'"
      ]
     },
     "execution_count": 88,
     "metadata": {},
     "output_type": "execute_result"
    }
   ],
   "source": [
    "# Triple quoted\n",
    "name = \"\"\"\n",
    "Albert\n",
    "Bob\n",
    "Frank\n",
    "\"\"\"\n",
    "name"
   ]
  },
  {
   "cell_type": "code",
   "execution_count": null,
   "id": "5331cf3b-143d-4af5-a6fb-df78a3b6496f",
   "metadata": {},
   "outputs": [],
   "source": []
  },
  {
   "cell_type": "markdown",
   "id": "bbc056e7-6ab7-4f68-8d15-9a768dcb765e",
   "metadata": {},
   "source": [
    "## 5-1. String Indexing\n",
    "- Zero-based numbering.\n",
    "- Negative indices count backwards."
   ]
  },
  {
   "cell_type": "code",
   "execution_count": 13,
   "id": "e4a7f310-1b43-49d3-a87d-c15943be9cf2",
   "metadata": {},
   "outputs": [
    {
     "data": {
      "text/plain": [
       "'A'"
      ]
     },
     "execution_count": 13,
     "metadata": {},
     "output_type": "execute_result"
    }
   ],
   "source": [
    "name = \"Albert\"\n",
    "name[0]"
   ]
  },
  {
   "cell_type": "code",
   "execution_count": null,
   "id": "129e802a-9040-4e15-8b1e-2f681dab4074",
   "metadata": {},
   "outputs": [],
   "source": []
  },
  {
   "cell_type": "code",
   "execution_count": null,
   "id": "7a94aeb2-2c83-4714-9044-70a8a8df72e6",
   "metadata": {},
   "outputs": [],
   "source": []
  },
  {
   "cell_type": "markdown",
   "id": "645e5755-0407-46ad-bf68-4728bf94b157",
   "metadata": {},
   "source": [
    "## 5-2. String Slicing\n",
    "1. `str[start:end:step]`\n",
    "- The slicing starts with the `start` index (included) and ends at `end` index (excluded). The `step` parameter is used to specify the steps to take from `start` to `end` index.\n",
    "- Python string is immutable."
   ]
  },
  {
   "cell_type": "code",
   "execution_count": 14,
   "id": "22eb5572-cb34-431e-9e3a-a83cb537292e",
   "metadata": {},
   "outputs": [
    {
     "data": {
      "text/plain": [
       "'01'"
      ]
     },
     "execution_count": 14,
     "metadata": {},
     "output_type": "execute_result"
    }
   ],
   "source": [
    "# String slicing\n",
    "s = \"0123456789\"\n",
    "s[0:2]"
   ]
  },
  {
   "cell_type": "code",
   "execution_count": 15,
   "id": "b6b90339-0bfe-4ba4-a0f2-153f250b6914",
   "metadata": {},
   "outputs": [
    {
     "data": {
      "text/plain": [
       "'012'"
      ]
     },
     "execution_count": 15,
     "metadata": {},
     "output_type": "execute_result"
    }
   ],
   "source": [
    "s[:3]"
   ]
  },
  {
   "cell_type": "code",
   "execution_count": 17,
   "id": "01dec7c0-c0dd-4ca2-820e-07ff199fdad8",
   "metadata": {},
   "outputs": [
    {
     "data": {
      "text/plain": [
       "'3456789'"
      ]
     },
     "execution_count": 17,
     "metadata": {},
     "output_type": "execute_result"
    }
   ],
   "source": [
    "s[3:]"
   ]
  },
  {
   "cell_type": "code",
   "execution_count": 18,
   "id": "7d86ff12-77c4-4d03-8e2b-ded9a63551b8",
   "metadata": {},
   "outputs": [
    {
     "data": {
      "text/plain": [
       "'1357'"
      ]
     },
     "execution_count": 18,
     "metadata": {},
     "output_type": "execute_result"
    }
   ],
   "source": [
    "s[1:8:2]"
   ]
  },
  {
   "cell_type": "code",
   "execution_count": 19,
   "id": "64a2aa8c-e632-4cd7-9213-0d66af3105b6",
   "metadata": {},
   "outputs": [
    {
     "data": {
      "text/plain": [
       "'9876543210'"
      ]
     },
     "execution_count": 19,
     "metadata": {},
     "output_type": "execute_result"
    }
   ],
   "source": [
    "s[::-1]"
   ]
  },
  {
   "cell_type": "code",
   "execution_count": null,
   "id": "06a70b06-e9af-4d4d-9ace-f06052f676a4",
   "metadata": {},
   "outputs": [],
   "source": []
  },
  {
   "cell_type": "markdown",
   "id": "52b357c2-e941-42c1-ab74-9874edab7d25",
   "metadata": {},
   "source": [
    "## 5-3. String Concatenation\n",
    "Use `+` to join strings together."
   ]
  },
  {
   "cell_type": "code",
   "execution_count": 20,
   "id": "f5d01f51-91aa-47b3-a90c-92b25a4d3ee3",
   "metadata": {},
   "outputs": [
    {
     "data": {
      "text/plain": [
       "'Hello World'"
      ]
     },
     "execution_count": 20,
     "metadata": {},
     "output_type": "execute_result"
    }
   ],
   "source": [
    "a = \"Hello\"\n",
    "b = \" World\"\n",
    "a + b"
   ]
  },
  {
   "cell_type": "code",
   "execution_count": null,
   "id": "4df3bdf2-fc51-4d90-abad-398d9d1cfbad",
   "metadata": {},
   "outputs": [],
   "source": []
  },
  {
   "cell_type": "markdown",
   "id": "a1b08341-253a-41e9-b5f0-45db406822a2",
   "metadata": {},
   "source": [
    "## 5-4. String Methods\n",
    "1. `str.format()`\n",
    "2. `str.strip()`\n",
    "3. `str.split()`"
   ]
  },
  {
   "cell_type": "code",
   "execution_count": 30,
   "id": "e7e14c78-177d-491e-8a3d-2f58076c2da1",
   "metadata": {},
   "outputs": [
    {
     "data": {
      "text/plain": [
       "'This is a text with value 16.'"
      ]
     },
     "execution_count": 30,
     "metadata": {},
     "output_type": "execute_result"
    }
   ],
   "source": [
    "# `format()`\n",
    "text = \"This is a text with value {}.\"\n",
    "num = 16\n",
    "\n",
    "result = text.format(num)\n",
    "result"
   ]
  },
  {
   "cell_type": "code",
   "execution_count": 24,
   "id": "bbb68333-615b-474e-b43b-55a31ad5d3a6",
   "metadata": {},
   "outputs": [
    {
     "data": {
      "text/plain": [
       "'Hello World!'"
      ]
     },
     "execution_count": 24,
     "metadata": {},
     "output_type": "execute_result"
    }
   ],
   "source": [
    "# `strip()`\n",
    "text = \" Hello World! \"\n",
    "text.strip()"
   ]
  },
  {
   "cell_type": "code",
   "execution_count": 1,
   "id": "7cabc6b4-0424-473c-9a09-801cadef91af",
   "metadata": {},
   "outputs": [
    {
     "data": {
      "text/plain": [
       "['1', '2', '3', '4', '5']"
      ]
     },
     "execution_count": 1,
     "metadata": {},
     "output_type": "execute_result"
    }
   ],
   "source": [
    "# `split()`\n",
    "text = \"1,2,3,4,5\"\n",
    "text.split(\",\")"
   ]
  },
  {
   "cell_type": "markdown",
   "id": "01d6b4a4-375f-4b2c-b56a-87031cbd5eae",
   "metadata": {},
   "source": [
    "# 6. Type Conversion\n",
    "- **Explicit Type Conversion** or **Type Casting:**\n",
    "    - Manual.\n",
    "1. `int()`\n",
    "2. `float()`\n",
    "3. `str()`\n",
    "\n",
    "- **Implicit Type Conversion:**\n",
    "    - Automatic.\n",
    "    - Python promotes the conversion of the lower data type (integer) to the higher data type (float) to avoid data loss. "
   ]
  },
  {
   "cell_type": "code",
   "execution_count": 25,
   "id": "22708d2e-2e0c-462e-b8d3-f08d7e9d8da6",
   "metadata": {},
   "outputs": [
    {
     "data": {
      "text/plain": [
       "1"
      ]
     },
     "execution_count": 25,
     "metadata": {},
     "output_type": "execute_result"
    }
   ],
   "source": [
    "# `int()`\n",
    "integer = int(1.2)\n",
    "integer"
   ]
  },
  {
   "cell_type": "code",
   "execution_count": 26,
   "id": "70d8fb86-4aca-4408-99cd-f6362e0861ad",
   "metadata": {},
   "outputs": [
    {
     "data": {
      "text/plain": [
       "10.0"
      ]
     },
     "execution_count": 26,
     "metadata": {},
     "output_type": "execute_result"
    }
   ],
   "source": [
    "# `float()`\n",
    "floating_num = float(10)\n",
    "floating_num"
   ]
  },
  {
   "cell_type": "code",
   "execution_count": 27,
   "id": "55e8fc24-e69f-4a59-b79e-17fa9eb1c897",
   "metadata": {},
   "outputs": [
    {
     "data": {
      "text/plain": [
       "'100'"
      ]
     },
     "execution_count": 27,
     "metadata": {},
     "output_type": "execute_result"
    }
   ],
   "source": [
    "# `str()`\n",
    "string = str(100)\n",
    "string"
   ]
  },
  {
   "cell_type": "code",
   "execution_count": 28,
   "id": "ee9ee794-60e8-4cc3-9bc9-4814baa2b1fa",
   "metadata": {},
   "outputs": [
    {
     "data": {
      "text/plain": [
       "'100.0'"
      ]
     },
     "execution_count": 28,
     "metadata": {},
     "output_type": "execute_result"
    }
   ],
   "source": [
    "string = str(100.0)\n",
    "string"
   ]
  },
  {
   "cell_type": "code",
   "execution_count": 29,
   "id": "11d54dab-8231-4387-8a64-8aa172f1afce",
   "metadata": {},
   "outputs": [
    {
     "data": {
      "text/plain": [
       "2.0"
      ]
     },
     "execution_count": 29,
     "metadata": {},
     "output_type": "execute_result"
    }
   ],
   "source": [
    "# Implicit type conversion\n",
    "integer = 1\n",
    "floating_num = 1.0\n",
    "\n",
    "num = integer + floating_num\n",
    "num"
   ]
  },
  {
   "cell_type": "markdown",
   "id": "95de1dbe-256c-402d-99f3-0221f5b2049f",
   "metadata": {},
   "source": [
    "# 7. Operator"
   ]
  },
  {
   "cell_type": "code",
   "execution_count": 31,
   "id": "7c57f859-e06f-4c61-b904-a94ee43c76d5",
   "metadata": {},
   "outputs": [
    {
     "data": {
      "text/plain": [
       "5"
      ]
     },
     "execution_count": 31,
     "metadata": {},
     "output_type": "execute_result"
    }
   ],
   "source": [
    "x = 3\n",
    "y = 2\n",
    "\n",
    "x + y"
   ]
  },
  {
   "cell_type": "code",
   "execution_count": 32,
   "id": "5adfff18-a8c4-4d4b-b90b-909bdaa5286d",
   "metadata": {},
   "outputs": [
    {
     "data": {
      "text/plain": [
       "1"
      ]
     },
     "execution_count": 32,
     "metadata": {},
     "output_type": "execute_result"
    }
   ],
   "source": [
    "x - y"
   ]
  },
  {
   "cell_type": "code",
   "execution_count": 33,
   "id": "62b3af70-5c5a-4f37-8c83-8c777f9c718d",
   "metadata": {},
   "outputs": [
    {
     "data": {
      "text/plain": [
       "6"
      ]
     },
     "execution_count": 33,
     "metadata": {},
     "output_type": "execute_result"
    }
   ],
   "source": [
    "x * y"
   ]
  },
  {
   "cell_type": "code",
   "execution_count": 34,
   "id": "f0a32ef3-f4fe-4498-a6d0-09dd3d168dbf",
   "metadata": {},
   "outputs": [
    {
     "data": {
      "text/plain": [
       "1.5"
      ]
     },
     "execution_count": 34,
     "metadata": {},
     "output_type": "execute_result"
    }
   ],
   "source": [
    "x / y"
   ]
  },
  {
   "cell_type": "code",
   "execution_count": 35,
   "id": "fa61a4e4-37cb-410f-9744-29802ec00b5b",
   "metadata": {},
   "outputs": [
    {
     "data": {
      "text/plain": [
       "1"
      ]
     },
     "execution_count": 35,
     "metadata": {},
     "output_type": "execute_result"
    }
   ],
   "source": [
    "# Quotient\n",
    "x // y"
   ]
  },
  {
   "cell_type": "code",
   "execution_count": 36,
   "id": "711522eb-3fc7-4be8-9b5e-c8826c9cabf9",
   "metadata": {},
   "outputs": [
    {
     "data": {
      "text/plain": [
       "1"
      ]
     },
     "execution_count": 36,
     "metadata": {},
     "output_type": "execute_result"
    }
   ],
   "source": [
    "# Modulo or remainder\n",
    "x % y"
   ]
  },
  {
   "cell_type": "code",
   "execution_count": 37,
   "id": "88f1025c-9ead-4c6e-b2ec-e747f3f23694",
   "metadata": {},
   "outputs": [
    {
     "data": {
      "text/plain": [
       "9"
      ]
     },
     "execution_count": 37,
     "metadata": {},
     "output_type": "execute_result"
    }
   ],
   "source": [
    "x ** y"
   ]
  },
  {
   "cell_type": "markdown",
   "id": "493fdc05-f05e-46aa-8318-441b83e11bd5",
   "metadata": {},
   "source": [
    "# 8. List\n",
    "- `[]`\n",
    "\n",
    "A **List Comprehension** is a syntactic construct available in some programming languages for creating a list based on existing lists.\n",
    "\n",
    "1. `list = [expression for item in iterable if condition == True]`\n",
    "\n",
    "A **Generator** or **Generator Function** that contains a `yield` keyword behaves like an iterator which can be used in a `for` loop. Unlike `list`, this lazy iterator does not store its contents in memory. The `yield` statement suspends a function’s execution and sends a `generator` object back to the function caller, but retains local variables' states. When the function resumes, it continues execution immediately after the last `yield` run.\n",
    "- **Lazy Evaluation & Reduced Latency:** The time to get the first element from a generator is significantly lower.\n",
    "- **Memory Efficiency:** Only one item is in memory at a time.\n",
    "- **Maintain State:** Automatically maintains state between executions.\n",
    "\n",
    "A **Generator Expression** or **Generator Comprehension** is an expression that returns a `generator` object without a `yield` keyword."
   ]
  },
  {
   "cell_type": "code",
   "execution_count": 38,
   "id": "b5995914-732c-4db4-9412-2c202740f1ba",
   "metadata": {},
   "outputs": [
    {
     "data": {
      "text/plain": [
       "[1, 2, 3, 4, 5]"
      ]
     },
     "execution_count": 38,
     "metadata": {},
     "output_type": "execute_result"
    }
   ],
   "source": [
    "lst = [1, 2, 3, 4, 5]\n",
    "lst"
   ]
  },
  {
   "cell_type": "code",
   "execution_count": 39,
   "id": "4367d801-bb7d-4a99-9232-92afd27ffb5b",
   "metadata": {},
   "outputs": [
    {
     "data": {
      "text/plain": [
       "[1, 'Hello World', 3.0]"
      ]
     },
     "execution_count": 39,
     "metadata": {},
     "output_type": "execute_result"
    }
   ],
   "source": [
    "lst = [1, \"Hello World\", 3.0]\n",
    "lst"
   ]
  },
  {
   "cell_type": "code",
   "execution_count": 40,
   "id": "c621cc38-5bd8-4e56-a484-f27ad39d79bf",
   "metadata": {},
   "outputs": [
    {
     "data": {
      "text/plain": [
       "list"
      ]
     },
     "execution_count": 40,
     "metadata": {},
     "output_type": "execute_result"
    }
   ],
   "source": [
    "type(lst)"
   ]
  },
  {
   "cell_type": "code",
   "execution_count": 20,
   "id": "c3cff82c-8ee9-42d8-9280-b8773c7e925d",
   "metadata": {},
   "outputs": [
    {
     "data": {
      "text/plain": [
       "[0, 1, 4, 9, 16, 25, 36, 49, 64, 81]"
      ]
     },
     "execution_count": 20,
     "metadata": {},
     "output_type": "execute_result"
    }
   ],
   "source": [
    "# List comprehension\n",
    "lst = [x**2 for x in range(10)]\n",
    "lst"
   ]
  },
  {
   "cell_type": "code",
   "execution_count": 3,
   "id": "5ea3f7d5-a9ee-4d85-8fd7-15c32a44934d",
   "metadata": {},
   "outputs": [
    {
     "data": {
      "text/plain": [
       "[5, 2, 3]"
      ]
     },
     "execution_count": 3,
     "metadata": {},
     "output_type": "execute_result"
    }
   ],
   "source": [
    "# Retrieve lengths from a nested list\n",
    "batch = [[5, 5, 5, 5, 5], [2, 2], [3, 3, 3]]\n"
   ]
  },
  {
   "cell_type": "code",
   "execution_count": 34,
   "id": "c8a940bd-21c0-474c-9979-b20381977573",
   "metadata": {},
   "outputs": [
    {
     "data": {
      "text/plain": [
       "<generator object square_generator at 0x7f9717fd1be0>"
      ]
     },
     "execution_count": 34,
     "metadata": {},
     "output_type": "execute_result"
    }
   ],
   "source": [
    "# Generator\n",
    "def square_generator(exp):\n",
    "    for x in exp:\n",
    "        yield x**2\n",
    "\n",
    "gen = square_generator(range(10))\n",
    "gen"
   ]
  },
  {
   "cell_type": "code",
   "execution_count": 35,
   "id": "eaa005cf-3ee2-49de-8aaf-fe513e5b0ede",
   "metadata": {},
   "outputs": [
    {
     "data": {
      "text/plain": [
       "0"
      ]
     },
     "execution_count": 35,
     "metadata": {},
     "output_type": "execute_result"
    }
   ],
   "source": [
    "# `next()`\n",
    "val = next(gen)\n",
    "val"
   ]
  },
  {
   "cell_type": "code",
   "execution_count": 36,
   "id": "eccb2640-a850-4525-8197-88fb2acca34f",
   "metadata": {},
   "outputs": [
    {
     "data": {
      "text/plain": [
       "1"
      ]
     },
     "execution_count": 36,
     "metadata": {},
     "output_type": "execute_result"
    }
   ],
   "source": [
    "val = next(gen)\n",
    "val"
   ]
  },
  {
   "cell_type": "code",
   "execution_count": 37,
   "id": "c8336aa4-d00b-4fab-ba59-8109df1a4591",
   "metadata": {},
   "outputs": [
    {
     "data": {
      "text/plain": [
       "4"
      ]
     },
     "execution_count": 37,
     "metadata": {},
     "output_type": "execute_result"
    }
   ],
   "source": [
    "val = next(gen)\n",
    "val"
   ]
  },
  {
   "cell_type": "code",
   "execution_count": 38,
   "id": "f7f63d25-27e8-469a-8db5-f39c4522012d",
   "metadata": {},
   "outputs": [
    {
     "data": {
      "text/plain": [
       "9"
      ]
     },
     "execution_count": 38,
     "metadata": {},
     "output_type": "execute_result"
    }
   ],
   "source": [
    "val = next(gen)\n",
    "val"
   ]
  },
  {
   "cell_type": "code",
   "execution_count": 39,
   "id": "c81abb75-118c-4050-a8df-1eb470466519",
   "metadata": {},
   "outputs": [
    {
     "data": {
      "text/plain": [
       "16"
      ]
     },
     "execution_count": 39,
     "metadata": {},
     "output_type": "execute_result"
    }
   ],
   "source": [
    "val = next(gen)\n",
    "val"
   ]
  },
  {
   "cell_type": "code",
   "execution_count": null,
   "id": "c6b1fa91-d013-4384-a3be-11f899ae809a",
   "metadata": {},
   "outputs": [],
   "source": []
  },
  {
   "cell_type": "code",
   "execution_count": 30,
   "id": "1055c139-2586-4c3e-98e4-b93a60e6b5a2",
   "metadata": {},
   "outputs": [
    {
     "data": {
      "text/plain": [
       "<generator object <genexpr> at 0x7f9717fd0380>"
      ]
     },
     "execution_count": 30,
     "metadata": {},
     "output_type": "execute_result"
    }
   ],
   "source": [
    "# Generator expression\n",
    "gen = (x**2 for x in range(10))\n",
    "gen"
   ]
  },
  {
   "cell_type": "code",
   "execution_count": 31,
   "id": "f506cb66-106d-4229-920c-36b88aea98f9",
   "metadata": {},
   "outputs": [
    {
     "data": {
      "text/plain": [
       "[0, 1, 4, 9, 16, 25, 36, 49, 64, 81]"
      ]
     },
     "execution_count": 31,
     "metadata": {},
     "output_type": "execute_result"
    }
   ],
   "source": [
    "lst = list(x**2 for x in range(10))\n",
    "lst"
   ]
  },
  {
   "cell_type": "markdown",
   "id": "cb52c87e-7d45-4132-a1b3-223abb47b01c",
   "metadata": {},
   "source": [
    "## 8-1. List Indexing"
   ]
  },
  {
   "cell_type": "code",
   "execution_count": null,
   "id": "2ad31c5b-97dd-4f74-93ed-642d769aced3",
   "metadata": {},
   "outputs": [],
   "source": [
    "lst = [1, 2, 3, 4, 5]\n",
    "lst[1]"
   ]
  },
  {
   "cell_type": "markdown",
   "id": "8d3b5266-92aa-49b8-b45b-6d7254e95a36",
   "metadata": {},
   "source": [
    "## 8-2. List Slicing"
   ]
  },
  {
   "cell_type": "code",
   "execution_count": null,
   "id": "a232d1f7-cd14-49fa-9b10-4c73f7ce405e",
   "metadata": {},
   "outputs": [],
   "source": []
  },
  {
   "cell_type": "markdown",
   "id": "753ae9c7-9501-4cac-a4ac-f8deaf5fad46",
   "metadata": {},
   "source": [
    "## 8-3. Sequence"
   ]
  },
  {
   "cell_type": "code",
   "execution_count": 41,
   "id": "9cbfdbca-6813-4ef9-b4ac-44e1d48cf94c",
   "metadata": {},
   "outputs": [
    {
     "data": {
      "text/plain": [
       "[0, 1, 2, 3, 4, 5, 6, 7, 8, 9]"
      ]
     },
     "execution_count": 41,
     "metadata": {},
     "output_type": "execute_result"
    }
   ],
   "source": [
    "lst = list(range(0, 10))\n",
    "lst"
   ]
  },
  {
   "cell_type": "code",
   "execution_count": null,
   "id": "d7490a24-f37f-4603-bc54-ce952ac8f9ae",
   "metadata": {},
   "outputs": [],
   "source": []
  },
  {
   "cell_type": "markdown",
   "id": "67f66e02-ff7b-41ca-8d29-99e6a321a5c7",
   "metadata": {},
   "source": [
    "## 8-4. Updating"
   ]
  },
  {
   "cell_type": "code",
   "execution_count": 43,
   "id": "7ad3bc40-d101-486d-9033-8741c46bf1a5",
   "metadata": {},
   "outputs": [
    {
     "data": {
      "text/plain": [
       "[1, 0, 3]"
      ]
     },
     "execution_count": 43,
     "metadata": {},
     "output_type": "execute_result"
    }
   ],
   "source": [
    "lst = [1, 2, 3]\n",
    "\n",
    "lst[1] = 0\n",
    "lst"
   ]
  },
  {
   "cell_type": "markdown",
   "id": "eacdd5fe-f784-4b03-a9fc-89845b8917b7",
   "metadata": {},
   "source": [
    "## 8-5. List Methods"
   ]
  },
  {
   "cell_type": "code",
   "execution_count": 76,
   "id": "a23b3212-d09b-485e-ade5-b8cca7f355ba",
   "metadata": {},
   "outputs": [
    {
     "data": {
      "text/plain": [
       "3"
      ]
     },
     "execution_count": 76,
     "metadata": {},
     "output_type": "execute_result"
    }
   ],
   "source": [
    "# `len()`\n",
    "lst = [1, 2, 3]\n",
    "len(lst)"
   ]
  },
  {
   "cell_type": "code",
   "execution_count": 45,
   "id": "2bfa1f66-e92e-4a94-9334-0e1faa56d99d",
   "metadata": {},
   "outputs": [
    {
     "data": {
      "text/plain": [
       "[1, 2, 3, 4]"
      ]
     },
     "execution_count": 45,
     "metadata": {},
     "output_type": "execute_result"
    }
   ],
   "source": [
    "# `append()`\n",
    "lst = [1, 2, 3]\n",
    "item = 4\n",
    "\n",
    "lst.append(item)\n",
    "lst"
   ]
  },
  {
   "cell_type": "markdown",
   "id": "696d6614-dbb9-4524-ac8f-ab977255f514",
   "metadata": {},
   "source": [
    "# 9. Tuple\n",
    "- `()`"
   ]
  },
  {
   "cell_type": "code",
   "execution_count": 46,
   "id": "0197f153-0c37-4c37-9c46-71883a7b37aa",
   "metadata": {},
   "outputs": [
    {
     "data": {
      "text/plain": [
       "(1, 2, 3)"
      ]
     },
     "execution_count": 46,
     "metadata": {},
     "output_type": "execute_result"
    }
   ],
   "source": [
    "t = (1, 2, 3)\n",
    "t"
   ]
  },
  {
   "cell_type": "code",
   "execution_count": 47,
   "id": "09bb55d3-60e4-4141-a876-6d1b65f1c4d3",
   "metadata": {},
   "outputs": [
    {
     "data": {
      "text/plain": [
       "tuple"
      ]
     },
     "execution_count": 47,
     "metadata": {},
     "output_type": "execute_result"
    }
   ],
   "source": [
    "type(t)"
   ]
  },
  {
   "cell_type": "markdown",
   "id": "aca403b4-d6a4-4b59-8c77-b8a3570f6047",
   "metadata": {},
   "source": [
    "## 9-1. Tuple Indexing"
   ]
  },
  {
   "cell_type": "code",
   "execution_count": 49,
   "id": "b7dc50b7-c7f4-4171-b28f-7c5b8e2a35bf",
   "metadata": {},
   "outputs": [
    {
     "data": {
      "text/plain": [
       "2"
      ]
     },
     "execution_count": 49,
     "metadata": {},
     "output_type": "execute_result"
    }
   ],
   "source": [
    "t = (1, 2, 3)\n",
    "t[1]"
   ]
  },
  {
   "cell_type": "markdown",
   "id": "1fdb128a-a126-4c17-b642-78aa001666c8",
   "metadata": {},
   "source": [
    "# 10. Set\n",
    "- `{}`\n",
    "- Deduplicate."
   ]
  },
  {
   "cell_type": "code",
   "execution_count": 50,
   "id": "47f20b7e-eef3-4955-8416-9ebb29a24d5c",
   "metadata": {},
   "outputs": [
    {
     "data": {
      "text/plain": [
       "{1, 2, 3, 4, 5}"
      ]
     },
     "execution_count": 50,
     "metadata": {},
     "output_type": "execute_result"
    }
   ],
   "source": [
    "s = {1, 2, 3, 4, 5, 5}\n",
    "s"
   ]
  },
  {
   "cell_type": "code",
   "execution_count": 51,
   "id": "6b636aba-756e-48b0-9541-f1c590e09ed5",
   "metadata": {},
   "outputs": [
    {
     "data": {
      "text/plain": [
       "set"
      ]
     },
     "execution_count": 51,
     "metadata": {},
     "output_type": "execute_result"
    }
   ],
   "source": [
    "type(s)"
   ]
  },
  {
   "cell_type": "code",
   "execution_count": 52,
   "id": "ae2b2b5c-1023-46d1-b47d-a58d1ee426fc",
   "metadata": {},
   "outputs": [
    {
     "data": {
      "text/plain": [
       "[1, 2, 3, 4, 5]"
      ]
     },
     "execution_count": 52,
     "metadata": {},
     "output_type": "execute_result"
    }
   ],
   "source": [
    "lst = [1, 2, 3, 4, 5, 5]\n",
    "\n",
    "s = set(lst)\n",
    "list(s)"
   ]
  },
  {
   "cell_type": "markdown",
   "id": "20343935-b229-4b44-bc57-b0940f39b859",
   "metadata": {},
   "source": [
    "# 11. Dictionary\n",
    "A **Dictionary** is a collection of key-value pairs.\n",
    "- Python implementation of an **Associative Array**.\n",
    "- Keys are unique within a `dict` and cannot be duplicated inside a `dict`. If it is used more than once, subsequent entries will overwrite the previous value."
   ]
  },
  {
   "cell_type": "code",
   "execution_count": 55,
   "id": "4eeff712-0bc5-45e6-a936-3da7c5800876",
   "metadata": {},
   "outputs": [
    {
     "data": {
      "text/plain": [
       "{'name': 'Albert', 'id': 16, 'age': 36, 'height': 176.1}"
      ]
     },
     "execution_count": 55,
     "metadata": {},
     "output_type": "execute_result"
    }
   ],
   "source": [
    "dictionary = {\"name\": \"Albert\", \"id\": 16, \"age\": 36, \"height\": 176.1}\n",
    "dictionary"
   ]
  },
  {
   "cell_type": "code",
   "execution_count": 56,
   "id": "2aadde73-b2f2-40f3-a15c-c2e896ad92ed",
   "metadata": {},
   "outputs": [
    {
     "data": {
      "text/plain": [
       "dict"
      ]
     },
     "execution_count": 56,
     "metadata": {},
     "output_type": "execute_result"
    }
   ],
   "source": [
    "type(dictionary)"
   ]
  },
  {
   "cell_type": "code",
   "execution_count": 57,
   "id": "a12c9dcc-3f84-45d4-a78b-a5e0c1d60218",
   "metadata": {},
   "outputs": [
    {
     "data": {
      "text/plain": [
       "'Albert'"
      ]
     },
     "execution_count": 57,
     "metadata": {},
     "output_type": "execute_result"
    }
   ],
   "source": [
    "dictionary[\"name\"]"
   ]
  },
  {
   "cell_type": "code",
   "execution_count": null,
   "id": "28e2bf0f-0822-4352-ae0e-15e1f8cca063",
   "metadata": {},
   "outputs": [],
   "source": []
  },
  {
   "cell_type": "code",
   "execution_count": 94,
   "id": "761378e0-9a7d-45de-84d5-127ae7ae4dbd",
   "metadata": {},
   "outputs": [
    {
     "data": {
      "text/plain": [
       "{'name': 'Albert', 'id': 16, 'age': 36, 'height': 176.1}"
      ]
     },
     "execution_count": 94,
     "metadata": {},
     "output_type": "execute_result"
    }
   ],
   "source": [
    "# `dict()`\n",
    "dictionary = dict([\n",
    "    (\"name\", \"Albert\"),\n",
    "    (\"id\", 16),\n",
    "    (\"age\", 36),\n",
    "    (\"height\", 176.1)\n",
    "])\n",
    "dictionary"
   ]
  },
  {
   "cell_type": "markdown",
   "id": "dac8a967-c9e4-4ffe-b780-135f4852d35b",
   "metadata": {},
   "source": [
    "# 12. Boolean\n",
    "`True` or `False`."
   ]
  },
  {
   "cell_type": "code",
   "execution_count": 58,
   "id": "18c6aebe-8be8-42e2-98e5-1a00f31355c1",
   "metadata": {},
   "outputs": [
    {
     "data": {
      "text/plain": [
       "bool"
      ]
     },
     "execution_count": 58,
     "metadata": {},
     "output_type": "execute_result"
    }
   ],
   "source": [
    "boolean = True\n",
    "type(boolean)"
   ]
  },
  {
   "cell_type": "code",
   "execution_count": 59,
   "id": "1c896e08-c1ba-457c-b150-ffeac313a1be",
   "metadata": {},
   "outputs": [
    {
     "data": {
      "text/plain": [
       "True"
      ]
     },
     "execution_count": 59,
     "metadata": {},
     "output_type": "execute_result"
    }
   ],
   "source": [
    "x = 10\n",
    "y = 10\n",
    "\n",
    "x == y"
   ]
  },
  {
   "cell_type": "code",
   "execution_count": 60,
   "id": "941c87de-70fd-46c9-9709-c40ff2a065b1",
   "metadata": {},
   "outputs": [
    {
     "data": {
      "text/plain": [
       "False"
      ]
     },
     "execution_count": 60,
     "metadata": {},
     "output_type": "execute_result"
    }
   ],
   "source": [
    "x = 10\n",
    "y = 6\n",
    "\n",
    "x == y"
   ]
  },
  {
   "cell_type": "code",
   "execution_count": 61,
   "id": "b5fdaff0-0b5e-4830-bed4-e07712c855ca",
   "metadata": {},
   "outputs": [
    {
     "data": {
      "text/plain": [
       "True"
      ]
     },
     "execution_count": 61,
     "metadata": {},
     "output_type": "execute_result"
    }
   ],
   "source": [
    "x = 10\n",
    "y = 6\n",
    "\n",
    "x > 8 and y > 3"
   ]
  },
  {
   "cell_type": "code",
   "execution_count": 62,
   "id": "611e00b9-29c2-4da2-8822-f7b9aa8e9167",
   "metadata": {},
   "outputs": [
    {
     "data": {
      "text/plain": [
       "True"
      ]
     },
     "execution_count": 62,
     "metadata": {},
     "output_type": "execute_result"
    }
   ],
   "source": [
    "x = 10\n",
    "y = 6\n",
    "\n",
    "x > 8 or y < 3"
   ]
  },
  {
   "cell_type": "markdown",
   "id": "7eef040b-24c9-4afe-9209-358341e5ea62",
   "metadata": {},
   "source": [
    "# 13. Mutability\n",
    "- **Mutable Objects:** `list`, `set`, `dict`.\n",
    "- **Immutable Objects:** Numbers (`int`, `float`), `str`, `tuple`."
   ]
  },
  {
   "cell_type": "code",
   "execution_count": 63,
   "id": "e91f6994-9c46-4e69-9b82-4de191490b69",
   "metadata": {},
   "outputs": [
    {
     "data": {
      "text/plain": [
       "11754024"
      ]
     },
     "execution_count": 63,
     "metadata": {},
     "output_type": "execute_result"
    }
   ],
   "source": [
    "x = 5\n",
    "id(x)"
   ]
  },
  {
   "cell_type": "code",
   "execution_count": 64,
   "id": "8748b090-c5f5-4155-a10c-ff146a3dc817",
   "metadata": {},
   "outputs": [
    {
     "data": {
      "text/plain": [
       "11754056"
      ]
     },
     "execution_count": 64,
     "metadata": {},
     "output_type": "execute_result"
    }
   ],
   "source": [
    "x = x + 1\n",
    "id(x)"
   ]
  },
  {
   "cell_type": "code",
   "execution_count": 65,
   "id": "39d8549d-38bb-4c89-ba5f-35c25dc878a2",
   "metadata": {},
   "outputs": [
    {
     "data": {
      "text/plain": [
       "133431958733440"
      ]
     },
     "execution_count": 65,
     "metadata": {},
     "output_type": "execute_result"
    }
   ],
   "source": [
    "lst = [1, 2, 3]\n",
    "id(lst)"
   ]
  },
  {
   "cell_type": "code",
   "execution_count": 66,
   "id": "9399d086-5ce0-4465-8a9d-3766e603cd21",
   "metadata": {},
   "outputs": [
    {
     "data": {
      "text/plain": [
       "[10, 2, 3]"
      ]
     },
     "execution_count": 66,
     "metadata": {},
     "output_type": "execute_result"
    }
   ],
   "source": [
    "lst[0] = 10\n",
    "lst"
   ]
  },
  {
   "cell_type": "code",
   "execution_count": 67,
   "id": "e1ec36ab-dba9-436e-8e14-cc9861ef551a",
   "metadata": {},
   "outputs": [
    {
     "data": {
      "text/plain": [
       "133431958733440"
      ]
     },
     "execution_count": 67,
     "metadata": {},
     "output_type": "execute_result"
    }
   ],
   "source": [
    "id(lst)"
   ]
  },
  {
   "cell_type": "markdown",
   "id": "2c1044aa-25c6-4a93-a2d2-a65da4a61915",
   "metadata": {},
   "source": [
    "# 14. Conditional Statement\n",
    "## 14-1. if"
   ]
  },
  {
   "cell_type": "code",
   "execution_count": 68,
   "id": "287f669b-be3b-4865-8b58-c55c51dbcd00",
   "metadata": {},
   "outputs": [
    {
     "data": {
      "text/plain": [
       "60"
      ]
     },
     "execution_count": 68,
     "metadata": {},
     "output_type": "execute_result"
    }
   ],
   "source": [
    "score = 50\n",
    "\n",
    "if score < 60:\n",
    "  score = 60\n",
    "\n",
    "score"
   ]
  },
  {
   "cell_type": "markdown",
   "id": "30831b4b-e2b8-44f0-8eb7-97fe142c5c6d",
   "metadata": {},
   "source": [
    "## 14-2. if-else"
   ]
  },
  {
   "cell_type": "code",
   "execution_count": 69,
   "id": "989c3c35-39e8-4480-89a6-29cf7932dd35",
   "metadata": {},
   "outputs": [
    {
     "name": "stdout",
     "output_type": "stream",
     "text": [
      "Pass\n"
     ]
    }
   ],
   "source": [
    "score = 80\n",
    "\n",
    "if score >= 60:\n",
    "    print(\"Pass\")\n",
    "else:\n",
    "    print(\"Failed\")"
   ]
  },
  {
   "cell_type": "code",
   "execution_count": null,
   "id": "c38f227a-1cb7-4b2e-b7d4-af0a27946d32",
   "metadata": {},
   "outputs": [],
   "source": [
    "score = 40\n",
    "\n",
    "if score >= 60:\n",
    "    print(\"Pass\")\n",
    "else:\n",
    "    print(\"Failed\")"
   ]
  },
  {
   "cell_type": "markdown",
   "id": "98718837-de6f-4fc4-aba8-52cbbcc44c30",
   "metadata": {},
   "source": [
    "## 14-3. if-elif-else"
   ]
  },
  {
   "cell_type": "code",
   "execution_count": 71,
   "id": "a7af6fa7-efd8-46ff-913e-8652d58a344d",
   "metadata": {},
   "outputs": [
    {
     "name": "stdout",
     "output_type": "stream",
     "text": [
      "A\n"
     ]
    }
   ],
   "source": [
    "score = 90\n",
    "\n",
    "if score >= 80:\n",
    "  print(\"A\")\n",
    "elif score >= 70 and score < 80:\n",
    "  print(\"B\")\n",
    "elif score >= 60 and score < 70:\n",
    "  print(\"C\")\n",
    "else:\n",
    "  print(\"D\")"
   ]
  },
  {
   "cell_type": "code",
   "execution_count": null,
   "id": "e9bc7578-fbb9-41ac-a5e7-e31907013207",
   "metadata": {},
   "outputs": [],
   "source": [
    "score = 75\n",
    "\n",
    "if score >= 80:\n",
    "  print(\"A\")\n",
    "elif score >= 70 and score < 80:\n",
    "  print(\"B\")\n",
    "elif score >= 60 and score < 70:\n",
    "  print(\"C\")\n",
    "else:\n",
    "  print(\"D\")"
   ]
  },
  {
   "cell_type": "code",
   "execution_count": null,
   "id": "5cf56116-14ef-409c-a782-f95423aa9502",
   "metadata": {},
   "outputs": [],
   "source": [
    "score = 50\n",
    "\n",
    "if score >= 80:\n",
    "  print(\"A\")\n",
    "elif score >= 70 and score < 80:\n",
    "  print(\"B\")\n",
    "elif score >= 60 and score < 70:\n",
    "  print(\"C\")\n",
    "else:\n",
    "  print(\"D\")"
   ]
  },
  {
   "cell_type": "markdown",
   "id": "411d92ad-b415-48fc-a0d8-e6f0ddd32c2e",
   "metadata": {},
   "source": [
    "# 15. Input"
   ]
  },
  {
   "cell_type": "code",
   "execution_count": 72,
   "id": "36b3ae24-f3ed-49ee-a0e4-df97f66110b7",
   "metadata": {},
   "outputs": [
    {
     "name": "stdin",
     "output_type": "stream",
     "text": [
      "Please enter a number: 100\n"
     ]
    },
    {
     "data": {
      "text/plain": [
       "'100'"
      ]
     },
     "execution_count": 72,
     "metadata": {},
     "output_type": "execute_result"
    }
   ],
   "source": [
    "num = input(\"Please enter a number:\")\n",
    "num"
   ]
  },
  {
   "cell_type": "code",
   "execution_count": 73,
   "id": "b612808a-bb08-43c2-84e4-8fa0820705ac",
   "metadata": {},
   "outputs": [
    {
     "data": {
      "text/plain": [
       "str"
      ]
     },
     "execution_count": 73,
     "metadata": {},
     "output_type": "execute_result"
    }
   ],
   "source": [
    "type(num)"
   ]
  },
  {
   "cell_type": "markdown",
   "id": "abb22b10-ea76-4eaa-93e9-1fd3fd423263",
   "metadata": {},
   "source": [
    "# EXERCISE-1: BMI計算器\n",
    "\n",
    "BMI等於體重(kilogram)除以身高(height)的平方。\n",
    "\n",
    "寫一個程式讓使用者輸入身高、體重，計算出使用者的BMI，並且告訴他體重的狀況。\n",
    "\n",
    "\n",
    "$BMI < 18.5: Underweight$\n",
    "\n",
    "\n",
    "$18.5 <= BMI < 25.0: Normal\\ Weight$\n",
    "\n",
    "\n",
    "$25.0 <= BMI < 30.0: Overweight$\n",
    "\n",
    "\n",
    "$BMI >= 30: Obesity$"
   ]
  },
  {
   "cell_type": "code",
   "execution_count": null,
   "id": "dbb0677f-6b8c-4302-95ec-e0ee632eafa5",
   "metadata": {},
   "outputs": [],
   "source": []
  },
  {
   "cell_type": "markdown",
   "id": "aed9300c-68c9-4845-9366-119738610d03",
   "metadata": {},
   "source": [
    "# 16. Loop\n",
    "## 16-1. for Loop"
   ]
  },
  {
   "cell_type": "code",
   "execution_count": 74,
   "id": "6643ded8-9751-4d4b-806e-6a11a4da1915",
   "metadata": {},
   "outputs": [
    {
     "name": "stdout",
     "output_type": "stream",
     "text": [
      "0\n",
      "1\n",
      "2\n",
      "3\n",
      "4\n",
      "5\n",
      "6\n",
      "7\n",
      "8\n",
      "9\n"
     ]
    }
   ],
   "source": [
    "for num in range(10):\n",
    "    print(num)"
   ]
  },
  {
   "cell_type": "code",
   "execution_count": null,
   "id": "faa1844e-4025-4bf7-bd86-32ddaf2f500f",
   "metadata": {},
   "outputs": [],
   "source": [
    "for num in range(5, 10):\n",
    "    print(num)"
   ]
  },
  {
   "cell_type": "code",
   "execution_count": null,
   "id": "0d434f7c-1398-4b7d-bf41-7642eac2c0b0",
   "metadata": {},
   "outputs": [],
   "source": [
    "for num in range(5, 10, 2):\n",
    "    print(num)"
   ]
  },
  {
   "cell_type": "code",
   "execution_count": null,
   "id": "f795a0ff-1122-48cb-83f1-b0e58c1904b6",
   "metadata": {},
   "outputs": [],
   "source": [
    "lst = [1, 3, 5, \"Hello World\"]\n",
    "\n",
    "for i in lst:\n",
    "    print(i)"
   ]
  },
  {
   "cell_type": "markdown",
   "id": "1817cd42-0349-48e7-8b79-f1dc6aff918a",
   "metadata": {},
   "source": [
    "## 16-2. while Loop"
   ]
  },
  {
   "cell_type": "code",
   "execution_count": 75,
   "id": "af58a875-5c6e-4afc-b68e-e3ea17923756",
   "metadata": {},
   "outputs": [
    {
     "name": "stdout",
     "output_type": "stream",
     "text": [
      "A\n",
      "l\n",
      "b\n",
      "e\n",
      "r\n",
      "t\n"
     ]
    }
   ],
   "source": [
    "name = \"Albert\"\n",
    "i = 0\n",
    "\n",
    "while i < len(name):\n",
    "    print(name[i])\n",
    "    i = i + 1"
   ]
  },
  {
   "cell_type": "markdown",
   "id": "08f8240f-d34c-4778-b403-6a988a5f1b47",
   "metadata": {},
   "source": [
    "## 16-3. continue\n",
    "`continue` skips the current iteration and proceeds to the next one."
   ]
  },
  {
   "cell_type": "code",
   "execution_count": 77,
   "id": "6e4927f0-91c5-40c9-9c10-735fd10cdd1e",
   "metadata": {},
   "outputs": [
    {
     "name": "stdout",
     "output_type": "stream",
     "text": [
      "0\n",
      "1\n",
      "2\n",
      "3\n",
      "4\n",
      "6\n",
      "7\n",
      "8\n",
      "9\n"
     ]
    }
   ],
   "source": [
    "for num in range(0, 10):\n",
    "    if num == 5:\n",
    "        continue\n",
    "    print(num)"
   ]
  },
  {
   "cell_type": "markdown",
   "id": "3e44979d-efd5-4136-9a6a-936b64d3dd20",
   "metadata": {},
   "source": [
    "## 16-4. break\n",
    "`break` exits the loop entirely."
   ]
  },
  {
   "cell_type": "code",
   "execution_count": 78,
   "id": "072b6cd2-88f3-4780-a47a-8fd4512b4b8d",
   "metadata": {},
   "outputs": [
    {
     "name": "stdout",
     "output_type": "stream",
     "text": [
      "0\n",
      "1\n",
      "2\n",
      "3\n",
      "4\n"
     ]
    }
   ],
   "source": [
    "for num in range(0, 10):\n",
    "    if num == 5:\n",
    "        break\n",
    "    print(num)"
   ]
  },
  {
   "cell_type": "markdown",
   "id": "f764bc56-b492-4332-86c1-c6ee72da7e03",
   "metadata": {},
   "source": [
    "## 16-5. Nested Loop"
   ]
  },
  {
   "cell_type": "code",
   "execution_count": 79,
   "id": "b0a908a9-414a-401c-aea0-34a8886be6a4",
   "metadata": {},
   "outputs": [
    {
     "name": "stdout",
     "output_type": "stream",
     "text": [
      "0 0\n",
      "0 1\n",
      "0 2\n",
      "1 0\n",
      "1 1\n",
      "1 2\n",
      "2 0\n",
      "2 1\n",
      "2 2\n"
     ]
    }
   ],
   "source": [
    "for i in range(0, 3):\n",
    "    for j in range(0, 3):\n",
    "        print(i, j)"
   ]
  },
  {
   "cell_type": "markdown",
   "id": "e29e69af-25c6-4149-b9e2-e3e7d8cc1e54",
   "metadata": {},
   "source": [
    "# EXERCISE-2: 九九乘法表(Multiplication Table)"
   ]
  },
  {
   "cell_type": "code",
   "execution_count": 96,
   "id": "77e19c9c-40d9-4c1e-862d-19de3f5591bd",
   "metadata": {},
   "outputs": [
    {
     "name": "stdout",
     "output_type": "stream",
     "text": [
      "1 * 1 = 1\n",
      "1 * 2 = 2\n",
      "1 * 3 = 3\n",
      "1 * 4 = 4\n",
      "1 * 5 = 5\n",
      "1 * 6 = 6\n",
      "1 * 7 = 7\n",
      "1 * 8 = 8\n",
      "1 * 9 = 9\n"
     ]
    }
   ],
   "source": [
    "# Hint\n",
    "for i in range(1, 10):\n",
    "  print(\"1 * {} = {}\".format(i, 1 * i))"
   ]
  },
  {
   "cell_type": "code",
   "execution_count": null,
   "id": "0dd9259c-6cdb-44cc-8a0a-27bea2c61f43",
   "metadata": {},
   "outputs": [],
   "source": []
  },
  {
   "cell_type": "markdown",
   "id": "870f837e-c1c1-43f6-8828-34c9820849ce",
   "metadata": {},
   "source": [
    "# 17. Function\n",
    "A **Function** is a block of code for reducing redundancy.\n",
    "- **Arguments** are the actual value passed to the function when it is called.\n",
    "- **Parameters** define the type and number of inputs a function can accept."
   ]
  },
  {
   "cell_type": "code",
   "execution_count": 80,
   "id": "439184f4-5187-432b-bfc7-3a0f8a45d654",
   "metadata": {},
   "outputs": [
    {
     "name": "stdout",
     "output_type": "stream",
     "text": [
      "The name of the person is: Kevin\n"
     ]
    }
   ],
   "source": [
    "def show_name(name):\n",
    "    print(\"The name of the person is: \" + name)\n",
    "\n",
    "show_name(\"Kevin\")"
   ]
  },
  {
   "cell_type": "code",
   "execution_count": 82,
   "id": "f2ca67f6-a070-40cc-a061-180930e7aaa2",
   "metadata": {},
   "outputs": [
    {
     "name": "stdout",
     "output_type": "stream",
     "text": [
      "The name of the person is: Adam\n",
      "The age of the person is: 30\n"
     ]
    }
   ],
   "source": [
    "def show_name(name, age):\n",
    "  print(\"The name of the person is: \" + name)\n",
    "  print(\"The age of the person is: \" + age)\n",
    "\n",
    "show_name(name=\"Adam\", age=\"30\")"
   ]
  },
  {
   "cell_type": "code",
   "execution_count": null,
   "id": "1d9e78b4-d193-4589-97f1-3eccdf51aca5",
   "metadata": {},
   "outputs": [],
   "source": [
    "def show_name(name, age):\n",
    "  print(\"The name of the person is: \" + name)\n",
    "  print(\"The age of the person is: \" + age)\n",
    "\n",
    "show_name(age=\"30\", name=\"Adam\")"
   ]
  },
  {
   "cell_type": "markdown",
   "id": "7324a866-1d88-499f-8d4f-aa83a498b14b",
   "metadata": {},
   "source": [
    "## 17-1. Flexibility\n",
    "`*args` and `**kwargs` are special keyword which allows function to take variable length argument.\n",
    "- `*args`: Passes a variable number of arguments in `tuple`.\n",
    "- `**kwargs`: Passes a variable number of keyword arguments in `dict`."
   ]
  },
  {
   "cell_type": "code",
   "execution_count": 81,
   "id": "2235e4ba-4dc1-4c45-bd2f-3ccb66516545",
   "metadata": {},
   "outputs": [
    {
     "name": "stdout",
     "output_type": "stream",
     "text": [
      "Albert\n",
      "Bob\n",
      "Frank\n"
     ]
    }
   ],
   "source": [
    "# `*args`\n",
    "def show_name(*names):\n",
    "    for index in range(len(names)):\n",
    "        print(names[index])\n",
    "\n",
    "show_name(\"Albert\", \"Bob\", \"Frank\")"
   ]
  },
  {
   "cell_type": "code",
   "execution_count": 83,
   "id": "8ea1fc1f-bb3c-464a-bce2-476b6bc2f21b",
   "metadata": {},
   "outputs": [
    {
     "name": "stdout",
     "output_type": "stream",
     "text": [
      "Adam\n",
      "Chang\n",
      "20\n",
      "male\n"
     ]
    }
   ],
   "source": [
    "# `**kwargs`\n",
    "def show_name(**params):\n",
    "  print(params[\"fname\"])\n",
    "  print(params[\"lname\"])\n",
    "  print(params[\"age\"])\n",
    "  print(params[\"gender\"])\n",
    "\n",
    "show_name(fname=\"Adam\", lname=\"Chang\", age=20, gender=\"male\")"
   ]
  },
  {
   "cell_type": "markdown",
   "id": "366345fe-eeb2-477f-801e-d3ab0ec977a5",
   "metadata": {},
   "source": [
    "## 17-2. Global & Local Variable"
   ]
  },
  {
   "cell_type": "code",
   "execution_count": 84,
   "id": "32f692d5-3077-45d8-a5eb-cf7071cb2eec",
   "metadata": {},
   "outputs": [
    {
     "data": {
      "text/plain": [
       "10"
      ]
     },
     "execution_count": 84,
     "metadata": {},
     "output_type": "execute_result"
    }
   ],
   "source": [
    "# Global variable\n",
    "var = 10\n",
    "\n",
    "def test_function():\n",
    "  # Local variable\n",
    "  var = 15\n",
    "\n",
    "test_function()\n",
    "var"
   ]
  },
  {
   "cell_type": "code",
   "execution_count": 85,
   "id": "bc700fe5-8757-469f-9c92-865fcc8e650d",
   "metadata": {},
   "outputs": [
    {
     "data": {
      "text/plain": [
       "15"
      ]
     },
     "execution_count": 85,
     "metadata": {},
     "output_type": "execute_result"
    }
   ],
   "source": [
    "var = 10\n",
    "\n",
    "def test_function():\n",
    "  # Global variable\n",
    "  global var\n",
    "  var = 15\n",
    "\n",
    "test_function()\n",
    "var"
   ]
  },
  {
   "cell_type": "code",
   "execution_count": null,
   "id": "aff577b0-6a18-4434-8671-e02576b0dd62",
   "metadata": {},
   "outputs": [],
   "source": []
  }
 ],
 "metadata": {
  "kernelspec": {
   "display_name": "Python 3 (ipykernel)",
   "language": "python",
   "name": "python3"
  },
  "language_info": {
   "codemirror_mode": {
    "name": "ipython",
    "version": 3
   },
   "file_extension": ".py",
   "mimetype": "text/x-python",
   "name": "python",
   "nbconvert_exporter": "python",
   "pygments_lexer": "ipython3",
   "version": "3.12.3"
  }
 },
 "nbformat": 4,
 "nbformat_minor": 5
}
