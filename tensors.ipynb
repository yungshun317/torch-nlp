{
 "cells": [
  {
   "cell_type": "code",
   "execution_count": 2,
   "id": "03bae895-3bbd-46fe-a92f-c18d5d42dfe5",
   "metadata": {},
   "outputs": [],
   "source": [
    "import torch"
   ]
  },
  {
   "cell_type": "markdown",
   "id": "f6c92e4e-e375-49f8-adbb-4d635826a9c0",
   "metadata": {},
   "source": [
    "# 1. PyTorch Tensors"
   ]
  },
  {
   "cell_type": "code",
   "execution_count": 3,
   "id": "060ccd30-74e2-468f-a49c-3cddff20f806",
   "metadata": {},
   "outputs": [
    {
     "data": {
      "text/plain": [
       "tensor(7)"
      ]
     },
     "execution_count": 3,
     "metadata": {},
     "output_type": "execute_result"
    }
   ],
   "source": [
    "# Scalar\n",
    "scalar = torch.tensor(7)\n",
    "scalar"
   ]
  },
  {
   "cell_type": "code",
   "execution_count": 4,
   "id": "1ab00964-007c-4ea3-ac8f-c22c190c0f33",
   "metadata": {},
   "outputs": [
    {
     "data": {
      "text/plain": [
       "0"
      ]
     },
     "execution_count": 4,
     "metadata": {},
     "output_type": "execute_result"
    }
   ],
   "source": [
    "scalar.ndim"
   ]
  },
  {
   "cell_type": "code",
   "execution_count": 5,
   "id": "5ddb3740-f659-414c-8691-ee8ae8d0b6ab",
   "metadata": {},
   "outputs": [
    {
     "data": {
      "text/plain": [
       "7"
      ]
     },
     "execution_count": 5,
     "metadata": {},
     "output_type": "execute_result"
    }
   ],
   "source": [
    "scalar.item()"
   ]
  },
  {
   "cell_type": "code",
   "execution_count": 6,
   "id": "3bbaf9dc-fa16-4c9c-a3d6-705b06b48a65",
   "metadata": {},
   "outputs": [
    {
     "data": {
      "text/plain": [
       "tensor([7, 7])"
      ]
     },
     "execution_count": 6,
     "metadata": {},
     "output_type": "execute_result"
    }
   ],
   "source": [
    "# Vector\n",
    "vector = torch.tensor([7, 7])\n",
    "vector"
   ]
  },
  {
   "cell_type": "code",
   "execution_count": 7,
   "id": "e05df426-d40c-4c27-8598-8f16f86da8ff",
   "metadata": {},
   "outputs": [
    {
     "data": {
      "text/plain": [
       "1"
      ]
     },
     "execution_count": 7,
     "metadata": {},
     "output_type": "execute_result"
    }
   ],
   "source": [
    "vector.ndim"
   ]
  },
  {
   "cell_type": "code",
   "execution_count": 8,
   "id": "846f9056-c4dd-456a-8c38-391595a96e7d",
   "metadata": {},
   "outputs": [
    {
     "data": {
      "text/plain": [
       "torch.Size([2])"
      ]
     },
     "execution_count": 8,
     "metadata": {},
     "output_type": "execute_result"
    }
   ],
   "source": [
    "vector.shape"
   ]
  },
  {
   "cell_type": "code",
   "execution_count": 9,
   "id": "a4c09fd7-74ec-45c3-9be7-cc32a56bc2af",
   "metadata": {},
   "outputs": [
    {
     "data": {
      "text/plain": [
       "tensor([[1, 2],\n",
       "        [3, 4]])"
      ]
     },
     "execution_count": 9,
     "metadata": {},
     "output_type": "execute_result"
    }
   ],
   "source": [
    "# matrix\n",
    "matrix = torch.tensor([[1, 2], [3, 4]])\n",
    "matrix"
   ]
  },
  {
   "cell_type": "code",
   "execution_count": 11,
   "id": "927efb93-e939-4a50-8fd0-3a97112b61ab",
   "metadata": {},
   "outputs": [
    {
     "data": {
      "text/plain": [
       "tensor([1, 2])"
      ]
     },
     "execution_count": 11,
     "metadata": {},
     "output_type": "execute_result"
    }
   ],
   "source": [
    "matrix[0]"
   ]
  },
  {
   "cell_type": "code",
   "execution_count": 12,
   "id": "e7231467-2605-4f8e-919a-65e8dded7744",
   "metadata": {},
   "outputs": [
    {
     "data": {
      "text/plain": [
       "2"
      ]
     },
     "execution_count": 12,
     "metadata": {},
     "output_type": "execute_result"
    }
   ],
   "source": [
    "matrix.ndim"
   ]
  },
  {
   "cell_type": "code",
   "execution_count": 10,
   "id": "e52c07e3-4a9b-4fa3-921a-7a5c89cba40d",
   "metadata": {},
   "outputs": [
    {
     "data": {
      "text/plain": [
       "torch.Size([2, 2])"
      ]
     },
     "execution_count": 10,
     "metadata": {},
     "output_type": "execute_result"
    }
   ],
   "source": [
    "matrix.shape"
   ]
  },
  {
   "cell_type": "code",
   "execution_count": 13,
   "id": "11791253-b27f-4106-bcbc-e6619bc886c5",
   "metadata": {},
   "outputs": [
    {
     "data": {
      "text/plain": [
       "tensor([[[1, 2, 3],\n",
       "         [4, 5, 6],\n",
       "         [7, 8, 9]]])"
      ]
     },
     "execution_count": 13,
     "metadata": {},
     "output_type": "execute_result"
    }
   ],
   "source": [
    "# Tensor\n",
    "tensor = torch.tensor([[[1, 2, 3], [4, 5, 6], [7, 8, 9]]])\n",
    "tensor"
   ]
  },
  {
   "cell_type": "code",
   "execution_count": 16,
   "id": "0ab735c1-f353-4396-8aee-7e70ae7c335a",
   "metadata": {},
   "outputs": [
    {
     "data": {
      "text/plain": [
       "tensor([[1, 2, 3],\n",
       "        [4, 5, 6],\n",
       "        [7, 8, 9]])"
      ]
     },
     "execution_count": 16,
     "metadata": {},
     "output_type": "execute_result"
    }
   ],
   "source": [
    "tensor[0]"
   ]
  },
  {
   "cell_type": "code",
   "execution_count": 17,
   "id": "fbf55758-c451-43e0-9c6a-eb77bf7fc29f",
   "metadata": {},
   "outputs": [
    {
     "data": {
      "text/plain": [
       "tensor([4, 5, 6])"
      ]
     },
     "execution_count": 17,
     "metadata": {},
     "output_type": "execute_result"
    }
   ],
   "source": [
    "tensor[0][1]"
   ]
  },
  {
   "cell_type": "code",
   "execution_count": 14,
   "id": "98ad0fb3-83ce-42a0-9d45-b63e29213019",
   "metadata": {},
   "outputs": [
    {
     "data": {
      "text/plain": [
       "3"
      ]
     },
     "execution_count": 14,
     "metadata": {},
     "output_type": "execute_result"
    }
   ],
   "source": [
    "tensor.ndim"
   ]
  },
  {
   "cell_type": "code",
   "execution_count": 15,
   "id": "0316eb62-c691-4ec0-9edf-25bd5d7b4cf2",
   "metadata": {},
   "outputs": [
    {
     "data": {
      "text/plain": [
       "torch.Size([1, 3, 3])"
      ]
     },
     "execution_count": 15,
     "metadata": {},
     "output_type": "execute_result"
    }
   ],
   "source": [
    "tensor.shape"
   ]
  },
  {
   "cell_type": "markdown",
   "id": "9e1d8084-42c1-441d-9683-7f6528d67da2",
   "metadata": {},
   "source": [
    "## 1-1. Random"
   ]
  },
  {
   "cell_type": "code",
   "execution_count": null,
   "id": "7b29f09f-f3f9-41cc-b92f-be801e0877a2",
   "metadata": {},
   "outputs": [],
   "source": [
    "# Set the random seed\n",
    "RANDOM_SEED = 100\n",
    "torch.manual_seed(RANDOM_SEED)"
   ]
  },
  {
   "cell_type": "code",
   "execution_count": 19,
   "id": "570561c5-64da-48ab-a9fe-4d24112778dc",
   "metadata": {},
   "outputs": [
    {
     "data": {
      "text/plain": [
       "tensor([[0.0730, 0.4797, 0.9343, 0.2787],\n",
       "        [0.5118, 0.5053, 0.8628, 0.2954],\n",
       "        [0.1912, 0.8626, 0.3521, 0.0279]])"
      ]
     },
     "execution_count": 19,
     "metadata": {},
     "output_type": "execute_result"
    }
   ],
   "source": [
    "random_tensor = torch.rand(3, 4)\n",
    "random_tensor"
   ]
  },
  {
   "cell_type": "code",
   "execution_count": 21,
   "id": "aa40e4c7-aaea-449d-8db5-5e3cf5cc9d3b",
   "metadata": {},
   "outputs": [
    {
     "data": {
      "text/plain": [
       "tensor([[[0.1026, 0.3164, 0.0788,  ..., 0.8504, 0.7301, 0.9744],\n",
       "         [0.3827, 0.1933, 0.1453,  ..., 0.1690, 0.5638, 0.6830],\n",
       "         [0.5310, 0.5235, 0.5262,  ..., 0.8321, 0.4081, 0.1552],\n",
       "         ...,\n",
       "         [0.3136, 0.2305, 0.3834,  ..., 0.5960, 0.7216, 0.9114],\n",
       "         [0.4767, 0.6360, 0.7722,  ..., 0.0981, 0.4069, 0.3725],\n",
       "         [0.1342, 0.0999, 0.0238,  ..., 0.7767, 0.7813, 0.3495]],\n",
       "\n",
       "        [[0.2750, 0.3080, 0.6140,  ..., 0.4562, 0.4973, 0.5639],\n",
       "         [0.6847, 0.7653, 0.3971,  ..., 0.7869, 0.9829, 0.6039],\n",
       "         [0.7455, 0.2357, 0.7595,  ..., 0.5343, 0.6318, 0.8577],\n",
       "         ...,\n",
       "         [0.5081, 0.5969, 0.7765,  ..., 0.8612, 0.0925, 0.7518],\n",
       "         [0.0529, 0.3172, 0.6430,  ..., 0.4596, 0.8803, 0.6801],\n",
       "         [0.1798, 0.1344, 0.4809,  ..., 0.8248, 0.5686, 0.6871]],\n",
       "\n",
       "        [[0.9628, 0.9303, 0.2978,  ..., 0.3283, 0.0120, 0.6298],\n",
       "         [0.5651, 0.7603, 0.1950,  ..., 0.6793, 0.7566, 0.4832],\n",
       "         [0.5141, 0.0545, 0.4909,  ..., 0.7836, 0.4998, 0.5384],\n",
       "         ...,\n",
       "         [0.6006, 0.8932, 0.1631,  ..., 0.9614, 0.6367, 0.3452],\n",
       "         [0.4456, 0.9240, 0.6309,  ..., 0.0232, 0.7797, 0.8388],\n",
       "         [0.6274, 0.7944, 0.6182,  ..., 0.5641, 0.8528, 0.2800]]])"
      ]
     },
     "execution_count": 21,
     "metadata": {},
     "output_type": "execute_result"
    }
   ],
   "source": [
    "random_tensor = torch.rand(size=(3, 224, 224))\n",
    "random_tensor"
   ]
  },
  {
   "cell_type": "code",
   "execution_count": 23,
   "id": "679999eb-4ab0-4a83-a996-cea396606c37",
   "metadata": {},
   "outputs": [
    {
     "data": {
      "text/plain": [
       "3"
      ]
     },
     "execution_count": 23,
     "metadata": {},
     "output_type": "execute_result"
    }
   ],
   "source": [
    "random_tensor.ndim"
   ]
  },
  {
   "cell_type": "code",
   "execution_count": 22,
   "id": "35bb15ab-c4fb-4eb0-97fb-8a7e9e430067",
   "metadata": {},
   "outputs": [
    {
     "data": {
      "text/plain": [
       "torch.Size([3, 224, 224])"
      ]
     },
     "execution_count": 22,
     "metadata": {},
     "output_type": "execute_result"
    }
   ],
   "source": [
    "random_tensor.shape"
   ]
  },
  {
   "cell_type": "markdown",
   "id": "d9349c40-0baa-4121-a31e-83838467de01",
   "metadata": {},
   "source": [
    "## 1-2. Zeros & Ones"
   ]
  },
  {
   "cell_type": "code",
   "execution_count": 24,
   "id": "289d9b04-a846-4b32-a258-f6a58215eaa6",
   "metadata": {},
   "outputs": [
    {
     "data": {
      "text/plain": [
       "tensor([[0., 0., 0.],\n",
       "        [0., 0., 0.],\n",
       "        [0., 0., 0.]])"
      ]
     },
     "execution_count": 24,
     "metadata": {},
     "output_type": "execute_result"
    }
   ],
   "source": [
    "# Create a tensor of all zeros\n",
    "zeros = torch.zeros(size=(3, 3))\n",
    "zeros"
   ]
  },
  {
   "cell_type": "code",
   "execution_count": 25,
   "id": "9341b1ce-4135-4ca8-b604-4d768825b7c9",
   "metadata": {},
   "outputs": [
    {
     "data": {
      "text/plain": [
       "tensor([[1., 1., 1.],\n",
       "        [1., 1., 1.],\n",
       "        [1., 1., 1.]])"
      ]
     },
     "execution_count": 25,
     "metadata": {},
     "output_type": "execute_result"
    }
   ],
   "source": [
    "# Create a tensor of all ones\n",
    "ones = torch.ones(size=(3, 3))\n",
    "ones"
   ]
  },
  {
   "cell_type": "code",
   "execution_count": 26,
   "id": "75efb302-4acd-46ef-bb43-5cbfe69fdb94",
   "metadata": {},
   "outputs": [
    {
     "data": {
      "text/plain": [
       "tensor([ 1,  2,  3,  4,  5,  6,  7,  8,  9, 10])"
      ]
     },
     "execution_count": 26,
     "metadata": {},
     "output_type": "execute_result"
    }
   ],
   "source": [
    "# `torch.arange()`\n",
    "one_to_ten = torch.arange(start=1, end=11, step=1)\n",
    "one_to_ten"
   ]
  },
  {
   "cell_type": "code",
   "execution_count": 27,
   "id": "d78d1a52-dba0-4143-ba03-73b65324a827",
   "metadata": {},
   "outputs": [
    {
     "data": {
      "text/plain": [
       "tensor([0, 0, 0, 0, 0, 0, 0, 0, 0, 0])"
      ]
     },
     "execution_count": 27,
     "metadata": {},
     "output_type": "execute_result"
    }
   ],
   "source": [
    "# Creating tensors like\n",
    "ten_zeros = torch.zeros_like(input=one_to_ten)\n",
    "ten_zeros"
   ]
  },
  {
   "cell_type": "markdown",
   "id": "f4041bee-3f3c-4bc4-aae4-b876d15137d2",
   "metadata": {},
   "source": [
    "## 1-3. Data Types\n",
    "- [Data Types](https://pytorch.org/docs/stable/tensors.html#data-types)"
   ]
  },
  {
   "cell_type": "code",
   "execution_count": 28,
   "id": "4aa24d07-4eb7-4889-81b1-0018c983405d",
   "metadata": {},
   "outputs": [
    {
     "data": {
      "text/plain": [
       "tensor([3., 6., 9.])"
      ]
     },
     "execution_count": 28,
     "metadata": {},
     "output_type": "execute_result"
    }
   ],
   "source": [
    "# Float 32 tensor\n",
    "float_32_tensor = torch.tensor([3.0, 6.0, 9.0],\n",
    "                               dtype=None,\n",
    "                               device=None,\n",
    "                               requires_grad=False)\n",
    "float_32_tensor"
   ]
  },
  {
   "cell_type": "code",
   "execution_count": 29,
   "id": "121c0402-a597-4e6a-8e55-39a0da9ab0a4",
   "metadata": {},
   "outputs": [
    {
     "data": {
      "text/plain": [
       "torch.float32"
      ]
     },
     "execution_count": 29,
     "metadata": {},
     "output_type": "execute_result"
    }
   ],
   "source": [
    "float_32_tensor.dtype"
   ]
  },
  {
   "cell_type": "code",
   "execution_count": 30,
   "id": "26545251-814d-49e7-a160-970245a7a120",
   "metadata": {},
   "outputs": [
    {
     "data": {
      "text/plain": [
       "tensor([3., 6., 9.], dtype=torch.float16)"
      ]
     },
     "execution_count": 30,
     "metadata": {},
     "output_type": "execute_result"
    }
   ],
   "source": [
    "float_16_tensor = float_32_tensor.type(torch.float16)\n",
    "float_16_tensor"
   ]
  },
  {
   "cell_type": "code",
   "execution_count": 31,
   "id": "f596586e-781b-44e7-ad4d-ed165511bf4e",
   "metadata": {},
   "outputs": [
    {
     "data": {
      "text/plain": [
       "tensor([3, 6, 9])"
      ]
     },
     "execution_count": 31,
     "metadata": {},
     "output_type": "execute_result"
    }
   ],
   "source": [
    "int_32_tensor = torch.tensor([3, 6, 9], dtype=torch.long)\n",
    "int_32_tensor"
   ]
  },
  {
   "cell_type": "markdown",
   "id": "142aeb12-7a0e-458e-bd24-46ab18504a41",
   "metadata": {},
   "source": [
    "## 1-4. Manipulation"
   ]
  },
  {
   "cell_type": "code",
   "execution_count": 32,
   "id": "7a598977-0648-47e1-a185-d93f4daa8e24",
   "metadata": {},
   "outputs": [
    {
     "data": {
      "text/plain": [
       "tensor([11, 12, 13])"
      ]
     },
     "execution_count": 32,
     "metadata": {},
     "output_type": "execute_result"
    }
   ],
   "source": [
    "# Create a tensor and add 10 to it\n",
    "tensor = torch.tensor([1, 2, 3])\n",
    "tensor + 10"
   ]
  },
  {
   "cell_type": "code",
   "execution_count": 33,
   "id": "03afd7ca-1944-4bef-8c68-55ea754523d0",
   "metadata": {},
   "outputs": [
    {
     "data": {
      "text/plain": [
       "tensor([10, 20, 30])"
      ]
     },
     "execution_count": 33,
     "metadata": {},
     "output_type": "execute_result"
    }
   ],
   "source": [
    "# Multiply tensor by 10\n",
    "tensor * 10"
   ]
  },
  {
   "cell_type": "code",
   "execution_count": 34,
   "id": "8e28b1f3-35c1-48af-8365-14f49c15e17b",
   "metadata": {},
   "outputs": [
    {
     "data": {
      "text/plain": [
       "tensor([-9, -8, -7])"
      ]
     },
     "execution_count": 34,
     "metadata": {},
     "output_type": "execute_result"
    }
   ],
   "source": [
    "# Substract 10\n",
    "tensor - 10"
   ]
  },
  {
   "cell_type": "code",
   "execution_count": 35,
   "id": "1e34e6ff-bfc5-4406-bca0-18162176843e",
   "metadata": {},
   "outputs": [
    {
     "data": {
      "text/plain": [
       "tensor([11, 12, 13])"
      ]
     },
     "execution_count": 35,
     "metadata": {},
     "output_type": "execute_result"
    }
   ],
   "source": [
    "torch.add(tensor, 10)"
   ]
  },
  {
   "cell_type": "code",
   "execution_count": 36,
   "id": "98ac72cb-23e7-48a4-80ca-0c5f608cd3b4",
   "metadata": {},
   "outputs": [
    {
     "data": {
      "text/plain": [
       "tensor([10, 20, 30])"
      ]
     },
     "execution_count": 36,
     "metadata": {},
     "output_type": "execute_result"
    }
   ],
   "source": [
    "torch.mul(tensor, 10)"
   ]
  },
  {
   "cell_type": "markdown",
   "id": "4b0216f7-78f2-4199-b4ea-e5413d99e6d9",
   "metadata": {},
   "source": [
    "## 1-5. Matrix Multiplication"
   ]
  },
  {
   "cell_type": "code",
   "execution_count": 37,
   "id": "a38c55f9-949b-4251-b921-4193503e5b6e",
   "metadata": {},
   "outputs": [
    {
     "data": {
      "text/plain": [
       "tensor([1, 4, 9])"
      ]
     },
     "execution_count": 37,
     "metadata": {},
     "output_type": "execute_result"
    }
   ],
   "source": [
    "# Element wise multiplication\n",
    "tensor * tensor"
   ]
  },
  {
   "cell_type": "code",
   "execution_count": 39,
   "id": "9bc0f349-98f0-4ee0-a04a-01a225dfe21a",
   "metadata": {},
   "outputs": [
    {
     "data": {
      "text/plain": [
       "14"
      ]
     },
     "execution_count": 39,
     "metadata": {},
     "output_type": "execute_result"
    }
   ],
   "source": [
    "# Matrix multiplication by hand\n",
    "1*1 + 2*2 + 3*3"
   ]
  },
  {
   "cell_type": "code",
   "execution_count": 38,
   "id": "4125f2cc-f32e-43d0-8570-597a71bb2430",
   "metadata": {},
   "outputs": [
    {
     "data": {
      "text/plain": [
       "tensor(14)"
      ]
     },
     "execution_count": 38,
     "metadata": {},
     "output_type": "execute_result"
    }
   ],
   "source": [
    "# Matrix multiplication\n",
    "torch.matmul(tensor, tensor)"
   ]
  },
  {
   "cell_type": "code",
   "execution_count": 42,
   "id": "52707bd1-9737-4ee0-9fc5-c35958b2aab3",
   "metadata": {},
   "outputs": [
    {
     "data": {
      "text/plain": [
       "tensor(14)"
      ]
     },
     "execution_count": 42,
     "metadata": {},
     "output_type": "execute_result"
    }
   ],
   "source": [
    "tensor @ tensor"
   ]
  },
  {
   "cell_type": "code",
   "execution_count": 40,
   "id": "08e03e2d-f877-429d-bb86-e882e3c5b0be",
   "metadata": {},
   "outputs": [
    {
     "name": "stdout",
     "output_type": "stream",
     "text": [
      "tensor(14)\n",
      "CPU times: user 1.34 ms, sys: 170 µs, total: 1.51 ms\n",
      "Wall time: 10.2 ms\n"
     ]
    }
   ],
   "source": [
    "%%time\n",
    "value = 0\n",
    "for i in range(len(tensor)):\n",
    "    value += tensor[i] * tensor[i]\n",
    "print(value)"
   ]
  },
  {
   "cell_type": "code",
   "execution_count": 41,
   "id": "11bfe0b6-73c7-4870-9d66-0c7f4a11346f",
   "metadata": {},
   "outputs": [
    {
     "name": "stdout",
     "output_type": "stream",
     "text": [
      "CPU times: user 800 µs, sys: 0 ns, total: 800 µs\n",
      "Wall time: 694 µs\n"
     ]
    },
    {
     "data": {
      "text/plain": [
       "tensor(14)"
      ]
     },
     "execution_count": 41,
     "metadata": {},
     "output_type": "execute_result"
    }
   ],
   "source": [
    "%%time\n",
    "torch.matmul(tensor, tensor)"
   ]
  },
  {
   "cell_type": "markdown",
   "id": "62d593d9-c63d-4e82-a950-25ee4651d3f1",
   "metadata": {},
   "source": [
    "## 1-6. Aggregation"
   ]
  },
  {
   "cell_type": "code",
   "execution_count": 43,
   "id": "7c2ecd70-a562-4569-aff1-9e3cf0c7242a",
   "metadata": {},
   "outputs": [
    {
     "data": {
      "text/plain": [
       "tensor(1)"
      ]
     },
     "execution_count": 43,
     "metadata": {},
     "output_type": "execute_result"
    }
   ],
   "source": [
    "one_to_ten.min()"
   ]
  },
  {
   "cell_type": "code",
   "execution_count": 44,
   "id": "b593b10d-59d0-4bd9-a8b1-288ad7617c10",
   "metadata": {},
   "outputs": [
    {
     "data": {
      "text/plain": [
       "tensor(1)"
      ]
     },
     "execution_count": 44,
     "metadata": {},
     "output_type": "execute_result"
    }
   ],
   "source": [
    "torch.min(one_to_ten)"
   ]
  },
  {
   "cell_type": "code",
   "execution_count": 45,
   "id": "a247d8d2-4c28-4935-8fdb-ce341c51f197",
   "metadata": {},
   "outputs": [
    {
     "data": {
      "text/plain": [
       "tensor(10)"
      ]
     },
     "execution_count": 45,
     "metadata": {},
     "output_type": "execute_result"
    }
   ],
   "source": [
    "one_to_ten.max()"
   ]
  },
  {
   "cell_type": "code",
   "execution_count": 46,
   "id": "4aab3116-c709-4ce9-bb98-dd19f44fd1ae",
   "metadata": {},
   "outputs": [
    {
     "data": {
      "text/plain": [
       "tensor(10)"
      ]
     },
     "execution_count": 46,
     "metadata": {},
     "output_type": "execute_result"
    }
   ],
   "source": [
    "torch.max(one_to_ten)"
   ]
  },
  {
   "cell_type": "code",
   "execution_count": 48,
   "id": "c3411529-0b68-4d98-9c97-77324080d31b",
   "metadata": {},
   "outputs": [
    {
     "data": {
      "text/plain": [
       "tensor(5.5000)"
      ]
     },
     "execution_count": 48,
     "metadata": {},
     "output_type": "execute_result"
    }
   ],
   "source": [
    "one_to_ten.type(torch.float32).mean()"
   ]
  },
  {
   "cell_type": "code",
   "execution_count": 47,
   "id": "296faa8b-acbd-4929-bfa7-35402bc9413f",
   "metadata": {},
   "outputs": [
    {
     "data": {
      "text/plain": [
       "tensor(5.5000)"
      ]
     },
     "execution_count": 47,
     "metadata": {},
     "output_type": "execute_result"
    }
   ],
   "source": [
    "torch.mean(one_to_ten.type(torch.float32))"
   ]
  },
  {
   "cell_type": "code",
   "execution_count": 49,
   "id": "173494d4-8ee0-4b49-8ec2-979e79c46c57",
   "metadata": {},
   "outputs": [
    {
     "data": {
      "text/plain": [
       "tensor(55)"
      ]
     },
     "execution_count": 49,
     "metadata": {},
     "output_type": "execute_result"
    }
   ],
   "source": [
    "one_to_ten.sum()"
   ]
  },
  {
   "cell_type": "code",
   "execution_count": 50,
   "id": "bb58a9d4-99e8-4d15-b7df-12ce281eab7b",
   "metadata": {},
   "outputs": [
    {
     "data": {
      "text/plain": [
       "tensor(55)"
      ]
     },
     "execution_count": 50,
     "metadata": {},
     "output_type": "execute_result"
    }
   ],
   "source": [
    "torch.sum(one_to_ten)"
   ]
  },
  {
   "cell_type": "markdown",
   "id": "8ec99cf1-46db-4177-8696-dc24bc4a6d76",
   "metadata": {},
   "source": [
    "## 1-7. Positional Min & Max"
   ]
  },
  {
   "cell_type": "code",
   "execution_count": 51,
   "id": "fa039155-4455-46da-a9f2-22500f3f391a",
   "metadata": {},
   "outputs": [
    {
     "data": {
      "text/plain": [
       "tensor(0)"
      ]
     },
     "execution_count": 51,
     "metadata": {},
     "output_type": "execute_result"
    }
   ],
   "source": [
    "one_to_ten.argmin()"
   ]
  },
  {
   "cell_type": "code",
   "execution_count": 52,
   "id": "c6f65439-e633-4950-ac5e-0e28e77274bc",
   "metadata": {},
   "outputs": [
    {
     "data": {
      "text/plain": [
       "tensor(1)"
      ]
     },
     "execution_count": 52,
     "metadata": {},
     "output_type": "execute_result"
    }
   ],
   "source": [
    "one_to_ten[0]"
   ]
  },
  {
   "cell_type": "code",
   "execution_count": 53,
   "id": "9f8df901-ae7d-45a3-bfeb-445d7be79a7d",
   "metadata": {},
   "outputs": [
    {
     "data": {
      "text/plain": [
       "tensor(9)"
      ]
     },
     "execution_count": 53,
     "metadata": {},
     "output_type": "execute_result"
    }
   ],
   "source": [
    "one_to_ten.argmax()"
   ]
  },
  {
   "cell_type": "code",
   "execution_count": 54,
   "id": "63759dcc-8b20-4c2b-8d62-9d0b7cdc86f2",
   "metadata": {},
   "outputs": [
    {
     "data": {
      "text/plain": [
       "tensor(10)"
      ]
     },
     "execution_count": 54,
     "metadata": {},
     "output_type": "execute_result"
    }
   ],
   "source": [
    "one_to_ten[9]"
   ]
  },
  {
   "cell_type": "markdown",
   "id": "5a306dea-581d-4ddb-afce-9f4db6084d8e",
   "metadata": {},
   "source": [
    "## 1-8. Reshaping, Stacking, Squeezing & Unsqueezing"
   ]
  },
  {
   "cell_type": "code",
   "execution_count": 55,
   "id": "a37a9ffb-21a1-485a-bdd3-0876f9db2067",
   "metadata": {},
   "outputs": [
    {
     "data": {
      "text/plain": [
       "tensor([ 1,  2,  3,  4,  5,  6,  7,  8,  9, 10])"
      ]
     },
     "execution_count": 55,
     "metadata": {},
     "output_type": "execute_result"
    }
   ],
   "source": [
    "one_to_ten"
   ]
  },
  {
   "cell_type": "code",
   "execution_count": 56,
   "id": "23de406b-ac43-401e-8286-8740b1ae71ee",
   "metadata": {},
   "outputs": [
    {
     "data": {
      "text/plain": [
       "torch.Size([10])"
      ]
     },
     "execution_count": 56,
     "metadata": {},
     "output_type": "execute_result"
    }
   ],
   "source": [
    "one_to_ten.shape"
   ]
  },
  {
   "cell_type": "code",
   "execution_count": 57,
   "id": "8f6e8bf3-c91a-4682-95e7-fb6293c04961",
   "metadata": {},
   "outputs": [
    {
     "data": {
      "text/plain": [
       "tensor([[ 1,  2,  3,  4,  5,  6,  7,  8,  9, 10]])"
      ]
     },
     "execution_count": 57,
     "metadata": {},
     "output_type": "execute_result"
    }
   ],
   "source": [
    "one_to_ten_reshaped = one_to_ten.reshape(1, 10)\n",
    "one_to_ten_reshaped"
   ]
  },
  {
   "cell_type": "code",
   "execution_count": 62,
   "id": "5e7cbc65-3924-453c-9770-6fa45e4e119c",
   "metadata": {},
   "outputs": [
    {
     "data": {
      "text/plain": [
       "torch.Size([1, 10])"
      ]
     },
     "execution_count": 62,
     "metadata": {},
     "output_type": "execute_result"
    }
   ],
   "source": [
    "one_to_ten_reshaped.shape"
   ]
  },
  {
   "cell_type": "code",
   "execution_count": 58,
   "id": "dbdf733f-8127-44cc-b510-1c2fa737688f",
   "metadata": {},
   "outputs": [
    {
     "data": {
      "text/plain": [
       "tensor([[ 1,  2,  3,  4,  5,  6,  7,  8,  9, 10],\n",
       "        [ 1,  2,  3,  4,  5,  6,  7,  8,  9, 10],\n",
       "        [ 1,  2,  3,  4,  5,  6,  7,  8,  9, 10],\n",
       "        [ 1,  2,  3,  4,  5,  6,  7,  8,  9, 10]])"
      ]
     },
     "execution_count": 58,
     "metadata": {},
     "output_type": "execute_result"
    }
   ],
   "source": [
    "one_to_ten_stacked = torch.stack([one_to_ten, one_to_ten, one_to_ten, one_to_ten], dim=0)\n",
    "one_to_ten_stacked"
   ]
  },
  {
   "cell_type": "code",
   "execution_count": 61,
   "id": "2c794afa-a847-47cb-863e-8c274168effe",
   "metadata": {},
   "outputs": [
    {
     "data": {
      "text/plain": [
       "torch.Size([4, 10])"
      ]
     },
     "execution_count": 61,
     "metadata": {},
     "output_type": "execute_result"
    }
   ],
   "source": [
    "one_to_ten_stacked.shape"
   ]
  },
  {
   "cell_type": "code",
   "execution_count": 63,
   "id": "96dc4e8c-0807-400e-8db3-6a050cce7e70",
   "metadata": {},
   "outputs": [
    {
     "data": {
      "text/plain": [
       "tensor([ 1,  2,  3,  4,  5,  6,  7,  8,  9, 10])"
      ]
     },
     "execution_count": 63,
     "metadata": {},
     "output_type": "execute_result"
    }
   ],
   "source": [
    "# Remove extra dimensions\n",
    "one_to_ten_squeezed = one_to_ten_reshaped.squeeze()\n",
    "one_to_ten_squeezed "
   ]
  },
  {
   "cell_type": "code",
   "execution_count": 64,
   "id": "dad55af8-c6ea-45a7-8fdc-ff2dd48b4311",
   "metadata": {},
   "outputs": [
    {
     "data": {
      "text/plain": [
       "torch.Size([10])"
      ]
     },
     "execution_count": 64,
     "metadata": {},
     "output_type": "execute_result"
    }
   ],
   "source": [
    "one_to_ten_squeezed.shape"
   ]
  },
  {
   "cell_type": "code",
   "execution_count": 66,
   "id": "cea4fc54-cb3c-478d-b4e9-17e4a989b8cf",
   "metadata": {},
   "outputs": [
    {
     "data": {
      "text/plain": [
       "tensor([[ 1,  2,  3,  4,  5,  6,  7,  8,  9, 10]])"
      ]
     },
     "execution_count": 66,
     "metadata": {},
     "output_type": "execute_result"
    }
   ],
   "source": [
    "# Add an extra dimension with `unsqueeze()`\n",
    "one_to_ten_unsqueezed = one_to_ten_squeezed.unsqueeze(dim=0)\n",
    "one_to_ten_unsqueezed"
   ]
  },
  {
   "cell_type": "code",
   "execution_count": 67,
   "id": "0e61ba25-0951-42a4-afdd-9c1b39d64530",
   "metadata": {},
   "outputs": [
    {
     "data": {
      "text/plain": [
       "torch.Size([1, 10])"
      ]
     },
     "execution_count": 67,
     "metadata": {},
     "output_type": "execute_result"
    }
   ],
   "source": [
    "one_to_ten_unsqueezed.shape"
   ]
  },
  {
   "cell_type": "code",
   "execution_count": 70,
   "id": "e5a10f31-da54-4514-8982-01d3c8a99910",
   "metadata": {},
   "outputs": [
    {
     "data": {
      "text/plain": [
       "torch.Size([3, 224, 224])"
      ]
     },
     "execution_count": 70,
     "metadata": {},
     "output_type": "execute_result"
    }
   ],
   "source": [
    "random_tensor.shape"
   ]
  },
  {
   "cell_type": "code",
   "execution_count": 68,
   "id": "07df67b0-9f6d-4f59-b24f-ace96c79f88c",
   "metadata": {},
   "outputs": [
    {
     "data": {
      "text/plain": [
       "tensor([[[0.1026, 0.3827, 0.5310,  ..., 0.3136, 0.4767, 0.1342],\n",
       "         [0.2750, 0.6847, 0.7455,  ..., 0.5081, 0.0529, 0.1798],\n",
       "         [0.9628, 0.5651, 0.5141,  ..., 0.6006, 0.4456, 0.6274]],\n",
       "\n",
       "        [[0.3164, 0.1933, 0.5235,  ..., 0.2305, 0.6360, 0.0999],\n",
       "         [0.3080, 0.7653, 0.2357,  ..., 0.5969, 0.3172, 0.1344],\n",
       "         [0.9303, 0.7603, 0.0545,  ..., 0.8932, 0.9240, 0.7944]],\n",
       "\n",
       "        [[0.0788, 0.1453, 0.5262,  ..., 0.3834, 0.7722, 0.0238],\n",
       "         [0.6140, 0.3971, 0.7595,  ..., 0.7765, 0.6430, 0.4809],\n",
       "         [0.2978, 0.1950, 0.4909,  ..., 0.1631, 0.6309, 0.6182]],\n",
       "\n",
       "        ...,\n",
       "\n",
       "        [[0.8504, 0.1690, 0.8321,  ..., 0.5960, 0.0981, 0.7767],\n",
       "         [0.4562, 0.7869, 0.5343,  ..., 0.8612, 0.4596, 0.8248],\n",
       "         [0.3283, 0.6793, 0.7836,  ..., 0.9614, 0.0232, 0.5641]],\n",
       "\n",
       "        [[0.7301, 0.5638, 0.4081,  ..., 0.7216, 0.4069, 0.7813],\n",
       "         [0.4973, 0.9829, 0.6318,  ..., 0.0925, 0.8803, 0.5686],\n",
       "         [0.0120, 0.7566, 0.4998,  ..., 0.6367, 0.7797, 0.8528]],\n",
       "\n",
       "        [[0.9744, 0.6830, 0.1552,  ..., 0.9114, 0.3725, 0.3495],\n",
       "         [0.5639, 0.6039, 0.8577,  ..., 0.7518, 0.6801, 0.6871],\n",
       "         [0.6298, 0.4832, 0.5384,  ..., 0.3452, 0.8388, 0.2800]]])"
      ]
     },
     "execution_count": 68,
     "metadata": {},
     "output_type": "execute_result"
    }
   ],
   "source": [
    "# `permute()`\n",
    "random_tensor_permuted = random_tensor.permute(2, 0, 1)\n",
    "random_tensor_permuted"
   ]
  },
  {
   "cell_type": "code",
   "execution_count": 69,
   "id": "95ea22d5-2e81-4640-92e9-fed6f3118559",
   "metadata": {},
   "outputs": [
    {
     "data": {
      "text/plain": [
       "torch.Size([224, 3, 224])"
      ]
     },
     "execution_count": 69,
     "metadata": {},
     "output_type": "execute_result"
    }
   ],
   "source": [
    "random_tensor_permuted.shape"
   ]
  },
  {
   "cell_type": "markdown",
   "id": "8654137c-a412-49b3-bb9c-aeb398ad9614",
   "metadata": {},
   "source": [
    "## 1-9. NumPy Arrays"
   ]
  },
  {
   "cell_type": "code",
   "execution_count": 71,
   "id": "415833e7-9a17-43b1-8ad4-be35bddc56d2",
   "metadata": {},
   "outputs": [
    {
     "data": {
      "text/plain": [
       "array([ 1.,  2.,  3.,  4.,  5.,  6.,  7.,  8.,  9., 10.])"
      ]
     },
     "execution_count": 71,
     "metadata": {},
     "output_type": "execute_result"
    }
   ],
   "source": [
    "import numpy as np\n",
    "\n",
    "array = np.arange(1.0, 11.0)\n",
    "array"
   ]
  },
  {
   "cell_type": "code",
   "execution_count": 72,
   "id": "3e635924-cd8d-4072-98ed-d91648f39044",
   "metadata": {},
   "outputs": [
    {
     "data": {
      "text/plain": [
       "tensor([ 1.,  2.,  3.,  4.,  5.,  6.,  7.,  8.,  9., 10.], dtype=torch.float64)"
      ]
     },
     "execution_count": 72,
     "metadata": {},
     "output_type": "execute_result"
    }
   ],
   "source": [
    "# `torch.from_numpy()`\n",
    "tensor = torch.from_numpy(array)\n",
    "tensor"
   ]
  },
  {
   "cell_type": "code",
   "execution_count": 78,
   "id": "a0ee4b08-fa63-4103-9237-58fe6bb58891",
   "metadata": {},
   "outputs": [
    {
     "data": {
      "text/plain": [
       "array([ 1.,  2.,  3.,  4.,  5.,  6.,  7.,  8.,  9., 10.], dtype=float32)"
      ]
     },
     "execution_count": 78,
     "metadata": {},
     "output_type": "execute_result"
    }
   ],
   "source": [
    "# `numpy()`\n",
    "tensor = torch.arange(start=1.0, end=11.0, step=1.0)\n",
    "numpy_tensor = tensor.numpy()\n",
    "numpy_tensor "
   ]
  },
  {
   "cell_type": "code",
   "execution_count": 79,
   "id": "fc51e188-5799-4374-a3ed-15baff0e4b8c",
   "metadata": {},
   "outputs": [
    {
     "data": {
      "text/plain": [
       "dtype('float32')"
      ]
     },
     "execution_count": 79,
     "metadata": {},
     "output_type": "execute_result"
    }
   ],
   "source": [
    "numpy_tensor.dtype"
   ]
  },
  {
   "cell_type": "markdown",
   "id": "f2406ae3-9df3-42ca-a054-9559e1987d62",
   "metadata": {},
   "source": [
    "# 2. GPU"
   ]
  },
  {
   "cell_type": "code",
   "execution_count": 80,
   "id": "9dbeb8b9-9093-4866-a0ea-fddd2e1c40e6",
   "metadata": {},
   "outputs": [
    {
     "name": "stdout",
     "output_type": "stream",
     "text": [
      "Mon Aug  5 20:01:59 2024       \n",
      "+---------------------------------------------------------------------------------------+\n",
      "| NVIDIA-SMI 535.183.01             Driver Version: 535.183.01   CUDA Version: 12.2     |\n",
      "|-----------------------------------------+----------------------+----------------------+\n",
      "| GPU  Name                 Persistence-M | Bus-Id        Disp.A | Volatile Uncorr. ECC |\n",
      "| Fan  Temp   Perf          Pwr:Usage/Cap |         Memory-Usage | GPU-Util  Compute M. |\n",
      "|                                         |                      |               MIG M. |\n",
      "|=========================================+======================+======================|\n",
      "|   0  NVIDIA GeForce RTX 4090 ...    Off | 00000000:01:00.0  On |                  N/A |\n",
      "| N/A   45C    P8               3W /  80W |   2999MiB / 16376MiB |      6%      Default |\n",
      "|                                         |                      |                  N/A |\n",
      "+-----------------------------------------+----------------------+----------------------+\n",
      "                                                                                         \n",
      "+---------------------------------------------------------------------------------------+\n",
      "| Processes:                                                                            |\n",
      "|  GPU   GI   CI        PID   Type   Process name                            GPU Memory |\n",
      "|        ID   ID                                                             Usage      |\n",
      "|=======================================================================================|\n",
      "|    0   N/A  N/A      2957      G   /usr/lib/xorg/Xorg                           69MiB |\n",
      "|    0   N/A  N/A    128134      C   python3.10                                 2920MiB |\n",
      "+---------------------------------------------------------------------------------------+\n"
     ]
    }
   ],
   "source": [
    "!nvidia-smi"
   ]
  },
  {
   "cell_type": "code",
   "execution_count": 81,
   "id": "07f8a6ed-2dc9-419f-bbf3-2e35cf24382d",
   "metadata": {},
   "outputs": [
    {
     "data": {
      "text/plain": [
       "True"
      ]
     },
     "execution_count": 81,
     "metadata": {},
     "output_type": "execute_result"
    }
   ],
   "source": [
    "# Check for GPU access with PyTorch\n",
    "import torch\n",
    "torch.cuda.is_available()"
   ]
  },
  {
   "cell_type": "code",
   "execution_count": 82,
   "id": "a8b5a166-be78-405d-91fd-a84410d29e1d",
   "metadata": {},
   "outputs": [
    {
     "data": {
      "text/plain": [
       "'cuda'"
      ]
     },
     "execution_count": 82,
     "metadata": {},
     "output_type": "execute_result"
    }
   ],
   "source": [
    "# Setup device agnostic code \n",
    "device = \"cuda\" if torch.cuda.is_available() else \"cpu\"\n",
    "device"
   ]
  },
  {
   "cell_type": "code",
   "execution_count": 83,
   "id": "c54cac9c-04a9-4161-a356-ad561abc3043",
   "metadata": {},
   "outputs": [
    {
     "data": {
      "text/plain": [
       "1"
      ]
     },
     "execution_count": 83,
     "metadata": {},
     "output_type": "execute_result"
    }
   ],
   "source": [
    "# Count number of devices\n",
    "torch.cuda.device_count()"
   ]
  },
  {
   "cell_type": "code",
   "execution_count": 84,
   "id": "a9bf1b66-7c45-434b-989a-ceef02bb76a4",
   "metadata": {},
   "outputs": [
    {
     "data": {
      "text/plain": [
       "device(type='cpu')"
      ]
     },
     "execution_count": 84,
     "metadata": {},
     "output_type": "execute_result"
    }
   ],
   "source": [
    "tensor.device"
   ]
  },
  {
   "cell_type": "code",
   "execution_count": 85,
   "id": "05444293-1ce7-4d68-ad89-96d3bdd81383",
   "metadata": {},
   "outputs": [
    {
     "data": {
      "text/plain": [
       "tensor([ 1.,  2.,  3.,  4.,  5.,  6.,  7.,  8.,  9., 10.], device='cuda:0')"
      ]
     },
     "execution_count": 85,
     "metadata": {},
     "output_type": "execute_result"
    }
   ],
   "source": [
    "# Move tensor to GPU (if available)\n",
    "tensor_on_gpu = tensor.to(device)\n",
    "tensor_on_gpu"
   ]
  },
  {
   "cell_type": "code",
   "execution_count": 86,
   "id": "d5057060-154e-4398-b5d6-4da4a77d3030",
   "metadata": {},
   "outputs": [
    {
     "data": {
      "text/plain": [
       "device(type='cuda', index=0)"
      ]
     },
     "execution_count": 86,
     "metadata": {},
     "output_type": "execute_result"
    }
   ],
   "source": [
    "tensor_on_gpu.device"
   ]
  },
  {
   "cell_type": "code",
   "execution_count": 87,
   "id": "1ae37b3c-0a41-41d5-9a02-864516afc6a7",
   "metadata": {},
   "outputs": [
    {
     "data": {
      "text/plain": [
       "tensor([ 1.,  2.,  3.,  4.,  5.,  6.,  7.,  8.,  9., 10.])"
      ]
     },
     "execution_count": 87,
     "metadata": {},
     "output_type": "execute_result"
    }
   ],
   "source": [
    "tensor_on_cpu = tensor_on_gpu.cpu()\n",
    "tensor_on_cpu"
   ]
  },
  {
   "cell_type": "code",
   "execution_count": 88,
   "id": "285be6e8-05c1-40bb-8b67-53b6160d35ee",
   "metadata": {},
   "outputs": [
    {
     "data": {
      "text/plain": [
       "device(type='cpu')"
      ]
     },
     "execution_count": 88,
     "metadata": {},
     "output_type": "execute_result"
    }
   ],
   "source": [
    "tensor_on_cpu.device"
   ]
  },
  {
   "cell_type": "code",
   "execution_count": null,
   "id": "29a98ab5-07c1-4da8-91ac-db390786747b",
   "metadata": {},
   "outputs": [],
   "source": []
  }
 ],
 "metadata": {
  "kernelspec": {
   "display_name": "Python 3 (ipykernel)",
   "language": "python",
   "name": "python3"
  },
  "language_info": {
   "codemirror_mode": {
    "name": "ipython",
    "version": 3
   },
   "file_extension": ".py",
   "mimetype": "text/x-python",
   "name": "python",
   "nbconvert_exporter": "python",
   "pygments_lexer": "ipython3",
   "version": "3.12.3"
  }
 },
 "nbformat": 4,
 "nbformat_minor": 5
}
