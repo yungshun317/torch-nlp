{
 "cells": [
  {
   "cell_type": "code",
   "execution_count": 2,
   "id": "03bae895-3bbd-46fe-a92f-c18d5d42dfe5",
   "metadata": {},
   "outputs": [],
   "source": [
    "import torch"
   ]
  },
  {
   "cell_type": "markdown",
   "id": "f6c92e4e-e375-49f8-adbb-4d635826a9c0",
   "metadata": {},
   "source": [
    "# 1. Tensors"
   ]
  },
  {
   "cell_type": "code",
   "execution_count": 3,
   "id": "060ccd30-74e2-468f-a49c-3cddff20f806",
   "metadata": {},
   "outputs": [
    {
     "data": {
      "text/plain": [
       "tensor(7)"
      ]
     },
     "execution_count": 3,
     "metadata": {},
     "output_type": "execute_result"
    }
   ],
   "source": [
    "# Scalar\n",
    "scalar = torch.tensor(7)\n",
    "scalar"
   ]
  },
  {
   "cell_type": "code",
   "execution_count": 4,
   "id": "1ab00964-007c-4ea3-ac8f-c22c190c0f33",
   "metadata": {},
   "outputs": [
    {
     "data": {
      "text/plain": [
       "0"
      ]
     },
     "execution_count": 4,
     "metadata": {},
     "output_type": "execute_result"
    }
   ],
   "source": [
    "scalar.ndim"
   ]
  },
  {
   "cell_type": "code",
   "execution_count": 5,
   "id": "5ddb3740-f659-414c-8691-ee8ae8d0b6ab",
   "metadata": {},
   "outputs": [
    {
     "data": {
      "text/plain": [
       "7"
      ]
     },
     "execution_count": 5,
     "metadata": {},
     "output_type": "execute_result"
    }
   ],
   "source": [
    "scalar.item()"
   ]
  },
  {
   "cell_type": "code",
   "execution_count": 6,
   "id": "3bbaf9dc-fa16-4c9c-a3d6-705b06b48a65",
   "metadata": {},
   "outputs": [
    {
     "data": {
      "text/plain": [
       "tensor([7, 7])"
      ]
     },
     "execution_count": 6,
     "metadata": {},
     "output_type": "execute_result"
    }
   ],
   "source": [
    "# Vector\n",
    "vector = torch.tensor([7, 7])\n",
    "vector"
   ]
  },
  {
   "cell_type": "code",
   "execution_count": 7,
   "id": "e05df426-d40c-4c27-8598-8f16f86da8ff",
   "metadata": {},
   "outputs": [
    {
     "data": {
      "text/plain": [
       "1"
      ]
     },
     "execution_count": 7,
     "metadata": {},
     "output_type": "execute_result"
    }
   ],
   "source": [
    "vector.ndim"
   ]
  },
  {
   "cell_type": "code",
   "execution_count": 8,
   "id": "846f9056-c4dd-456a-8c38-391595a96e7d",
   "metadata": {},
   "outputs": [
    {
     "data": {
      "text/plain": [
       "torch.Size([2])"
      ]
     },
     "execution_count": 8,
     "metadata": {},
     "output_type": "execute_result"
    }
   ],
   "source": [
    "vector.shape"
   ]
  },
  {
   "cell_type": "code",
   "execution_count": 9,
   "id": "a4c09fd7-74ec-45c3-9be7-cc32a56bc2af",
   "metadata": {},
   "outputs": [
    {
     "data": {
      "text/plain": [
       "tensor([[1, 2],\n",
       "        [3, 4]])"
      ]
     },
     "execution_count": 9,
     "metadata": {},
     "output_type": "execute_result"
    }
   ],
   "source": [
    "# matrix\n",
    "matrix = torch.tensor([[1, 2], [3, 4]])\n",
    "matrix"
   ]
  },
  {
   "cell_type": "code",
   "execution_count": 11,
   "id": "927efb93-e939-4a50-8fd0-3a97112b61ab",
   "metadata": {},
   "outputs": [
    {
     "data": {
      "text/plain": [
       "tensor([1, 2])"
      ]
     },
     "execution_count": 11,
     "metadata": {},
     "output_type": "execute_result"
    }
   ],
   "source": [
    "matrix[0]"
   ]
  },
  {
   "cell_type": "code",
   "execution_count": 12,
   "id": "e7231467-2605-4f8e-919a-65e8dded7744",
   "metadata": {},
   "outputs": [
    {
     "data": {
      "text/plain": [
       "2"
      ]
     },
     "execution_count": 12,
     "metadata": {},
     "output_type": "execute_result"
    }
   ],
   "source": [
    "matrix.ndim"
   ]
  },
  {
   "cell_type": "code",
   "execution_count": 10,
   "id": "e52c07e3-4a9b-4fa3-921a-7a5c89cba40d",
   "metadata": {},
   "outputs": [
    {
     "data": {
      "text/plain": [
       "torch.Size([2, 2])"
      ]
     },
     "execution_count": 10,
     "metadata": {},
     "output_type": "execute_result"
    }
   ],
   "source": [
    "matrix.shape"
   ]
  },
  {
   "cell_type": "code",
   "execution_count": 13,
   "id": "11791253-b27f-4106-bcbc-e6619bc886c5",
   "metadata": {},
   "outputs": [
    {
     "data": {
      "text/plain": [
       "tensor([[[1, 2, 3],\n",
       "         [4, 5, 6],\n",
       "         [7, 8, 9]]])"
      ]
     },
     "execution_count": 13,
     "metadata": {},
     "output_type": "execute_result"
    }
   ],
   "source": [
    "# Tensor\n",
    "tensor = torch.tensor([[[1, 2, 3], [4, 5, 6], [7, 8, 9]]])\n",
    "tensor"
   ]
  },
  {
   "cell_type": "code",
   "execution_count": 16,
   "id": "0ab735c1-f353-4396-8aee-7e70ae7c335a",
   "metadata": {},
   "outputs": [
    {
     "data": {
      "text/plain": [
       "tensor([[1, 2, 3],\n",
       "        [4, 5, 6],\n",
       "        [7, 8, 9]])"
      ]
     },
     "execution_count": 16,
     "metadata": {},
     "output_type": "execute_result"
    }
   ],
   "source": [
    "tensor[0]"
   ]
  },
  {
   "cell_type": "code",
   "execution_count": 17,
   "id": "fbf55758-c451-43e0-9c6a-eb77bf7fc29f",
   "metadata": {},
   "outputs": [
    {
     "data": {
      "text/plain": [
       "tensor([4, 5, 6])"
      ]
     },
     "execution_count": 17,
     "metadata": {},
     "output_type": "execute_result"
    }
   ],
   "source": [
    "tensor[0][1]"
   ]
  },
  {
   "cell_type": "code",
   "execution_count": 14,
   "id": "98ad0fb3-83ce-42a0-9d45-b63e29213019",
   "metadata": {},
   "outputs": [
    {
     "data": {
      "text/plain": [
       "3"
      ]
     },
     "execution_count": 14,
     "metadata": {},
     "output_type": "execute_result"
    }
   ],
   "source": [
    "tensor.ndim"
   ]
  },
  {
   "cell_type": "code",
   "execution_count": 15,
   "id": "0316eb62-c691-4ec0-9edf-25bd5d7b4cf2",
   "metadata": {},
   "outputs": [
    {
     "data": {
      "text/plain": [
       "torch.Size([1, 3, 3])"
      ]
     },
     "execution_count": 15,
     "metadata": {},
     "output_type": "execute_result"
    }
   ],
   "source": [
    "tensor.shape"
   ]
  },
  {
   "cell_type": "markdown",
   "id": "9e1d8084-42c1-441d-9683-7f6528d67da2",
   "metadata": {},
   "source": [
    "## 1-1. Random"
   ]
  },
  {
   "cell_type": "code",
   "execution_count": 19,
   "id": "570561c5-64da-48ab-a9fe-4d24112778dc",
   "metadata": {},
   "outputs": [
    {
     "data": {
      "text/plain": [
       "tensor([[0.0730, 0.4797, 0.9343, 0.2787],\n",
       "        [0.5118, 0.5053, 0.8628, 0.2954],\n",
       "        [0.1912, 0.8626, 0.3521, 0.0279]])"
      ]
     },
     "execution_count": 19,
     "metadata": {},
     "output_type": "execute_result"
    }
   ],
   "source": [
    "random_tensor = torch.rand(3, 4)\n",
    "random_tensor"
   ]
  },
  {
   "cell_type": "code",
   "execution_count": 21,
   "id": "aa40e4c7-aaea-449d-8db5-5e3cf5cc9d3b",
   "metadata": {},
   "outputs": [
    {
     "data": {
      "text/plain": [
       "tensor([[[0.1026, 0.3164, 0.0788,  ..., 0.8504, 0.7301, 0.9744],\n",
       "         [0.3827, 0.1933, 0.1453,  ..., 0.1690, 0.5638, 0.6830],\n",
       "         [0.5310, 0.5235, 0.5262,  ..., 0.8321, 0.4081, 0.1552],\n",
       "         ...,\n",
       "         [0.3136, 0.2305, 0.3834,  ..., 0.5960, 0.7216, 0.9114],\n",
       "         [0.4767, 0.6360, 0.7722,  ..., 0.0981, 0.4069, 0.3725],\n",
       "         [0.1342, 0.0999, 0.0238,  ..., 0.7767, 0.7813, 0.3495]],\n",
       "\n",
       "        [[0.2750, 0.3080, 0.6140,  ..., 0.4562, 0.4973, 0.5639],\n",
       "         [0.6847, 0.7653, 0.3971,  ..., 0.7869, 0.9829, 0.6039],\n",
       "         [0.7455, 0.2357, 0.7595,  ..., 0.5343, 0.6318, 0.8577],\n",
       "         ...,\n",
       "         [0.5081, 0.5969, 0.7765,  ..., 0.8612, 0.0925, 0.7518],\n",
       "         [0.0529, 0.3172, 0.6430,  ..., 0.4596, 0.8803, 0.6801],\n",
       "         [0.1798, 0.1344, 0.4809,  ..., 0.8248, 0.5686, 0.6871]],\n",
       "\n",
       "        [[0.9628, 0.9303, 0.2978,  ..., 0.3283, 0.0120, 0.6298],\n",
       "         [0.5651, 0.7603, 0.1950,  ..., 0.6793, 0.7566, 0.4832],\n",
       "         [0.5141, 0.0545, 0.4909,  ..., 0.7836, 0.4998, 0.5384],\n",
       "         ...,\n",
       "         [0.6006, 0.8932, 0.1631,  ..., 0.9614, 0.6367, 0.3452],\n",
       "         [0.4456, 0.9240, 0.6309,  ..., 0.0232, 0.7797, 0.8388],\n",
       "         [0.6274, 0.7944, 0.6182,  ..., 0.5641, 0.8528, 0.2800]]])"
      ]
     },
     "execution_count": 21,
     "metadata": {},
     "output_type": "execute_result"
    }
   ],
   "source": [
    "random_tensor = torch.rand(size=(3, 224, 224))\n",
    "random_tensor"
   ]
  },
  {
   "cell_type": "code",
   "execution_count": 23,
   "id": "679999eb-4ab0-4a83-a996-cea396606c37",
   "metadata": {},
   "outputs": [
    {
     "data": {
      "text/plain": [
       "3"
      ]
     },
     "execution_count": 23,
     "metadata": {},
     "output_type": "execute_result"
    }
   ],
   "source": [
    "random_tensor.ndim"
   ]
  },
  {
   "cell_type": "code",
   "execution_count": 22,
   "id": "35bb15ab-c4fb-4eb0-97fb-8a7e9e430067",
   "metadata": {},
   "outputs": [
    {
     "data": {
      "text/plain": [
       "torch.Size([3, 224, 224])"
      ]
     },
     "execution_count": 22,
     "metadata": {},
     "output_type": "execute_result"
    }
   ],
   "source": [
    "random_tensor.shape"
   ]
  },
  {
   "cell_type": "markdown",
   "id": "d9349c40-0baa-4121-a31e-83838467de01",
   "metadata": {},
   "source": [
    "## 1-2. Zeros & Ones"
   ]
  },
  {
   "cell_type": "code",
   "execution_count": null,
   "id": "289d9b04-a846-4b32-a258-f6a58215eaa6",
   "metadata": {},
   "outputs": [],
   "source": []
  }
 ],
 "metadata": {
  "kernelspec": {
   "display_name": "Python 3 (ipykernel)",
   "language": "python",
   "name": "python3"
  },
  "language_info": {
   "codemirror_mode": {
    "name": "ipython",
    "version": 3
   },
   "file_extension": ".py",
   "mimetype": "text/x-python",
   "name": "python",
   "nbconvert_exporter": "python",
   "pygments_lexer": "ipython3",
   "version": "3.12.3"
  }
 },
 "nbformat": 4,
 "nbformat_minor": 5
}
